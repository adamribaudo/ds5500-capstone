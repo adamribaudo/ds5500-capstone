{
 "cells": [
  {
   "cell_type": "code",
   "execution_count": 1,
   "metadata": {
    "collapsed": true
   },
   "outputs": [],
   "source": [
    "import numpy as np \n",
    "import pandas as pd\n",
    "from datetime import datetime\n",
    "from functools import reduce"
   ]
  },
  {
   "cell_type": "code",
   "execution_count": 2,
   "metadata": {
    "collapsed": true
   },
   "outputs": [],
   "source": [
    "INPUT_PATH = \"../../kkbox-churn-prediction-challenge/50_under_sample/\"\n",
    "FILE_NAME = \"test_transactions.csv\"\n",
    "OUTPUT_NAME = \"test_transactions_transformed.csv\"\n",
    "x_transaction = pd.read_csv(INPUT_PATH + FILE_NAME)"
   ]
  },
  {
   "cell_type": "code",
   "execution_count": 3,
   "metadata": {},
   "outputs": [
    {
     "data": {
      "text/html": [
       "<div>\n",
       "<style>\n",
       "    .dataframe thead tr:only-child th {\n",
       "        text-align: right;\n",
       "    }\n",
       "\n",
       "    .dataframe thead th {\n",
       "        text-align: left;\n",
       "    }\n",
       "\n",
       "    .dataframe tbody tr th {\n",
       "        vertical-align: top;\n",
       "    }\n",
       "</style>\n",
       "<table border=\"1\" class=\"dataframe\">\n",
       "  <thead>\n",
       "    <tr style=\"text-align: right;\">\n",
       "      <th></th>\n",
       "      <th>msno</th>\n",
       "      <th>payment_method_id</th>\n",
       "      <th>payment_plan_days</th>\n",
       "      <th>plan_list_price</th>\n",
       "      <th>actual_amount_paid</th>\n",
       "      <th>is_auto_renew</th>\n",
       "      <th>transaction_date</th>\n",
       "      <th>membership_expire_date</th>\n",
       "      <th>is_cancel</th>\n",
       "    </tr>\n",
       "  </thead>\n",
       "  <tbody>\n",
       "    <tr>\n",
       "      <th>0</th>\n",
       "      <td>3faY9Bx/5LqsIytjwgYau4yRCWm+HD9kmBYva5p4JW4=</td>\n",
       "      <td>21</td>\n",
       "      <td>30</td>\n",
       "      <td>149</td>\n",
       "      <td>149</td>\n",
       "      <td>1</td>\n",
       "      <td>2015-12-02T00:00:00</td>\n",
       "      <td>2016-01-08T00:00:00</td>\n",
       "      <td>0</td>\n",
       "    </tr>\n",
       "  </tbody>\n",
       "</table>\n",
       "</div>"
      ],
      "text/plain": [
       "                                           msno  payment_method_id  \\\n",
       "0  3faY9Bx/5LqsIytjwgYau4yRCWm+HD9kmBYva5p4JW4=                 21   \n",
       "\n",
       "   payment_plan_days  plan_list_price  actual_amount_paid  is_auto_renew  \\\n",
       "0                 30              149                 149              1   \n",
       "\n",
       "      transaction_date membership_expire_date  is_cancel  \n",
       "0  2015-12-02T00:00:00    2016-01-08T00:00:00          0  "
      ]
     },
     "execution_count": 3,
     "metadata": {},
     "output_type": "execute_result"
    }
   ],
   "source": [
    "x_transaction.head(1)"
   ]
  },
  {
   "cell_type": "code",
   "execution_count": 4,
   "metadata": {
    "collapsed": true
   },
   "outputs": [],
   "source": [
    "# define some common used funcitons\n",
    "most_common = lambda x: pd.Series.mode(x)[0]\n",
    "most_common.__name__ = 'most_common'\n",
    "\n",
    "def pcet_of_zero(x):\n",
    "    return 1-(x.mean())\n",
    "def change_or_not(x):\n",
    "    return (x.nunique()-1)\n",
    "def find_positive_pct(x):\n",
    "    return ((x>0).sum()/x.count())\n",
    "def binary_has(x):\n",
    "    return x.nunique()>1"
   ]
  },
  {
   "cell_type": "code",
   "execution_count": 5,
   "metadata": {
    "collapsed": true
   },
   "outputs": [],
   "source": [
    "# def change column name\n",
    "def change_name(df):\n",
    "    table = df.columns.levels[0][0]+\"_\"\n",
    "    cols=df.columns.levels[1]\n",
    "    cols=cols[-1:]+cols[:-1]\n",
    "    cols=[\"{}\".format(table) + s for s in cols]\n",
    "    cols.insert(0, \"msno\")\n",
    "    return cols\n",
    "\n",
    "# def change column name 2:\n",
    "def change_name_2(df):\n",
    "    df.columns = [\"_\".join(x) for x in df.columns.ravel()]\n",
    "    df.rename(columns={'msno_':'msno'}, inplace=True)\n",
    "    return df"
   ]
  },
  {
   "cell_type": "code",
   "execution_count": 6,
   "metadata": {
    "collapsed": true
   },
   "outputs": [],
   "source": [
    "def transaction_features(df):\n",
    "    df=df.sort_values(by=['msno', 'transaction_date'])\n",
    "    \n",
    "    # new column: discount\n",
    "    df['discount_amount'] = df['plan_list_price'] - df['actual_amount_paid']\n",
    "    # do not change plan_list_price and plan_payment_days using discount_amount, do not change discount to positive\n",
    "    # problem 1: discount_amount will have negative -> will also be count as having discount\n",
    "    # problem 2: plan_list_price = 0 -> just treat as a seperate column\n",
    "    # problem 3: payment_plan_days = 0 -> amtperday = inf -> solve by changing to 0\n",
    "    df['discount_positive']=np.where(df['discount_amount']>=0, df['discount_amount'], 0)\n",
    "    \n",
    "    \n",
    "    # new column: free\n",
    "    df['free'] = np.where(df['actual_amount_paid']==0, 1, 0)\n",
    "    \n",
    "    # the average amount paid by user in each payment\n",
    "    df['amtperday']=df['actual_amount_paid']/df['payment_plan_days']\n",
    "    df['amtperday'] = np.where(df['amtperday']==np.inf, 0, df['amtperday'])\n",
    "    \n",
    "    # days between transaction & expiration\n",
    "    df.membership_expire_date=pd.to_datetime(df.membership_expire_date)\n",
    "    df.transaction_date=pd.to_datetime(df.transaction_date)\n",
    "    df['length']=(df['membership_expire_date']-df['transaction_date']).dt.days\n",
    "    \n",
    "    # get the consecutive difference from rows for transaction date\n",
    "    df[\"d_transaction\"] = df[\"transaction_date\"].diff(1).fillna(0).astype('timedelta64[D]').astype(int)\n",
    "    df.d_transaction = np.where(df.d_transaction <= 0, np.NaN, df.d_transaction)\n",
    "    # problem: d_transaction has NANs\n",
    "    \n",
    "    # get the consecutive difference from rows for expiration date\n",
    "    df[\"d_expire_date\"] = df[\"membership_expire_date\"].diff(1).fillna(0).astype('timedelta64[D]').astype(int)\n",
    "    df.d_expire_date = np.where(df.d_expire_date <= 0, np.NaN,df.d_expire_date)\n",
    "    # problem: d_expire_date has NANs\n",
    "    \n",
    "    # get the potential churn\n",
    "    df['potential_churn'] = np.where((df['is_auto_renew']==0)&(df['membership_expire_date']>=datetime(2017, 2, 1)) \n",
    "                                            & (df['membership_expire_date'] <= datetime(2017, 2, 28)), 1,0)\n",
    "    \n",
    "    # payment_method\n",
    "    payment_method=df.groupby('msno',as_index=False).agg({'payment_method_id':['nunique',most_common]})\n",
    "    payment_method.columns=change_name(payment_method)\n",
    "    \n",
    "    # payment_plan_days\n",
    "    payment_plan_days=df.groupby('msno',as_index=False).agg({'payment_plan_days':['nunique',most_common]})\n",
    "    payment_plan_days.columns=change_name(payment_plan_days)\n",
    "    \n",
    "    # plan_list_price\n",
    "    plan_list_price=df.groupby('msno',as_index=False).agg({'plan_list_price':['nunique', most_common,'mean','std']})\n",
    "    plan_list_price.columns=change_name(plan_list_price)\n",
    "    # here, could make most_common a continuous rather than categorical? try it later\n",
    "    \n",
    "    # actual_amount_paid\n",
    "    actual_amount_paid=df.groupby('msno',as_index=False).agg({'actual_amount_paid':['nunique', \n",
    "                                                                                    most_common,'mean','std']})\n",
    "    actual_amount_paid.columns=change_name(actual_amount_paid)\n",
    "    # same as plan_list_price, make most_common continuous\n",
    "    \n",
    "    # is_auto_renew\n",
    "    is_auto_renew=df.groupby('msno',as_index=False).agg({'is_auto_renew':[pcet_of_zero, change_or_not,most_common]})\n",
    "    is_auto_renew.columns=change_name(is_auto_renew)\n",
    "    \n",
    "    # is_cancel\n",
    "    is_cancel=df.groupby('msno',as_index=False).agg({'is_cancel':['mean', change_or_not]})\n",
    "    is_cancel.columns=change_name(is_cancel)\n",
    "    \n",
    "    # discount_amount\n",
    "    discount_amount=df.groupby('msno',as_index=False).agg({'discount_amount':[find_positive_pct, \n",
    "                                                                              'mean','sum']}).fillna(0)\n",
    "    discount_amount.columns=change_name(discount_amount)\n",
    "    \n",
    "    # discount_positive\n",
    "    discount_positive=df.groupby('msno',as_index=False).agg({'discount_positive':[binary_has]})\n",
    "    discount_positive.columns=change_name(discount_positive)\n",
    "    \n",
    "    # free\n",
    "    free=df.groupby('msno',as_index=False).agg({'free':['mean',binary_has]}).fillna(0)\n",
    "    free.columns=change_name(free)\n",
    "    \n",
    "    # length\n",
    "    length=df.groupby('msno',as_index=False).agg({'length':['mean','sum','std','first']}).fillna(0)\n",
    "    length=change_name_2(length)\n",
    "    \n",
    "    # amtperday\n",
    "    amtperday=df.groupby('msno',as_index=False).agg({'amtperday':['mean','std']}).fillna(0)\n",
    "    amtperday=change_name_2(amtperday)\n",
    "    # add std for amtperday\n",
    "    \n",
    "    # transaction_date\n",
    "    transaction_date=df.groupby('msno',as_index=False).agg({'transaction_date':['first']})\n",
    "    transaction_date=change_name_2(transaction_date)\n",
    "    \n",
    "    # # d_transaction\n",
    "    d_transaction=df.groupby('msno',as_index=False).agg({'d_transaction':['mean','std']}).fillna(0)\n",
    "    d_transaction=change_name_2(d_transaction)\n",
    "    \n",
    "    # d_expire_date\n",
    "    d_expire_date=df.groupby('msno',as_index=False).agg({'d_expire_date':['mean','std','sum']}).fillna(0)\n",
    "    d_expire_date=change_name_2(d_expire_date)\n",
    "    \n",
    "    # potential_churn\n",
    "    potential_churn=df.groupby('msno',as_index=False).agg({'potential_churn':[binary_has]})\n",
    "    potential_churn.columns=change_name(potential_churn)\n",
    "    \n",
    "    # merge data_frames\n",
    "    data_frames=[payment_method,payment_plan_days,plan_list_price,actual_amount_paid,is_auto_renew,\n",
    "                 is_cancel,discount_amount,discount_positive,free,length,amtperday,transaction_date,\n",
    "                 d_transaction,d_expire_date,potential_churn]\n",
    "    df_merged = reduce(lambda  left,right: pd.merge(left,right,on=['msno'],\n",
    "                                            how='inner'), data_frames)\n",
    "    \n",
    "    #total membership days\n",
    "    df_merged['membership_days']=df_merged['d_expire_date_sum']+df_merged['length_first'] \n",
    "    df_merged=df_merged.drop(['d_expire_date_sum', 'length_first'], axis=1)\n",
    "    \n",
    "    return df_merged"
   ]
  },
  {
   "cell_type": "code",
   "execution_count": 7,
   "metadata": {
    "collapsed": true
   },
   "outputs": [],
   "source": [
    "transaction_transformed = transaction_features(x_transaction)"
   ]
  },
  {
   "cell_type": "code",
   "execution_count": 8,
   "metadata": {
    "collapsed": true
   },
   "outputs": [],
   "source": [
    "transaction_transformed.to_csv(INPUT_PATH+OUTPUT_NAME,index=False)"
   ]
  },
  {
   "cell_type": "code",
   "execution_count": null,
   "metadata": {
    "collapsed": true
   },
   "outputs": [],
   "source": []
  }
 ],
 "metadata": {
  "kernelspec": {
   "display_name": "Python 3",
   "language": "python",
   "name": "python3"
  },
  "language_info": {
   "codemirror_mode": {
    "name": "ipython",
    "version": 3
   },
   "file_extension": ".py",
   "mimetype": "text/x-python",
   "name": "python",
   "nbconvert_exporter": "python",
   "pygments_lexer": "ipython3",
   "version": "3.6.8"
  },
  "latex_envs": {
   "LaTeX_envs_menu_present": true,
   "autoclose": false,
   "autocomplete": true,
   "bibliofile": "biblio.bib",
   "cite_by": "apalike",
   "current_citInitial": 1,
   "eqLabelWithNumbers": true,
   "eqNumInitial": 1,
   "hotkeys": {
    "equation": "Ctrl-E",
    "itemize": "Ctrl-I"
   },
   "labels_anchors": false,
   "latex_user_defs": false,
   "report_style_numbering": false,
   "user_envs_cfg": false
  }
 },
 "nbformat": 4,
 "nbformat_minor": 2
}
