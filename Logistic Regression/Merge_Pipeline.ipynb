{
 "cells": [
  {
   "cell_type": "code",
   "execution_count": 1,
   "metadata": {
    "collapsed": true
   },
   "outputs": [],
   "source": [
    "import numpy as np \n",
    "import pandas as pd"
   ]
  },
  {
   "cell_type": "code",
   "execution_count": 2,
   "metadata": {
    "collapsed": true
   },
   "outputs": [],
   "source": [
    "x_transaction = pd.read_csv('../../kkbox-churn-prediction-challenge/train/X_train_transactions.csv')"
   ]
  },
  {
   "cell_type": "code",
   "execution_count": 3,
   "metadata": {},
   "outputs": [
    {
     "data": {
      "text/plain": [
       "(24798, 35)"
      ]
     },
     "execution_count": 3,
     "metadata": {},
     "output_type": "execute_result"
    }
   ],
   "source": [
    "x_transaction.shape"
   ]
  },
  {
   "cell_type": "code",
   "execution_count": 4,
   "metadata": {
    "collapsed": true
   },
   "outputs": [],
   "source": [
    "x_log = pd.read_csv('../../kkbox-churn-prediction-challenge/train/X_train_user_logs.csv')"
   ]
  },
  {
   "cell_type": "code",
   "execution_count": 5,
   "metadata": {},
   "outputs": [
    {
     "data": {
      "text/plain": [
       "(24798, 24)"
      ]
     },
     "execution_count": 5,
     "metadata": {},
     "output_type": "execute_result"
    }
   ],
   "source": [
    "x_log.shape"
   ]
  },
  {
   "cell_type": "code",
   "execution_count": 6,
   "metadata": {
    "collapsed": true
   },
   "outputs": [],
   "source": [
    "x_member = pd.read_csv('../../kkbox-churn-prediction-challenge/under_sample/X_train.csv')"
   ]
  },
  {
   "cell_type": "code",
   "execution_count": 7,
   "metadata": {},
   "outputs": [
    {
     "data": {
      "text/plain": [
       "(24798, 6)"
      ]
     },
     "execution_count": 7,
     "metadata": {},
     "output_type": "execute_result"
    }
   ],
   "source": [
    "x_member.shape"
   ]
  },
  {
   "cell_type": "code",
   "execution_count": 8,
   "metadata": {},
   "outputs": [
    {
     "data": {
      "text/html": [
       "<div>\n",
       "<style>\n",
       "    .dataframe thead tr:only-child th {\n",
       "        text-align: right;\n",
       "    }\n",
       "\n",
       "    .dataframe thead th {\n",
       "        text-align: left;\n",
       "    }\n",
       "\n",
       "    .dataframe tbody tr th {\n",
       "        vertical-align: top;\n",
       "    }\n",
       "</style>\n",
       "<table border=\"1\" class=\"dataframe\">\n",
       "  <thead>\n",
       "    <tr style=\"text-align: right;\">\n",
       "      <th></th>\n",
       "      <th>msno</th>\n",
       "      <th>city</th>\n",
       "      <th>bd</th>\n",
       "      <th>gender</th>\n",
       "      <th>registered_via</th>\n",
       "      <th>registration_init_time</th>\n",
       "    </tr>\n",
       "  </thead>\n",
       "  <tbody>\n",
       "    <tr>\n",
       "      <th>0</th>\n",
       "      <td>iFmFHtGY2Luh1zwTlfNkht9RkvsVePqs16RHZby8eiQ=</td>\n",
       "      <td>22</td>\n",
       "      <td>36</td>\n",
       "      <td>female</td>\n",
       "      <td>9</td>\n",
       "      <td>20100316</td>\n",
       "    </tr>\n",
       "  </tbody>\n",
       "</table>\n",
       "</div>"
      ],
      "text/plain": [
       "                                           msno  city  bd  gender  \\\n",
       "0  iFmFHtGY2Luh1zwTlfNkht9RkvsVePqs16RHZby8eiQ=    22  36  female   \n",
       "\n",
       "   registered_via  registration_init_time  \n",
       "0               9                20100316  "
      ]
     },
     "execution_count": 8,
     "metadata": {},
     "output_type": "execute_result"
    }
   ],
   "source": [
    "x_member.head(1)"
   ]
  },
  {
   "cell_type": "code",
   "execution_count": 9,
   "metadata": {
    "collapsed": true
   },
   "outputs": [],
   "source": [
    "# fill na for gender\n",
    "x_member[\"gender\"]=x_member[\"gender\"].fillna(\"Unknown\")"
   ]
  },
  {
   "cell_type": "code",
   "execution_count": 10,
   "metadata": {
    "collapsed": true
   },
   "outputs": [],
   "source": [
    "# registration_init_time\n",
    "x_member.registration_init_time=pd.to_datetime(x_member.registration_init_time, format=\"%Y%m%d\")\n",
    "x_member['register_days'] = (pd.to_datetime(\"20170131\", format=\"%Y%m%d\")-x_member.registration_init_time).dt.days"
   ]
  },
  {
   "cell_type": "code",
   "execution_count": 11,
   "metadata": {},
   "outputs": [
    {
     "data": {
      "text/html": [
       "<div>\n",
       "<style>\n",
       "    .dataframe thead tr:only-child th {\n",
       "        text-align: right;\n",
       "    }\n",
       "\n",
       "    .dataframe thead th {\n",
       "        text-align: left;\n",
       "    }\n",
       "\n",
       "    .dataframe tbody tr th {\n",
       "        vertical-align: top;\n",
       "    }\n",
       "</style>\n",
       "<table border=\"1\" class=\"dataframe\">\n",
       "  <thead>\n",
       "    <tr style=\"text-align: right;\">\n",
       "      <th></th>\n",
       "      <th>msno</th>\n",
       "      <th>city</th>\n",
       "      <th>bd</th>\n",
       "      <th>gender</th>\n",
       "      <th>registered_via</th>\n",
       "      <th>registration_init_time</th>\n",
       "      <th>register_days</th>\n",
       "    </tr>\n",
       "  </thead>\n",
       "  <tbody>\n",
       "    <tr>\n",
       "      <th>0</th>\n",
       "      <td>iFmFHtGY2Luh1zwTlfNkht9RkvsVePqs16RHZby8eiQ=</td>\n",
       "      <td>22</td>\n",
       "      <td>36</td>\n",
       "      <td>female</td>\n",
       "      <td>9</td>\n",
       "      <td>2010-03-16</td>\n",
       "      <td>2513</td>\n",
       "    </tr>\n",
       "  </tbody>\n",
       "</table>\n",
       "</div>"
      ],
      "text/plain": [
       "                                           msno  city  bd  gender  \\\n",
       "0  iFmFHtGY2Luh1zwTlfNkht9RkvsVePqs16RHZby8eiQ=    22  36  female   \n",
       "\n",
       "   registered_via registration_init_time  register_days  \n",
       "0               9             2010-03-16           2513  "
      ]
     },
     "execution_count": 11,
     "metadata": {},
     "output_type": "execute_result"
    }
   ],
   "source": [
    "x_member.head(1)\n",
    "# for now, did not change bd just scale"
   ]
  },
  {
   "cell_type": "code",
   "execution_count": 12,
   "metadata": {
    "collapsed": true
   },
   "outputs": [],
   "source": [
    "data_frames=[x_member,x_log,x_transaction]\n",
    "from functools import reduce\n",
    "df_merged = reduce(lambda  left,right: pd.merge(left,right,on=['msno'],\n",
    "                                            how='inner'), data_frames)"
   ]
  },
  {
   "cell_type": "code",
   "execution_count": 13,
   "metadata": {},
   "outputs": [
    {
     "data": {
      "text/html": [
       "<div>\n",
       "<style>\n",
       "    .dataframe thead tr:only-child th {\n",
       "        text-align: right;\n",
       "    }\n",
       "\n",
       "    .dataframe thead th {\n",
       "        text-align: left;\n",
       "    }\n",
       "\n",
       "    .dataframe tbody tr th {\n",
       "        vertical-align: top;\n",
       "    }\n",
       "</style>\n",
       "<table border=\"1\" class=\"dataframe\">\n",
       "  <thead>\n",
       "    <tr style=\"text-align: right;\">\n",
       "      <th></th>\n",
       "      <th>msno</th>\n",
       "      <th>city</th>\n",
       "      <th>bd</th>\n",
       "      <th>gender</th>\n",
       "      <th>registered_via</th>\n",
       "      <th>registration_init_time</th>\n",
       "      <th>register_days</th>\n",
       "      <th>date_count</th>\n",
       "      <th>date_first</th>\n",
       "      <th>num_25_sum</th>\n",
       "      <th>...</th>\n",
       "      <th>length_sum</th>\n",
       "      <th>length_std</th>\n",
       "      <th>amtperday_mean</th>\n",
       "      <th>transaction_date_first</th>\n",
       "      <th>d_transaction_mean</th>\n",
       "      <th>d_transaction_std</th>\n",
       "      <th>d_expire_date_mean</th>\n",
       "      <th>d_expire_date_std</th>\n",
       "      <th>potential_churn_has_discount</th>\n",
       "      <th>membership_days</th>\n",
       "    </tr>\n",
       "  </thead>\n",
       "  <tbody>\n",
       "    <tr>\n",
       "      <th>0</th>\n",
       "      <td>iFmFHtGY2Luh1zwTlfNkht9RkvsVePqs16RHZby8eiQ=</td>\n",
       "      <td>22</td>\n",
       "      <td>36</td>\n",
       "      <td>female</td>\n",
       "      <td>9</td>\n",
       "      <td>2010-03-16</td>\n",
       "      <td>2513</td>\n",
       "      <td>604</td>\n",
       "      <td>2015-01-01T00:00:00</td>\n",
       "      <td>2366</td>\n",
       "      <td>...</td>\n",
       "      <td>841</td>\n",
       "      <td>11.073767</td>\n",
       "      <td>5.281874</td>\n",
       "      <td>2015-01-06</td>\n",
       "      <td>29.035714</td>\n",
       "      <td>10.716834</td>\n",
       "      <td>29.892857</td>\n",
       "      <td>14.88061</td>\n",
       "      <td>False</td>\n",
       "      <td>867</td>\n",
       "    </tr>\n",
       "  </tbody>\n",
       "</table>\n",
       "<p>1 rows × 64 columns</p>\n",
       "</div>"
      ],
      "text/plain": [
       "                                           msno  city  bd  gender  \\\n",
       "0  iFmFHtGY2Luh1zwTlfNkht9RkvsVePqs16RHZby8eiQ=    22  36  female   \n",
       "\n",
       "   registered_via registration_init_time  register_days  date_count  \\\n",
       "0               9             2010-03-16           2513         604   \n",
       "\n",
       "            date_first  num_25_sum       ...         length_sum  length_std  \\\n",
       "0  2015-01-01T00:00:00        2366       ...                841   11.073767   \n",
       "\n",
       "   amtperday_mean  transaction_date_first  d_transaction_mean  \\\n",
       "0        5.281874              2015-01-06           29.035714   \n",
       "\n",
       "   d_transaction_std  d_expire_date_mean  d_expire_date_std  \\\n",
       "0          10.716834           29.892857           14.88061   \n",
       "\n",
       "   potential_churn_has_discount  membership_days  \n",
       "0                         False              867  \n",
       "\n",
       "[1 rows x 64 columns]"
      ]
     },
     "execution_count": 13,
     "metadata": {},
     "output_type": "execute_result"
    }
   ],
   "source": [
    "df_merged.head(1)"
   ]
  },
  {
   "cell_type": "markdown",
   "metadata": {},
   "source": [
    "### get interaction variables"
   ]
  },
  {
   "cell_type": "code",
   "execution_count": 14,
   "metadata": {
    "collapsed": true
   },
   "outputs": [],
   "source": [
    "# Count of days listening to music (log) / days of membership (transaction)\n",
    "df_merged['listen_member_pct']=df_merged['date_count']/df_merged['membership_days']\n",
    "df_merged.listen_member_pct = np.where(df_merged.listen_member_pct >1, 1,df_merged.listen_member_pct)\n",
    "# because the log has more days record than the transaction (both before & after), make the >1 to 1"
   ]
  },
  {
   "cell_type": "code",
   "execution_count": 15,
   "metadata": {
    "collapsed": true
   },
   "outputs": [],
   "source": [
    "# First transaction (transaction) - registration date (member)\n",
    "df_merged['register_member_sub'] = (pd.to_datetime(df_merged['transaction_date_first'], infer_datetime_format=True)-df_merged['registration_init_time']).dt.days"
   ]
  },
  {
   "cell_type": "code",
   "execution_count": 16,
   "metadata": {
    "collapsed": true
   },
   "outputs": [],
   "source": [
    "# Days of membership  (transaction) / dates of registration (member)\n",
    "df_merged['member_register_pct']= df_merged['membership_days']/df_merged['register_days']\n",
    "df_merged.member_register_pct = np.where(df_merged.member_register_pct >1, 1,df_merged.member_register_pct)\n",
    "# because registration is to 0131, therefore, the estimate for this number all is larger, make the >1 to 1"
   ]
  },
  {
   "cell_type": "code",
   "execution_count": 17,
   "metadata": {},
   "outputs": [
    {
     "data": {
      "text/html": [
       "<div>\n",
       "<style>\n",
       "    .dataframe thead tr:only-child th {\n",
       "        text-align: right;\n",
       "    }\n",
       "\n",
       "    .dataframe thead th {\n",
       "        text-align: left;\n",
       "    }\n",
       "\n",
       "    .dataframe tbody tr th {\n",
       "        vertical-align: top;\n",
       "    }\n",
       "</style>\n",
       "<table border=\"1\" class=\"dataframe\">\n",
       "  <thead>\n",
       "    <tr style=\"text-align: right;\">\n",
       "      <th></th>\n",
       "      <th>msno</th>\n",
       "      <th>city</th>\n",
       "      <th>bd</th>\n",
       "      <th>gender</th>\n",
       "      <th>registered_via</th>\n",
       "      <th>registration_init_time</th>\n",
       "      <th>register_days</th>\n",
       "      <th>date_count</th>\n",
       "      <th>date_first</th>\n",
       "      <th>num_25_sum</th>\n",
       "      <th>...</th>\n",
       "      <th>transaction_date_first</th>\n",
       "      <th>d_transaction_mean</th>\n",
       "      <th>d_transaction_std</th>\n",
       "      <th>d_expire_date_mean</th>\n",
       "      <th>d_expire_date_std</th>\n",
       "      <th>potential_churn_has_discount</th>\n",
       "      <th>membership_days</th>\n",
       "      <th>listen_member_pct</th>\n",
       "      <th>register_member_sub</th>\n",
       "      <th>member_register_pct</th>\n",
       "    </tr>\n",
       "  </thead>\n",
       "  <tbody>\n",
       "    <tr>\n",
       "      <th>0</th>\n",
       "      <td>iFmFHtGY2Luh1zwTlfNkht9RkvsVePqs16RHZby8eiQ=</td>\n",
       "      <td>22</td>\n",
       "      <td>36</td>\n",
       "      <td>female</td>\n",
       "      <td>9</td>\n",
       "      <td>2010-03-16</td>\n",
       "      <td>2513</td>\n",
       "      <td>604</td>\n",
       "      <td>2015-01-01T00:00:00</td>\n",
       "      <td>2366</td>\n",
       "      <td>...</td>\n",
       "      <td>2015-01-06</td>\n",
       "      <td>29.035714</td>\n",
       "      <td>10.716834</td>\n",
       "      <td>29.892857</td>\n",
       "      <td>14.88061</td>\n",
       "      <td>False</td>\n",
       "      <td>867</td>\n",
       "      <td>0.696655</td>\n",
       "      <td>1757</td>\n",
       "      <td>0.345006</td>\n",
       "    </tr>\n",
       "  </tbody>\n",
       "</table>\n",
       "<p>1 rows × 67 columns</p>\n",
       "</div>"
      ],
      "text/plain": [
       "                                           msno  city  bd  gender  \\\n",
       "0  iFmFHtGY2Luh1zwTlfNkht9RkvsVePqs16RHZby8eiQ=    22  36  female   \n",
       "\n",
       "   registered_via registration_init_time  register_days  date_count  \\\n",
       "0               9             2010-03-16           2513         604   \n",
       "\n",
       "            date_first  num_25_sum         ...           \\\n",
       "0  2015-01-01T00:00:00        2366         ...            \n",
       "\n",
       "   transaction_date_first  d_transaction_mean  d_transaction_std  \\\n",
       "0              2015-01-06           29.035714          10.716834   \n",
       "\n",
       "   d_expire_date_mean  d_expire_date_std  potential_churn_has_discount  \\\n",
       "0           29.892857           14.88061                         False   \n",
       "\n",
       "   membership_days  listen_member_pct  register_member_sub  \\\n",
       "0              867           0.696655                 1757   \n",
       "\n",
       "   member_register_pct  \n",
       "0             0.345006  \n",
       "\n",
       "[1 rows x 67 columns]"
      ]
     },
     "execution_count": 17,
     "metadata": {},
     "output_type": "execute_result"
    }
   ],
   "source": [
    "df_merged.head(1)"
   ]
  },
  {
   "cell_type": "code",
   "execution_count": 18,
   "metadata": {
    "collapsed": true
   },
   "outputs": [],
   "source": [
    "df_merged=df_merged.drop(['registration_init_time', 'date_first',\"transaction_date_first\"], axis=1)"
   ]
  },
  {
   "cell_type": "code",
   "execution_count": 19,
   "metadata": {
    "collapsed": true
   },
   "outputs": [],
   "source": [
    "df_merged.to_csv('../../kkbox-churn-prediction-challenge/train/X_train_combined.csv',index=False)"
   ]
  },
  {
   "cell_type": "markdown",
   "metadata": {},
   "source": [
    "### Pipeline"
   ]
  },
  {
   "cell_type": "code",
   "execution_count": 20,
   "metadata": {
    "collapsed": true
   },
   "outputs": [],
   "source": [
    "X_train = pd.read_csv('../../kkbox-churn-prediction-challenge/train/X_train_combined.csv')"
   ]
  },
  {
   "cell_type": "code",
   "execution_count": 21,
   "metadata": {},
   "outputs": [],
   "source": [
    "X_train = X_train.sort_values('msno')"
   ]
  },
  {
   "cell_type": "code",
   "execution_count": 22,
   "metadata": {
    "collapsed": true
   },
   "outputs": [],
   "source": [
    "cat_attribs=['city','gender','registered_via','payment_method_id_most_common','payment_plan_days_most_common',\n",
    "             'plan_list_price_most_common','actual_amount_paid_most_common','is_auto_renew_change_or_not',\n",
    "             'is_auto_renew_most_common','is_cancel_change_or_not', 'discount_amount_has_discount', \n",
    "             'free_has_discount','potential_churn_has_discount']\n",
    "num_attribs = ['register_days','date_count','num_25_sum', 'num_25_mean', 'num_25_std','num_50_sum','num_50_mean',\n",
    "               'num_50_std', 'num_75_sum', 'num_75_mean', 'num_75_std', 'num_985_sum','num_985_mean', 'num_985_std',\n",
    "               'num_100_sum', 'num_100_mean','num_100_std', 'num_unq_sum', 'num_unq_mean', 'num_unq_std',\n",
    "               'total_secs_sum', 'total_secs_mean', 'total_secs_std','payment_method_id_nunique','payment_plan_days_nunique','plan_list_price_nunique','plan_list_price_mean', 'plan_list_price_max_min_diff',\n",
    "               'actual_amount_paid_nunique','actual_amount_paid_mean', 'actual_amount_paid_max_min_diff',\n",
    "               'is_auto_renew_pcet_of_zero','is_cancel_mean','discount_amount_find_positive_pct',\n",
    "               'discount_amount_mean', 'discount_amount_sum','free_mean', 'length_mean', 'length_sum', 'length_std', 'amtperday_mean','d_transaction_mean', 'd_transaction_std',\n",
    "               'd_expire_date_mean', 'd_expire_date_std','membership_days', 'listen_member_pct',\n",
    "               'register_member_sub', 'member_register_pct','bd']"
   ]
  },
  {
   "cell_type": "code",
   "execution_count": 23,
   "metadata": {},
   "outputs": [
    {
     "data": {
      "text/plain": [
       "50"
      ]
     },
     "execution_count": 23,
     "metadata": {},
     "output_type": "execute_result"
    }
   ],
   "source": [
    "len(num_attribs)"
   ]
  },
  {
   "cell_type": "code",
   "execution_count": 24,
   "metadata": {},
   "outputs": [
    {
     "data": {
      "text/plain": [
       "13"
      ]
     },
     "execution_count": 24,
     "metadata": {},
     "output_type": "execute_result"
    }
   ],
   "source": [
    "len(cat_attribs)"
   ]
  },
  {
   "cell_type": "code",
   "execution_count": 25,
   "metadata": {},
   "outputs": [
    {
     "data": {
      "text/plain": [
       "{'msno'}"
      ]
     },
     "execution_count": 25,
     "metadata": {},
     "output_type": "execute_result"
    }
   ],
   "source": [
    "set(X_train.columns.get_values())-set(cat_attribs)-set(num_attribs)"
   ]
  },
  {
   "cell_type": "code",
   "execution_count": 26,
   "metadata": {
    "collapsed": true
   },
   "outputs": [],
   "source": [
    "from sklearn.preprocessing import OneHotEncoder, StandardScaler\n",
    "from sklearn.pipeline import FeatureUnion, Pipeline"
   ]
  },
  {
   "cell_type": "code",
   "execution_count": 27,
   "metadata": {
    "collapsed": true
   },
   "outputs": [],
   "source": [
    "from sklearn.base import BaseEstimator, TransformerMixin\n",
    "class DataFrameSelector(BaseEstimator, TransformerMixin):\n",
    "    def __init__(self, attribute_names):\n",
    "        self.attribute_names = attribute_names\n",
    "    def fit(self, X,y=None):\n",
    "        return self\n",
    "    def transform(self,X):\n",
    "        return X[self.attribute_names].values"
   ]
  },
  {
   "cell_type": "code",
   "execution_count": 28,
   "metadata": {
    "collapsed": true
   },
   "outputs": [],
   "source": [
    "cat_pipeline = Pipeline([\n",
    "    ('selector',DataFrameSelector(cat_attribs)),\n",
    "    ('onehot',OneHotEncoder(drop=\"first\",categories=\"auto\"))])\n",
    "num_pipeline = Pipeline([\n",
    "    ('selector',DataFrameSelector(num_attribs)),\n",
    "    ('std_scaler',StandardScaler())\n",
    "])"
   ]
  },
  {
   "cell_type": "code",
   "execution_count": 29,
   "metadata": {},
   "outputs": [],
   "source": [
    "full_pipeline = FeatureUnion(transformer_list=[\n",
    "    (\"cat_pipeline\",cat_pipeline),\n",
    "    (\"num_pipeline\",num_pipeline)\n",
    "])"
   ]
  },
  {
   "cell_type": "code",
   "execution_count": 30,
   "metadata": {},
   "outputs": [],
   "source": [
    "x_prepared = full_pipeline.fit_transform(X_train)"
   ]
  },
  {
   "cell_type": "markdown",
   "metadata": {},
   "source": [
    "### Model"
   ]
  },
  {
   "cell_type": "code",
   "execution_count": 31,
   "metadata": {
    "collapsed": true
   },
   "outputs": [],
   "source": [
    "from sklearn.linear_model import LogisticRegression"
   ]
  },
  {
   "cell_type": "code",
   "execution_count": 32,
   "metadata": {},
   "outputs": [],
   "source": [
    "y = pd.read_csv('../../kkbox-churn-prediction-challenge/under_sample/y_train.csv', header=None).sort_values(0)"
   ]
  },
  {
   "cell_type": "code",
   "execution_count": 33,
   "metadata": {},
   "outputs": [
    {
     "data": {
      "text/plain": [
       "array([ True])"
      ]
     },
     "execution_count": 33,
     "metadata": {},
     "output_type": "execute_result"
    }
   ],
   "source": [
    "(y[0]==X_train['msno']).unique()"
   ]
  },
  {
   "cell_type": "code",
   "execution_count": 34,
   "metadata": {},
   "outputs": [],
   "source": [
    "y = y.drop([0],axis=1).values.ravel()"
   ]
  },
  {
   "cell_type": "code",
   "execution_count": 35,
   "metadata": {},
   "outputs": [],
   "source": [
    "log = LogisticRegression(max_iter=1000)"
   ]
  },
  {
   "cell_type": "code",
   "execution_count": 36,
   "metadata": {},
   "outputs": [
    {
     "data": {
      "text/plain": [
       "LogisticRegression(C=1.0, class_weight=None, dual=False, fit_intercept=True,\n",
       "                   intercept_scaling=1, l1_ratio=None, max_iter=1000,\n",
       "                   multi_class='auto', n_jobs=None, penalty='l2',\n",
       "                   random_state=None, solver='lbfgs', tol=0.0001, verbose=0,\n",
       "                   warm_start=False)"
      ]
     },
     "execution_count": 36,
     "metadata": {},
     "output_type": "execute_result"
    }
   ],
   "source": [
    "log.fit(x_prepared,y)"
   ]
  },
  {
   "cell_type": "code",
   "execution_count": null,
   "metadata": {
    "collapsed": true
   },
   "outputs": [],
   "source": []
  }
 ],
 "metadata": {
  "kernelspec": {
   "display_name": "Python 3",
   "language": "python",
   "name": "python3"
  },
  "language_info": {
   "codemirror_mode": {
    "name": "ipython",
    "version": 3
   },
   "file_extension": ".py",
   "mimetype": "text/x-python",
   "name": "python",
   "nbconvert_exporter": "python",
   "pygments_lexer": "ipython3",
   "version": "3.6.8"
  }
 },
 "nbformat": 4,
 "nbformat_minor": 2
}
