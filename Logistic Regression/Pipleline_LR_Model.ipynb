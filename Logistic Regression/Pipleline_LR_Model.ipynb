{
 "cells": [
  {
   "cell_type": "markdown",
   "metadata": {},
   "source": [
    "### Import data"
   ]
  },
  {
   "cell_type": "code",
   "execution_count": 1,
   "metadata": {
    "collapsed": true
   },
   "outputs": [],
   "source": [
    "import numpy as np \n",
    "import pandas as pd\n",
    "import matplotlib.pyplot as plt\n",
    "from functools import reduce\n",
    "from sklearn.preprocessing import OneHotEncoder, StandardScaler\n",
    "from sklearn.pipeline import FeatureUnion, Pipeline\n",
    "from sklearn.base import BaseEstimator, TransformerMixin\n",
    "from sklearn.linear_model import LogisticRegression\n",
    "from sklearn.metrics import accuracy_score,log_loss,confusion_matrix, plot_confusion_matrix,plot_roc_curve,f1_score\n",
    "from sklearn.model_selection import GridSearchCV"
   ]
  },
  {
   "cell_type": "code",
   "execution_count": 2,
   "metadata": {
    "collapsed": true
   },
   "outputs": [],
   "source": [
    "INPUT_PATH = \"../../kkbox-churn-prediction-challenge/50_under_sample/\"\n",
    "FILE_NAME = 'train_all.csv'"
   ]
  },
  {
   "cell_type": "code",
   "execution_count": 3,
   "metadata": {
    "collapsed": true
   },
   "outputs": [],
   "source": [
    "df = pd.read_csv(INPUT_PATH + FILE_NAME).sort_values('msno')"
   ]
  },
  {
   "cell_type": "code",
   "execution_count": 4,
   "metadata": {},
   "outputs": [
    {
     "data": {
      "text/html": [
       "<div>\n",
       "<style>\n",
       "    .dataframe thead tr:only-child th {\n",
       "        text-align: right;\n",
       "    }\n",
       "\n",
       "    .dataframe thead th {\n",
       "        text-align: left;\n",
       "    }\n",
       "\n",
       "    .dataframe tbody tr th {\n",
       "        vertical-align: top;\n",
       "    }\n",
       "</style>\n",
       "<table border=\"1\" class=\"dataframe\">\n",
       "  <thead>\n",
       "    <tr style=\"text-align: right;\">\n",
       "      <th></th>\n",
       "      <th>msno</th>\n",
       "      <th>is_churn</th>\n",
       "      <th>city</th>\n",
       "      <th>bd</th>\n",
       "      <th>gender</th>\n",
       "      <th>registered_via</th>\n",
       "      <th>register_days</th>\n",
       "      <th>date_count</th>\n",
       "      <th>num_25_sum</th>\n",
       "      <th>num_25_mean</th>\n",
       "      <th>...</th>\n",
       "      <th>amtperday_std</th>\n",
       "      <th>d_transaction_mean</th>\n",
       "      <th>d_transaction_std</th>\n",
       "      <th>d_expire_date_mean</th>\n",
       "      <th>d_expire_date_std</th>\n",
       "      <th>potential_churn_binary_has</th>\n",
       "      <th>membership_days</th>\n",
       "      <th>listen_member_pct</th>\n",
       "      <th>register_member_sub</th>\n",
       "      <th>member_register_pct</th>\n",
       "    </tr>\n",
       "  </thead>\n",
       "  <tbody>\n",
       "    <tr>\n",
       "      <th>35439</th>\n",
       "      <td>++9JUsaZioofS6Fb20Z0z2QOlWNzakO0PRF5GZ75yi4=</td>\n",
       "      <td>0</td>\n",
       "      <td>13</td>\n",
       "      <td>22</td>\n",
       "      <td>male</td>\n",
       "      <td>9</td>\n",
       "      <td>783</td>\n",
       "      <td>462</td>\n",
       "      <td>712</td>\n",
       "      <td>1.541126</td>\n",
       "      <td>...</td>\n",
       "      <td>0.952847</td>\n",
       "      <td>29.692308</td>\n",
       "      <td>4.296689</td>\n",
       "      <td>30.36</td>\n",
       "      <td>0.907377</td>\n",
       "      <td>False</td>\n",
       "      <td>791.0</td>\n",
       "      <td>0.584071</td>\n",
       "      <td>30</td>\n",
       "      <td>1.0</td>\n",
       "    </tr>\n",
       "  </tbody>\n",
       "</table>\n",
       "<p>1 rows × 66 columns</p>\n",
       "</div>"
      ],
      "text/plain": [
       "                                               msno  is_churn  city  bd  \\\n",
       "35439  ++9JUsaZioofS6Fb20Z0z2QOlWNzakO0PRF5GZ75yi4=         0    13  22   \n",
       "\n",
       "      gender  registered_via  register_days  date_count  num_25_sum  \\\n",
       "35439   male               9            783         462         712   \n",
       "\n",
       "       num_25_mean         ...           amtperday_std  d_transaction_mean  \\\n",
       "35439     1.541126         ...                0.952847           29.692308   \n",
       "\n",
       "       d_transaction_std  d_expire_date_mean  d_expire_date_std  \\\n",
       "35439           4.296689               30.36           0.907377   \n",
       "\n",
       "       potential_churn_binary_has  membership_days  listen_member_pct  \\\n",
       "35439                       False            791.0           0.584071   \n",
       "\n",
       "       register_member_sub  member_register_pct  \n",
       "35439                   30                  1.0  \n",
       "\n",
       "[1 rows x 66 columns]"
      ]
     },
     "execution_count": 4,
     "metadata": {},
     "output_type": "execute_result"
    }
   ],
   "source": [
    "df.head(1)"
   ]
  },
  {
   "cell_type": "markdown",
   "metadata": {},
   "source": [
    "## Model 1: price as continuous"
   ]
  },
  {
   "cell_type": "markdown",
   "metadata": {},
   "source": [
    "### Pipeline"
   ]
  },
  {
   "cell_type": "code",
   "execution_count": 5,
   "metadata": {
    "collapsed": true
   },
   "outputs": [],
   "source": [
    "cat_attribs=['city','gender','registered_via','payment_method_id_most_common','payment_plan_days_most_common',\n",
    "             #'plan_list_price_most_common',\n",
    "             #'actual_amount_paid_most_common',\n",
    "             'is_auto_renew_change_or_not','is_auto_renew_most_common',\n",
    "             'is_cancel_change_or_not', 'discount_positive_binary_has', \n",
    "             'free_binary_has','potential_churn_binary_has']\n",
    "num_attribs = ['register_days','date_count',\n",
    "               'num_25_sum','num_50_mean','num_75_sum','num_75_std', # correlation\n",
    "               'num_985_sum','num_985_std','num_100_sum', 'num_100_std','num_unq_mean','total_secs_sum', # correlation\n",
    "               'num_25_mean', 'num_25_std','num_50_sum','num_50_std', \n",
    "               'num_75_mean', 'num_985_mean', \n",
    "               'num_100_mean', 'num_unq_sum', 'num_unq_std',\n",
    "               'total_secs_mean', 'total_secs_std',\n",
    "               'payment_method_id_nunique','payment_plan_days_nunique',\n",
    "               'plan_list_price_nunique','plan_list_price_mean','plan_list_price_std', # correlation\n",
    "               'plan_list_price_most_common',# this originally is used as categorical\n",
    "               'actual_amount_paid_most_common', # this originally is used as categorical\n",
    "               'actual_amount_paid_nunique','actual_amount_paid_mean', 'actual_amount_paid_std',\n",
    "               'is_auto_renew_pcet_of_zero','is_cancel_mean','discount_amount_find_positive_pct',\n",
    "               'discount_amount_mean', 'free_mean', \n",
    "               'discount_amount_sum',# correlation\n",
    "               'length_mean', 'length_sum',\n",
    "               'length_std', # correlation\n",
    "               'amtperday_mean','amtperday_std', \n",
    "               'd_transaction_mean', 'd_transaction_std',\n",
    "               'd_expire_date_mean', 'd_expire_date_std','membership_days', \n",
    "               'listen_member_pct','register_member_sub', # correlation\n",
    "               'member_register_pct','bd']"
   ]
  },
  {
   "cell_type": "code",
   "execution_count": 6,
   "metadata": {
    "collapsed": true
   },
   "outputs": [],
   "source": [
    "class DataFrameSelector(BaseEstimator, TransformerMixin):\n",
    "    def __init__(self, attribute_names):\n",
    "        self.attribute_names = attribute_names\n",
    "    def fit(self, X,y=None):\n",
    "        return self\n",
    "    def transform(self,X):\n",
    "        return X[self.attribute_names].values"
   ]
  },
  {
   "cell_type": "code",
   "execution_count": 7,
   "metadata": {
    "collapsed": true
   },
   "outputs": [],
   "source": [
    "cat_pipeline = Pipeline([\n",
    "    ('selector',DataFrameSelector(cat_attribs)),\n",
    "    ('onehot',OneHotEncoder(drop=\"first\",categories=\"auto\"))])\n",
    "num_pipeline = Pipeline([\n",
    "    ('selector',DataFrameSelector(num_attribs)),\n",
    "    ('std_scaler',StandardScaler())\n",
    "])"
   ]
  },
  {
   "cell_type": "code",
   "execution_count": 8,
   "metadata": {
    "collapsed": true
   },
   "outputs": [],
   "source": [
    "full_pipeline = FeatureUnion(transformer_list=[\n",
    "    (\"cat_pipeline\",cat_pipeline),\n",
    "    (\"num_pipeline\",num_pipeline)\n",
    "])"
   ]
  },
  {
   "cell_type": "code",
   "execution_count": 10,
   "metadata": {
    "collapsed": true
   },
   "outputs": [],
   "source": [
    "X_train = df.iloc[:,2:66]\n",
    "X_train=X_train.fillna(0)"
   ]
  },
  {
   "cell_type": "code",
   "execution_count": 11,
   "metadata": {},
   "outputs": [
    {
     "data": {
      "text/html": [
       "<div>\n",
       "<style>\n",
       "    .dataframe thead tr:only-child th {\n",
       "        text-align: right;\n",
       "    }\n",
       "\n",
       "    .dataframe thead th {\n",
       "        text-align: left;\n",
       "    }\n",
       "\n",
       "    .dataframe tbody tr th {\n",
       "        vertical-align: top;\n",
       "    }\n",
       "</style>\n",
       "<table border=\"1\" class=\"dataframe\">\n",
       "  <thead>\n",
       "    <tr style=\"text-align: right;\">\n",
       "      <th></th>\n",
       "      <th>city</th>\n",
       "      <th>bd</th>\n",
       "      <th>gender</th>\n",
       "      <th>registered_via</th>\n",
       "      <th>register_days</th>\n",
       "      <th>date_count</th>\n",
       "      <th>num_25_sum</th>\n",
       "      <th>num_25_mean</th>\n",
       "      <th>num_25_std</th>\n",
       "      <th>num_50_sum</th>\n",
       "      <th>...</th>\n",
       "      <th>amtperday_std</th>\n",
       "      <th>d_transaction_mean</th>\n",
       "      <th>d_transaction_std</th>\n",
       "      <th>d_expire_date_mean</th>\n",
       "      <th>d_expire_date_std</th>\n",
       "      <th>potential_churn_binary_has</th>\n",
       "      <th>membership_days</th>\n",
       "      <th>listen_member_pct</th>\n",
       "      <th>register_member_sub</th>\n",
       "      <th>member_register_pct</th>\n",
       "    </tr>\n",
       "  </thead>\n",
       "  <tbody>\n",
       "    <tr>\n",
       "      <th>35439</th>\n",
       "      <td>13</td>\n",
       "      <td>22</td>\n",
       "      <td>male</td>\n",
       "      <td>9</td>\n",
       "      <td>783</td>\n",
       "      <td>462</td>\n",
       "      <td>712</td>\n",
       "      <td>1.541126</td>\n",
       "      <td>2.550453</td>\n",
       "      <td>153</td>\n",
       "      <td>...</td>\n",
       "      <td>0.952847</td>\n",
       "      <td>29.692308</td>\n",
       "      <td>4.296689</td>\n",
       "      <td>30.36</td>\n",
       "      <td>0.907377</td>\n",
       "      <td>False</td>\n",
       "      <td>791.0</td>\n",
       "      <td>0.584071</td>\n",
       "      <td>30</td>\n",
       "      <td>1.0</td>\n",
       "    </tr>\n",
       "  </tbody>\n",
       "</table>\n",
       "<p>1 rows × 64 columns</p>\n",
       "</div>"
      ],
      "text/plain": [
       "       city  bd gender  registered_via  register_days  date_count  num_25_sum  \\\n",
       "35439    13  22   male               9            783         462         712   \n",
       "\n",
       "       num_25_mean  num_25_std  num_50_sum         ...           \\\n",
       "35439     1.541126    2.550453         153         ...            \n",
       "\n",
       "       amtperday_std  d_transaction_mean  d_transaction_std  \\\n",
       "35439       0.952847           29.692308           4.296689   \n",
       "\n",
       "       d_expire_date_mean  d_expire_date_std  potential_churn_binary_has  \\\n",
       "35439               30.36           0.907377                       False   \n",
       "\n",
       "       membership_days  listen_member_pct  register_member_sub  \\\n",
       "35439            791.0           0.584071                   30   \n",
       "\n",
       "       member_register_pct  \n",
       "35439                  1.0  \n",
       "\n",
       "[1 rows x 64 columns]"
      ]
     },
     "execution_count": 11,
     "metadata": {},
     "output_type": "execute_result"
    }
   ],
   "source": [
    "X_train.head(1)"
   ]
  },
  {
   "cell_type": "code",
   "execution_count": 12,
   "metadata": {
    "collapsed": true
   },
   "outputs": [],
   "source": [
    "X_train_prepared = full_pipeline.fit_transform(X_train)"
   ]
  },
  {
   "cell_type": "code",
   "execution_count": 13,
   "metadata": {
    "collapsed": true
   },
   "outputs": [],
   "source": [
    "y_train = df.iloc[:,1]"
   ]
  },
  {
   "cell_type": "markdown",
   "metadata": {},
   "source": [
    "### Valiation data"
   ]
  },
  {
   "cell_type": "code",
   "execution_count": 14,
   "metadata": {},
   "outputs": [
    {
     "data": {
      "text/plain": [
       "(21517, 64)"
      ]
     },
     "execution_count": 14,
     "metadata": {},
     "output_type": "execute_result"
    }
   ],
   "source": [
    "FILE_NAME = 'val_all.csv'\n",
    "df_val = pd.read_csv(INPUT_PATH + FILE_NAME).sort_values('msno')\n",
    "\n",
    "X_val = df_val.iloc[:,2:66]\n",
    "X_val=X_val.fillna(0)\n",
    "\n",
    "X_val.shape"
   ]
  },
  {
   "cell_type": "code",
   "execution_count": 15,
   "metadata": {
    "collapsed": true
   },
   "outputs": [],
   "source": [
    "y_val = df_val.iloc[:,1]"
   ]
  },
  {
   "cell_type": "code",
   "execution_count": 16,
   "metadata": {
    "collapsed": true
   },
   "outputs": [],
   "source": [
    "X_val_prepared = full_pipeline.transform(X_val)"
   ]
  },
  {
   "cell_type": "markdown",
   "metadata": {},
   "source": [
    "### Tune Hyper Parameters"
   ]
  },
  {
   "cell_type": "code",
   "execution_count": 17,
   "metadata": {},
   "outputs": [],
   "source": [
    "def tune_parameters(solver,C_param_list,penalty):\n",
    "    table = pd.DataFrame(columns = ['C_parameter','f1'])\n",
    "    table['C_parameter'] = C_param_list\n",
    "    \n",
    "    j = 0\n",
    "    for i in C_param_list:\n",
    "        lr = LogisticRegression(C = i,max_iter=1500,penalty=penalty,tol=7e-4,random_state=24,solver=solver)\n",
    "        lr.fit(X_train_prepared,y_train)\n",
    "        y_val_pred = lr.predict(X_val_prepared)\n",
    "        table.iloc[j,1] = f1_score(y_val,y_val_pred)\n",
    "        j+=1\n",
    "    \n",
    "    return table"
   ]
  },
  {
   "cell_type": "code",
   "execution_count": 18,
   "metadata": {},
   "outputs": [
    {
     "name": "stderr",
     "output_type": "stream",
     "text": [
      "/Users/wangzhengye/anaconda3/lib/python3.6/site-packages/sklearn/linear_model/_logistic.py:940: ConvergenceWarning: lbfgs failed to converge (status=1):\n",
      "STOP: TOTAL NO. of ITERATIONS REACHED LIMIT.\n",
      "\n",
      "Increase the number of iterations (max_iter) or scale the data as shown in:\n",
      "    https://scikit-learn.org/stable/modules/preprocessing.html\n",
      "Please also refer to the documentation for alternative solver options:\n",
      "    https://scikit-learn.org/stable/modules/linear_model.html#logistic-regression\n",
      "  extra_warning_msg=_LOGISTIC_SOLVER_CONVERGENCE_MSG)\n",
      "/Users/wangzhengye/anaconda3/lib/python3.6/site-packages/sklearn/linear_model/_logistic.py:940: ConvergenceWarning: lbfgs failed to converge (status=1):\n",
      "STOP: TOTAL NO. of ITERATIONS REACHED LIMIT.\n",
      "\n",
      "Increase the number of iterations (max_iter) or scale the data as shown in:\n",
      "    https://scikit-learn.org/stable/modules/preprocessing.html\n",
      "Please also refer to the documentation for alternative solver options:\n",
      "    https://scikit-learn.org/stable/modules/linear_model.html#logistic-regression\n",
      "  extra_warning_msg=_LOGISTIC_SOLVER_CONVERGENCE_MSG)\n"
     ]
    }
   ],
   "source": [
    "# solver = \"lbfgs\", penalty = \"l2\"\n",
    "lbfgs_l2 = tune_parameters(\"lbfgs\",[0.1,1,10,100,1000],\"l2\")"
   ]
  },
  {
   "cell_type": "code",
   "execution_count": 19,
   "metadata": {},
   "outputs": [
    {
     "data": {
      "text/html": [
       "<div>\n",
       "<style>\n",
       "    .dataframe thead tr:only-child th {\n",
       "        text-align: right;\n",
       "    }\n",
       "\n",
       "    .dataframe thead th {\n",
       "        text-align: left;\n",
       "    }\n",
       "\n",
       "    .dataframe tbody tr th {\n",
       "        vertical-align: top;\n",
       "    }\n",
       "</style>\n",
       "<table border=\"1\" class=\"dataframe\">\n",
       "  <thead>\n",
       "    <tr style=\"text-align: right;\">\n",
       "      <th></th>\n",
       "      <th>C_parameter</th>\n",
       "      <th>f1</th>\n",
       "    </tr>\n",
       "  </thead>\n",
       "  <tbody>\n",
       "    <tr>\n",
       "      <th>0</th>\n",
       "      <td>0.1</td>\n",
       "      <td>0.37559</td>\n",
       "    </tr>\n",
       "    <tr>\n",
       "      <th>1</th>\n",
       "      <td>1.0</td>\n",
       "      <td>0.431833</td>\n",
       "    </tr>\n",
       "    <tr>\n",
       "      <th>2</th>\n",
       "      <td>10.0</td>\n",
       "      <td>0.450493</td>\n",
       "    </tr>\n",
       "    <tr>\n",
       "      <th>3</th>\n",
       "      <td>100.0</td>\n",
       "      <td>0.45274</td>\n",
       "    </tr>\n",
       "    <tr>\n",
       "      <th>4</th>\n",
       "      <td>1000.0</td>\n",
       "      <td>0.453361</td>\n",
       "    </tr>\n",
       "  </tbody>\n",
       "</table>\n",
       "</div>"
      ],
      "text/plain": [
       "   C_parameter        f1\n",
       "0          0.1   0.37559\n",
       "1          1.0  0.431833\n",
       "2         10.0  0.450493\n",
       "3        100.0   0.45274\n",
       "4       1000.0  0.453361"
      ]
     },
     "execution_count": 19,
     "metadata": {},
     "output_type": "execute_result"
    }
   ],
   "source": [
    "lbfgs_l2 # C = 1000 is the best, the less regulization, the bettter result"
   ]
  },
  {
   "cell_type": "code",
   "execution_count": 20,
   "metadata": {},
   "outputs": [],
   "source": [
    "# solver = \"saga\", penalty = \"l2\"\n",
    "saga_l2 = tune_parameters(\"saga\",[0.1,1,10,100],\"l2\")"
   ]
  },
  {
   "cell_type": "code",
   "execution_count": 21,
   "metadata": {},
   "outputs": [
    {
     "data": {
      "text/html": [
       "<div>\n",
       "<style>\n",
       "    .dataframe thead tr:only-child th {\n",
       "        text-align: right;\n",
       "    }\n",
       "\n",
       "    .dataframe thead th {\n",
       "        text-align: left;\n",
       "    }\n",
       "\n",
       "    .dataframe tbody tr th {\n",
       "        vertical-align: top;\n",
       "    }\n",
       "</style>\n",
       "<table border=\"1\" class=\"dataframe\">\n",
       "  <thead>\n",
       "    <tr style=\"text-align: right;\">\n",
       "      <th></th>\n",
       "      <th>C_parameter</th>\n",
       "      <th>f1</th>\n",
       "    </tr>\n",
       "  </thead>\n",
       "  <tbody>\n",
       "    <tr>\n",
       "      <th>0</th>\n",
       "      <td>0.1</td>\n",
       "      <td>0.353042</td>\n",
       "    </tr>\n",
       "    <tr>\n",
       "      <th>1</th>\n",
       "      <td>1.0</td>\n",
       "      <td>0.364481</td>\n",
       "    </tr>\n",
       "    <tr>\n",
       "      <th>2</th>\n",
       "      <td>10.0</td>\n",
       "      <td>0.36623</td>\n",
       "    </tr>\n",
       "    <tr>\n",
       "      <th>3</th>\n",
       "      <td>100.0</td>\n",
       "      <td>0.366123</td>\n",
       "    </tr>\n",
       "  </tbody>\n",
       "</table>\n",
       "</div>"
      ],
      "text/plain": [
       "   C_parameter        f1\n",
       "0          0.1  0.353042\n",
       "1          1.0  0.364481\n",
       "2         10.0   0.36623\n",
       "3        100.0  0.366123"
      ]
     },
     "execution_count": 21,
     "metadata": {},
     "output_type": "execute_result"
    }
   ],
   "source": [
    "saga_l2 # 10 is best"
   ]
  },
  {
   "cell_type": "code",
   "execution_count": 22,
   "metadata": {
    "collapsed": true
   },
   "outputs": [],
   "source": [
    "# solver = \"saga\", penalty = \"l1\"\n",
    "saga_l1 = tune_parameters(\"saga\",[0.1,1,10,100],\"l1\")"
   ]
  },
  {
   "cell_type": "code",
   "execution_count": 23,
   "metadata": {},
   "outputs": [
    {
     "data": {
      "text/html": [
       "<div>\n",
       "<style>\n",
       "    .dataframe thead tr:only-child th {\n",
       "        text-align: right;\n",
       "    }\n",
       "\n",
       "    .dataframe thead th {\n",
       "        text-align: left;\n",
       "    }\n",
       "\n",
       "    .dataframe tbody tr th {\n",
       "        vertical-align: top;\n",
       "    }\n",
       "</style>\n",
       "<table border=\"1\" class=\"dataframe\">\n",
       "  <thead>\n",
       "    <tr style=\"text-align: right;\">\n",
       "      <th></th>\n",
       "      <th>C_parameter</th>\n",
       "      <th>f1</th>\n",
       "    </tr>\n",
       "  </thead>\n",
       "  <tbody>\n",
       "    <tr>\n",
       "      <th>0</th>\n",
       "      <td>0.1</td>\n",
       "      <td>0.366279</td>\n",
       "    </tr>\n",
       "    <tr>\n",
       "      <th>1</th>\n",
       "      <td>1.0</td>\n",
       "      <td>0.366066</td>\n",
       "    </tr>\n",
       "    <tr>\n",
       "      <th>2</th>\n",
       "      <td>10.0</td>\n",
       "      <td>0.366337</td>\n",
       "    </tr>\n",
       "    <tr>\n",
       "      <th>3</th>\n",
       "      <td>100.0</td>\n",
       "      <td>0.366123</td>\n",
       "    </tr>\n",
       "  </tbody>\n",
       "</table>\n",
       "</div>"
      ],
      "text/plain": [
       "   C_parameter        f1\n",
       "0          0.1  0.366279\n",
       "1          1.0  0.366066\n",
       "2         10.0  0.366337\n",
       "3        100.0  0.366123"
      ]
     },
     "execution_count": 23,
     "metadata": {},
     "output_type": "execute_result"
    }
   ],
   "source": [
    "saga_l1 # 10 is best"
   ]
  },
  {
   "cell_type": "markdown",
   "metadata": {},
   "source": [
    "### Test on the test sest"
   ]
  },
  {
   "cell_type": "code",
   "execution_count": 24,
   "metadata": {},
   "outputs": [
    {
     "data": {
      "text/plain": [
       "(22410, 64)"
      ]
     },
     "execution_count": 24,
     "metadata": {},
     "output_type": "execute_result"
    }
   ],
   "source": [
    "# Test data\n",
    "FILE_NAME = 'test_all.csv'\n",
    "df_test = pd.read_csv(INPUT_PATH + FILE_NAME).sort_values('msno')\n",
    "df_test = df_test[df_test.payment_plan_days_most_common != 66]\n",
    "\n",
    "X_test = df_test.iloc[:,2:66]\n",
    "X_test=X_test.fillna(0)\n",
    "\n",
    "X_test.shape"
   ]
  },
  {
   "cell_type": "code",
   "execution_count": 25,
   "metadata": {},
   "outputs": [
    {
     "data": {
      "text/plain": [
       "(22410, 64)"
      ]
     },
     "execution_count": 25,
     "metadata": {},
     "output_type": "execute_result"
    }
   ],
   "source": [
    "X_test.shape"
   ]
  },
  {
   "cell_type": "code",
   "execution_count": 26,
   "metadata": {},
   "outputs": [],
   "source": [
    "y_test = df_test.iloc[:,1]\n",
    "\n",
    "X_test_prepared = full_pipeline.transform(X_test)"
   ]
  },
  {
   "cell_type": "code",
   "execution_count": 27,
   "metadata": {},
   "outputs": [
    {
     "name": "stderr",
     "output_type": "stream",
     "text": [
      "/Users/wangzhengye/anaconda3/lib/python3.6/site-packages/sklearn/linear_model/_logistic.py:940: ConvergenceWarning: lbfgs failed to converge (status=1):\n",
      "STOP: TOTAL NO. of ITERATIONS REACHED LIMIT.\n",
      "\n",
      "Increase the number of iterations (max_iter) or scale the data as shown in:\n",
      "    https://scikit-learn.org/stable/modules/preprocessing.html\n",
      "Please also refer to the documentation for alternative solver options:\n",
      "    https://scikit-learn.org/stable/modules/linear_model.html#logistic-regression\n",
      "  extra_warning_msg=_LOGISTIC_SOLVER_CONVERGENCE_MSG)\n"
     ]
    }
   ],
   "source": [
    "# best model is with lbfgs_l2 # C = 1000 is the best, the less regulization, the bettter result\n",
    "lr = LogisticRegression(C = 1000,max_iter=1500,penalty='l2',tol=7e-4,random_state=24,solver='lbfgs')\n",
    "lr.fit(X_train_prepared,y_train)\n",
    "y_test_pred = lr.predict(X_test_prepared)"
   ]
  },
  {
   "cell_type": "code",
   "execution_count": 28,
   "metadata": {},
   "outputs": [
    {
     "data": {
      "text/plain": [
       "(0.3044030482641829, 0.9021329987452948, 0.45520734409623304, None)"
      ]
     },
     "execution_count": 28,
     "metadata": {},
     "output_type": "execute_result"
    }
   ],
   "source": [
    "from sklearn.metrics import precision_recall_fscore_support\n",
    "precision_recall_fscore_support(y_test,y_test_pred,average='binary')"
   ]
  },
  {
   "cell_type": "markdown",
   "metadata": {},
   "source": [
    "### Feature Importance"
   ]
  },
  {
   "cell_type": "code",
   "execution_count": 29,
   "metadata": {},
   "outputs": [],
   "source": [
    "sum = 0\n",
    "cat_count = dict.fromkeys(cat_attribs)\n",
    "for i in cat_attribs:\n",
    "    cat_count[i] = X_train[i].nunique()       \n",
    "    sum = X_train[i].nunique()+sum"
   ]
  },
  {
   "cell_type": "code",
   "execution_count": 30,
   "metadata": {},
   "outputs": [
    {
     "data": {
      "text/plain": [
       "90"
      ]
     },
     "execution_count": 30,
     "metadata": {},
     "output_type": "execute_result"
    }
   ],
   "source": [
    "sum-len(cat_attribs)"
   ]
  },
  {
   "cell_type": "code",
   "execution_count": 31,
   "metadata": {},
   "outputs": [
    {
     "data": {
      "text/plain": [
       "143"
      ]
     },
     "execution_count": 31,
     "metadata": {},
     "output_type": "execute_result"
    }
   ],
   "source": [
    "# total columns\n",
    "sum-len(cat_attribs)+len(num_attribs)"
   ]
  },
  {
   "cell_type": "code",
   "execution_count": 101,
   "metadata": {},
   "outputs": [],
   "source": [
    "coef=pd.DataFrame(lr.coef_.reshape(-1,1))"
   ]
  },
  {
   "cell_type": "code",
   "execution_count": 102,
   "metadata": {
    "collapsed": true
   },
   "outputs": [],
   "source": [
    "coef['feature']=\"\""
   ]
  },
  {
   "cell_type": "code",
   "execution_count": 103,
   "metadata": {
    "collapsed": true
   },
   "outputs": [],
   "source": [
    "coef.columns=['value','feature']"
   ]
  },
  {
   "cell_type": "code",
   "execution_count": 104,
   "metadata": {},
   "outputs": [],
   "source": [
    "coef[\"abs\"] = np.where(coef['value']>=0,coef['value'],abs(coef['value']))"
   ]
  },
  {
   "cell_type": "code",
   "execution_count": 106,
   "metadata": {},
   "outputs": [
    {
     "data": {
      "text/html": [
       "<div>\n",
       "<style>\n",
       "    .dataframe thead tr:only-child th {\n",
       "        text-align: right;\n",
       "    }\n",
       "\n",
       "    .dataframe thead th {\n",
       "        text-align: left;\n",
       "    }\n",
       "\n",
       "    .dataframe tbody tr th {\n",
       "        vertical-align: top;\n",
       "    }\n",
       "</style>\n",
       "<table border=\"1\" class=\"dataframe\">\n",
       "  <thead>\n",
       "    <tr style=\"text-align: right;\">\n",
       "      <th></th>\n",
       "      <th>value</th>\n",
       "      <th>feature</th>\n",
       "      <th>abs</th>\n",
       "    </tr>\n",
       "  </thead>\n",
       "  <tbody>\n",
       "    <tr>\n",
       "      <th>140</th>\n",
       "      <td>-22.480862</td>\n",
       "      <td></td>\n",
       "      <td>22.480862</td>\n",
       "    </tr>\n",
       "    <tr>\n",
       "      <th>138</th>\n",
       "      <td>-6.479231</td>\n",
       "      <td></td>\n",
       "      <td>6.479231</td>\n",
       "    </tr>\n",
       "    <tr>\n",
       "      <th>33</th>\n",
       "      <td>-4.444132</td>\n",
       "      <td></td>\n",
       "      <td>4.444132</td>\n",
       "    </tr>\n",
       "    <tr>\n",
       "      <th>122</th>\n",
       "      <td>-3.882480</td>\n",
       "      <td></td>\n",
       "      <td>3.882480</td>\n",
       "    </tr>\n",
       "    <tr>\n",
       "      <th>91</th>\n",
       "      <td>-1.803637</td>\n",
       "      <td></td>\n",
       "      <td>1.803637</td>\n",
       "    </tr>\n",
       "    <tr>\n",
       "      <th>71</th>\n",
       "      <td>-1.291732</td>\n",
       "      <td></td>\n",
       "      <td>1.291732</td>\n",
       "    </tr>\n",
       "    <tr>\n",
       "      <th>129</th>\n",
       "      <td>-1.266571</td>\n",
       "      <td></td>\n",
       "      <td>1.266571</td>\n",
       "    </tr>\n",
       "    <tr>\n",
       "      <th>84</th>\n",
       "      <td>-1.096363</td>\n",
       "      <td></td>\n",
       "      <td>1.096363</td>\n",
       "    </tr>\n",
       "    <tr>\n",
       "      <th>126</th>\n",
       "      <td>-1.037151</td>\n",
       "      <td></td>\n",
       "      <td>1.037151</td>\n",
       "    </tr>\n",
       "    <tr>\n",
       "      <th>66</th>\n",
       "      <td>-0.866368</td>\n",
       "      <td></td>\n",
       "      <td>0.866368</td>\n",
       "    </tr>\n",
       "  </tbody>\n",
       "</table>\n",
       "</div>"
      ],
      "text/plain": [
       "         value feature        abs\n",
       "140 -22.480862          22.480862\n",
       "138  -6.479231           6.479231\n",
       "33   -4.444132           4.444132\n",
       "122  -3.882480           3.882480\n",
       "91   -1.803637           1.803637\n",
       "71   -1.291732           1.291732\n",
       "129  -1.266571           1.266571\n",
       "84   -1.096363           1.096363\n",
       "126  -1.037151           1.037151\n",
       "66   -0.866368           0.866368"
      ]
     },
     "execution_count": 106,
     "metadata": {},
     "output_type": "execute_result"
    }
   ],
   "source": [
    "coef.sort_values('value').iloc[0:10,:]"
   ]
  },
  {
   "cell_type": "code",
   "execution_count": 35,
   "metadata": {},
   "outputs": [
    {
     "data": {
      "text/plain": [
       "{'city': 21,\n",
       " 'discount_positive_binary_has': 2,\n",
       " 'free_binary_has': 2,\n",
       " 'gender': 3,\n",
       " 'is_auto_renew_change_or_not': 2,\n",
       " 'is_auto_renew_most_common': 2,\n",
       " 'is_cancel_change_or_not': 2,\n",
       " 'payment_method_id_most_common': 36,\n",
       " 'payment_plan_days_most_common': 25,\n",
       " 'potential_churn_binary_has': 2,\n",
       " 'registered_via': 4}"
      ]
     },
     "execution_count": 35,
     "metadata": {},
     "output_type": "execute_result"
    }
   ],
   "source": [
    "cat_count"
   ]
  },
  {
   "cell_type": "code",
   "execution_count": 36,
   "metadata": {},
   "outputs": [],
   "source": [
    "coef.iloc[140,1]=num_attribs[140-90]\n",
    "coef.iloc[138,1]=num_attribs[138-90]\n",
    "coef.iloc[33,1]='payment_method_id_15'\n",
    "coef.iloc[122,1]=num_attribs[122-90]\n",
    "coef.iloc[91,1]=num_attribs[91-90]\n",
    "coef.iloc[71,1]='payment_plan_days_90'\n",
    "coef.iloc[129,1]=num_attribs[129-90]\n",
    "coef.iloc[84,1]='is_auto_renew_change_or_not'\n",
    "coef.iloc[126,1]=num_attribs[126-90]\n",
    "coef.iloc[66,1]='payment_plan_days_31'"
   ]
  },
  {
   "cell_type": "code",
   "execution_count": 37,
   "metadata": {
    "collapsed": true
   },
   "outputs": [],
   "source": [
    "coef_10=coef.sort_values(0).iloc[0:10,:]"
   ]
  },
  {
   "cell_type": "code",
   "execution_count": 38,
   "metadata": {},
   "outputs": [],
   "source": []
  },
  {
   "cell_type": "code",
   "execution_count": 40,
   "metadata": {},
   "outputs": [
    {
     "data": {
      "image/png": "[encoded data removed]",
      "text/plain": [
       "<matplotlib.figure.Figure at 0x122ab5978>"
      ]
     },
     "metadata": {},
     "output_type": "display_data"
    }
   ],
   "source": [
    "coef_10.sort_values('value',ascending=False).plot.barh(x='feature', y='value')\n",
    "plt.title(\"Feature Importance By Coefficients' Value\")\n",
    "plt.show()"
   ]
  },
  {
   "cell_type": "markdown",
   "metadata": {},
   "source": [
    "### EDA"
   ]
  },
  {
   "cell_type": "code",
   "execution_count": 107,
   "metadata": {},
   "outputs": [
    {
     "name": "stderr",
     "output_type": "stream",
     "text": [
      "/Users/wangzhengye/anaconda3/lib/python3.6/site-packages/numpy/core/fromnumeric.py:56: FutureWarning: reshape is deprecated and will raise in a subsequent release. Please use .values.reshape(...) instead\n",
      "  return getattr(obj, method)(*args, **kwds)\n"
     ]
    },
    {
     "data": {
      "image/png": "[encoded data removed]",
      "text/plain": [
       "<matplotlib.figure.Figure at 0x1290a4630>"
      ]
     },
     "metadata": {},
     "output_type": "display_data"
    }
   ],
   "source": [
    "#df.is_churn = np.where(df.is_churn==0,\"Retained\",\"Churned\")\n",
    "\n",
    "df.boxplot(column='date_count',by='is_churn',figsize=(8,6))\n",
    "plt.title('Date Counts Boxplot By Churn')\n",
    "plt.show()"
   ]
  },
  {
   "cell_type": "code",
   "execution_count": 82,
   "metadata": {},
   "outputs": [
    {
     "data": {
      "image/png": "[encoded data removed]",
      "text/plain": [
       "<matplotlib.figure.Figure at 0x127ef2da0>"
      ]
     },
     "metadata": {},
     "output_type": "display_data"
    }
   ],
   "source": [
    "df_new = df[df.membership_days<1000]\n",
    "import seaborn as sns\n",
    "Type = ['Retained', 'Churned']\n",
    "\n",
    "for i in Type:\n",
    "    # Subset to the airline\n",
    "    subset = df_new[df_new['is_churn'] == i]\n",
    "    \n",
    "    # Draw the density plot\n",
    "    sns.distplot(subset['membership_days'], hist = False, kde = True,\n",
    "                 kde_kws = {'linewidth': 2},\n",
    "                 label = i)\n",
    "    \n",
    "# Plot formatting\n",
    "plt.legend(prop={'size': 10}, title = 'Users')\n",
    "plt.title('Membership Days Density Plot By Churn')\n",
    "plt.xlabel('Membership Days')\n",
    "plt.ylabel('Density')\n",
    "plt.show()"
   ]
  },
  {
   "cell_type": "code",
   "execution_count": 97,
   "metadata": {},
   "outputs": [
    {
     "data": {
      "image/png": "[encoded data removed]",
      "text/plain": [
       "<matplotlib.figure.Figure at 0x12c258668>"
      ]
     },
     "metadata": {},
     "output_type": "display_data"
    }
   ],
   "source": [
    "#df_new = df[df.date_count>200]\n",
    "import seaborn as sns\n",
    "Type = ['Churned','Retained']\n",
    "\n",
    "for i in Type:\n",
    "    subset = df[df['is_churn'] == i]\n",
    "    \n",
    "    sns.distplot(subset['register_member_sub'], hist = False, kde = True,\n",
    "                 kde_kws = {'linewidth': 2},\n",
    "                 label = i)\n",
    "    \n",
    "# Plot formatting\n",
    "plt.legend(prop={'size': 10}, title = 'Users')\n",
    "plt.title('Membership Days Density Plot By Churn')\n",
    "plt.xlabel('Membership Days')\n",
    "plt.ylabel('Density')\n",
    "plt.show()"
   ]
  },
  {
   "cell_type": "code",
   "execution_count": null,
   "metadata": {
    "collapsed": true
   },
   "outputs": [],
   "source": []
  },
  {
   "cell_type": "code",
   "execution_count": null,
   "metadata": {
    "collapsed": true
   },
   "outputs": [],
   "source": []
  }
 ],
 "metadata": {
  "kernelspec": {
   "display_name": "Python 3",
   "language": "python",
   "name": "python3"
  },
  "language_info": {
   "codemirror_mode": {
    "name": "ipython",
    "version": 3
   },
   "file_extension": ".py",
   "mimetype": "text/x-python",
   "name": "python",
   "nbconvert_exporter": "python",
   "pygments_lexer": "ipython3",
   "version": "3.6.8"
  },
  "latex_envs": {
   "LaTeX_envs_menu_present": true,
   "autoclose": false,
   "autocomplete": true,
   "bibliofile": "biblio.bib",
   "cite_by": "apalike",
   "current_citInitial": 1,
   "eqLabelWithNumbers": true,
   "eqNumInitial": 1,
   "hotkeys": {
    "equation": "Ctrl-E",
    "itemize": "Ctrl-I"
   },
   "labels_anchors": false,
   "latex_user_defs": false,
   "report_style_numbering": false,
   "user_envs_cfg": false
  }
 },
 "nbformat": 4,
 "nbformat_minor": 2
}
