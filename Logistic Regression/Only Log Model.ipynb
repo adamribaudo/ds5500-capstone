{
 "cells": [
  {
   "cell_type": "code",
   "execution_count": 29,
   "metadata": {
    "collapsed": true
   },
   "outputs": [],
   "source": [
    "import numpy as np \n",
    "import pandas as pd\n",
    "from sklearn.linear_model import LogisticRegression"
   ]
  },
  {
   "cell_type": "markdown",
   "metadata": {},
   "source": [
    "### Train data"
   ]
  },
  {
   "cell_type": "code",
   "execution_count": 2,
   "metadata": {
    "collapsed": true
   },
   "outputs": [],
   "source": [
    "x_log = pd.read_csv('../../kkbox-churn-prediction-challenge/50_under_sample/train_log_transformed.csv')"
   ]
  },
  {
   "cell_type": "code",
   "execution_count": 3,
   "metadata": {},
   "outputs": [
    {
     "data": {
      "text/html": [
       "<div>\n",
       "<style>\n",
       "    .dataframe thead tr:only-child th {\n",
       "        text-align: right;\n",
       "    }\n",
       "\n",
       "    .dataframe thead th {\n",
       "        text-align: left;\n",
       "    }\n",
       "\n",
       "    .dataframe tbody tr th {\n",
       "        vertical-align: top;\n",
       "    }\n",
       "</style>\n",
       "<table border=\"1\" class=\"dataframe\">\n",
       "  <thead>\n",
       "    <tr style=\"text-align: right;\">\n",
       "      <th></th>\n",
       "      <th>msno</th>\n",
       "      <th>date_count</th>\n",
       "      <th>date_first</th>\n",
       "      <th>num_25_sum</th>\n",
       "      <th>num_25_mean</th>\n",
       "      <th>num_25_std</th>\n",
       "      <th>num_50_sum</th>\n",
       "      <th>num_50_mean</th>\n",
       "      <th>num_50_std</th>\n",
       "      <th>num_75_sum</th>\n",
       "      <th>...</th>\n",
       "      <th>num_985_std</th>\n",
       "      <th>num_100_sum</th>\n",
       "      <th>num_100_mean</th>\n",
       "      <th>num_100_std</th>\n",
       "      <th>num_unq_sum</th>\n",
       "      <th>num_unq_mean</th>\n",
       "      <th>num_unq_std</th>\n",
       "      <th>total_secs_sum</th>\n",
       "      <th>total_secs_mean</th>\n",
       "      <th>total_secs_std</th>\n",
       "    </tr>\n",
       "  </thead>\n",
       "  <tbody>\n",
       "    <tr>\n",
       "      <th>0</th>\n",
       "      <td>++9JUsaZioofS6Fb20Z0z2QOlWNzakO0PRF5GZ75yi4=</td>\n",
       "      <td>462</td>\n",
       "      <td>2015-01-01T00:00:00</td>\n",
       "      <td>712</td>\n",
       "      <td>1.541126</td>\n",
       "      <td>2.550453</td>\n",
       "      <td>153</td>\n",
       "      <td>0.331169</td>\n",
       "      <td>0.725027</td>\n",
       "      <td>144</td>\n",
       "      <td>...</td>\n",
       "      <td>0.781416</td>\n",
       "      <td>7324</td>\n",
       "      <td>15.852814</td>\n",
       "      <td>17.80626</td>\n",
       "      <td>6118</td>\n",
       "      <td>13.242424</td>\n",
       "      <td>14.098572</td>\n",
       "      <td>1949101.002</td>\n",
       "      <td>4218.833338</td>\n",
       "      <td>4631.316598</td>\n",
       "    </tr>\n",
       "  </tbody>\n",
       "</table>\n",
       "<p>1 rows × 24 columns</p>\n",
       "</div>"
      ],
      "text/plain": [
       "                                           msno  date_count  \\\n",
       "0  ++9JUsaZioofS6Fb20Z0z2QOlWNzakO0PRF5GZ75yi4=         462   \n",
       "\n",
       "            date_first  num_25_sum  num_25_mean  num_25_std  num_50_sum  \\\n",
       "0  2015-01-01T00:00:00         712     1.541126    2.550453         153   \n",
       "\n",
       "   num_50_mean  num_50_std  num_75_sum       ...        num_985_std  \\\n",
       "0     0.331169    0.725027         144       ...           0.781416   \n",
       "\n",
       "   num_100_sum  num_100_mean  num_100_std  num_unq_sum  num_unq_mean  \\\n",
       "0         7324     15.852814     17.80626         6118     13.242424   \n",
       "\n",
       "   num_unq_std  total_secs_sum  total_secs_mean  total_secs_std  \n",
       "0    14.098572     1949101.002      4218.833338     4631.316598  \n",
       "\n",
       "[1 rows x 24 columns]"
      ]
     },
     "execution_count": 3,
     "metadata": {},
     "output_type": "execute_result"
    }
   ],
   "source": [
    "x_log.head(1)"
   ]
  },
  {
   "cell_type": "code",
   "execution_count": 4,
   "metadata": {
    "collapsed": true
   },
   "outputs": [],
   "source": [
    "member = pd.read_csv('../../kkbox-churn-prediction-challenge/50_under_sample/train_member_transformed.csv')"
   ]
  },
  {
   "cell_type": "code",
   "execution_count": 5,
   "metadata": {
    "collapsed": true
   },
   "outputs": [],
   "source": [
    "member = member.sort_values(by=['msno'])"
   ]
  },
  {
   "cell_type": "code",
   "execution_count": 6,
   "metadata": {},
   "outputs": [
    {
     "data": {
      "text/html": [
       "<div>\n",
       "<style>\n",
       "    .dataframe thead tr:only-child th {\n",
       "        text-align: right;\n",
       "    }\n",
       "\n",
       "    .dataframe thead th {\n",
       "        text-align: left;\n",
       "    }\n",
       "\n",
       "    .dataframe tbody tr th {\n",
       "        vertical-align: top;\n",
       "    }\n",
       "</style>\n",
       "<table border=\"1\" class=\"dataframe\">\n",
       "  <thead>\n",
       "    <tr style=\"text-align: right;\">\n",
       "      <th></th>\n",
       "      <th>msno</th>\n",
       "      <th>is_churn</th>\n",
       "      <th>city</th>\n",
       "      <th>bd</th>\n",
       "      <th>gender</th>\n",
       "      <th>registered_via</th>\n",
       "      <th>registration_init_time</th>\n",
       "      <th>register_days</th>\n",
       "    </tr>\n",
       "  </thead>\n",
       "  <tbody>\n",
       "    <tr>\n",
       "      <th>35439</th>\n",
       "      <td>++9JUsaZioofS6Fb20Z0z2QOlWNzakO0PRF5GZ75yi4=</td>\n",
       "      <td>0</td>\n",
       "      <td>13</td>\n",
       "      <td>22</td>\n",
       "      <td>male</td>\n",
       "      <td>9</td>\n",
       "      <td>2014-12-10</td>\n",
       "      <td>783</td>\n",
       "    </tr>\n",
       "  </tbody>\n",
       "</table>\n",
       "</div>"
      ],
      "text/plain": [
       "                                               msno  is_churn  city  bd  \\\n",
       "35439  ++9JUsaZioofS6Fb20Z0z2QOlWNzakO0PRF5GZ75yi4=         0    13  22   \n",
       "\n",
       "      gender  registered_via registration_init_time  register_days  \n",
       "35439   male               9             2014-12-10            783  "
      ]
     },
     "execution_count": 6,
     "metadata": {},
     "output_type": "execute_result"
    }
   ],
   "source": [
    "member.head(1)"
   ]
  },
  {
   "cell_type": "code",
   "execution_count": 7,
   "metadata": {
    "collapsed": true
   },
   "outputs": [],
   "source": [
    "df_merged = pd.merge(x_log,member,on=['msno'],how='inner')"
   ]
  },
  {
   "cell_type": "code",
   "execution_count": 8,
   "metadata": {},
   "outputs": [
    {
     "data": {
      "text/plain": [
       "(53483, 31)"
      ]
     },
     "execution_count": 8,
     "metadata": {},
     "output_type": "execute_result"
    }
   ],
   "source": [
    "df_merged.shape"
   ]
  },
  {
   "cell_type": "code",
   "execution_count": 9,
   "metadata": {
    "collapsed": true
   },
   "outputs": [],
   "source": [
    "df_merged = df_merged.drop(['date_first'], axis=1)"
   ]
  },
  {
   "cell_type": "code",
   "execution_count": 10,
   "metadata": {},
   "outputs": [
    {
     "data": {
      "text/html": [
       "<div>\n",
       "<style>\n",
       "    .dataframe thead tr:only-child th {\n",
       "        text-align: right;\n",
       "    }\n",
       "\n",
       "    .dataframe thead th {\n",
       "        text-align: left;\n",
       "    }\n",
       "\n",
       "    .dataframe tbody tr th {\n",
       "        vertical-align: top;\n",
       "    }\n",
       "</style>\n",
       "<table border=\"1\" class=\"dataframe\">\n",
       "  <thead>\n",
       "    <tr style=\"text-align: right;\">\n",
       "      <th></th>\n",
       "      <th>msno</th>\n",
       "      <th>date_count</th>\n",
       "      <th>num_25_sum</th>\n",
       "      <th>num_25_mean</th>\n",
       "      <th>num_25_std</th>\n",
       "      <th>num_50_sum</th>\n",
       "      <th>num_50_mean</th>\n",
       "      <th>num_50_std</th>\n",
       "      <th>num_75_sum</th>\n",
       "      <th>num_75_mean</th>\n",
       "      <th>...</th>\n",
       "      <th>total_secs_sum</th>\n",
       "      <th>total_secs_mean</th>\n",
       "      <th>total_secs_std</th>\n",
       "      <th>is_churn</th>\n",
       "      <th>city</th>\n",
       "      <th>bd</th>\n",
       "      <th>gender</th>\n",
       "      <th>registered_via</th>\n",
       "      <th>registration_init_time</th>\n",
       "      <th>register_days</th>\n",
       "    </tr>\n",
       "  </thead>\n",
       "  <tbody>\n",
       "    <tr>\n",
       "      <th>0</th>\n",
       "      <td>++9JUsaZioofS6Fb20Z0z2QOlWNzakO0PRF5GZ75yi4=</td>\n",
       "      <td>462</td>\n",
       "      <td>712</td>\n",
       "      <td>1.541126</td>\n",
       "      <td>2.550453</td>\n",
       "      <td>153</td>\n",
       "      <td>0.331169</td>\n",
       "      <td>0.725027</td>\n",
       "      <td>144</td>\n",
       "      <td>0.311688</td>\n",
       "      <td>...</td>\n",
       "      <td>1949101.002</td>\n",
       "      <td>4218.833338</td>\n",
       "      <td>4631.316598</td>\n",
       "      <td>0</td>\n",
       "      <td>13</td>\n",
       "      <td>22</td>\n",
       "      <td>male</td>\n",
       "      <td>9</td>\n",
       "      <td>2014-12-10</td>\n",
       "      <td>783</td>\n",
       "    </tr>\n",
       "  </tbody>\n",
       "</table>\n",
       "<p>1 rows × 30 columns</p>\n",
       "</div>"
      ],
      "text/plain": [
       "                                           msno  date_count  num_25_sum  \\\n",
       "0  ++9JUsaZioofS6Fb20Z0z2QOlWNzakO0PRF5GZ75yi4=         462         712   \n",
       "\n",
       "   num_25_mean  num_25_std  num_50_sum  num_50_mean  num_50_std  num_75_sum  \\\n",
       "0     1.541126    2.550453         153     0.331169    0.725027         144   \n",
       "\n",
       "   num_75_mean      ...        total_secs_sum  total_secs_mean  \\\n",
       "0     0.311688      ...           1949101.002      4218.833338   \n",
       "\n",
       "   total_secs_std  is_churn  city  bd  gender  registered_via  \\\n",
       "0     4631.316598         0    13  22    male               9   \n",
       "\n",
       "   registration_init_time  register_days  \n",
       "0              2014-12-10            783  \n",
       "\n",
       "[1 rows x 30 columns]"
      ]
     },
     "execution_count": 10,
     "metadata": {},
     "output_type": "execute_result"
    }
   ],
   "source": [
    "df_merged.head(1)"
   ]
  },
  {
   "cell_type": "code",
   "execution_count": 11,
   "metadata": {
    "collapsed": true
   },
   "outputs": [],
   "source": [
    "X_train = df_merged.iloc[:, 1:23]"
   ]
  },
  {
   "cell_type": "code",
   "execution_count": 12,
   "metadata": {},
   "outputs": [
    {
     "data": {
      "text/plain": [
       "(53483, 22)"
      ]
     },
     "execution_count": 12,
     "metadata": {},
     "output_type": "execute_result"
    }
   ],
   "source": [
    "X_train.shape"
   ]
  },
  {
   "cell_type": "code",
   "execution_count": 13,
   "metadata": {},
   "outputs": [
    {
     "data": {
      "text/plain": [
       "Index(['date_count', 'num_25_sum', 'num_25_mean', 'num_25_std', 'num_50_sum',\n",
       "       'num_50_mean', 'num_50_std', 'num_75_sum', 'num_75_mean', 'num_75_std',\n",
       "       'num_985_sum', 'num_985_mean', 'num_985_std', 'num_100_sum',\n",
       "       'num_100_mean', 'num_100_std', 'num_unq_sum', 'num_unq_mean',\n",
       "       'num_unq_std', 'total_secs_sum', 'total_secs_mean', 'total_secs_std'],\n",
       "      dtype='object')"
      ]
     },
     "execution_count": 13,
     "metadata": {},
     "output_type": "execute_result"
    }
   ],
   "source": [
    "X_train.columns"
   ]
  },
  {
   "cell_type": "code",
   "execution_count": 14,
   "metadata": {
    "collapsed": true
   },
   "outputs": [],
   "source": [
    "num_attribs = ['date_count', 'num_25_sum', 'num_25_mean', 'num_25_std', 'num_50_sum',\n",
    "       'num_50_mean', 'num_50_std', 'num_75_sum', 'num_75_mean', 'num_75_std',\n",
    "       'num_985_sum', 'num_985_mean', 'num_985_std', 'num_100_sum',\n",
    "       'num_100_mean', 'num_100_std', 'num_unq_sum', 'num_unq_mean',\n",
    "       'num_unq_std', 'total_secs_sum', 'total_secs_mean', 'total_secs_std']"
   ]
  },
  {
   "cell_type": "code",
   "execution_count": 15,
   "metadata": {
    "collapsed": true
   },
   "outputs": [],
   "source": [
    "y_train = df_merged.iloc[:,23]"
   ]
  },
  {
   "cell_type": "code",
   "execution_count": 17,
   "metadata": {
    "collapsed": true
   },
   "outputs": [],
   "source": [
    "from sklearn.preprocessing import OneHotEncoder, StandardScaler\n",
    "from sklearn.pipeline import FeatureUnion, Pipeline\n",
    "from sklearn.base import BaseEstimator, TransformerMixin\n",
    "class DataFrameSelector(BaseEstimator, TransformerMixin):\n",
    "    def __init__(self, attribute_names):\n",
    "        self.attribute_names = attribute_names\n",
    "    def fit(self, X,y=None):\n",
    "        return self\n",
    "    def transform(self,X):\n",
    "        return X[self.attribute_names].values"
   ]
  },
  {
   "cell_type": "code",
   "execution_count": 18,
   "metadata": {
    "collapsed": true
   },
   "outputs": [],
   "source": [
    "num_pipeline = Pipeline([\n",
    "    ('selector',DataFrameSelector(num_attribs)),\n",
    "    ('std_scaler',StandardScaler())\n",
    "])"
   ]
  },
  {
   "cell_type": "code",
   "execution_count": 19,
   "metadata": {
    "collapsed": true
   },
   "outputs": [],
   "source": [
    "full_pipeline = FeatureUnion(transformer_list=[\n",
    "    #(\"cat_pipeline\",cat_pipeline),\n",
    "    (\"num_pipeline\",num_pipeline)\n",
    "])"
   ]
  },
  {
   "cell_type": "code",
   "execution_count": 33,
   "metadata": {
    "collapsed": true
   },
   "outputs": [],
   "source": [
    "X_train_prepared = full_pipeline.fit_transform(X_train)"
   ]
  },
  {
   "cell_type": "markdown",
   "metadata": {},
   "source": [
    "### Validation data"
   ]
  },
  {
   "cell_type": "code",
   "execution_count": 21,
   "metadata": {
    "collapsed": true
   },
   "outputs": [],
   "source": [
    "## Get validation data\n",
    "x_log_val = pd.read_csv('../../kkbox-churn-prediction-challenge/50_under_sample/val_user_logs_transformed.csv')"
   ]
  },
  {
   "cell_type": "code",
   "execution_count": 22,
   "metadata": {},
   "outputs": [
    {
     "data": {
      "text/html": [
       "<div>\n",
       "<style>\n",
       "    .dataframe thead tr:only-child th {\n",
       "        text-align: right;\n",
       "    }\n",
       "\n",
       "    .dataframe thead th {\n",
       "        text-align: left;\n",
       "    }\n",
       "\n",
       "    .dataframe tbody tr th {\n",
       "        vertical-align: top;\n",
       "    }\n",
       "</style>\n",
       "<table border=\"1\" class=\"dataframe\">\n",
       "  <thead>\n",
       "    <tr style=\"text-align: right;\">\n",
       "      <th></th>\n",
       "      <th>msno</th>\n",
       "      <th>date_count</th>\n",
       "      <th>date_first</th>\n",
       "      <th>num_25_sum</th>\n",
       "      <th>num_25_mean</th>\n",
       "      <th>num_25_std</th>\n",
       "      <th>num_50_sum</th>\n",
       "      <th>num_50_mean</th>\n",
       "      <th>num_50_std</th>\n",
       "      <th>num_75_sum</th>\n",
       "      <th>...</th>\n",
       "      <th>num_985_std</th>\n",
       "      <th>num_100_sum</th>\n",
       "      <th>num_100_mean</th>\n",
       "      <th>num_100_std</th>\n",
       "      <th>num_unq_sum</th>\n",
       "      <th>num_unq_mean</th>\n",
       "      <th>num_unq_std</th>\n",
       "      <th>total_secs_sum</th>\n",
       "      <th>total_secs_mean</th>\n",
       "      <th>total_secs_std</th>\n",
       "    </tr>\n",
       "  </thead>\n",
       "  <tbody>\n",
       "    <tr>\n",
       "      <th>0</th>\n",
       "      <td>++/UDNo9DLrxT8QVGiDi1OnWfczAdEwThaVyD0fXO50=</td>\n",
       "      <td>466</td>\n",
       "      <td>2015-01-06T00:00:00</td>\n",
       "      <td>1157</td>\n",
       "      <td>2.482833</td>\n",
       "      <td>3.640974</td>\n",
       "      <td>558</td>\n",
       "      <td>1.197425</td>\n",
       "      <td>2.478222</td>\n",
       "      <td>309</td>\n",
       "      <td>...</td>\n",
       "      <td>2.163547</td>\n",
       "      <td>4933</td>\n",
       "      <td>10.585837</td>\n",
       "      <td>14.414678</td>\n",
       "      <td>6858</td>\n",
       "      <td>14.716738</td>\n",
       "      <td>16.146014</td>\n",
       "      <td>1435438.386</td>\n",
       "      <td>3080.339884</td>\n",
       "      <td>4020.515098</td>\n",
       "    </tr>\n",
       "  </tbody>\n",
       "</table>\n",
       "<p>1 rows × 24 columns</p>\n",
       "</div>"
      ],
      "text/plain": [
       "                                           msno  date_count  \\\n",
       "0  ++/UDNo9DLrxT8QVGiDi1OnWfczAdEwThaVyD0fXO50=         466   \n",
       "\n",
       "            date_first  num_25_sum  num_25_mean  num_25_std  num_50_sum  \\\n",
       "0  2015-01-06T00:00:00        1157     2.482833    3.640974         558   \n",
       "\n",
       "   num_50_mean  num_50_std  num_75_sum       ...        num_985_std  \\\n",
       "0     1.197425    2.478222         309       ...           2.163547   \n",
       "\n",
       "   num_100_sum  num_100_mean  num_100_std  num_unq_sum  num_unq_mean  \\\n",
       "0         4933     10.585837    14.414678         6858     14.716738   \n",
       "\n",
       "   num_unq_std  total_secs_sum  total_secs_mean  total_secs_std  \n",
       "0    16.146014     1435438.386      3080.339884     4020.515098  \n",
       "\n",
       "[1 rows x 24 columns]"
      ]
     },
     "execution_count": 22,
     "metadata": {},
     "output_type": "execute_result"
    }
   ],
   "source": [
    "x_log_val.head(1)"
   ]
  },
  {
   "cell_type": "code",
   "execution_count": 23,
   "metadata": {
    "collapsed": true
   },
   "outputs": [],
   "source": [
    "y_val = pd.read_csv('../../kkbox-churn-prediction-challenge/50_under_sample/val_members.csv')"
   ]
  },
  {
   "cell_type": "code",
   "execution_count": 25,
   "metadata": {},
   "outputs": [],
   "source": [
    "val = pd.merge(x_log_val,y_val,on=['msno'],how='inner').drop(['date_first'], axis=1)"
   ]
  },
  {
   "cell_type": "code",
   "execution_count": 35,
   "metadata": {
    "collapsed": true
   },
   "outputs": [],
   "source": [
    "X_val = val.iloc[:, 1:23]\n",
    "y_val = val.iloc[:,23]\n",
    "X_val_prepared = full_pipeline.fit_transform(X_val)"
   ]
  },
  {
   "cell_type": "markdown",
   "metadata": {},
   "source": [
    "### Tune Hyper"
   ]
  },
  {
   "cell_type": "code",
   "execution_count": 37,
   "metadata": {
    "collapsed": true
   },
   "outputs": [],
   "source": [
    "from sklearn.metrics import precision_recall_fscore_support, f1_score\n",
    "def tune_parameters(solver,C_param_list,penalty):\n",
    "    table = pd.DataFrame(columns = ['C_parameter','f1'])\n",
    "    table['C_parameter'] = C_param_list\n",
    "    \n",
    "    j = 0\n",
    "    for i in C_param_list:\n",
    "        lr = LogisticRegression(C = i,max_iter=1500,penalty=penalty,tol=7e-4,random_state=24,solver=solver)\n",
    "        lr.fit(X_train_prepared,y_train)\n",
    "        y_val_pred = lr.predict(X_val_prepared)\n",
    "        table.iloc[j,1] = f1_score(y_val,y_val_pred)\n",
    "        j+=1\n",
    "    \n",
    "    return table"
   ]
  },
  {
   "cell_type": "code",
   "execution_count": 38,
   "metadata": {},
   "outputs": [],
   "source": [
    "# solver = \"lbfgs\", penalty = \"l2\"\n",
    "lbfgs_l2 = tune_parameters(\"lbfgs\",[0.1,1,10,100,1000],\"l2\")"
   ]
  },
  {
   "cell_type": "code",
   "execution_count": 39,
   "metadata": {},
   "outputs": [
    {
     "data": {
      "text/html": [
       "<div>\n",
       "<style>\n",
       "    .dataframe thead tr:only-child th {\n",
       "        text-align: right;\n",
       "    }\n",
       "\n",
       "    .dataframe thead th {\n",
       "        text-align: left;\n",
       "    }\n",
       "\n",
       "    .dataframe tbody tr th {\n",
       "        vertical-align: top;\n",
       "    }\n",
       "</style>\n",
       "<table border=\"1\" class=\"dataframe\">\n",
       "  <thead>\n",
       "    <tr style=\"text-align: right;\">\n",
       "      <th></th>\n",
       "      <th>C_parameter</th>\n",
       "      <th>f1</th>\n",
       "    </tr>\n",
       "  </thead>\n",
       "  <tbody>\n",
       "    <tr>\n",
       "      <th>0</th>\n",
       "      <td>0.1</td>\n",
       "      <td>0.118573</td>\n",
       "    </tr>\n",
       "    <tr>\n",
       "      <th>1</th>\n",
       "      <td>1.0</td>\n",
       "      <td>0.119169</td>\n",
       "    </tr>\n",
       "    <tr>\n",
       "      <th>2</th>\n",
       "      <td>10.0</td>\n",
       "      <td>0.119169</td>\n",
       "    </tr>\n",
       "    <tr>\n",
       "      <th>3</th>\n",
       "      <td>100.0</td>\n",
       "      <td>0.119169</td>\n",
       "    </tr>\n",
       "    <tr>\n",
       "      <th>4</th>\n",
       "      <td>1000.0</td>\n",
       "      <td>0.119169</td>\n",
       "    </tr>\n",
       "  </tbody>\n",
       "</table>\n",
       "</div>"
      ],
      "text/plain": [
       "   C_parameter        f1\n",
       "0          0.1  0.118573\n",
       "1          1.0  0.119169\n",
       "2         10.0  0.119169\n",
       "3        100.0  0.119169\n",
       "4       1000.0  0.119169"
      ]
     },
     "execution_count": 39,
     "metadata": {},
     "output_type": "execute_result"
    }
   ],
   "source": [
    "lbfgs_l2 # 1 is best"
   ]
  },
  {
   "cell_type": "code",
   "execution_count": 42,
   "metadata": {
    "collapsed": true
   },
   "outputs": [],
   "source": [
    "# solver = \"saga\", penalty = \"l2\"\n",
    "saga_l2 = tune_parameters(\"saga\",[0.01,0.1,1,10],\"l2\")"
   ]
  },
  {
   "cell_type": "code",
   "execution_count": 43,
   "metadata": {},
   "outputs": [
    {
     "data": {
      "text/html": [
       "<div>\n",
       "<style>\n",
       "    .dataframe thead tr:only-child th {\n",
       "        text-align: right;\n",
       "    }\n",
       "\n",
       "    .dataframe thead th {\n",
       "        text-align: left;\n",
       "    }\n",
       "\n",
       "    .dataframe tbody tr th {\n",
       "        vertical-align: top;\n",
       "    }\n",
       "</style>\n",
       "<table border=\"1\" class=\"dataframe\">\n",
       "  <thead>\n",
       "    <tr style=\"text-align: right;\">\n",
       "      <th></th>\n",
       "      <th>C_parameter</th>\n",
       "      <th>f1</th>\n",
       "    </tr>\n",
       "  </thead>\n",
       "  <tbody>\n",
       "    <tr>\n",
       "      <th>0</th>\n",
       "      <td>0.01</td>\n",
       "      <td>0.114151</td>\n",
       "    </tr>\n",
       "    <tr>\n",
       "      <th>1</th>\n",
       "      <td>0.10</td>\n",
       "      <td>0.118409</td>\n",
       "    </tr>\n",
       "    <tr>\n",
       "      <th>2</th>\n",
       "      <td>1.00</td>\n",
       "      <td>0.118354</td>\n",
       "    </tr>\n",
       "    <tr>\n",
       "      <th>3</th>\n",
       "      <td>10.00</td>\n",
       "      <td>0.118299</td>\n",
       "    </tr>\n",
       "  </tbody>\n",
       "</table>\n",
       "</div>"
      ],
      "text/plain": [
       "   C_parameter        f1\n",
       "0         0.01  0.114151\n",
       "1         0.10  0.118409\n",
       "2         1.00  0.118354\n",
       "3        10.00  0.118299"
      ]
     },
     "execution_count": 43,
     "metadata": {},
     "output_type": "execute_result"
    }
   ],
   "source": [
    "saga_l2  # 1 is best"
   ]
  },
  {
   "cell_type": "code",
   "execution_count": 44,
   "metadata": {
    "collapsed": true
   },
   "outputs": [],
   "source": [
    "# solver = \"saga\", penalty = \"l1\"\n",
    "saga_l1 = tune_parameters(\"saga\",[0.1,1,10,100],\"l1\")"
   ]
  },
  {
   "cell_type": "code",
   "execution_count": 45,
   "metadata": {},
   "outputs": [
    {
     "data": {
      "text/html": [
       "<div>\n",
       "<style>\n",
       "    .dataframe thead tr:only-child th {\n",
       "        text-align: right;\n",
       "    }\n",
       "\n",
       "    .dataframe thead th {\n",
       "        text-align: left;\n",
       "    }\n",
       "\n",
       "    .dataframe tbody tr th {\n",
       "        vertical-align: top;\n",
       "    }\n",
       "</style>\n",
       "<table border=\"1\" class=\"dataframe\">\n",
       "  <thead>\n",
       "    <tr style=\"text-align: right;\">\n",
       "      <th></th>\n",
       "      <th>C_parameter</th>\n",
       "      <th>f1</th>\n",
       "    </tr>\n",
       "  </thead>\n",
       "  <tbody>\n",
       "    <tr>\n",
       "      <th>0</th>\n",
       "      <td>0.1</td>\n",
       "      <td>0.118143</td>\n",
       "    </tr>\n",
       "    <tr>\n",
       "      <th>1</th>\n",
       "      <td>1.0</td>\n",
       "      <td>0.118409</td>\n",
       "    </tr>\n",
       "    <tr>\n",
       "      <th>2</th>\n",
       "      <td>10.0</td>\n",
       "      <td>0.118299</td>\n",
       "    </tr>\n",
       "    <tr>\n",
       "      <th>3</th>\n",
       "      <td>100.0</td>\n",
       "      <td>0.118299</td>\n",
       "    </tr>\n",
       "  </tbody>\n",
       "</table>\n",
       "</div>"
      ],
      "text/plain": [
       "   C_parameter        f1\n",
       "0          0.1  0.118143\n",
       "1          1.0  0.118409\n",
       "2         10.0  0.118299\n",
       "3        100.0  0.118299"
      ]
     },
     "execution_count": 45,
     "metadata": {},
     "output_type": "execute_result"
    }
   ],
   "source": [
    "saga_l1 # 1 is best"
   ]
  },
  {
   "cell_type": "markdown",
   "metadata": {},
   "source": [
    "### Model and Test"
   ]
  },
  {
   "cell_type": "code",
   "execution_count": 46,
   "metadata": {},
   "outputs": [
    {
     "data": {
      "text/plain": [
       "LogisticRegression(C=1, class_weight=None, dual=False, fit_intercept=True,\n",
       "                   intercept_scaling=1, l1_ratio=None, max_iter=1500,\n",
       "                   multi_class='auto', n_jobs=None, penalty='l2',\n",
       "                   random_state=24, solver='lbfgs', tol=0.0007, verbose=0,\n",
       "                   warm_start=False)"
      ]
     },
     "execution_count": 46,
     "metadata": {},
     "output_type": "execute_result"
    }
   ],
   "source": [
    "log = LogisticRegression(C = 1,max_iter=1500,penalty='l2',tol=7e-4,random_state=24,solver='lbfgs')\n",
    "log.fit(X_train_prepared,y_train)"
   ]
  },
  {
   "cell_type": "code",
   "execution_count": 47,
   "metadata": {
    "collapsed": true
   },
   "outputs": [],
   "source": [
    "## Get validation data\n",
    "x_log_test = pd.read_csv('../../kkbox-churn-prediction-challenge/50_under_sample/test_user_logs_transformed.csv')"
   ]
  },
  {
   "cell_type": "code",
   "execution_count": 48,
   "metadata": {
    "collapsed": true
   },
   "outputs": [],
   "source": [
    "y_test = pd.read_csv('../../kkbox-churn-prediction-challenge/50_under_sample/test_members.csv')"
   ]
  },
  {
   "cell_type": "code",
   "execution_count": 49,
   "metadata": {
    "collapsed": true
   },
   "outputs": [],
   "source": [
    "test = pd.merge(x_log_test,y_test,on=['msno'],how='inner').drop(['date_first'], axis=1)"
   ]
  },
  {
   "cell_type": "code",
   "execution_count": 51,
   "metadata": {},
   "outputs": [],
   "source": [
    "X_test = test.iloc[:, 1:23]\n",
    "y_test = test.iloc[:,23]\n",
    "X_test_prepared = full_pipeline.fit_transform(X_test)"
   ]
  },
  {
   "cell_type": "code",
   "execution_count": 54,
   "metadata": {},
   "outputs": [
    {
     "data": {
      "text/plain": [
       "(0.10034364261168385, 0.18295739348370926, 0.1296049711495783, None)"
      ]
     },
     "execution_count": 54,
     "metadata": {},
     "output_type": "execute_result"
    }
   ],
   "source": [
    "y_test_pred=log.predict(X_test_prepared)\n",
    "precision_recall_fscore_support(y_test,y_test_pred,average='binary')"
   ]
  },
  {
   "cell_type": "code",
   "execution_count": 56,
   "metadata": {},
   "outputs": [
    {
     "data": {
      "text/plain": [
       "(1, 22)"
      ]
     },
     "execution_count": 56,
     "metadata": {},
     "output_type": "execute_result"
    }
   ],
   "source": [
    "log.coef_.shape"
   ]
  },
  {
   "cell_type": "code",
   "execution_count": null,
   "metadata": {
    "collapsed": true
   },
   "outputs": [],
   "source": []
  }
 ],
 "metadata": {
  "kernelspec": {
   "display_name": "Python 3",
   "language": "python",
   "name": "python3"
  },
  "language_info": {
   "codemirror_mode": {
    "name": "ipython",
    "version": 3
   },
   "file_extension": ".py",
   "mimetype": "text/x-python",
   "name": "python",
   "nbconvert_exporter": "python",
   "pygments_lexer": "ipython3",
   "version": "3.6.8"
  },
  "latex_envs": {
   "LaTeX_envs_menu_present": true,
   "autoclose": false,
   "autocomplete": true,
   "bibliofile": "biblio.bib",
   "cite_by": "apalike",
   "current_citInitial": 1,
   "eqLabelWithNumbers": true,
   "eqNumInitial": 1,
   "hotkeys": {
    "equation": "Ctrl-E",
    "itemize": "Ctrl-I"
   },
   "labels_anchors": false,
   "latex_user_defs": false,
   "report_style_numbering": false,
   "user_envs_cfg": false
  }
 },
 "nbformat": 4,
 "nbformat_minor": 2
}
