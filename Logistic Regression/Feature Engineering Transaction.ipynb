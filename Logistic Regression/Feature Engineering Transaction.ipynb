{
 "cells": [
  {
   "cell_type": "markdown",
   "metadata": {},
   "source": [
    "## Preprocess"
   ]
  },
  {
   "cell_type": "code",
   "execution_count": 1,
   "metadata": {
    "collapsed": true
   },
   "outputs": [],
   "source": [
    "import numpy as np \n",
    "import pandas as pd"
   ]
  },
  {
   "cell_type": "code",
   "execution_count": 2,
   "metadata": {
    "collapsed": true
   },
   "outputs": [],
   "source": [
    "x_transaction = pd.read_csv('../../kkbox-churn-prediction-challenge/under_sample/X_train_transactions.csv')"
   ]
  },
  {
   "cell_type": "code",
   "execution_count": 3,
   "metadata": {},
   "outputs": [
    {
     "data": {
      "text/html": [
       "<div>\n",
       "<style>\n",
       "    .dataframe thead tr:only-child th {\n",
       "        text-align: right;\n",
       "    }\n",
       "\n",
       "    .dataframe thead th {\n",
       "        text-align: left;\n",
       "    }\n",
       "\n",
       "    .dataframe tbody tr th {\n",
       "        vertical-align: top;\n",
       "    }\n",
       "</style>\n",
       "<table border=\"1\" class=\"dataframe\">\n",
       "  <thead>\n",
       "    <tr style=\"text-align: right;\">\n",
       "      <th></th>\n",
       "      <th>Unnamed: 0</th>\n",
       "      <th>msno</th>\n",
       "      <th>payment_method_id</th>\n",
       "      <th>payment_plan_days</th>\n",
       "      <th>plan_list_price</th>\n",
       "      <th>actual_amount_paid</th>\n",
       "      <th>is_auto_renew</th>\n",
       "      <th>transaction_date</th>\n",
       "      <th>membership_expire_date</th>\n",
       "      <th>is_cancel</th>\n",
       "    </tr>\n",
       "  </thead>\n",
       "  <tbody>\n",
       "    <tr>\n",
       "      <th>0</th>\n",
       "      <td>27</td>\n",
       "      <td>LdLM57UzJ9+j/hwiTzzqd2Zi4AbSpFw93q2S77dZ8q0=</td>\n",
       "      <td>37</td>\n",
       "      <td>30</td>\n",
       "      <td>149</td>\n",
       "      <td>149</td>\n",
       "      <td>1</td>\n",
       "      <td>20150902</td>\n",
       "      <td>20151002</td>\n",
       "      <td>0</td>\n",
       "    </tr>\n",
       "  </tbody>\n",
       "</table>\n",
       "</div>"
      ],
      "text/plain": [
       "   Unnamed: 0                                          msno  \\\n",
       "0          27  LdLM57UzJ9+j/hwiTzzqd2Zi4AbSpFw93q2S77dZ8q0=   \n",
       "\n",
       "   payment_method_id  payment_plan_days  plan_list_price  actual_amount_paid  \\\n",
       "0                 37                 30              149                 149   \n",
       "\n",
       "   is_auto_renew  transaction_date  membership_expire_date  is_cancel  \n",
       "0              1          20150902                20151002          0  "
      ]
     },
     "execution_count": 3,
     "metadata": {},
     "output_type": "execute_result"
    }
   ],
   "source": [
    "x_transaction.head(1)"
   ]
  },
  {
   "cell_type": "code",
   "execution_count": 4,
   "metadata": {
    "collapsed": true
   },
   "outputs": [],
   "source": [
    "x_transaction=x_transaction.drop(['Unnamed: 0'], axis=1)"
   ]
  },
  {
   "cell_type": "code",
   "execution_count": 5,
   "metadata": {},
   "outputs": [
    {
     "data": {
      "text/plain": [
       "(441385, 9)"
      ]
     },
     "execution_count": 5,
     "metadata": {},
     "output_type": "execute_result"
    }
   ],
   "source": [
    "x_transaction.shape"
   ]
  },
  {
   "cell_type": "code",
   "execution_count": 6,
   "metadata": {},
   "outputs": [
    {
     "data": {
      "text/plain": [
       "array([ 30,  31,   0, 195,   7, 410, 395, 120, 180, 100,  60,   1,  90,\n",
       "       400,  10, 450,  14, 240,  70, 360, 200,  35,  99,  80,  66, 365,\n",
       "       230,  21, 270,   3,   2, 110,  15])"
      ]
     },
     "execution_count": 6,
     "metadata": {},
     "output_type": "execute_result"
    }
   ],
   "source": [
    "x_transaction['payment_plan_days'].unique()"
   ]
  },
  {
   "cell_type": "markdown",
   "metadata": {},
   "source": [
    "### Variables generated from plan_list_price & actual_amount_paid\n",
    "1. discount_amount = plan_list_price - actual_amount_paid\n",
    "There is negative discount_amount, therefore, check each of the situation, get the following:\n",
    "\n",
    "7 days: 35\n",
    "\n",
    "30 days: 149/129/119/150/100/134/131\n",
    "\n",
    "60 days: 300\n",
    "\n",
    "80 days: 400\n",
    "\n",
    "90 days: 480/447/450\n",
    "\n",
    "180 days = 894/930/799/536\n",
    "\n",
    "365 days = 1788\n",
    "\n",
    "2. Current method:\n",
    "\n",
    "a) If plan_list_price = 0, plan_list_price=actual_amount_paid and assgin payment_plan_days by checking actual_amount_paid\n",
    "\n",
    "b) If actual_amount_paid=0, get a new column called free\n",
    "\n",
    "c) Discount = plan_list_price - actual_amount_paid\n",
    "\n",
    "3. Problem of this method\n",
    "\n",
    "The negative list may be more with the amount of data incereasing. But seems inappropriate to delete them because it usually stands abnormal situations."
   ]
  },
  {
   "cell_type": "code",
   "execution_count": 7,
   "metadata": {
    "collapsed": true
   },
   "outputs": [],
   "source": [
    "# get the discount_amount\n",
    "x_transaction['discount_amount'] = x_transaction['plan_list_price'] - x_transaction['actual_amount_paid']"
   ]
  },
  {
   "cell_type": "code",
   "execution_count": 8,
   "metadata": {},
   "outputs": [
    {
     "data": {
      "text/plain": [
       "array([    0,  -149,    30,  -129,   149,  -119,  -300,   180,  -150,\n",
       "        -100,  -894,    20, -1788,   -35,  -134,    50,  -480,  -131,\n",
       "        -930,  -400,  -447,   120,  -450,  -799,  -536])"
      ]
     },
     "execution_count": 8,
     "metadata": {},
     "output_type": "execute_result"
    }
   ],
   "source": [
    "x_transaction['discount_amount'].unique()"
   ]
  },
  {
   "cell_type": "code",
   "execution_count": 9,
   "metadata": {},
   "outputs": [
    {
     "data": {
      "text/plain": [
       "18016"
      ]
     },
     "execution_count": 9,
     "metadata": {},
     "output_type": "execute_result"
    }
   ],
   "source": [
    "# the negative ones\n",
    "len(x_transaction[x_transaction['discount_amount']<0])"
   ]
  },
  {
   "cell_type": "code",
   "execution_count": 10,
   "metadata": {
    "collapsed": true
   },
   "outputs": [],
   "source": [
    "# change \"plan_list_price\"\n",
    "x_transaction['plan_list_price'] = np.where(x_transaction['discount_amount']<0, x_transaction['actual_amount_paid'],x_transaction['plan_list_price'])"
   ]
  },
  {
   "cell_type": "code",
   "execution_count": 11,
   "metadata": {
    "collapsed": true
   },
   "outputs": [],
   "source": [
    "# change \"payment_plan_days\"\n",
    "conditions = [\n",
    "    (x_transaction['discount_amount'] ==-35),\n",
    "    (x_transaction['discount_amount'].isin([-149,-129,-119,-150,-100,-134,-131])),\n",
    "    (x_transaction['discount_amount'] ==-300),\n",
    "    (x_transaction['discount_amount'] ==-400),\n",
    "    (x_transaction['discount_amount'].isin([-480,-447,-450])),\n",
    "    (x_transaction['discount_amount'].isin([-894,-930,-799,-536])),\n",
    "    (x_transaction['discount_amount'] ==-1788)]\n",
    "choices = [7, 30, 60,80,90,180,365]\n",
    "x_transaction['payment_plan_days'] = np.select(conditions,choices,x_transaction['payment_plan_days'])"
   ]
  },
  {
   "cell_type": "code",
   "execution_count": 12,
   "metadata": {},
   "outputs": [
    {
     "data": {
      "text/plain": [
       "array([ True])"
      ]
     },
     "execution_count": 12,
     "metadata": {},
     "output_type": "execute_result"
    }
   ],
   "source": [
    "(x_transaction[x_transaction['discount_amount']<0].payment_plan_days>0).unique()"
   ]
  },
  {
   "cell_type": "code",
   "execution_count": 13,
   "metadata": {
    "collapsed": true
   },
   "outputs": [],
   "source": [
    "# change the negative discount to be 0\n",
    "x_transaction['discount_amount'] = np.where(x_transaction['discount_amount']<0, 0, x_transaction['discount_amount'])"
   ]
  },
  {
   "cell_type": "code",
   "execution_count": 14,
   "metadata": {
    "collapsed": true
   },
   "outputs": [],
   "source": [
    "# get a new column called free\n",
    "x_transaction['free']=0\n",
    "x_transaction['free'] = np.where(x_transaction['actual_amount_paid']==0, 1, x_transaction['free'])"
   ]
  },
  {
   "cell_type": "markdown",
   "metadata": {},
   "source": [
    "### Variables related to date"
   ]
  },
  {
   "cell_type": "code",
   "execution_count": 15,
   "metadata": {},
   "outputs": [
    {
     "data": {
      "text/html": [
       "<div>\n",
       "<style>\n",
       "    .dataframe thead tr:only-child th {\n",
       "        text-align: right;\n",
       "    }\n",
       "\n",
       "    .dataframe thead th {\n",
       "        text-align: left;\n",
       "    }\n",
       "\n",
       "    .dataframe tbody tr th {\n",
       "        vertical-align: top;\n",
       "    }\n",
       "</style>\n",
       "<table border=\"1\" class=\"dataframe\">\n",
       "  <thead>\n",
       "    <tr style=\"text-align: right;\">\n",
       "      <th></th>\n",
       "      <th>msno</th>\n",
       "      <th>payment_method_id</th>\n",
       "      <th>payment_plan_days</th>\n",
       "      <th>plan_list_price</th>\n",
       "      <th>actual_amount_paid</th>\n",
       "      <th>is_auto_renew</th>\n",
       "      <th>transaction_date</th>\n",
       "      <th>membership_expire_date</th>\n",
       "      <th>is_cancel</th>\n",
       "      <th>discount_amount</th>\n",
       "      <th>free</th>\n",
       "    </tr>\n",
       "  </thead>\n",
       "  <tbody>\n",
       "    <tr>\n",
       "      <th>274896</th>\n",
       "      <td>++DcyRE+ZfLtlKGigvv9dv5EQ4KAhHhiN9LM9X+F1vw=</td>\n",
       "      <td>37</td>\n",
       "      <td>31</td>\n",
       "      <td>149</td>\n",
       "      <td>149</td>\n",
       "      <td>1</td>\n",
       "      <td>20150123</td>\n",
       "      <td>20150224</td>\n",
       "      <td>0</td>\n",
       "      <td>0</td>\n",
       "      <td>0</td>\n",
       "    </tr>\n",
       "  </tbody>\n",
       "</table>\n",
       "</div>"
      ],
      "text/plain": [
       "                                                msno  payment_method_id  \\\n",
       "274896  ++DcyRE+ZfLtlKGigvv9dv5EQ4KAhHhiN9LM9X+F1vw=                 37   \n",
       "\n",
       "        payment_plan_days  plan_list_price  actual_amount_paid  is_auto_renew  \\\n",
       "274896                 31              149                 149              1   \n",
       "\n",
       "        transaction_date  membership_expire_date  is_cancel  discount_amount  \\\n",
       "274896          20150123                20150224          0                0   \n",
       "\n",
       "        free  \n",
       "274896     0  "
      ]
     },
     "execution_count": 15,
     "metadata": {},
     "output_type": "execute_result"
    }
   ],
   "source": [
    "x_transaction=x_transaction.sort_values(by=['msno', 'transaction_date'])\n",
    "x_transaction.head(1)"
   ]
  },
  {
   "cell_type": "code",
   "execution_count": 16,
   "metadata": {
    "collapsed": true
   },
   "outputs": [],
   "source": [
    "# days between transaction & expiration\n",
    "x_transaction.membership_expire_date=pd.to_datetime(x_transaction.membership_expire_date, format=\"%Y%m%d\")\n",
    "x_transaction.transaction_date=pd.to_datetime(x_transaction.transaction_date, format=\"%Y%m%d\")\n",
    "x_transaction['length']=(x_transaction['membership_expire_date']-x_transaction['transaction_date']).dt.days"
   ]
  },
  {
   "cell_type": "code",
   "execution_count": 17,
   "metadata": {},
   "outputs": [
    {
     "data": {
      "text/html": [
       "<div>\n",
       "<style>\n",
       "    .dataframe thead tr:only-child th {\n",
       "        text-align: right;\n",
       "    }\n",
       "\n",
       "    .dataframe thead th {\n",
       "        text-align: left;\n",
       "    }\n",
       "\n",
       "    .dataframe tbody tr th {\n",
       "        vertical-align: top;\n",
       "    }\n",
       "</style>\n",
       "<table border=\"1\" class=\"dataframe\">\n",
       "  <thead>\n",
       "    <tr style=\"text-align: right;\">\n",
       "      <th></th>\n",
       "      <th>msno</th>\n",
       "      <th>payment_method_id</th>\n",
       "      <th>payment_plan_days</th>\n",
       "      <th>plan_list_price</th>\n",
       "      <th>actual_amount_paid</th>\n",
       "      <th>is_auto_renew</th>\n",
       "      <th>transaction_date</th>\n",
       "      <th>membership_expire_date</th>\n",
       "      <th>is_cancel</th>\n",
       "      <th>discount_amount</th>\n",
       "      <th>free</th>\n",
       "      <th>length</th>\n",
       "    </tr>\n",
       "  </thead>\n",
       "  <tbody>\n",
       "    <tr>\n",
       "      <th>274896</th>\n",
       "      <td>++DcyRE+ZfLtlKGigvv9dv5EQ4KAhHhiN9LM9X+F1vw=</td>\n",
       "      <td>37</td>\n",
       "      <td>31</td>\n",
       "      <td>149</td>\n",
       "      <td>149</td>\n",
       "      <td>1</td>\n",
       "      <td>2015-01-23</td>\n",
       "      <td>2015-02-24</td>\n",
       "      <td>0</td>\n",
       "      <td>0</td>\n",
       "      <td>0</td>\n",
       "      <td>32</td>\n",
       "    </tr>\n",
       "    <tr>\n",
       "      <th>274893</th>\n",
       "      <td>++DcyRE+ZfLtlKGigvv9dv5EQ4KAhHhiN9LM9X+F1vw=</td>\n",
       "      <td>37</td>\n",
       "      <td>31</td>\n",
       "      <td>149</td>\n",
       "      <td>149</td>\n",
       "      <td>1</td>\n",
       "      <td>2015-02-23</td>\n",
       "      <td>2015-03-24</td>\n",
       "      <td>0</td>\n",
       "      <td>0</td>\n",
       "      <td>0</td>\n",
       "      <td>29</td>\n",
       "    </tr>\n",
       "  </tbody>\n",
       "</table>\n",
       "</div>"
      ],
      "text/plain": [
       "                                                msno  payment_method_id  \\\n",
       "274896  ++DcyRE+ZfLtlKGigvv9dv5EQ4KAhHhiN9LM9X+F1vw=                 37   \n",
       "274893  ++DcyRE+ZfLtlKGigvv9dv5EQ4KAhHhiN9LM9X+F1vw=                 37   \n",
       "\n",
       "        payment_plan_days  plan_list_price  actual_amount_paid  is_auto_renew  \\\n",
       "274896                 31              149                 149              1   \n",
       "274893                 31              149                 149              1   \n",
       "\n",
       "       transaction_date membership_expire_date  is_cancel  discount_amount  \\\n",
       "274896       2015-01-23             2015-02-24          0                0   \n",
       "274893       2015-02-23             2015-03-24          0                0   \n",
       "\n",
       "        free  length  \n",
       "274896     0      32  \n",
       "274893     0      29  "
      ]
     },
     "execution_count": 17,
     "metadata": {},
     "output_type": "execute_result"
    }
   ],
   "source": [
    "x_transaction.head(2)"
   ]
  },
  {
   "cell_type": "code",
   "execution_count": 18,
   "metadata": {
    "collapsed": true
   },
   "outputs": [],
   "source": [
    "# the average amount paid by user in each payment\n",
    "x_transaction['amtperday']=x_transaction['actual_amount_paid']/x_transaction['payment_plan_days']"
   ]
  },
  {
   "cell_type": "markdown",
   "metadata": {},
   "source": [
    "### Sort the table to get information from records between each trasanction for a user"
   ]
  },
  {
   "cell_type": "code",
   "execution_count": 19,
   "metadata": {
    "collapsed": true
   },
   "outputs": [],
   "source": [
    "# get the consecutive difference from rows\n",
    "x_transaction[\"d_transaction\"] = x_transaction[\"transaction_date\"].diff(1).fillna(0).astype('timedelta64[D]').astype(int)\n",
    "x_transaction.d_transaction = np.where(x_transaction.d_transaction < 0, 0,x_transaction.d_transaction)"
   ]
  },
  {
   "cell_type": "code",
   "execution_count": 20,
   "metadata": {
    "collapsed": true
   },
   "outputs": [],
   "source": [
    "# same for expire_date\n",
    "x_transaction[\"d_expire_date\"] = x_transaction[\"membership_expire_date\"].diff(1).fillna(0).astype('timedelta64[D]').astype(int)\n",
    "x_transaction.d_expire_date = np.where(x_transaction.d_expire_date < 0, 0,x_transaction.d_expire_date)"
   ]
  },
  {
   "cell_type": "markdown",
   "metadata": {},
   "source": [
    "### A potential sign of churn (auto_renew=0 & expiration in 201702)"
   ]
  },
  {
   "cell_type": "code",
   "execution_count": 21,
   "metadata": {
    "collapsed": true
   },
   "outputs": [],
   "source": [
    "from datetime import datetime\n",
    "startdate = datetime(2017, 2, 1)\n",
    "enddate = datetime(2017, 2, 28)\n",
    "x_transaction['potential_churn'] = np.where((x_transaction['is_auto_renew']==0)&(x_transaction['membership_expire_date']>=startdate) \n",
    "                                            & (x_transaction['membership_expire_date'] <= enddate), 1,0)"
   ]
  },
  {
   "cell_type": "code",
   "execution_count": 22,
   "metadata": {},
   "outputs": [
    {
     "data": {
      "text/html": [
       "<div>\n",
       "<style>\n",
       "    .dataframe thead tr:only-child th {\n",
       "        text-align: right;\n",
       "    }\n",
       "\n",
       "    .dataframe thead th {\n",
       "        text-align: left;\n",
       "    }\n",
       "\n",
       "    .dataframe tbody tr th {\n",
       "        vertical-align: top;\n",
       "    }\n",
       "</style>\n",
       "<table border=\"1\" class=\"dataframe\">\n",
       "  <thead>\n",
       "    <tr style=\"text-align: right;\">\n",
       "      <th></th>\n",
       "      <th>msno</th>\n",
       "      <th>payment_method_id</th>\n",
       "      <th>payment_plan_days</th>\n",
       "      <th>plan_list_price</th>\n",
       "      <th>actual_amount_paid</th>\n",
       "      <th>is_auto_renew</th>\n",
       "      <th>transaction_date</th>\n",
       "      <th>membership_expire_date</th>\n",
       "      <th>is_cancel</th>\n",
       "      <th>discount_amount</th>\n",
       "      <th>free</th>\n",
       "      <th>length</th>\n",
       "      <th>amtperday</th>\n",
       "      <th>d_transaction</th>\n",
       "      <th>d_expire_date</th>\n",
       "      <th>potential_churn</th>\n",
       "    </tr>\n",
       "  </thead>\n",
       "  <tbody>\n",
       "    <tr>\n",
       "      <th>274896</th>\n",
       "      <td>++DcyRE+ZfLtlKGigvv9dv5EQ4KAhHhiN9LM9X+F1vw=</td>\n",
       "      <td>37</td>\n",
       "      <td>31</td>\n",
       "      <td>149</td>\n",
       "      <td>149</td>\n",
       "      <td>1</td>\n",
       "      <td>2015-01-23</td>\n",
       "      <td>2015-02-24</td>\n",
       "      <td>0</td>\n",
       "      <td>0</td>\n",
       "      <td>0</td>\n",
       "      <td>32</td>\n",
       "      <td>4.806452</td>\n",
       "      <td>0</td>\n",
       "      <td>0</td>\n",
       "      <td>0</td>\n",
       "    </tr>\n",
       "  </tbody>\n",
       "</table>\n",
       "</div>"
      ],
      "text/plain": [
       "                                                msno  payment_method_id  \\\n",
       "274896  ++DcyRE+ZfLtlKGigvv9dv5EQ4KAhHhiN9LM9X+F1vw=                 37   \n",
       "\n",
       "        payment_plan_days  plan_list_price  actual_amount_paid  is_auto_renew  \\\n",
       "274896                 31              149                 149              1   \n",
       "\n",
       "       transaction_date membership_expire_date  is_cancel  discount_amount  \\\n",
       "274896       2015-01-23             2015-02-24          0                0   \n",
       "\n",
       "        free  length  amtperday  d_transaction  d_expire_date  potential_churn  \n",
       "274896     0      32   4.806452              0              0                0  "
      ]
     },
     "execution_count": 22,
     "metadata": {},
     "output_type": "execute_result"
    }
   ],
   "source": [
    "x_transaction.head(1)"
   ]
  },
  {
   "cell_type": "markdown",
   "metadata": {},
   "source": [
    "### Groupby Customer and generate related variables"
   ]
  },
  {
   "cell_type": "code",
   "execution_count": 23,
   "metadata": {
    "collapsed": true
   },
   "outputs": [],
   "source": [
    "# define some common used funcitons\n",
    "most_common = lambda x: pd.Series.mode(x)[0]\n",
    "most_common.__name__ = 'most_common'\n",
    "max_min_diff = lambda x: x.max() - x.min()\n",
    "max_min_diff.__name__ = 'max_min_diff'\n",
    "def pcet_of_zero(x):\n",
    "    return 1-(x.mean())\n",
    "def change_or_not(x):\n",
    "    return (x.nunique()-1)\n",
    "def find_positive_pct(x):\n",
    "    return ((x>0).sum()/x.count())\n",
    "def has_discount(x):\n",
    "    return x.nunique()>1"
   ]
  },
  {
   "cell_type": "code",
   "execution_count": 24,
   "metadata": {
    "collapsed": true
   },
   "outputs": [],
   "source": [
    "# def change column name\n",
    "def chagne_name(df):\n",
    "    table = df.columns.levels[0][0]+\"_\"\n",
    "    cols=df.columns.levels[1]\n",
    "    cols=cols[-1:]+cols[:-1]\n",
    "    cols=[\"{}\".format(table) + s for s in cols]\n",
    "    cols.insert(0, \"msno\")\n",
    "    return cols\n",
    "\n",
    "# def change column name 2:\n",
    "def change_name_2(df):\n",
    "    df.columns = [\"_\".join(x) for x in df.columns.ravel()]\n",
    "    df.rename(columns={'msno_':'msno'}, inplace=True)\n",
    "    return df"
   ]
  },
  {
   "cell_type": "code",
   "execution_count": 25,
   "metadata": {
    "collapsed": true
   },
   "outputs": [],
   "source": [
    "# payment_method\n",
    "payment_method=x_transaction.groupby('msno',as_index=False).agg({\n",
    "    'payment_method_id':['nunique',most_common]})\n",
    "payment_method.columns=chagne_name(payment_method)"
   ]
  },
  {
   "cell_type": "code",
   "execution_count": 26,
   "metadata": {},
   "outputs": [
    {
     "data": {
      "text/html": [
       "<div>\n",
       "<style>\n",
       "    .dataframe thead tr:only-child th {\n",
       "        text-align: right;\n",
       "    }\n",
       "\n",
       "    .dataframe thead th {\n",
       "        text-align: left;\n",
       "    }\n",
       "\n",
       "    .dataframe tbody tr th {\n",
       "        vertical-align: top;\n",
       "    }\n",
       "</style>\n",
       "<table border=\"1\" class=\"dataframe\">\n",
       "  <thead>\n",
       "    <tr style=\"text-align: right;\">\n",
       "      <th></th>\n",
       "      <th>msno</th>\n",
       "      <th>payment_method_id_nunique</th>\n",
       "      <th>payment_method_id_most_common</th>\n",
       "    </tr>\n",
       "  </thead>\n",
       "  <tbody>\n",
       "    <tr>\n",
       "      <th>0</th>\n",
       "      <td>++DcyRE+ZfLtlKGigvv9dv5EQ4KAhHhiN9LM9X+F1vw=</td>\n",
       "      <td>1</td>\n",
       "      <td>37</td>\n",
       "    </tr>\n",
       "  </tbody>\n",
       "</table>\n",
       "</div>"
      ],
      "text/plain": [
       "                                           msno  payment_method_id_nunique  \\\n",
       "0  ++DcyRE+ZfLtlKGigvv9dv5EQ4KAhHhiN9LM9X+F1vw=                          1   \n",
       "\n",
       "   payment_method_id_most_common  \n",
       "0                             37  "
      ]
     },
     "execution_count": 26,
     "metadata": {},
     "output_type": "execute_result"
    }
   ],
   "source": [
    "payment_method.head(1)"
   ]
  },
  {
   "cell_type": "code",
   "execution_count": 27,
   "metadata": {
    "collapsed": true
   },
   "outputs": [],
   "source": [
    "# payment_plan_days\n",
    "payment_plan_days=x_transaction.groupby('msno',as_index=False).agg({\n",
    "    'payment_plan_days':['nunique',most_common]})\n",
    "payment_plan_days.columns=chagne_name(payment_plan_days)"
   ]
  },
  {
   "cell_type": "code",
   "execution_count": 28,
   "metadata": {},
   "outputs": [
    {
     "data": {
      "text/html": [
       "<div>\n",
       "<style>\n",
       "    .dataframe thead tr:only-child th {\n",
       "        text-align: right;\n",
       "    }\n",
       "\n",
       "    .dataframe thead th {\n",
       "        text-align: left;\n",
       "    }\n",
       "\n",
       "    .dataframe tbody tr th {\n",
       "        vertical-align: top;\n",
       "    }\n",
       "</style>\n",
       "<table border=\"1\" class=\"dataframe\">\n",
       "  <thead>\n",
       "    <tr style=\"text-align: right;\">\n",
       "      <th></th>\n",
       "      <th>msno</th>\n",
       "      <th>payment_plan_days_nunique</th>\n",
       "      <th>payment_plan_days_most_common</th>\n",
       "    </tr>\n",
       "  </thead>\n",
       "  <tbody>\n",
       "    <tr>\n",
       "      <th>0</th>\n",
       "      <td>++DcyRE+ZfLtlKGigvv9dv5EQ4KAhHhiN9LM9X+F1vw=</td>\n",
       "      <td>2</td>\n",
       "      <td>30</td>\n",
       "    </tr>\n",
       "  </tbody>\n",
       "</table>\n",
       "</div>"
      ],
      "text/plain": [
       "                                           msno  payment_plan_days_nunique  \\\n",
       "0  ++DcyRE+ZfLtlKGigvv9dv5EQ4KAhHhiN9LM9X+F1vw=                          2   \n",
       "\n",
       "   payment_plan_days_most_common  \n",
       "0                             30  "
      ]
     },
     "execution_count": 28,
     "metadata": {},
     "output_type": "execute_result"
    }
   ],
   "source": [
    "payment_plan_days.head(1)"
   ]
  },
  {
   "cell_type": "code",
   "execution_count": 29,
   "metadata": {
    "collapsed": true
   },
   "outputs": [],
   "source": [
    "# plan_list_price\n",
    "plan_list_price=x_transaction.groupby('msno',as_index=False).agg({\n",
    "    'plan_list_price':['nunique', most_common,'mean',max_min_diff]})\n",
    "plan_list_price.columns=chagne_name(plan_list_price)"
   ]
  },
  {
   "cell_type": "code",
   "execution_count": 30,
   "metadata": {},
   "outputs": [
    {
     "data": {
      "text/html": [
       "<div>\n",
       "<style>\n",
       "    .dataframe thead tr:only-child th {\n",
       "        text-align: right;\n",
       "    }\n",
       "\n",
       "    .dataframe thead th {\n",
       "        text-align: left;\n",
       "    }\n",
       "\n",
       "    .dataframe tbody tr th {\n",
       "        vertical-align: top;\n",
       "    }\n",
       "</style>\n",
       "<table border=\"1\" class=\"dataframe\">\n",
       "  <thead>\n",
       "    <tr style=\"text-align: right;\">\n",
       "      <th></th>\n",
       "      <th>msno</th>\n",
       "      <th>plan_list_price_nunique</th>\n",
       "      <th>plan_list_price_most_common</th>\n",
       "      <th>plan_list_price_mean</th>\n",
       "      <th>plan_list_price_max_min_diff</th>\n",
       "    </tr>\n",
       "  </thead>\n",
       "  <tbody>\n",
       "    <tr>\n",
       "      <th>0</th>\n",
       "      <td>++DcyRE+ZfLtlKGigvv9dv5EQ4KAhHhiN9LM9X+F1vw=</td>\n",
       "      <td>1</td>\n",
       "      <td>149</td>\n",
       "      <td>149.0</td>\n",
       "      <td>0</td>\n",
       "    </tr>\n",
       "  </tbody>\n",
       "</table>\n",
       "</div>"
      ],
      "text/plain": [
       "                                           msno  plan_list_price_nunique  \\\n",
       "0  ++DcyRE+ZfLtlKGigvv9dv5EQ4KAhHhiN9LM9X+F1vw=                        1   \n",
       "\n",
       "   plan_list_price_most_common  plan_list_price_mean  \\\n",
       "0                          149                 149.0   \n",
       "\n",
       "   plan_list_price_max_min_diff  \n",
       "0                             0  "
      ]
     },
     "execution_count": 30,
     "metadata": {},
     "output_type": "execute_result"
    }
   ],
   "source": [
    "plan_list_price.head(1)"
   ]
  },
  {
   "cell_type": "code",
   "execution_count": 31,
   "metadata": {
    "collapsed": true
   },
   "outputs": [],
   "source": [
    "# actual_amount_paid\n",
    "actual_amount_paid=x_transaction.groupby('msno',as_index=False).agg({\n",
    "    'actual_amount_paid':['nunique', most_common,'mean',max_min_diff]})\n",
    "actual_amount_paid.columns=chagne_name(actual_amount_paid)"
   ]
  },
  {
   "cell_type": "code",
   "execution_count": 32,
   "metadata": {},
   "outputs": [
    {
     "data": {
      "text/html": [
       "<div>\n",
       "<style>\n",
       "    .dataframe thead tr:only-child th {\n",
       "        text-align: right;\n",
       "    }\n",
       "\n",
       "    .dataframe thead th {\n",
       "        text-align: left;\n",
       "    }\n",
       "\n",
       "    .dataframe tbody tr th {\n",
       "        vertical-align: top;\n",
       "    }\n",
       "</style>\n",
       "<table border=\"1\" class=\"dataframe\">\n",
       "  <thead>\n",
       "    <tr style=\"text-align: right;\">\n",
       "      <th></th>\n",
       "      <th>msno</th>\n",
       "      <th>actual_amount_paid_nunique</th>\n",
       "      <th>actual_amount_paid_most_common</th>\n",
       "      <th>actual_amount_paid_mean</th>\n",
       "      <th>actual_amount_paid_max_min_diff</th>\n",
       "    </tr>\n",
       "  </thead>\n",
       "  <tbody>\n",
       "    <tr>\n",
       "      <th>0</th>\n",
       "      <td>++DcyRE+ZfLtlKGigvv9dv5EQ4KAhHhiN9LM9X+F1vw=</td>\n",
       "      <td>1</td>\n",
       "      <td>149</td>\n",
       "      <td>149.0</td>\n",
       "      <td>0</td>\n",
       "    </tr>\n",
       "  </tbody>\n",
       "</table>\n",
       "</div>"
      ],
      "text/plain": [
       "                                           msno  actual_amount_paid_nunique  \\\n",
       "0  ++DcyRE+ZfLtlKGigvv9dv5EQ4KAhHhiN9LM9X+F1vw=                           1   \n",
       "\n",
       "   actual_amount_paid_most_common  actual_amount_paid_mean  \\\n",
       "0                             149                    149.0   \n",
       "\n",
       "   actual_amount_paid_max_min_diff  \n",
       "0                                0  "
      ]
     },
     "execution_count": 32,
     "metadata": {},
     "output_type": "execute_result"
    }
   ],
   "source": [
    "actual_amount_paid.head(1)"
   ]
  },
  {
   "cell_type": "code",
   "execution_count": 33,
   "metadata": {
    "collapsed": true
   },
   "outputs": [],
   "source": [
    "# is_auto_renew\n",
    "is_auto_renew=x_transaction.groupby('msno',as_index=False).agg({\n",
    "    'is_auto_renew':[pcet_of_zero, change_or_not,most_common]})\n",
    "is_auto_renew.columns=chagne_name(is_auto_renew)"
   ]
  },
  {
   "cell_type": "code",
   "execution_count": 34,
   "metadata": {
    "collapsed": true
   },
   "outputs": [],
   "source": [
    "# is_cancel\n",
    "is_cancel=x_transaction.groupby('msno',as_index=False).agg({\n",
    "    'is_cancel':['mean', change_or_not]})\n",
    "is_cancel.columns=chagne_name(is_cancel)"
   ]
  },
  {
   "cell_type": "code",
   "execution_count": 35,
   "metadata": {},
   "outputs": [
    {
     "data": {
      "text/html": [
       "<div>\n",
       "<style>\n",
       "    .dataframe thead tr:only-child th {\n",
       "        text-align: right;\n",
       "    }\n",
       "\n",
       "    .dataframe thead th {\n",
       "        text-align: left;\n",
       "    }\n",
       "\n",
       "    .dataframe tbody tr th {\n",
       "        vertical-align: top;\n",
       "    }\n",
       "</style>\n",
       "<table border=\"1\" class=\"dataframe\">\n",
       "  <thead>\n",
       "    <tr style=\"text-align: right;\">\n",
       "      <th></th>\n",
       "      <th>msno</th>\n",
       "      <th>is_cancel_mean</th>\n",
       "      <th>is_cancel_change_or_not</th>\n",
       "    </tr>\n",
       "  </thead>\n",
       "  <tbody>\n",
       "    <tr>\n",
       "      <th>0</th>\n",
       "      <td>++DcyRE+ZfLtlKGigvv9dv5EQ4KAhHhiN9LM9X+F1vw=</td>\n",
       "      <td>0.038462</td>\n",
       "      <td>1</td>\n",
       "    </tr>\n",
       "  </tbody>\n",
       "</table>\n",
       "</div>"
      ],
      "text/plain": [
       "                                           msno  is_cancel_mean  \\\n",
       "0  ++DcyRE+ZfLtlKGigvv9dv5EQ4KAhHhiN9LM9X+F1vw=        0.038462   \n",
       "\n",
       "   is_cancel_change_or_not  \n",
       "0                        1  "
      ]
     },
     "execution_count": 35,
     "metadata": {},
     "output_type": "execute_result"
    }
   ],
   "source": [
    "is_cancel.head(1)"
   ]
  },
  {
   "cell_type": "code",
   "execution_count": 36,
   "metadata": {
    "collapsed": true
   },
   "outputs": [],
   "source": [
    "# discount_amount\n",
    "discount_amount=x_transaction.groupby('msno',as_index=False).agg({\n",
    "    'discount_amount':[find_positive_pct, 'mean','sum',has_discount]})\n",
    "discount_amount.columns=chagne_name(discount_amount)"
   ]
  },
  {
   "cell_type": "code",
   "execution_count": 37,
   "metadata": {},
   "outputs": [
    {
     "data": {
      "text/html": [
       "<div>\n",
       "<style>\n",
       "    .dataframe thead tr:only-child th {\n",
       "        text-align: right;\n",
       "    }\n",
       "\n",
       "    .dataframe thead th {\n",
       "        text-align: left;\n",
       "    }\n",
       "\n",
       "    .dataframe tbody tr th {\n",
       "        vertical-align: top;\n",
       "    }\n",
       "</style>\n",
       "<table border=\"1\" class=\"dataframe\">\n",
       "  <thead>\n",
       "    <tr style=\"text-align: right;\">\n",
       "      <th></th>\n",
       "      <th>msno</th>\n",
       "      <th>discount_amount_find_positive_pct</th>\n",
       "      <th>discount_amount_mean</th>\n",
       "      <th>discount_amount_sum</th>\n",
       "      <th>discount_amount_has_discount</th>\n",
       "    </tr>\n",
       "  </thead>\n",
       "  <tbody>\n",
       "    <tr>\n",
       "      <th>0</th>\n",
       "      <td>++DcyRE+ZfLtlKGigvv9dv5EQ4KAhHhiN9LM9X+F1vw=</td>\n",
       "      <td>0.0</td>\n",
       "      <td>0.0</td>\n",
       "      <td>0</td>\n",
       "      <td>False</td>\n",
       "    </tr>\n",
       "  </tbody>\n",
       "</table>\n",
       "</div>"
      ],
      "text/plain": [
       "                                           msno  \\\n",
       "0  ++DcyRE+ZfLtlKGigvv9dv5EQ4KAhHhiN9LM9X+F1vw=   \n",
       "\n",
       "   discount_amount_find_positive_pct  discount_amount_mean  \\\n",
       "0                                0.0                   0.0   \n",
       "\n",
       "   discount_amount_sum  discount_amount_has_discount  \n",
       "0                    0                         False  "
      ]
     },
     "execution_count": 37,
     "metadata": {},
     "output_type": "execute_result"
    }
   ],
   "source": [
    "discount_amount.head(1)"
   ]
  },
  {
   "cell_type": "code",
   "execution_count": 38,
   "metadata": {
    "collapsed": true
   },
   "outputs": [],
   "source": [
    "# free\n",
    "free=x_transaction.groupby('msno',as_index=False).agg({\n",
    "    'free':['mean',has_discount]})\n",
    "free.columns=chagne_name(free)"
   ]
  },
  {
   "cell_type": "code",
   "execution_count": 39,
   "metadata": {},
   "outputs": [
    {
     "data": {
      "text/plain": [
       "Index(['msno', 'free_mean', 'free_has_discount'], dtype='object')"
      ]
     },
     "execution_count": 39,
     "metadata": {},
     "output_type": "execute_result"
    }
   ],
   "source": [
    "free.columns"
   ]
  },
  {
   "cell_type": "code",
   "execution_count": 40,
   "metadata": {
    "collapsed": true
   },
   "outputs": [],
   "source": [
    "# length\n",
    "length=x_transaction.groupby('msno',as_index=False).agg({\n",
    "    'length':['mean','sum','std','first']}).fillna(0)"
   ]
  },
  {
   "cell_type": "code",
   "execution_count": 41,
   "metadata": {
    "collapsed": true
   },
   "outputs": [],
   "source": [
    "# another rename method\n",
    "length=change_name_2(length)"
   ]
  },
  {
   "cell_type": "code",
   "execution_count": 42,
   "metadata": {},
   "outputs": [
    {
     "data": {
      "text/html": [
       "<div>\n",
       "<style>\n",
       "    .dataframe thead tr:only-child th {\n",
       "        text-align: right;\n",
       "    }\n",
       "\n",
       "    .dataframe thead th {\n",
       "        text-align: left;\n",
       "    }\n",
       "\n",
       "    .dataframe tbody tr th {\n",
       "        vertical-align: top;\n",
       "    }\n",
       "</style>\n",
       "<table border=\"1\" class=\"dataframe\">\n",
       "  <thead>\n",
       "    <tr style=\"text-align: right;\">\n",
       "      <th></th>\n",
       "      <th>msno</th>\n",
       "      <th>length_mean</th>\n",
       "      <th>length_sum</th>\n",
       "      <th>length_std</th>\n",
       "      <th>length_first</th>\n",
       "    </tr>\n",
       "  </thead>\n",
       "  <tbody>\n",
       "    <tr>\n",
       "      <th>0</th>\n",
       "      <td>++DcyRE+ZfLtlKGigvv9dv5EQ4KAhHhiN9LM9X+F1vw=</td>\n",
       "      <td>29.423077</td>\n",
       "      <td>765</td>\n",
       "      <td>6.047631</td>\n",
       "      <td>32</td>\n",
       "    </tr>\n",
       "  </tbody>\n",
       "</table>\n",
       "</div>"
      ],
      "text/plain": [
       "                                           msno  length_mean  length_sum  \\\n",
       "0  ++DcyRE+ZfLtlKGigvv9dv5EQ4KAhHhiN9LM9X+F1vw=    29.423077         765   \n",
       "\n",
       "   length_std  length_first  \n",
       "0    6.047631            32  "
      ]
     },
     "execution_count": 42,
     "metadata": {},
     "output_type": "execute_result"
    }
   ],
   "source": [
    "length.head(1)"
   ]
  },
  {
   "cell_type": "code",
   "execution_count": 43,
   "metadata": {
    "collapsed": true
   },
   "outputs": [],
   "source": [
    "# amtperday\n",
    "amtperday=x_transaction.groupby('msno',as_index=False).agg({\n",
    "    'amtperday':['mean']}).fillna(0)\n",
    "amtperday=change_name_2(amtperday)"
   ]
  },
  {
   "cell_type": "code",
   "execution_count": 44,
   "metadata": {},
   "outputs": [
    {
     "data": {
      "text/html": [
       "<div>\n",
       "<style>\n",
       "    .dataframe thead tr:only-child th {\n",
       "        text-align: right;\n",
       "    }\n",
       "\n",
       "    .dataframe thead th {\n",
       "        text-align: left;\n",
       "    }\n",
       "\n",
       "    .dataframe tbody tr th {\n",
       "        vertical-align: top;\n",
       "    }\n",
       "</style>\n",
       "<table border=\"1\" class=\"dataframe\">\n",
       "  <thead>\n",
       "    <tr style=\"text-align: right;\">\n",
       "      <th></th>\n",
       "      <th>msno</th>\n",
       "      <th>amtperday_mean</th>\n",
       "    </tr>\n",
       "  </thead>\n",
       "  <tbody>\n",
       "    <tr>\n",
       "      <th>0</th>\n",
       "      <td>++DcyRE+ZfLtlKGigvv9dv5EQ4KAhHhiN9LM9X+F1vw=</td>\n",
       "      <td>4.94818</td>\n",
       "    </tr>\n",
       "  </tbody>\n",
       "</table>\n",
       "</div>"
      ],
      "text/plain": [
       "                                           msno  amtperday_mean\n",
       "0  ++DcyRE+ZfLtlKGigvv9dv5EQ4KAhHhiN9LM9X+F1vw=         4.94818"
      ]
     },
     "execution_count": 44,
     "metadata": {},
     "output_type": "execute_result"
    }
   ],
   "source": [
    "amtperday.head(1)"
   ]
  },
  {
   "cell_type": "code",
   "execution_count": 45,
   "metadata": {
    "collapsed": true
   },
   "outputs": [],
   "source": [
    "# transaction_date\n",
    "transaction_date=x_transaction.groupby('msno',as_index=False).agg({\n",
    "    'transaction_date':['first']})\n",
    "transaction_date=change_name_2(transaction_date)"
   ]
  },
  {
   "cell_type": "code",
   "execution_count": 46,
   "metadata": {
    "collapsed": true
   },
   "outputs": [],
   "source": [
    "# d_transaction\n",
    "d_transaction=x_transaction.groupby('msno',as_index=False).agg({\n",
    "    'd_transaction':['mean','std']}).fillna(0)\n",
    "d_transaction=change_name_2(d_transaction)"
   ]
  },
  {
   "cell_type": "code",
   "execution_count": 47,
   "metadata": {},
   "outputs": [
    {
     "data": {
      "text/html": [
       "<div>\n",
       "<style>\n",
       "    .dataframe thead tr:only-child th {\n",
       "        text-align: right;\n",
       "    }\n",
       "\n",
       "    .dataframe thead th {\n",
       "        text-align: left;\n",
       "    }\n",
       "\n",
       "    .dataframe tbody tr th {\n",
       "        vertical-align: top;\n",
       "    }\n",
       "</style>\n",
       "<table border=\"1\" class=\"dataframe\">\n",
       "  <thead>\n",
       "    <tr style=\"text-align: right;\">\n",
       "      <th></th>\n",
       "      <th>msno</th>\n",
       "      <th>d_transaction_mean</th>\n",
       "      <th>d_transaction_std</th>\n",
       "    </tr>\n",
       "  </thead>\n",
       "  <tbody>\n",
       "    <tr>\n",
       "      <th>0</th>\n",
       "      <td>++DcyRE+ZfLtlKGigvv9dv5EQ4KAhHhiN9LM9X+F1vw=</td>\n",
       "      <td>29.346154</td>\n",
       "      <td>6.039485</td>\n",
       "    </tr>\n",
       "  </tbody>\n",
       "</table>\n",
       "</div>"
      ],
      "text/plain": [
       "                                           msno  d_transaction_mean  \\\n",
       "0  ++DcyRE+ZfLtlKGigvv9dv5EQ4KAhHhiN9LM9X+F1vw=           29.346154   \n",
       "\n",
       "   d_transaction_std  \n",
       "0           6.039485  "
      ]
     },
     "execution_count": 47,
     "metadata": {},
     "output_type": "execute_result"
    }
   ],
   "source": [
    "d_transaction.head(1)"
   ]
  },
  {
   "cell_type": "code",
   "execution_count": 48,
   "metadata": {},
   "outputs": [],
   "source": [
    "# d_expire_date\n",
    "d_expire_date=x_transaction.groupby('msno',as_index=False).agg({\n",
    "    'd_expire_date':['mean','std','sum']}).fillna(0)\n",
    "d_expire_date=change_name_2(d_expire_date)"
   ]
  },
  {
   "cell_type": "code",
   "execution_count": 49,
   "metadata": {},
   "outputs": [
    {
     "data": {
      "text/html": [
       "<div>\n",
       "<style>\n",
       "    .dataframe thead tr:only-child th {\n",
       "        text-align: right;\n",
       "    }\n",
       "\n",
       "    .dataframe thead th {\n",
       "        text-align: left;\n",
       "    }\n",
       "\n",
       "    .dataframe tbody tr th {\n",
       "        vertical-align: top;\n",
       "    }\n",
       "</style>\n",
       "<table border=\"1\" class=\"dataframe\">\n",
       "  <thead>\n",
       "    <tr style=\"text-align: right;\">\n",
       "      <th></th>\n",
       "      <th>msno</th>\n",
       "      <th>d_expire_date_mean</th>\n",
       "      <th>d_expire_date_std</th>\n",
       "      <th>d_expire_date_sum</th>\n",
       "    </tr>\n",
       "  </thead>\n",
       "  <tbody>\n",
       "    <tr>\n",
       "      <th>0</th>\n",
       "      <td>++DcyRE+ZfLtlKGigvv9dv5EQ4KAhHhiN9LM9X+F1vw=</td>\n",
       "      <td>28.115385</td>\n",
       "      <td>8.310605</td>\n",
       "      <td>731</td>\n",
       "    </tr>\n",
       "  </tbody>\n",
       "</table>\n",
       "</div>"
      ],
      "text/plain": [
       "                                           msno  d_expire_date_mean  \\\n",
       "0  ++DcyRE+ZfLtlKGigvv9dv5EQ4KAhHhiN9LM9X+F1vw=           28.115385   \n",
       "\n",
       "   d_expire_date_std  d_expire_date_sum  \n",
       "0           8.310605                731  "
      ]
     },
     "execution_count": 49,
     "metadata": {},
     "output_type": "execute_result"
    }
   ],
   "source": [
    "d_expire_date.head(1)"
   ]
  },
  {
   "cell_type": "code",
   "execution_count": 50,
   "metadata": {
    "collapsed": true
   },
   "outputs": [],
   "source": [
    "# potential_churn\n",
    "potential_churn=x_transaction.groupby('msno',as_index=False).agg({\n",
    "    'potential_churn':[has_discount]})\n",
    "potential_churn.columns=chagne_name(potential_churn)"
   ]
  },
  {
   "cell_type": "code",
   "execution_count": 51,
   "metadata": {},
   "outputs": [
    {
     "data": {
      "text/html": [
       "<div>\n",
       "<style>\n",
       "    .dataframe thead tr:only-child th {\n",
       "        text-align: right;\n",
       "    }\n",
       "\n",
       "    .dataframe thead th {\n",
       "        text-align: left;\n",
       "    }\n",
       "\n",
       "    .dataframe tbody tr th {\n",
       "        vertical-align: top;\n",
       "    }\n",
       "</style>\n",
       "<table border=\"1\" class=\"dataframe\">\n",
       "  <thead>\n",
       "    <tr style=\"text-align: right;\">\n",
       "      <th></th>\n",
       "      <th>msno</th>\n",
       "      <th>potential_churn_has_discount</th>\n",
       "    </tr>\n",
       "  </thead>\n",
       "  <tbody>\n",
       "    <tr>\n",
       "      <th>0</th>\n",
       "      <td>++DcyRE+ZfLtlKGigvv9dv5EQ4KAhHhiN9LM9X+F1vw=</td>\n",
       "      <td>False</td>\n",
       "    </tr>\n",
       "  </tbody>\n",
       "</table>\n",
       "</div>"
      ],
      "text/plain": [
       "                                           msno  potential_churn_has_discount\n",
       "0  ++DcyRE+ZfLtlKGigvv9dv5EQ4KAhHhiN9LM9X+F1vw=                         False"
      ]
     },
     "execution_count": 51,
     "metadata": {},
     "output_type": "execute_result"
    }
   ],
   "source": [
    "potential_churn.head(1)"
   ]
  },
  {
   "cell_type": "code",
   "execution_count": 52,
   "metadata": {
    "collapsed": true
   },
   "outputs": [],
   "source": [
    "data_frames=[payment_method,payment_plan_days,plan_list_price,actual_amount_paid,is_auto_renew,is_cancel,discount_amount,free,length,amtperday,transaction_date,d_transaction,d_expire_date,potential_churn]"
   ]
  },
  {
   "cell_type": "code",
   "execution_count": 53,
   "metadata": {
    "collapsed": true
   },
   "outputs": [],
   "source": [
    "from functools import reduce\n",
    "df_merged = reduce(lambda  left,right: pd.merge(left,right,on=['msno'],\n",
    "                                            how='inner'), data_frames)"
   ]
  },
  {
   "cell_type": "code",
   "execution_count": 59,
   "metadata": {},
   "outputs": [],
   "source": [
    "df_merged['membership_days']=df_merged['d_expire_date_sum']+df_merged['length_first'] \n",
    "# get total membership days\n",
    "df_merged=df_merged.drop(['d_expire_date_sum', 'length_first'], axis=1)"
   ]
  },
  {
   "cell_type": "code",
   "execution_count": 60,
   "metadata": {
    "collapsed": true
   },
   "outputs": [],
   "source": [
    "df_merged.to_csv('../../kkbox-churn-prediction-challenge/train/X_train_transactions.csv',index=False)"
   ]
  },
  {
   "cell_type": "code",
   "execution_count": 61,
   "metadata": {},
   "outputs": [],
   "source": [
    "df = pd.read_csv('../../kkbox-churn-prediction-challenge/train/X_train_transactions.csv')"
   ]
  },
  {
   "cell_type": "code",
   "execution_count": 62,
   "metadata": {},
   "outputs": [
    {
     "data": {
      "text/plain": [
       "(24798, 35)"
      ]
     },
     "execution_count": 62,
     "metadata": {},
     "output_type": "execute_result"
    }
   ],
   "source": [
    "df.shape"
   ]
  }
 ],
 "metadata": {
  "kernelspec": {
   "display_name": "Python 3",
   "language": "python",
   "name": "python3"
  },
  "language_info": {
   "codemirror_mode": {
    "name": "ipython",
    "version": 3
   },
   "file_extension": ".py",
   "mimetype": "text/x-python",
   "name": "python",
   "nbconvert_exporter": "python",
   "pygments_lexer": "ipython3",
   "version": "3.6.8"
  }
 },
 "nbformat": 4,
 "nbformat_minor": 2
}
