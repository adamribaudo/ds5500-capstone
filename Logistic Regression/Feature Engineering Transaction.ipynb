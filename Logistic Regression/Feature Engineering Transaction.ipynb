{
 "cells": [
  {
   "cell_type": "markdown",
   "metadata": {},
   "source": [
    "## Preprocess"
   ]
  },
  {
   "cell_type": "code",
   "execution_count": 1,
   "metadata": {
    "collapsed": true
   },
   "outputs": [],
   "source": [
    "import numpy as np \n",
    "import pandas as pd"
   ]
  },
  {
   "cell_type": "code",
   "execution_count": 2,
   "metadata": {
    "collapsed": true
   },
   "outputs": [],
   "source": [
    "x_transaction = pd.read_csv('../../kkbox-churn-prediction-challenge/50_under_sample/train_50_pct_undersampled_transactions.csv')"
   ]
  },
  {
   "cell_type": "code",
   "execution_count": 3,
   "metadata": {},
   "outputs": [
    {
     "data": {
      "text/html": [
       "<div>\n",
       "<style>\n",
       "    .dataframe thead tr:only-child th {\n",
       "        text-align: right;\n",
       "    }\n",
       "\n",
       "    .dataframe thead th {\n",
       "        text-align: left;\n",
       "    }\n",
       "\n",
       "    .dataframe tbody tr th {\n",
       "        vertical-align: top;\n",
       "    }\n",
       "</style>\n",
       "<table border=\"1\" class=\"dataframe\">\n",
       "  <thead>\n",
       "    <tr style=\"text-align: right;\">\n",
       "      <th></th>\n",
       "      <th>msno</th>\n",
       "      <th>payment_method_id</th>\n",
       "      <th>payment_plan_days</th>\n",
       "      <th>plan_list_price</th>\n",
       "      <th>actual_amount_paid</th>\n",
       "      <th>is_auto_renew</th>\n",
       "      <th>transaction_date</th>\n",
       "      <th>membership_expire_date</th>\n",
       "      <th>is_cancel</th>\n",
       "    </tr>\n",
       "  </thead>\n",
       "  <tbody>\n",
       "    <tr>\n",
       "      <th>0</th>\n",
       "      <td>P1i0ZUBXvfn2sb0f8jcIbMqTxtY5esoMhYDtarLoW9o=</td>\n",
       "      <td>32</td>\n",
       "      <td>410</td>\n",
       "      <td>1788</td>\n",
       "      <td>1788</td>\n",
       "      <td>0</td>\n",
       "      <td>2017-03-20T00:00:00</td>\n",
       "      <td>2018-05-07T00:00:00</td>\n",
       "      <td>0</td>\n",
       "    </tr>\n",
       "  </tbody>\n",
       "</table>\n",
       "</div>"
      ],
      "text/plain": [
       "                                           msno  payment_method_id  \\\n",
       "0  P1i0ZUBXvfn2sb0f8jcIbMqTxtY5esoMhYDtarLoW9o=                 32   \n",
       "\n",
       "   payment_plan_days  plan_list_price  actual_amount_paid  is_auto_renew  \\\n",
       "0                410             1788                1788              0   \n",
       "\n",
       "      transaction_date membership_expire_date  is_cancel  \n",
       "0  2017-03-20T00:00:00    2018-05-07T00:00:00          0  "
      ]
     },
     "execution_count": 3,
     "metadata": {},
     "output_type": "execute_result"
    }
   ],
   "source": [
    "x_transaction.head(1)"
   ]
  },
  {
   "cell_type": "code",
   "execution_count": 4,
   "metadata": {},
   "outputs": [
    {
     "data": {
      "text/plain": [
       "(1032715, 9)"
      ]
     },
     "execution_count": 4,
     "metadata": {},
     "output_type": "execute_result"
    }
   ],
   "source": [
    "x_transaction.shape"
   ]
  },
  {
   "cell_type": "code",
   "execution_count": 5,
   "metadata": {},
   "outputs": [
    {
     "data": {
      "text/plain": [
       "array([410, 195, 180,  60, 200, 100,  90, 400, 395,  70, 360,  30, 270,\n",
       "         0, 120, 450,   7, 365,  99, 240,  10,  21,  14,  66,   2, 110,\n",
       "        80,   3, 415, 230,   1,  31,  15,  35])"
      ]
     },
     "execution_count": 5,
     "metadata": {},
     "output_type": "execute_result"
    }
   ],
   "source": [
    "x_transaction['payment_plan_days'].unique()"
   ]
  },
  {
   "cell_type": "markdown",
   "metadata": {},
   "source": [
    "### Variables generated from plan_list_price & actual_amount_paid\n",
    "1. discount_amount = plan_list_price - actual_amount_paid\n",
    "There is negative discount_amount, therefore, check each of the situation, get the following:\n",
    "\n",
    "7 days: 35\n",
    "\n",
    "30 days: 149/129/119/150/100/134/131\n",
    "\n",
    "60 days: 300\n",
    "\n",
    "80 days: 400\n",
    "\n",
    "90 days: 480/447/450\n",
    "\n",
    "180 days = 894/930/799/536\n",
    "\n",
    "365 days = 1788\n",
    "\n",
    "2. Current method:\n",
    "\n",
    "a) If plan_list_price = 0, plan_list_price=actual_amount_paid and assgin payment_plan_days by checking actual_amount_paid\n",
    "\n",
    "b) If actual_amount_paid=0, get a new column called free\n",
    "\n",
    "c) Discount = plan_list_price - actual_amount_paid\n",
    "\n",
    "3. Problem of this method\n",
    "\n",
    "The negative list may be more with the amount of data incereasing. But seems inappropriate to delete them because it usually stands abnormal situations."
   ]
  },
  {
   "cell_type": "code",
   "execution_count": 6,
   "metadata": {
    "collapsed": true
   },
   "outputs": [],
   "source": [
    "# get the discount_amount\n",
    "x_transaction['discount_amount'] = x_transaction['plan_list_price'] - x_transaction['actual_amount_paid']"
   ]
  },
  {
   "cell_type": "code",
   "execution_count": null,
   "metadata": {},
   "outputs": [],
   "source": [
    "x_transaction['discount_amount'].unique()"
   ]
  },
  {
   "cell_type": "code",
   "execution_count": null,
   "metadata": {},
   "outputs": [],
   "source": [
    "# the negative ones\n",
    "len(x_transaction[x_transaction['discount_amount']<0])"
   ]
  },
  {
   "cell_type": "code",
   "execution_count": null,
   "metadata": {},
   "outputs": [],
   "source": [
    "x_transaction[x_transaction['discount_amount']==-500]"
   ]
  },
  {
   "cell_type": "code",
   "execution_count": null,
   "metadata": {
    "code_folding": [
     0
    ],
    "collapsed": true
   },
   "outputs": [],
   "source": [
    "# change \"plan_list_price\"\n",
    "x_transaction['plan_list_price'] = np.where(x_transaction['discount_amount']<0, x_transaction['actual_amount_paid'],x_transaction['plan_list_price'])"
   ]
  },
  {
   "cell_type": "code",
   "execution_count": null,
   "metadata": {
    "code_folding": [
     0
    ],
    "collapsed": true
   },
   "outputs": [],
   "source": [
    "# change \"payment_plan_days\"\n",
    "conditions = [\n",
    "    (x_transaction['discount_amount'] ==-35),\n",
    "    (x_transaction['discount_amount'].isin([-149,-129,-119,-150,-100,-134,-131])),\n",
    "    (x_transaction['discount_amount'] ==-300),\n",
    "    (x_transaction['discount_amount'] ==-400),\n",
    "    (x_transaction['discount_amount'].isin([-480,-447,-450])),\n",
    "    (x_transaction['discount_amount'].isin([-894,-930,-799,-536])),\n",
    "    (x_transaction['discount_amount'] ==-1788)]\n",
    "choices = [7, 30, 60,80,90,180,365]\n",
    "x_transaction['payment_plan_days'] = np.select(conditions,choices,x_transaction['payment_plan_days'])"
   ]
  },
  {
   "cell_type": "code",
   "execution_count": null,
   "metadata": {},
   "outputs": [],
   "source": [
    "(x_transaction[x_transaction['discount_amount']<0].payment_plan_days>0).unique()"
   ]
  },
  {
   "cell_type": "code",
   "execution_count": null,
   "metadata": {
    "code_folding": [
     0
    ],
    "collapsed": true
   },
   "outputs": [],
   "source": [
    "# change the negative discount to be 0\n",
    "x_transaction['discount_amount'] = np.where(x_transaction['discount_amount']<0, 0, x_transaction['discount_amount'])"
   ]
  },
  {
   "cell_type": "code",
   "execution_count": 7,
   "metadata": {},
   "outputs": [],
   "source": [
    "# get a new column called free\n",
    "x_transaction['free']=0\n",
    "x_transaction['free'] = np.where(x_transaction['actual_amount_paid']==0, 1, x_transaction['free'])"
   ]
  },
  {
   "cell_type": "markdown",
   "metadata": {},
   "source": [
    "### Variables related to date"
   ]
  },
  {
   "cell_type": "code",
   "execution_count": 8,
   "metadata": {},
   "outputs": [
    {
     "data": {
      "text/html": [
       "<div>\n",
       "<style>\n",
       "    .dataframe thead tr:only-child th {\n",
       "        text-align: right;\n",
       "    }\n",
       "\n",
       "    .dataframe thead th {\n",
       "        text-align: left;\n",
       "    }\n",
       "\n",
       "    .dataframe tbody tr th {\n",
       "        vertical-align: top;\n",
       "    }\n",
       "</style>\n",
       "<table border=\"1\" class=\"dataframe\">\n",
       "  <thead>\n",
       "    <tr style=\"text-align: right;\">\n",
       "      <th></th>\n",
       "      <th>msno</th>\n",
       "      <th>payment_method_id</th>\n",
       "      <th>payment_plan_days</th>\n",
       "      <th>plan_list_price</th>\n",
       "      <th>actual_amount_paid</th>\n",
       "      <th>is_auto_renew</th>\n",
       "      <th>transaction_date</th>\n",
       "      <th>membership_expire_date</th>\n",
       "      <th>is_cancel</th>\n",
       "      <th>discount_amount</th>\n",
       "      <th>free</th>\n",
       "    </tr>\n",
       "  </thead>\n",
       "  <tbody>\n",
       "    <tr>\n",
       "      <th>656208</th>\n",
       "      <td>++9JUsaZioofS6Fb20Z0z2QOlWNzakO0PRF5GZ75yi4=</td>\n",
       "      <td>37</td>\n",
       "      <td>31</td>\n",
       "      <td>149</td>\n",
       "      <td>149</td>\n",
       "      <td>1</td>\n",
       "      <td>2015-01-09T00:00:00</td>\n",
       "      <td>2015-02-10T00:00:00</td>\n",
       "      <td>0</td>\n",
       "      <td>0</td>\n",
       "      <td>0</td>\n",
       "    </tr>\n",
       "  </tbody>\n",
       "</table>\n",
       "</div>"
      ],
      "text/plain": [
       "                                                msno  payment_method_id  \\\n",
       "656208  ++9JUsaZioofS6Fb20Z0z2QOlWNzakO0PRF5GZ75yi4=                 37   \n",
       "\n",
       "        payment_plan_days  plan_list_price  actual_amount_paid  is_auto_renew  \\\n",
       "656208                 31              149                 149              1   \n",
       "\n",
       "           transaction_date membership_expire_date  is_cancel  \\\n",
       "656208  2015-01-09T00:00:00    2015-02-10T00:00:00          0   \n",
       "\n",
       "        discount_amount  free  \n",
       "656208                0     0  "
      ]
     },
     "execution_count": 8,
     "metadata": {},
     "output_type": "execute_result"
    }
   ],
   "source": [
    "x_transaction=x_transaction.sort_values(by=['msno', 'transaction_date'])\n",
    "x_transaction.head(1)"
   ]
  },
  {
   "cell_type": "code",
   "execution_count": 9,
   "metadata": {},
   "outputs": [],
   "source": [
    "# days between transaction & expiration\n",
    "x_transaction.membership_expire_date=pd.to_datetime(x_transaction.membership_expire_date)\n",
    "x_transaction.transaction_date=pd.to_datetime(x_transaction.transaction_date)\n",
    "x_transaction['length']=(x_transaction['membership_expire_date']-x_transaction['transaction_date']).dt.days"
   ]
  },
  {
   "cell_type": "code",
   "execution_count": 10,
   "metadata": {},
   "outputs": [
    {
     "data": {
      "text/html": [
       "<div>\n",
       "<style>\n",
       "    .dataframe thead tr:only-child th {\n",
       "        text-align: right;\n",
       "    }\n",
       "\n",
       "    .dataframe thead th {\n",
       "        text-align: left;\n",
       "    }\n",
       "\n",
       "    .dataframe tbody tr th {\n",
       "        vertical-align: top;\n",
       "    }\n",
       "</style>\n",
       "<table border=\"1\" class=\"dataframe\">\n",
       "  <thead>\n",
       "    <tr style=\"text-align: right;\">\n",
       "      <th></th>\n",
       "      <th>msno</th>\n",
       "      <th>payment_method_id</th>\n",
       "      <th>payment_plan_days</th>\n",
       "      <th>plan_list_price</th>\n",
       "      <th>actual_amount_paid</th>\n",
       "      <th>is_auto_renew</th>\n",
       "      <th>transaction_date</th>\n",
       "      <th>membership_expire_date</th>\n",
       "      <th>is_cancel</th>\n",
       "      <th>discount_amount</th>\n",
       "      <th>free</th>\n",
       "      <th>length</th>\n",
       "    </tr>\n",
       "  </thead>\n",
       "  <tbody>\n",
       "    <tr>\n",
       "      <th>656208</th>\n",
       "      <td>++9JUsaZioofS6Fb20Z0z2QOlWNzakO0PRF5GZ75yi4=</td>\n",
       "      <td>37</td>\n",
       "      <td>31</td>\n",
       "      <td>149</td>\n",
       "      <td>149</td>\n",
       "      <td>1</td>\n",
       "      <td>2015-01-09</td>\n",
       "      <td>2015-02-10</td>\n",
       "      <td>0</td>\n",
       "      <td>0</td>\n",
       "      <td>0</td>\n",
       "      <td>32</td>\n",
       "    </tr>\n",
       "    <tr>\n",
       "      <th>393797</th>\n",
       "      <td>++9JUsaZioofS6Fb20Z0z2QOlWNzakO0PRF5GZ75yi4=</td>\n",
       "      <td>37</td>\n",
       "      <td>31</td>\n",
       "      <td>149</td>\n",
       "      <td>149</td>\n",
       "      <td>1</td>\n",
       "      <td>2015-02-09</td>\n",
       "      <td>2015-03-10</td>\n",
       "      <td>0</td>\n",
       "      <td>0</td>\n",
       "      <td>0</td>\n",
       "      <td>29</td>\n",
       "    </tr>\n",
       "  </tbody>\n",
       "</table>\n",
       "</div>"
      ],
      "text/plain": [
       "                                                msno  payment_method_id  \\\n",
       "656208  ++9JUsaZioofS6Fb20Z0z2QOlWNzakO0PRF5GZ75yi4=                 37   \n",
       "393797  ++9JUsaZioofS6Fb20Z0z2QOlWNzakO0PRF5GZ75yi4=                 37   \n",
       "\n",
       "        payment_plan_days  plan_list_price  actual_amount_paid  is_auto_renew  \\\n",
       "656208                 31              149                 149              1   \n",
       "393797                 31              149                 149              1   \n",
       "\n",
       "       transaction_date membership_expire_date  is_cancel  discount_amount  \\\n",
       "656208       2015-01-09             2015-02-10          0                0   \n",
       "393797       2015-02-09             2015-03-10          0                0   \n",
       "\n",
       "        free  length  \n",
       "656208     0      32  \n",
       "393797     0      29  "
      ]
     },
     "execution_count": 10,
     "metadata": {},
     "output_type": "execute_result"
    }
   ],
   "source": [
    "x_transaction.head(2)"
   ]
  },
  {
   "cell_type": "code",
   "execution_count": 11,
   "metadata": {
    "collapsed": true
   },
   "outputs": [],
   "source": [
    "# the average amount paid by user in each payment\n",
    "x_transaction['amtperday']=x_transaction['actual_amount_paid']/x_transaction['payment_plan_days']"
   ]
  },
  {
   "cell_type": "markdown",
   "metadata": {},
   "source": [
    "### Sort the table to get information from records between each trasanction for a user"
   ]
  },
  {
   "cell_type": "code",
   "execution_count": 38,
   "metadata": {},
   "outputs": [],
   "source": [
    "# get the consecutive difference from rows\n",
    "x_transaction[\"d_transaction\"] = x_transaction[\"transaction_date\"].diff(1).fillna(0).astype('timedelta64[D]').astype(int)\n",
    "x_transaction.d_transaction = np.where(x_transaction.d_transaction <= 0, np.NaN,x_transaction.d_transaction)"
   ]
  },
  {
   "cell_type": "code",
   "execution_count": 41,
   "metadata": {
    "collapsed": true
   },
   "outputs": [],
   "source": [
    "# same for expire_date\n",
    "x_transaction[\"d_expire_date\"] = x_transaction[\"membership_expire_date\"].diff(1).fillna(0).astype('timedelta64[D]').astype(int)\n",
    "x_transaction.d_expire_date = np.where(x_transaction.d_expire_date <= 0, np.NaN,x_transaction.d_expire_date)"
   ]
  },
  {
   "cell_type": "markdown",
   "metadata": {},
   "source": [
    "### A potential sign of churn (auto_renew=0 & expiration in 201702)"
   ]
  },
  {
   "cell_type": "code",
   "execution_count": 14,
   "metadata": {
    "collapsed": true
   },
   "outputs": [],
   "source": [
    "from datetime import datetime\n",
    "startdate = datetime(2017, 2, 1)\n",
    "enddate = datetime(2017, 2, 28)\n",
    "x_transaction['potential_churn'] = np.where((x_transaction['is_auto_renew']==0)&(x_transaction['membership_expire_date']>=startdate) \n",
    "                                            & (x_transaction['membership_expire_date'] <= enddate), 1,0)"
   ]
  },
  {
   "cell_type": "code",
   "execution_count": null,
   "metadata": {},
   "outputs": [],
   "source": [
    "x_transaction.head(1)"
   ]
  },
  {
   "cell_type": "markdown",
   "metadata": {},
   "source": [
    "### Groupby Customer and generate related variables"
   ]
  },
  {
   "cell_type": "code",
   "execution_count": 15,
   "metadata": {
    "collapsed": true
   },
   "outputs": [],
   "source": [
    "# define some common used funcitons\n",
    "most_common = lambda x: pd.Series.mode(x)[0]\n",
    "most_common.__name__ = 'most_common'\n",
    "max_min_diff = lambda x: x.max() - x.min()\n",
    "max_min_diff.__name__ = 'max_min_diff'\n",
    "def pcet_of_zero(x):\n",
    "    return 1-(x.mean())\n",
    "def change_or_not(x):\n",
    "    return (x.nunique()-1)\n",
    "def find_positive_pct(x):\n",
    "    return ((x>0).sum()/x.count())\n",
    "def has_discount(x):\n",
    "    return x.nunique()>1"
   ]
  },
  {
   "cell_type": "code",
   "execution_count": 16,
   "metadata": {
    "collapsed": true
   },
   "outputs": [],
   "source": [
    "# def change column name\n",
    "def chagne_name(df):\n",
    "    table = df.columns.levels[0][0]+\"_\"\n",
    "    cols=df.columns.levels[1]\n",
    "    cols=cols[-1:]+cols[:-1]\n",
    "    cols=[\"{}\".format(table) + s for s in cols]\n",
    "    cols.insert(0, \"msno\")\n",
    "    return cols\n",
    "\n",
    "# def change column name 2:\n",
    "def change_name_2(df):\n",
    "    df.columns = [\"_\".join(x) for x in df.columns.ravel()]\n",
    "    df.rename(columns={'msno_':'msno'}, inplace=True)\n",
    "    return df"
   ]
  },
  {
   "cell_type": "code",
   "execution_count": 17,
   "metadata": {
    "collapsed": true
   },
   "outputs": [],
   "source": [
    "# payment_method\n",
    "payment_method=x_transaction.groupby('msno',as_index=False).agg({\n",
    "    'payment_method_id':['nunique',most_common]})\n",
    "payment_method.columns=chagne_name(payment_method)"
   ]
  },
  {
   "cell_type": "code",
   "execution_count": null,
   "metadata": {},
   "outputs": [],
   "source": [
    "payment_method.head(1)"
   ]
  },
  {
   "cell_type": "code",
   "execution_count": 18,
   "metadata": {
    "collapsed": true
   },
   "outputs": [],
   "source": [
    "# payment_plan_days\n",
    "payment_plan_days=x_transaction.groupby('msno',as_index=False).agg({\n",
    "    'payment_plan_days':['nunique',most_common]})\n",
    "payment_plan_days.columns=chagne_name(payment_plan_days)"
   ]
  },
  {
   "cell_type": "code",
   "execution_count": null,
   "metadata": {},
   "outputs": [],
   "source": [
    "payment_plan_days.head(1)"
   ]
  },
  {
   "cell_type": "code",
   "execution_count": 19,
   "metadata": {
    "collapsed": true
   },
   "outputs": [],
   "source": [
    "# plan_list_price\n",
    "plan_list_price=x_transaction.groupby('msno',as_index=False).agg({\n",
    "    'plan_list_price':['nunique', most_common,'mean',max_min_diff]})\n",
    "plan_list_price.columns=chagne_name(plan_list_price)"
   ]
  },
  {
   "cell_type": "code",
   "execution_count": null,
   "metadata": {},
   "outputs": [],
   "source": [
    "plan_list_price.head(1)"
   ]
  },
  {
   "cell_type": "code",
   "execution_count": 20,
   "metadata": {
    "collapsed": true
   },
   "outputs": [],
   "source": [
    "# actual_amount_paid\n",
    "actual_amount_paid=x_transaction.groupby('msno',as_index=False).agg({\n",
    "    'actual_amount_paid':['nunique', most_common,'mean',max_min_diff]})\n",
    "actual_amount_paid.columns=chagne_name(actual_amount_paid)"
   ]
  },
  {
   "cell_type": "code",
   "execution_count": null,
   "metadata": {},
   "outputs": [],
   "source": [
    "actual_amount_paid.head(1)"
   ]
  },
  {
   "cell_type": "code",
   "execution_count": 21,
   "metadata": {
    "collapsed": true
   },
   "outputs": [],
   "source": [
    "# is_auto_renew\n",
    "is_auto_renew=x_transaction.groupby('msno',as_index=False).agg({\n",
    "    'is_auto_renew':[pcet_of_zero, change_or_not,most_common]})\n",
    "is_auto_renew.columns=chagne_name(is_auto_renew)"
   ]
  },
  {
   "cell_type": "code",
   "execution_count": 22,
   "metadata": {
    "collapsed": true
   },
   "outputs": [],
   "source": [
    "# is_cancel\n",
    "is_cancel=x_transaction.groupby('msno',as_index=False).agg({\n",
    "    'is_cancel':['mean', change_or_not]})\n",
    "is_cancel.columns=chagne_name(is_cancel)"
   ]
  },
  {
   "cell_type": "code",
   "execution_count": null,
   "metadata": {},
   "outputs": [],
   "source": [
    "is_cancel.head(1)"
   ]
  },
  {
   "cell_type": "code",
   "execution_count": 23,
   "metadata": {
    "collapsed": true
   },
   "outputs": [],
   "source": [
    "# discount_amount\n",
    "discount_amount=x_transaction.groupby('msno',as_index=False).agg({\n",
    "    'discount_amount':[find_positive_pct, 'mean','sum',has_discount]})\n",
    "discount_amount.columns=chagne_name(discount_amount)"
   ]
  },
  {
   "cell_type": "code",
   "execution_count": null,
   "metadata": {},
   "outputs": [],
   "source": [
    "discount_amount.head(1)"
   ]
  },
  {
   "cell_type": "code",
   "execution_count": 24,
   "metadata": {
    "collapsed": true
   },
   "outputs": [],
   "source": [
    "# free\n",
    "free=x_transaction.groupby('msno',as_index=False).agg({\n",
    "    'free':['mean',has_discount]})\n",
    "free.columns=chagne_name(free)"
   ]
  },
  {
   "cell_type": "code",
   "execution_count": null,
   "metadata": {},
   "outputs": [],
   "source": [
    "free.columns"
   ]
  },
  {
   "cell_type": "code",
   "execution_count": 25,
   "metadata": {
    "collapsed": true
   },
   "outputs": [],
   "source": [
    "# length\n",
    "length=x_transaction.groupby('msno',as_index=False).agg({\n",
    "    'length':['mean','sum','std','first']}).fillna(0)"
   ]
  },
  {
   "cell_type": "code",
   "execution_count": 26,
   "metadata": {
    "collapsed": true
   },
   "outputs": [],
   "source": [
    "# another rename method\n",
    "length=change_name_2(length)"
   ]
  },
  {
   "cell_type": "code",
   "execution_count": null,
   "metadata": {},
   "outputs": [],
   "source": [
    "length.head(1)"
   ]
  },
  {
   "cell_type": "code",
   "execution_count": 27,
   "metadata": {
    "collapsed": true
   },
   "outputs": [],
   "source": [
    "# amtperday\n",
    "amtperday=x_transaction.groupby('msno',as_index=False).agg({\n",
    "    'amtperday':['mean']}).fillna(0)\n",
    "amtperday=change_name_2(amtperday)"
   ]
  },
  {
   "cell_type": "code",
   "execution_count": null,
   "metadata": {},
   "outputs": [],
   "source": [
    "amtperday.head(1)"
   ]
  },
  {
   "cell_type": "code",
   "execution_count": 28,
   "metadata": {
    "collapsed": true
   },
   "outputs": [],
   "source": [
    "# transaction_date\n",
    "transaction_date=x_transaction.groupby('msno',as_index=False).agg({\n",
    "    'transaction_date':['first']})\n",
    "transaction_date=change_name_2(transaction_date)"
   ]
  },
  {
   "cell_type": "code",
   "execution_count": 40,
   "metadata": {},
   "outputs": [],
   "source": [
    "# d_transaction\n",
    "d_transaction=x_transaction.groupby('msno',as_index=False).agg({\n",
    "    'd_transaction':['mean','std']}).fillna(0)\n",
    "d_transaction=change_name_2(d_transaction)"
   ]
  },
  {
   "cell_type": "code",
   "execution_count": null,
   "metadata": {},
   "outputs": [],
   "source": [
    "d_transaction.head(1)"
   ]
  },
  {
   "cell_type": "code",
   "execution_count": 42,
   "metadata": {
    "collapsed": true
   },
   "outputs": [],
   "source": [
    "# d_expire_date\n",
    "d_expire_date=x_transaction.groupby('msno',as_index=False).agg({\n",
    "    'd_expire_date':['mean','std','sum']}).fillna(0)\n",
    "d_expire_date=change_name_2(d_expire_date)"
   ]
  },
  {
   "cell_type": "code",
   "execution_count": null,
   "metadata": {},
   "outputs": [],
   "source": [
    "d_expire_date.head(1)"
   ]
  },
  {
   "cell_type": "code",
   "execution_count": 43,
   "metadata": {
    "collapsed": true
   },
   "outputs": [],
   "source": [
    "# potential_churn\n",
    "potential_churn=x_transaction.groupby('msno',as_index=False).agg({\n",
    "    'potential_churn':[has_discount]})\n",
    "potential_churn.columns=chagne_name(potential_churn)"
   ]
  },
  {
   "cell_type": "code",
   "execution_count": null,
   "metadata": {},
   "outputs": [],
   "source": [
    "potential_churn.head(1)"
   ]
  },
  {
   "cell_type": "code",
   "execution_count": 44,
   "metadata": {
    "collapsed": true
   },
   "outputs": [],
   "source": [
    "data_frames=[payment_method,payment_plan_days,plan_list_price,actual_amount_paid,is_auto_renew,is_cancel,discount_amount,free,length,amtperday,transaction_date,d_transaction,d_expire_date,potential_churn]"
   ]
  },
  {
   "cell_type": "code",
   "execution_count": 45,
   "metadata": {
    "collapsed": true
   },
   "outputs": [],
   "source": [
    "from functools import reduce\n",
    "df_merged = reduce(lambda  left,right: pd.merge(left,right,on=['msno'],\n",
    "                                            how='inner'), data_frames)"
   ]
  },
  {
   "cell_type": "code",
   "execution_count": 46,
   "metadata": {
    "collapsed": true
   },
   "outputs": [],
   "source": [
    "df_merged['membership_days']=df_merged['d_expire_date_sum']+df_merged['length_first'] \n",
    "# get total membership days\n",
    "df_merged=df_merged.drop(['d_expire_date_sum', 'length_first'], axis=1)"
   ]
  },
  {
   "cell_type": "code",
   "execution_count": null,
   "metadata": {
    "collapsed": true
   },
   "outputs": [],
   "source": [
    "df_merged.to_csv('../../kkbox-churn-prediction-challenge/train/X_train_transactions.csv',index=False)"
   ]
  },
  {
   "cell_type": "code",
   "execution_count": null,
   "metadata": {
    "collapsed": true
   },
   "outputs": [],
   "source": [
    "df = pd.read_csv('../../kkbox-churn-prediction-challenge/train/X_train_transactions.csv')"
   ]
  },
  {
   "cell_type": "code",
   "execution_count": null,
   "metadata": {},
   "outputs": [],
   "source": [
    "df.shape"
   ]
  }
 ],
 "metadata": {
  "kernelspec": {
   "display_name": "Python 3",
   "language": "python",
   "name": "python3"
  },
  "language_info": {
   "codemirror_mode": {
    "name": "ipython",
    "version": 3
   },
   "file_extension": ".py",
   "mimetype": "text/x-python",
   "name": "python",
   "nbconvert_exporter": "python",
   "pygments_lexer": "ipython3",
   "version": "3.6.8"
  },
  "latex_envs": {
   "LaTeX_envs_menu_present": true,
   "autoclose": false,
   "autocomplete": true,
   "bibliofile": "biblio.bib",
   "cite_by": "apalike",
   "current_citInitial": 1,
   "eqLabelWithNumbers": true,
   "eqNumInitial": 1,
   "hotkeys": {
    "equation": "Ctrl-E",
    "itemize": "Ctrl-I"
   },
   "labels_anchors": false,
   "latex_user_defs": false,
   "report_style_numbering": false,
   "user_envs_cfg": false
  }
 },
 "nbformat": 4,
 "nbformat_minor": 2
}
