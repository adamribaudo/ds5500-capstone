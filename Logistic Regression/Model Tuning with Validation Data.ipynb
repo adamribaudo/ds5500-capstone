{
 "cells": [
  {
   "cell_type": "code",
   "execution_count": 4,
   "metadata": {},
   "outputs": [],
   "source": [
    "import pandas as pd\n",
    "import numpy as np"
   ]
  },
  {
   "cell_type": "code",
   "execution_count": 5,
   "metadata": {},
   "outputs": [],
   "source": [
    "x_transaction = pd.read_csv('../../kkbox-churn-prediction-challenge/under_sample/X_val_transactions.csv')"
   ]
  },
  {
   "cell_type": "code",
   "execution_count": 7,
   "metadata": {},
   "outputs": [],
   "source": [
    "x_transaction=x_transaction.drop(['Unnamed: 0'], axis=1)"
   ]
  },
  {
   "cell_type": "code",
   "execution_count": 9,
   "metadata": {},
   "outputs": [
    {
     "data": {
      "text/plain": [
       "(110700, 9)"
      ]
     },
     "execution_count": 9,
     "metadata": {},
     "output_type": "execute_result"
    }
   ],
   "source": [
    "x_transaction.shape"
   ]
  },
  {
   "cell_type": "code",
   "execution_count": 10,
   "metadata": {},
   "outputs": [
    {
     "data": {
      "text/plain": [
       "array([    0,  -129,  -149,    30,  -119,   149,  -894,  -150,    20,\n",
       "         180,  -131, -1788,    50,  -100,  -447,  -134,   -35,  -480,\n",
       "        -500,  -799,   120])"
      ]
     },
     "execution_count": 10,
     "metadata": {},
     "output_type": "execute_result"
    }
   ],
   "source": [
    "## Discount_amount\n",
    "x_transaction['discount_amount'] = x_transaction['plan_list_price'] - x_transaction['actual_amount_paid']\n",
    "x_transaction['discount_amount'].unique()"
   ]
  },
  {
   "cell_type": "code",
   "execution_count": 11,
   "metadata": {
    "collapsed": true
   },
   "outputs": [],
   "source": [
    "# change \"plan_list_price\"\n",
    "x_transaction['plan_list_price'] = np.where(x_transaction['discount_amount']<0, x_transaction['actual_amount_paid'],x_transaction['plan_list_price'])"
   ]
  },
  {
   "cell_type": "code",
   "execution_count": 12,
   "metadata": {
    "collapsed": true
   },
   "outputs": [],
   "source": [
    "# change \"payment_plan_days\"\n",
    "conditions = [\n",
    "    (x_transaction['discount_amount'] ==-35),\n",
    "    (x_transaction['discount_amount'].isin([-149,-129,-119,-150,-100,-134,-131])),\n",
    "    (x_transaction['discount_amount'] ==-300),\n",
    "    (x_transaction['discount_amount'] ==-400),\n",
    "    (x_transaction['discount_amount'].isin([-480,-447,-450])),\n",
    "    (x_transaction['discount_amount'].isin([-894,-930,-799,-536])),\n",
    "    (x_transaction['discount_amount'] ==-1788)]\n",
    "choices = [7, 30, 60,80,90,180,365]\n",
    "x_transaction['payment_plan_days'] = np.select(conditions,choices,x_transaction['payment_plan_days'])"
   ]
  },
  {
   "cell_type": "code",
   "execution_count": 14,
   "metadata": {},
   "outputs": [
    {
     "data": {
      "text/plain": [
       "True     4738\n",
       "False       1\n",
       "Name: payment_plan_days, dtype: int64"
      ]
     },
     "execution_count": 14,
     "metadata": {},
     "output_type": "execute_result"
    }
   ],
   "source": [
    "(x_transaction[x_transaction['discount_amount']<0].payment_plan_days>0).value_counts()\n",
    "# for this record, could not predict it."
   ]
  },
  {
   "cell_type": "code",
   "execution_count": 18,
   "metadata": {},
   "outputs": [],
   "source": [
    "to_delete = x_transaction[(x_transaction['discount_amount']<0)&(x_transaction.payment_plan_days==0)]"
   ]
  },
  {
   "cell_type": "code",
   "execution_count": 22,
   "metadata": {},
   "outputs": [],
   "source": [
    "x_trainsaction=x_transaction.drop(to_delete.index)"
   ]
  },
  {
   "cell_type": "code",
   "execution_count": 24,
   "metadata": {
    "collapsed": true
   },
   "outputs": [],
   "source": [
    "# change the negative discount to be 0\n",
    "x_transaction['discount_amount'] = np.where(x_transaction['discount_amount']<0, 0, x_transaction['discount_amount'])"
   ]
  },
  {
   "cell_type": "code",
   "execution_count": 25,
   "metadata": {
    "collapsed": true
   },
   "outputs": [],
   "source": [
    "# get a new column called free\n",
    "x_transaction['free']=0\n",
    "x_transaction['free'] = np.where(x_transaction['actual_amount_paid']==0, 1, x_transaction['free'])"
   ]
  },
  {
   "cell_type": "code",
   "execution_count": 26,
   "metadata": {
    "collapsed": true
   },
   "outputs": [],
   "source": [
    "x_transaction=x_transaction.sort_values(by=['msno', 'transaction_date'])"
   ]
  },
  {
   "cell_type": "code",
   "execution_count": 27,
   "metadata": {
    "collapsed": true
   },
   "outputs": [],
   "source": [
    "# days between transaction & expiration\n",
    "x_transaction.membership_expire_date=pd.to_datetime(x_transaction.membership_expire_date, format=\"%Y%m%d\")\n",
    "x_transaction.transaction_date=pd.to_datetime(x_transaction.transaction_date, format=\"%Y%m%d\")\n",
    "x_transaction['length']=(x_transaction['membership_expire_date']-x_transaction['transaction_date']).dt.days\n",
    "\n",
    "# the average amount paid by user in each payment\n",
    "x_transaction['amtperday']=x_transaction['actual_amount_paid']/x_transaction['payment_plan_days']"
   ]
  },
  {
   "cell_type": "code",
   "execution_count": 28,
   "metadata": {
    "collapsed": true
   },
   "outputs": [],
   "source": [
    "# get the consecutive difference from rows\n",
    "x_transaction[\"d_transaction\"] = x_transaction[\"transaction_date\"].diff(1).fillna(0).astype('timedelta64[D]').astype(int)\n",
    "x_transaction.d_transaction = np.where(x_transaction.d_transaction < 0, 0,x_transaction.d_transaction)"
   ]
  },
  {
   "cell_type": "code",
   "execution_count": 29,
   "metadata": {
    "collapsed": true
   },
   "outputs": [],
   "source": [
    "# same for expire_date\n",
    "x_transaction[\"d_expire_date\"] = x_transaction[\"membership_expire_date\"].diff(1).fillna(0).astype('timedelta64[D]').astype(int)\n",
    "x_transaction.d_expire_date = np.where(x_transaction.d_expire_date < 0, 0,x_transaction.d_expire_date)"
   ]
  },
  {
   "cell_type": "code",
   "execution_count": 30,
   "metadata": {
    "collapsed": true
   },
   "outputs": [],
   "source": [
    "#potential churn\n",
    "from datetime import datetime\n",
    "startdate = datetime(2017, 2, 1)\n",
    "enddate = datetime(2017, 2, 28)\n",
    "x_transaction['potential_churn'] = np.where((x_transaction['is_auto_renew']==0)&(x_transaction['membership_expire_date']>=startdate) \n",
    "                                            & (x_transaction['membership_expire_date'] <= enddate), 1,0)"
   ]
  },
  {
   "cell_type": "markdown",
   "metadata": {},
   "source": [
    "### Groupby"
   ]
  },
  {
   "cell_type": "code",
   "execution_count": 31,
   "metadata": {
    "collapsed": true
   },
   "outputs": [],
   "source": [
    "# define some common used funcitons\n",
    "most_common = lambda x: pd.Series.mode(x)[0]\n",
    "most_common.__name__ = 'most_common'\n",
    "max_min_diff = lambda x: x.max() - x.min()\n",
    "max_min_diff.__name__ = 'max_min_diff'\n",
    "def pcet_of_zero(x):\n",
    "    return 1-(x.mean())\n",
    "def change_or_not(x):\n",
    "    return (x.nunique()-1)\n",
    "def find_positive_pct(x):\n",
    "    return ((x>0).sum()/x.count())\n",
    "def has_discount(x):\n",
    "    return x.nunique()>1\n",
    "\n",
    "# def change column name\n",
    "def chagne_name(df):\n",
    "    table = df.columns.levels[0][0]+\"_\"\n",
    "    cols=df.columns.levels[1]\n",
    "    cols=cols[-1:]+cols[:-1]\n",
    "    cols=[\"{}\".format(table) + s for s in cols]\n",
    "    cols.insert(0, \"msno\")\n",
    "    return cols\n",
    "\n",
    "# def change column name 2:\n",
    "def change_name_2(df):\n",
    "    df.columns = [\"_\".join(x) for x in df.columns.ravel()]\n",
    "    df.rename(columns={'msno_':'msno'}, inplace=True)\n",
    "    return df"
   ]
  },
  {
   "cell_type": "code",
   "execution_count": null,
   "metadata": {
    "collapsed": true
   },
   "outputs": [],
   "source": [
    "# payment_method\n",
    "payment_method=x_transaction.groupby('msno',as_index=False).agg({\n",
    "    'payment_method_id':['nunique',most_common]})\n",
    "payment_method.columns=chagne_name(payment_method)"
   ]
  },
  {
   "cell_type": "code",
   "execution_count": null,
   "metadata": {
    "collapsed": true
   },
   "outputs": [],
   "source": [
    "# payment_plan_days\n",
    "payment_plan_days=x_transaction.groupby('msno',as_index=False).agg({\n",
    "    'payment_plan_days':['nunique',most_common]})\n",
    "payment_plan_days.columns=chagne_name(payment_plan_days)"
   ]
  },
  {
   "cell_type": "code",
   "execution_count": null,
   "metadata": {
    "collapsed": true
   },
   "outputs": [],
   "source": [
    "# plan_list_price\n",
    "plan_list_price=x_transaction.groupby('msno',as_index=False).agg({\n",
    "    'plan_list_price':['nunique', most_common,'mean',max_min_diff]})\n",
    "plan_list_price.columns=chagne_name(plan_list_price)"
   ]
  },
  {
   "cell_type": "code",
   "execution_count": null,
   "metadata": {
    "collapsed": true
   },
   "outputs": [],
   "source": [
    "# actual_amount_paid\n",
    "actual_amount_paid=x_transaction.groupby('msno',as_index=False).agg({\n",
    "    'actual_amount_paid':['nunique', most_common,'mean',max_min_diff]})\n",
    "actual_amount_paid.columns=chagne_name(actual_amount_paid)"
   ]
  },
  {
   "cell_type": "code",
   "execution_count": null,
   "metadata": {
    "collapsed": true
   },
   "outputs": [],
   "source": [
    "# is_auto_renew\n",
    "is_auto_renew=x_transaction.groupby('msno',as_index=False).agg({\n",
    "    'is_auto_renew':[pcet_of_zero, change_or_not,most_common]})\n",
    "is_auto_renew.columns=chagne_name(is_auto_renew)"
   ]
  },
  {
   "cell_type": "code",
   "execution_count": null,
   "metadata": {
    "collapsed": true
   },
   "outputs": [],
   "source": [
    "# is_cancel\n",
    "is_cancel=x_transaction.groupby('msno',as_index=False).agg({\n",
    "    'is_cancel':['mean', change_or_not]})\n",
    "is_cancel.columns=chagne_name(is_cancel)"
   ]
  },
  {
   "cell_type": "code",
   "execution_count": null,
   "metadata": {
    "collapsed": true
   },
   "outputs": [],
   "source": [
    "# discount_amount\n",
    "discount_amount=x_transaction.groupby('msno',as_index=False).agg({\n",
    "    'discount_amount':[find_positive_pct, 'mean','sum',has_discount]})\n",
    "discount_amount.columns=chagne_name(discount_amount)"
   ]
  },
  {
   "cell_type": "code",
   "execution_count": null,
   "metadata": {
    "collapsed": true
   },
   "outputs": [],
   "source": [
    "# free\n",
    "free=x_transaction.groupby('msno',as_index=False).agg({\n",
    "    'free':['mean',has_discount]})\n",
    "free.columns=chagne_name(free)"
   ]
  },
  {
   "cell_type": "code",
   "execution_count": null,
   "metadata": {
    "collapsed": true
   },
   "outputs": [],
   "source": [
    "# length\n",
    "length=x_transaction.groupby('msno',as_index=False).agg({\n",
    "    'length':['mean','sum','std','first']}).fillna(0)\n",
    "length=change_name_2(length)"
   ]
  },
  {
   "cell_type": "code",
   "execution_count": null,
   "metadata": {
    "collapsed": true
   },
   "outputs": [],
   "source": [
    "# amtperday\n",
    "amtperday=x_transaction.groupby('msno',as_index=False).agg({\n",
    "    'amtperday':['mean']}).fillna(0)\n",
    "amtperday=change_name_2(amtperday)"
   ]
  },
  {
   "cell_type": "code",
   "execution_count": null,
   "metadata": {
    "collapsed": true
   },
   "outputs": [],
   "source": [
    "# transaction_date\n",
    "transaction_date=x_transaction.groupby('msno',as_index=False).agg({\n",
    "    'transaction_date':['first']})\n",
    "transaction_date=change_name_2(transaction_date)"
   ]
  },
  {
   "cell_type": "code",
   "execution_count": null,
   "metadata": {
    "collapsed": true
   },
   "outputs": [],
   "source": [
    "# d_transaction\n",
    "d_transaction=x_transaction.groupby('msno',as_index=False).agg({\n",
    "    'd_transaction':['mean','std']}).fillna(0)\n",
    "d_transaction=change_name_2(d_transaction)"
   ]
  },
  {
   "cell_type": "code",
   "execution_count": null,
   "metadata": {
    "collapsed": true
   },
   "outputs": [],
   "source": [
    "# d_expire_date\n",
    "d_expire_date=x_transaction.groupby('msno',as_index=False).agg({\n",
    "    'd_expire_date':['mean','std','sum']}).fillna(0)\n",
    "d_expire_date=change_name_2(d_expire_date)"
   ]
  },
  {
   "cell_type": "code",
   "execution_count": null,
   "metadata": {
    "collapsed": true
   },
   "outputs": [],
   "source": [
    "# potential_churn\n",
    "potential_churn=x_transaction.groupby('msno',as_index=False).agg({\n",
    "    'potential_churn':[has_discount]})\n",
    "potential_churn.columns=chagne_name(potential_churn)"
   ]
  },
  {
   "cell_type": "code",
   "execution_count": null,
   "metadata": {
    "collapsed": true
   },
   "outputs": [],
   "source": [
    "data_frames=[payment_method,payment_plan_days,plan_list_price,actual_amount_paid,is_auto_renew,is_cancel,discount_amount,free,length,amtperday,transaction_date,d_transaction,d_expire_date,potential_churn]"
   ]
  },
  {
   "cell_type": "code",
   "execution_count": null,
   "metadata": {
    "collapsed": true
   },
   "outputs": [],
   "source": [
    "from functools import reduce\n",
    "df_merged = reduce(lambda  left,right: pd.merge(left,right,on=['msno'],\n",
    "                                            how='inner'), data_frames)"
   ]
  },
  {
   "cell_type": "code",
   "execution_count": null,
   "metadata": {
    "collapsed": true
   },
   "outputs": [],
   "source": [
    "df_merged['membership_days']=df_merged['d_expire_date_sum']+df_merged['length_first'] \n",
    "# get total membership days\n",
    "df_merged=df_merged.drop(['d_expire_date_sum', 'length_first'], axis=1)"
   ]
  }
 ],
 "metadata": {
  "kernelspec": {
   "display_name": "Python 3",
   "language": "python",
   "name": "python3"
  },
  "language_info": {
   "codemirror_mode": {
    "name": "ipython",
    "version": 3
   },
   "file_extension": ".py",
   "mimetype": "text/x-python",
   "name": "python",
   "nbconvert_exporter": "python",
   "pygments_lexer": "ipython3",
   "version": "3.6.8"
  }
 },
 "nbformat": 4,
 "nbformat_minor": 2
}
