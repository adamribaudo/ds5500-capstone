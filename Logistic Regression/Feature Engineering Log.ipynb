{
 "cells": [
  {
   "cell_type": "code",
   "execution_count": 2,
   "metadata": {
    "collapsed": true
   },
   "outputs": [],
   "source": [
    "import numpy as np \n",
    "import pandas as pd"
   ]
  },
  {
   "cell_type": "code",
   "execution_count": 3,
   "metadata": {},
   "outputs": [
    {
     "data": {
      "text/html": [
       "<div>\n",
       "<style>\n",
       "    .dataframe thead tr:only-child th {\n",
       "        text-align: right;\n",
       "    }\n",
       "\n",
       "    .dataframe thead th {\n",
       "        text-align: left;\n",
       "    }\n",
       "\n",
       "    .dataframe tbody tr th {\n",
       "        vertical-align: top;\n",
       "    }\n",
       "</style>\n",
       "<table border=\"1\" class=\"dataframe\">\n",
       "  <thead>\n",
       "    <tr style=\"text-align: right;\">\n",
       "      <th></th>\n",
       "      <th>msno</th>\n",
       "      <th>date</th>\n",
       "      <th>num_25</th>\n",
       "      <th>num_50</th>\n",
       "      <th>num_75</th>\n",
       "      <th>num_985</th>\n",
       "      <th>num_100</th>\n",
       "      <th>num_unq</th>\n",
       "      <th>total_secs</th>\n",
       "    </tr>\n",
       "  </thead>\n",
       "  <tbody>\n",
       "    <tr>\n",
       "      <th>0</th>\n",
       "      <td>hePJH9i2QLQSdVbNbe3s8lMup/75ZtENm0CTaOT0LwI=</td>\n",
       "      <td>2016-11-29T00:00:00</td>\n",
       "      <td>11</td>\n",
       "      <td>3</td>\n",
       "      <td>5</td>\n",
       "      <td>1</td>\n",
       "      <td>31</td>\n",
       "      <td>37</td>\n",
       "      <td>9115.098</td>\n",
       "    </tr>\n",
       "  </tbody>\n",
       "</table>\n",
       "</div>"
      ],
      "text/plain": [
       "                                           msno                 date  num_25  \\\n",
       "0  hePJH9i2QLQSdVbNbe3s8lMup/75ZtENm0CTaOT0LwI=  2016-11-29T00:00:00      11   \n",
       "\n",
       "   num_50  num_75  num_985  num_100  num_unq  total_secs  \n",
       "0       3       5        1       31       37    9115.098  "
      ]
     },
     "execution_count": 3,
     "metadata": {},
     "output_type": "execute_result"
    }
   ],
   "source": [
    "x_log = pd.read_csv('../../kkbox-churn-prediction-challenge/under_sample/X_train_user_logs.csv')\n",
    "x_log=x_log.drop(['Unnamed: 0'], axis=1)\n",
    "x_log.head(1)"
   ]
  },
  {
   "cell_type": "code",
   "execution_count": 4,
   "metadata": {
    "collapsed": true
   },
   "outputs": [],
   "source": [
    "x_log=x_log.sort_values(by=['msno', 'date'])"
   ]
  },
  {
   "cell_type": "code",
   "execution_count": 5,
   "metadata": {
    "collapsed": true
   },
   "outputs": [],
   "source": [
    "# def change column name 2:\n",
    "def change_name_2(df):\n",
    "    df.columns = [\"_\".join(x) for x in df.columns.ravel()]\n",
    "    df.rename(columns={'msno_':'msno'}, inplace=True)\n",
    "    return df"
   ]
  },
  {
   "cell_type": "code",
   "execution_count": 6,
   "metadata": {
    "collapsed": true
   },
   "outputs": [],
   "source": [
    "# date\n",
    "date=x_log.groupby('msno',as_index=False).agg({\n",
    "    'date':['count','first']})"
   ]
  },
  {
   "cell_type": "code",
   "execution_count": 7,
   "metadata": {
    "collapsed": true
   },
   "outputs": [],
   "source": [
    "date = change_name_2(date)"
   ]
  },
  {
   "cell_type": "code",
   "execution_count": 8,
   "metadata": {},
   "outputs": [
    {
     "data": {
      "text/html": [
       "<div>\n",
       "<style>\n",
       "    .dataframe thead tr:only-child th {\n",
       "        text-align: right;\n",
       "    }\n",
       "\n",
       "    .dataframe thead th {\n",
       "        text-align: left;\n",
       "    }\n",
       "\n",
       "    .dataframe tbody tr th {\n",
       "        vertical-align: top;\n",
       "    }\n",
       "</style>\n",
       "<table border=\"1\" class=\"dataframe\">\n",
       "  <thead>\n",
       "    <tr style=\"text-align: right;\">\n",
       "      <th></th>\n",
       "      <th>msno</th>\n",
       "      <th>date_count</th>\n",
       "      <th>date_first</th>\n",
       "    </tr>\n",
       "  </thead>\n",
       "  <tbody>\n",
       "    <tr>\n",
       "      <th>0</th>\n",
       "      <td>++DcyRE+ZfLtlKGigvv9dv5EQ4KAhHhiN9LM9X+F1vw=</td>\n",
       "      <td>527</td>\n",
       "      <td>2015-01-01T00:00:00</td>\n",
       "    </tr>\n",
       "  </tbody>\n",
       "</table>\n",
       "</div>"
      ],
      "text/plain": [
       "                                           msno  date_count  \\\n",
       "0  ++DcyRE+ZfLtlKGigvv9dv5EQ4KAhHhiN9LM9X+F1vw=         527   \n",
       "\n",
       "            date_first  \n",
       "0  2015-01-01T00:00:00  "
      ]
     },
     "execution_count": 8,
     "metadata": {},
     "output_type": "execute_result"
    }
   ],
   "source": [
    "date.head(1)"
   ]
  },
  {
   "cell_type": "code",
   "execution_count": 9,
   "metadata": {},
   "outputs": [
    {
     "data": {
      "text/plain": [
       "Index(['msno', 'date', 'num_25', 'num_50', 'num_75', 'num_985', 'num_100',\n",
       "       'num_unq', 'total_secs'],\n",
       "      dtype='object')"
      ]
     },
     "execution_count": 9,
     "metadata": {},
     "output_type": "execute_result"
    }
   ],
   "source": [
    "x_log.columns"
   ]
  },
  {
   "cell_type": "code",
   "execution_count": 11,
   "metadata": {
    "collapsed": true
   },
   "outputs": [],
   "source": [
    "cols = ['num_25', 'num_50', 'num_75', 'num_985', 'num_100',\n",
    "       'num_unq', 'total_secs']\n",
    "df_merged = date\n",
    "for i in cols:\n",
    "    df = x_log.groupby('msno',as_index=False).agg({i:['sum','mean','std']}).fillna(0)\n",
    "    df=change_name_2(df)\n",
    "    df_merged = pd.merge(df_merged,df,on=['msno'],how='inner')"
   ]
  },
  {
   "cell_type": "code",
   "execution_count": 15,
   "metadata": {
    "collapsed": true
   },
   "outputs": [],
   "source": [
    "# num_25\n",
    "num_25=x_log.groupby('msno',as_index=False).agg({\n",
    "    'num_25':['sum','mean','std']}).fillna(0)"
   ]
  },
  {
   "cell_type": "code",
   "execution_count": 16,
   "metadata": {
    "collapsed": true
   },
   "outputs": [],
   "source": [
    "num_25 = change_name_2(num_25)"
   ]
  },
  {
   "cell_type": "code",
   "execution_count": 17,
   "metadata": {},
   "outputs": [
    {
     "data": {
      "text/html": [
       "<div>\n",
       "<style>\n",
       "    .dataframe thead tr:only-child th {\n",
       "        text-align: right;\n",
       "    }\n",
       "\n",
       "    .dataframe thead th {\n",
       "        text-align: left;\n",
       "    }\n",
       "\n",
       "    .dataframe tbody tr th {\n",
       "        vertical-align: top;\n",
       "    }\n",
       "</style>\n",
       "<table border=\"1\" class=\"dataframe\">\n",
       "  <thead>\n",
       "    <tr style=\"text-align: right;\">\n",
       "      <th></th>\n",
       "      <th>msno</th>\n",
       "      <th>num_25_sum</th>\n",
       "      <th>num_25_mean</th>\n",
       "      <th>num_25_std</th>\n",
       "    </tr>\n",
       "  </thead>\n",
       "  <tbody>\n",
       "    <tr>\n",
       "      <th>0</th>\n",
       "      <td>++DcyRE+ZfLtlKGigvv9dv5EQ4KAhHhiN9LM9X+F1vw=</td>\n",
       "      <td>1515</td>\n",
       "      <td>2.874763</td>\n",
       "      <td>5.10456</td>\n",
       "    </tr>\n",
       "  </tbody>\n",
       "</table>\n",
       "</div>"
      ],
      "text/plain": [
       "                                           msno  num_25_sum  num_25_mean  \\\n",
       "0  ++DcyRE+ZfLtlKGigvv9dv5EQ4KAhHhiN9LM9X+F1vw=        1515     2.874763   \n",
       "\n",
       "   num_25_std  \n",
       "0     5.10456  "
      ]
     },
     "execution_count": 17,
     "metadata": {},
     "output_type": "execute_result"
    }
   ],
   "source": [
    "num_25.head(1)"
   ]
  },
  {
   "cell_type": "code",
   "execution_count": 18,
   "metadata": {
    "collapsed": true
   },
   "outputs": [],
   "source": [
    "# num_50\n",
    "num_50=x_log.groupby('msno',as_index=False).agg({\n",
    "    'num_50':['sum','mean','std']}).fillna(0)\n",
    "num_50 = change_name_2(num_50)"
   ]
  },
  {
   "cell_type": "code",
   "execution_count": 19,
   "metadata": {},
   "outputs": [
    {
     "data": {
      "text/html": [
       "<div>\n",
       "<style>\n",
       "    .dataframe thead tr:only-child th {\n",
       "        text-align: right;\n",
       "    }\n",
       "\n",
       "    .dataframe thead th {\n",
       "        text-align: left;\n",
       "    }\n",
       "\n",
       "    .dataframe tbody tr th {\n",
       "        vertical-align: top;\n",
       "    }\n",
       "</style>\n",
       "<table border=\"1\" class=\"dataframe\">\n",
       "  <thead>\n",
       "    <tr style=\"text-align: right;\">\n",
       "      <th></th>\n",
       "      <th>msno</th>\n",
       "      <th>num_50_sum</th>\n",
       "      <th>num_50_mean</th>\n",
       "      <th>num_50_std</th>\n",
       "    </tr>\n",
       "  </thead>\n",
       "  <tbody>\n",
       "    <tr>\n",
       "      <th>0</th>\n",
       "      <td>++DcyRE+ZfLtlKGigvv9dv5EQ4KAhHhiN9LM9X+F1vw=</td>\n",
       "      <td>411</td>\n",
       "      <td>0.779886</td>\n",
       "      <td>1.230526</td>\n",
       "    </tr>\n",
       "  </tbody>\n",
       "</table>\n",
       "</div>"
      ],
      "text/plain": [
       "                                           msno  num_50_sum  num_50_mean  \\\n",
       "0  ++DcyRE+ZfLtlKGigvv9dv5EQ4KAhHhiN9LM9X+F1vw=         411     0.779886   \n",
       "\n",
       "   num_50_std  \n",
       "0    1.230526  "
      ]
     },
     "execution_count": 19,
     "metadata": {},
     "output_type": "execute_result"
    }
   ],
   "source": [
    "num_50.head(1)"
   ]
  },
  {
   "cell_type": "code",
   "execution_count": 20,
   "metadata": {
    "collapsed": true
   },
   "outputs": [],
   "source": [
    "#num_75\n",
    "num_75=x_log.groupby('msno',as_index=False).agg({\n",
    "    'num_75':['sum','mean','std']}).fillna(0)\n",
    "num_75 = change_name_2(num_75)"
   ]
  },
  {
   "cell_type": "code",
   "execution_count": 21,
   "metadata": {},
   "outputs": [
    {
     "data": {
      "text/html": [
       "<div>\n",
       "<style>\n",
       "    .dataframe thead tr:only-child th {\n",
       "        text-align: right;\n",
       "    }\n",
       "\n",
       "    .dataframe thead th {\n",
       "        text-align: left;\n",
       "    }\n",
       "\n",
       "    .dataframe tbody tr th {\n",
       "        vertical-align: top;\n",
       "    }\n",
       "</style>\n",
       "<table border=\"1\" class=\"dataframe\">\n",
       "  <thead>\n",
       "    <tr style=\"text-align: right;\">\n",
       "      <th></th>\n",
       "      <th>msno</th>\n",
       "      <th>num_75_sum</th>\n",
       "      <th>num_75_mean</th>\n",
       "      <th>num_75_std</th>\n",
       "    </tr>\n",
       "  </thead>\n",
       "  <tbody>\n",
       "    <tr>\n",
       "      <th>0</th>\n",
       "      <td>++DcyRE+ZfLtlKGigvv9dv5EQ4KAhHhiN9LM9X+F1vw=</td>\n",
       "      <td>364</td>\n",
       "      <td>0.690702</td>\n",
       "      <td>1.073873</td>\n",
       "    </tr>\n",
       "  </tbody>\n",
       "</table>\n",
       "</div>"
      ],
      "text/plain": [
       "                                           msno  num_75_sum  num_75_mean  \\\n",
       "0  ++DcyRE+ZfLtlKGigvv9dv5EQ4KAhHhiN9LM9X+F1vw=         364     0.690702   \n",
       "\n",
       "   num_75_std  \n",
       "0    1.073873  "
      ]
     },
     "execution_count": 21,
     "metadata": {},
     "output_type": "execute_result"
    }
   ],
   "source": [
    "num_75.head(1)"
   ]
  },
  {
   "cell_type": "code",
   "execution_count": 23,
   "metadata": {},
   "outputs": [
    {
     "data": {
      "text/html": [
       "<div>\n",
       "<style>\n",
       "    .dataframe thead tr:only-child th {\n",
       "        text-align: right;\n",
       "    }\n",
       "\n",
       "    .dataframe thead th {\n",
       "        text-align: left;\n",
       "    }\n",
       "\n",
       "    .dataframe tbody tr th {\n",
       "        vertical-align: top;\n",
       "    }\n",
       "</style>\n",
       "<table border=\"1\" class=\"dataframe\">\n",
       "  <thead>\n",
       "    <tr style=\"text-align: right;\">\n",
       "      <th></th>\n",
       "      <th>msno</th>\n",
       "      <th>num_985_sum</th>\n",
       "      <th>num_985_mean</th>\n",
       "      <th>num_985_std</th>\n",
       "    </tr>\n",
       "  </thead>\n",
       "  <tbody>\n",
       "    <tr>\n",
       "      <th>0</th>\n",
       "      <td>++DcyRE+ZfLtlKGigvv9dv5EQ4KAhHhiN9LM9X+F1vw=</td>\n",
       "      <td>586</td>\n",
       "      <td>1.111954</td>\n",
       "      <td>2.351439</td>\n",
       "    </tr>\n",
       "  </tbody>\n",
       "</table>\n",
       "</div>"
      ],
      "text/plain": [
       "                                           msno  num_985_sum  num_985_mean  \\\n",
       "0  ++DcyRE+ZfLtlKGigvv9dv5EQ4KAhHhiN9LM9X+F1vw=          586      1.111954   \n",
       "\n",
       "   num_985_std  \n",
       "0     2.351439  "
      ]
     },
     "execution_count": 23,
     "metadata": {},
     "output_type": "execute_result"
    }
   ],
   "source": [
    "#num_985\n",
    "num_985=x_log.groupby('msno',as_index=False).agg({\n",
    "    'num_985':['sum','mean','std']}).fillna(0)\n",
    "num_985 = change_name_2(num_985)\n",
    "num_985.head(1)"
   ]
  },
  {
   "cell_type": "code",
   "execution_count": 27,
   "metadata": {},
   "outputs": [
    {
     "data": {
      "text/html": [
       "<div>\n",
       "<style>\n",
       "    .dataframe thead tr:only-child th {\n",
       "        text-align: right;\n",
       "    }\n",
       "\n",
       "    .dataframe thead th {\n",
       "        text-align: left;\n",
       "    }\n",
       "\n",
       "    .dataframe tbody tr th {\n",
       "        vertical-align: top;\n",
       "    }\n",
       "</style>\n",
       "<table border=\"1\" class=\"dataframe\">\n",
       "  <thead>\n",
       "    <tr style=\"text-align: right;\">\n",
       "      <th></th>\n",
       "      <th>msno</th>\n",
       "      <th>num_100_sum</th>\n",
       "      <th>num_100_mean</th>\n",
       "      <th>num_100_std</th>\n",
       "    </tr>\n",
       "  </thead>\n",
       "  <tbody>\n",
       "    <tr>\n",
       "      <th>0</th>\n",
       "      <td>++DcyRE+ZfLtlKGigvv9dv5EQ4KAhHhiN9LM9X+F1vw=</td>\n",
       "      <td>23359</td>\n",
       "      <td>44.324478</td>\n",
       "      <td>40.726191</td>\n",
       "    </tr>\n",
       "  </tbody>\n",
       "</table>\n",
       "</div>"
      ],
      "text/plain": [
       "                                           msno  num_100_sum  num_100_mean  \\\n",
       "0  ++DcyRE+ZfLtlKGigvv9dv5EQ4KAhHhiN9LM9X+F1vw=        23359     44.324478   \n",
       "\n",
       "   num_100_std  \n",
       "0    40.726191  "
      ]
     },
     "execution_count": 27,
     "metadata": {},
     "output_type": "execute_result"
    }
   ],
   "source": [
    "#num_100\n",
    "num_100=x_log.groupby('msno',as_index=False).agg({\n",
    "    'num_100':['sum','mean','std']}).fillna(0)\n",
    "num_100 = change_name_2(num_100)\n",
    "num_100.head(1)"
   ]
  },
  {
   "cell_type": "code",
   "execution_count": 24,
   "metadata": {},
   "outputs": [
    {
     "data": {
      "text/html": [
       "<div>\n",
       "<style>\n",
       "    .dataframe thead tr:only-child th {\n",
       "        text-align: right;\n",
       "    }\n",
       "\n",
       "    .dataframe thead th {\n",
       "        text-align: left;\n",
       "    }\n",
       "\n",
       "    .dataframe tbody tr th {\n",
       "        vertical-align: top;\n",
       "    }\n",
       "</style>\n",
       "<table border=\"1\" class=\"dataframe\">\n",
       "  <thead>\n",
       "    <tr style=\"text-align: right;\">\n",
       "      <th></th>\n",
       "      <th>msno</th>\n",
       "      <th>num_unq_sum</th>\n",
       "      <th>num_unq_mean</th>\n",
       "      <th>num_unq_std</th>\n",
       "    </tr>\n",
       "  </thead>\n",
       "  <tbody>\n",
       "    <tr>\n",
       "      <th>0</th>\n",
       "      <td>++DcyRE+ZfLtlKGigvv9dv5EQ4KAhHhiN9LM9X+F1vw=</td>\n",
       "      <td>16546</td>\n",
       "      <td>31.396584</td>\n",
       "      <td>26.188412</td>\n",
       "    </tr>\n",
       "  </tbody>\n",
       "</table>\n",
       "</div>"
      ],
      "text/plain": [
       "                                           msno  num_unq_sum  num_unq_mean  \\\n",
       "0  ++DcyRE+ZfLtlKGigvv9dv5EQ4KAhHhiN9LM9X+F1vw=        16546     31.396584   \n",
       "\n",
       "   num_unq_std  \n",
       "0    26.188412  "
      ]
     },
     "execution_count": 24,
     "metadata": {},
     "output_type": "execute_result"
    }
   ],
   "source": [
    "#num_unq\n",
    "num_unq=x_log.groupby('msno',as_index=False).agg({\n",
    "    'num_unq':['sum','mean','std']}).fillna(0)\n",
    "num_unq = change_name_2(num_unq)\n",
    "num_unq.head(1)"
   ]
  },
  {
   "cell_type": "code",
   "execution_count": 25,
   "metadata": {},
   "outputs": [
    {
     "data": {
      "text/html": [
       "<div>\n",
       "<style>\n",
       "    .dataframe thead tr:only-child th {\n",
       "        text-align: right;\n",
       "    }\n",
       "\n",
       "    .dataframe thead th {\n",
       "        text-align: left;\n",
       "    }\n",
       "\n",
       "    .dataframe tbody tr th {\n",
       "        vertical-align: top;\n",
       "    }\n",
       "</style>\n",
       "<table border=\"1\" class=\"dataframe\">\n",
       "  <thead>\n",
       "    <tr style=\"text-align: right;\">\n",
       "      <th></th>\n",
       "      <th>msno</th>\n",
       "      <th>total_secs_sum</th>\n",
       "      <th>total_secs_mean</th>\n",
       "      <th>total_secs_std</th>\n",
       "    </tr>\n",
       "  </thead>\n",
       "  <tbody>\n",
       "    <tr>\n",
       "      <th>0</th>\n",
       "      <td>++DcyRE+ZfLtlKGigvv9dv5EQ4KAhHhiN9LM9X+F1vw=</td>\n",
       "      <td>6063712.469</td>\n",
       "      <td>11506.095767</td>\n",
       "      <td>10141.873981</td>\n",
       "    </tr>\n",
       "  </tbody>\n",
       "</table>\n",
       "</div>"
      ],
      "text/plain": [
       "                                           msno  total_secs_sum  \\\n",
       "0  ++DcyRE+ZfLtlKGigvv9dv5EQ4KAhHhiN9LM9X+F1vw=     6063712.469   \n",
       "\n",
       "   total_secs_mean  total_secs_std  \n",
       "0     11506.095767    10141.873981  "
      ]
     },
     "execution_count": 25,
     "metadata": {},
     "output_type": "execute_result"
    }
   ],
   "source": [
    "#total_secs\n",
    "total_secs=x_log.groupby('msno',as_index=False).agg({\n",
    "    'total_secs':['sum','mean','std']}).fillna(0)\n",
    "total_secs = change_name_2(total_secs)\n",
    "total_secs.head(1)"
   ]
  },
  {
   "cell_type": "code",
   "execution_count": 28,
   "metadata": {
    "collapsed": true
   },
   "outputs": [],
   "source": [
    "data_frames=[date,num_25,num_50,num_75,num_985,num_100,num_unq,total_secs]"
   ]
  },
  {
   "cell_type": "code",
   "execution_count": 29,
   "metadata": {
    "collapsed": true
   },
   "outputs": [],
   "source": [
    "from functools import reduce\n",
    "df_merged = reduce(lambda  left,right: pd.merge(left,right,on=['msno'],\n",
    "                                            how='inner'), data_frames)"
   ]
  },
  {
   "cell_type": "code",
   "execution_count": 30,
   "metadata": {},
   "outputs": [
    {
     "data": {
      "text/plain": [
       "(24798, 24)"
      ]
     },
     "execution_count": 30,
     "metadata": {},
     "output_type": "execute_result"
    }
   ],
   "source": [
    "df_merged.shape"
   ]
  },
  {
   "cell_type": "code",
   "execution_count": 31,
   "metadata": {
    "collapsed": true
   },
   "outputs": [],
   "source": [
    "df_merged.to_csv('../../kkbox-churn-prediction-challenge/train/X_train_user_logs.csv',index=False)"
   ]
  },
  {
   "cell_type": "code",
   "execution_count": 32,
   "metadata": {
    "collapsed": true
   },
   "outputs": [],
   "source": [
    "df = pd.read_csv('../../kkbox-churn-prediction-challenge/train/X_train_user_logs.csv')"
   ]
  },
  {
   "cell_type": "code",
   "execution_count": 33,
   "metadata": {},
   "outputs": [
    {
     "data": {
      "text/html": [
       "<div>\n",
       "<style>\n",
       "    .dataframe thead tr:only-child th {\n",
       "        text-align: right;\n",
       "    }\n",
       "\n",
       "    .dataframe thead th {\n",
       "        text-align: left;\n",
       "    }\n",
       "\n",
       "    .dataframe tbody tr th {\n",
       "        vertical-align: top;\n",
       "    }\n",
       "</style>\n",
       "<table border=\"1\" class=\"dataframe\">\n",
       "  <thead>\n",
       "    <tr style=\"text-align: right;\">\n",
       "      <th></th>\n",
       "      <th>msno</th>\n",
       "      <th>date_count</th>\n",
       "      <th>date_first</th>\n",
       "      <th>num_25_sum</th>\n",
       "      <th>num_25_mean</th>\n",
       "      <th>num_25_std</th>\n",
       "      <th>num_50_sum</th>\n",
       "      <th>num_50_mean</th>\n",
       "      <th>num_50_std</th>\n",
       "      <th>num_75_sum</th>\n",
       "      <th>...</th>\n",
       "      <th>num_985_std</th>\n",
       "      <th>num_100_sum</th>\n",
       "      <th>num_100_mean</th>\n",
       "      <th>num_100_std</th>\n",
       "      <th>num_unq_sum</th>\n",
       "      <th>num_unq_mean</th>\n",
       "      <th>num_unq_std</th>\n",
       "      <th>total_secs_sum</th>\n",
       "      <th>total_secs_mean</th>\n",
       "      <th>total_secs_std</th>\n",
       "    </tr>\n",
       "  </thead>\n",
       "  <tbody>\n",
       "    <tr>\n",
       "      <th>0</th>\n",
       "      <td>++DcyRE+ZfLtlKGigvv9dv5EQ4KAhHhiN9LM9X+F1vw=</td>\n",
       "      <td>527</td>\n",
       "      <td>2015-01-01T00:00:00</td>\n",
       "      <td>1515</td>\n",
       "      <td>2.874763</td>\n",
       "      <td>5.10456</td>\n",
       "      <td>411</td>\n",
       "      <td>0.779886</td>\n",
       "      <td>1.230526</td>\n",
       "      <td>364</td>\n",
       "      <td>...</td>\n",
       "      <td>2.351439</td>\n",
       "      <td>23359</td>\n",
       "      <td>44.324478</td>\n",
       "      <td>40.726191</td>\n",
       "      <td>16546</td>\n",
       "      <td>31.396584</td>\n",
       "      <td>26.188412</td>\n",
       "      <td>6063712.469</td>\n",
       "      <td>11506.095767</td>\n",
       "      <td>10141.873981</td>\n",
       "    </tr>\n",
       "  </tbody>\n",
       "</table>\n",
       "<p>1 rows × 24 columns</p>\n",
       "</div>"
      ],
      "text/plain": [
       "                                           msno  date_count  \\\n",
       "0  ++DcyRE+ZfLtlKGigvv9dv5EQ4KAhHhiN9LM9X+F1vw=         527   \n",
       "\n",
       "            date_first  num_25_sum  num_25_mean  num_25_std  num_50_sum  \\\n",
       "0  2015-01-01T00:00:00        1515     2.874763     5.10456         411   \n",
       "\n",
       "   num_50_mean  num_50_std  num_75_sum       ...        num_985_std  \\\n",
       "0     0.779886    1.230526         364       ...           2.351439   \n",
       "\n",
       "   num_100_sum  num_100_mean  num_100_std  num_unq_sum  num_unq_mean  \\\n",
       "0        23359     44.324478    40.726191        16546     31.396584   \n",
       "\n",
       "   num_unq_std  total_secs_sum  total_secs_mean  total_secs_std  \n",
       "0    26.188412     6063712.469     11506.095767    10141.873981  \n",
       "\n",
       "[1 rows x 24 columns]"
      ]
     },
     "execution_count": 33,
     "metadata": {},
     "output_type": "execute_result"
    }
   ],
   "source": [
    "df.head(1)"
   ]
  },
  {
   "cell_type": "code",
   "execution_count": null,
   "metadata": {
    "collapsed": true
   },
   "outputs": [],
   "source": []
  }
 ],
 "metadata": {
  "kernelspec": {
   "display_name": "Python 3",
   "language": "python",
   "name": "python3"
  },
  "language_info": {
   "codemirror_mode": {
    "name": "ipython",
    "version": 3
   },
   "file_extension": ".py",
   "mimetype": "text/x-python",
   "name": "python",
   "nbconvert_exporter": "python",
   "pygments_lexer": "ipython3",
   "version": "3.6.8"
  },
  "latex_envs": {
   "LaTeX_envs_menu_present": true,
   "autoclose": false,
   "autocomplete": true,
   "bibliofile": "biblio.bib",
   "cite_by": "apalike",
   "current_citInitial": 1,
   "eqLabelWithNumbers": true,
   "eqNumInitial": 1,
   "hotkeys": {
    "equation": "Ctrl-E",
    "itemize": "Ctrl-I"
   },
   "labels_anchors": false,
   "latex_user_defs": false,
   "report_style_numbering": false,
   "user_envs_cfg": false
  }
 },
 "nbformat": 4,
 "nbformat_minor": 2
}
