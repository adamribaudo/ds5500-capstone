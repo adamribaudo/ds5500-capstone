{
 "cells": [
  {
   "cell_type": "code",
   "execution_count": 26,
   "metadata": {},
   "outputs": [],
   "source": [
    "from __future__ import absolute_import, division, print_function, unicode_literals\n",
    "\n",
    "import collections\n",
    "import matplotlib.pyplot as plt\n",
    "import numpy as np\n",
    "from keras.preprocessing import sequence\n",
    "\n",
    "import tensorflow as tf\n",
    "\n",
    "from tensorflow.keras import layers\n",
    "\n",
    "from keras.utils.vis_utils import plot_model\n",
    "\n",
    "from keras.models import Sequential, Model\n",
    "from keras.layers import Dense, LSTM, Input, Dropout, Embedding\n",
    "from keras.utils.vis_utils import plot_model\n",
    "\n",
    "# Provides function for sliding window for training data of time series data https://www.tensorflow.org/tutorials/structured_data/time_series#the_weather_dataset\n",
    "# How do we use our LSTM model as an input to a dense model with member features?\n",
    "# Reference for classification with LSTM https://keras.io/examples/imdb_lstm/\n",
    "# TODO Multi-input"
   ]
  },
  {
   "cell_type": "markdown",
   "metadata": {},
   "source": [
    "# Functional API Example"
   ]
  },
  {
   "cell_type": "code",
   "execution_count": 192,
   "metadata": {},
   "outputs": [
    {
     "name": "stdout",
     "output_type": "stream",
     "text": [
      "Epoch 1/3\n",
      "25000/25000 [==============================] - 10s 417us/step - loss: 1.3839 - acc: 0.5557\n",
      "Epoch 2/3\n",
      "25000/25000 [==============================] - 4s 152us/step - loss: 0.3643 - acc: 0.9492 0s - loss: 0.40\n",
      "Epoch 3/3\n",
      "25000/25000 [==============================] - 4s 149us/step - loss: 0.1289 - acc: 0.9948\n"
     ]
    },
    {
     "data": {
      "text/plain": [
       "<keras.callbacks.History at 0x1e7931f8108>"
      ]
     },
     "execution_count": 192,
     "metadata": {},
     "output_type": "execute_result"
    }
   ],
   "source": [
    "# Next number prediction!\n",
    "# Creates a random incremental sequence of numbers from 0 to some integer\n",
    "# Each observation has variable length, but padding is applied so observations start with 0's\n",
    "\n",
    "batch_size = 100\n",
    "num_batch = 250\n",
    "num_integers = 10\n",
    "max_integer = num_integers - 1\n",
    "epochs = 3\n",
    "lstm_units = 16\n",
    "embedding_size = 16\n",
    "\n",
    "# Generate Sequential input data of variable timestep length\n",
    "# Example: [0, 1, 2, 3, 4]\n",
    "x_train = []\n",
    "y_train = []\n",
    "for i in range(num_batch*batch_size):\n",
    "    timestep_len = np.random.randint(max_integer)+1\n",
    "    x_train.append(np.arange(0, timestep_len+1))\n",
    "    y_obs = np.zeros(num_integers)\n",
    "    y_obs[timestep_len] = 1\n",
    "    y_train.append(y_obs)\n",
    "x_train = np.array(x_train)\n",
    "\n",
    "# Pad input so all observations are of same length\n",
    "# Example: [0, 0, 0, 0, 0, 0, 1, 2, 3, 4]\n",
    "x_train = sequence.pad_sequences(x_train, dtype='int32', maxlen = num_integers)\n",
    "y_train = np.array(y_train)\n",
    "\n",
    "data_in = Input(shape = (num_integers,))\n",
    "x = Embedding(num_integers, embedding_size)(data_in)\n",
    "#x = LSTM(lstm_units, return_sequences = True)(x) - stacked LSTM layers doesn't seem to help in this case\n",
    "x = LSTM(lstm_units)(x)\n",
    "x = Dropout(0.2)(x)\n",
    "output = Dense(num_integers, activation='softmax')(x)\n",
    "\n",
    "model = Model(data_in, output)\n",
    "model.compile(loss = 'categorical_crossentropy', optimizer='adam',metrics = ['accuracy'])\n",
    "\n",
    "#model.summary()\n",
    "model.fit(x_train, y_train, batch_size=batch_size, epochs=epochs,verbose=1)\n"
   ]
  },
  {
   "cell_type": "markdown",
   "metadata": {},
   "source": [
    "## Simple Prediction"
   ]
  },
  {
   "cell_type": "code",
   "execution_count": 211,
   "metadata": {
    "scrolled": true
   },
   "outputs": [
    {
     "name": "stdout",
     "output_type": "stream",
     "text": [
      "Attempting to predict 1: 2\n",
      "Attempting to predict 2: 2\n",
      "Attempting to predict 3: 3\n",
      "Attempting to predict 4: 4\n",
      "Attempting to predict 5: 5\n",
      "Attempting to predict 9: 9\n",
      "Attempting to predict 10: 10\n"
     ]
    }
   ],
   "source": [
    "def prediction(num_to_predict):\n",
    "    x_new = [np.arange(0, num_to_predict)]\n",
    "    x_new = sequence.pad_sequences(x_new, dtype='int32', maxlen = 10)\n",
    "    pred = model.predict(x_new) # Why does it always result in a prediction of 1?\n",
    "    print(f\"Attempting to predict {num_to_predict}: {np.argmax(pred)+1}\")\n",
    "    \n",
    "# Create a new range of numbers from [0 to X) (not inclusive). Model should predict X\n",
    "prediction(1) # Makes sense it can't predict 1 because it doesn't know when the sequence starts after the padding\n",
    "prediction(2)\n",
    "prediction(3)\n",
    "prediction(4)\n",
    "prediction(5)\n",
    "prediction(9)\n",
    "prediction(10)\n"
   ]
  },
  {
   "cell_type": "markdown",
   "metadata": {},
   "source": [
    "## Noisy Prediction"
   ]
  },
  {
   "cell_type": "code",
   "execution_count": 210,
   "metadata": {},
   "outputs": [
    {
     "name": "stdout",
     "output_type": "stream",
     "text": [
      "[[0 0 0 0 1 2 3 4 5 8]]\n",
      "Attempting to predict: 7\n"
     ]
    }
   ],
   "source": [
    "# Try a noisy example that isn't just a straight sequence of numbers\n",
    "x_new = np.arange(0, 7)\n",
    "x_new[6] = 8\n",
    "x_new = [x_new]\n",
    "x_new = sequence.pad_sequences(x_new, dtype='int32', maxlen = 10)\n",
    "print(x_new)\n",
    "pred = model.predict(x_new)\n",
    "# Notice how it knows that the sequence looks more likely to lead up to 7 even though the last digit is 8\n",
    "print(f\"Attempting to predict: {np.argmax(pred)+1}\")\n"
   ]
  }
 ],
 "metadata": {
  "kernelspec": {
   "display_name": "Python 3",
   "language": "python",
   "name": "python3"
  },
  "language_info": {
   "codemirror_mode": {
    "name": "ipython",
    "version": 3
   },
   "file_extension": ".py",
   "mimetype": "text/x-python",
   "name": "python",
   "nbconvert_exporter": "python",
   "pygments_lexer": "ipython3",
   "version": "3.7.6"
  },
  "toc": {
   "base_numbering": 1,
   "nav_menu": {},
   "number_sections": false,
   "sideBar": true,
   "skip_h1_title": false,
   "title_cell": "Table of Contents",
   "title_sidebar": "Contents",
   "toc_cell": false,
   "toc_position": {},
   "toc_section_display": true,
   "toc_window_display": true
  },
  "varInspector": {
   "cols": {
    "lenName": 16,
    "lenType": 16,
    "lenVar": 40
   },
   "kernels_config": {
    "python": {
     "delete_cmd_postfix": "",
     "delete_cmd_prefix": "del ",
     "library": "var_list.py",
     "varRefreshCmd": "print(var_dic_list())"
    },
    "r": {
     "delete_cmd_postfix": ") ",
     "delete_cmd_prefix": "rm(",
     "library": "var_list.r",
     "varRefreshCmd": "cat(var_dic_list()) "
    }
   },
   "types_to_exclude": [
    "module",
    "function",
    "builtin_function_or_method",
    "instance",
    "_Feature"
   ],
   "window_display": false
  }
 },
 "nbformat": 4,
 "nbformat_minor": 2
}
