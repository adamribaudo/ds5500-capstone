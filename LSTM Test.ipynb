{
 "cells": [
  {
   "cell_type": "code",
   "execution_count": 127,
   "metadata": {},
   "outputs": [],
   "source": [
    "from __future__ import absolute_import, division, print_function, unicode_literals\n",
    "\n",
    "import collections\n",
    "import matplotlib.pyplot as plt\n",
    "import numpy as np\n",
    "from keras.preprocessing import sequence\n",
    "\n",
    "import tensorflow as tf\n",
    "\n",
    "from tensorflow.keras import layers\n",
    "\n",
    "from keras.utils.vis_utils import plot_model\n",
    "\n",
    "from keras.models import Sequential\n",
    "from keras.layers import Dense\n",
    "from keras.utils.vis_utils import plot_model\n",
    "from keras.datasets import imdb\n",
    "\n",
    "# save np.load\n",
    "np_load_old = np.load\n",
    "\n",
    "# modify the default parameters of np.load\n",
    "np.load = lambda *a,**k: np_load_old(*a, allow_pickle=True, **k)\n",
    "\n",
    "(x_train, y_train), (x_test, y_test) = imdb.load_data(num_words=20000)\n",
    "np.load = np_load_old\n",
    "# Do we need nested inputs? https://www.tensorflow.org/guide/keras/rnn#rnns_with_listdict_inputs_or_nested_inputs\n",
    "# Provides function for sliding window for training data of time series data https://www.tensorflow.org/tutorials/structured_data/time_series#the_weather_dataset\n",
    "# How do we use our LSTM model as an input to a dense model with member features?\n",
    "\n",
    "# Reference for classification with LSTM https://keras.io/examples/imdb_lstm/"
   ]
  },
  {
   "cell_type": "code",
   "execution_count": 221,
   "metadata": {},
   "outputs": [
    {
     "name": "stdout",
     "output_type": "stream",
     "text": [
      "Model: \"sequential_12\"\n",
      "_________________________________________________________________\n",
      "Layer (type)                 Output Shape              Param #   \n",
      "=================================================================\n",
      "lstm_12 (LSTM)               (None, 12)                1008      \n",
      "_________________________________________________________________\n",
      "dense_15 (Dense)             (None, 8)                 104       \n",
      "_________________________________________________________________\n",
      "dense_16 (Dense)             (None, 1)                 9         \n",
      "=================================================================\n",
      "Total params: 1,121\n",
      "Trainable params: 1,121\n",
      "Non-trainable params: 0\n",
      "_________________________________________________________________\n",
      "Train on 100 samples\n",
      "Epoch 1/5\n",
      "100/100 [==============================] - 2s 18ms/sample - loss: 8.2799 - acc: 0.4600\n",
      "Epoch 2/5\n",
      "100/100 [==============================] - 1s 8ms/sample - loss: 8.2799 - acc: 0.4600\n",
      "Epoch 3/5\n",
      "100/100 [==============================] - 1s 9ms/sample - loss: 8.2799 - acc: 0.4600\n",
      "Epoch 4/5\n",
      "100/100 [==============================] - 1s 9ms/sample - loss: 8.2799 - acc: 0.4600\n",
      "Epoch 5/5\n",
      "100/100 [==============================] - 1s 9ms/sample - loss: 8.2799 - acc: 0.4600\n"
     ]
    },
    {
     "data": {
      "text/plain": [
       "<tensorflow.python.keras.callbacks.History at 0x24aecba3208>"
      ]
     },
     "execution_count": 221,
     "metadata": {},
     "output_type": "execute_result"
    }
   ],
   "source": [
    "batch_size = 10\n",
    "num_batch = 10\n",
    "max_timestep = 100\n",
    "input_dim = 8\n",
    "epochs = 5\n",
    "\n",
    "# Random input data of variable timestep length\n",
    "x_train = []\n",
    "for i in range(num_batch*batch_size):\n",
    "    timestep_len = np.random.randint(100)+1\n",
    "    x_train.append(np.random.random(size=(timestep_len,input_dim)))\n",
    "x_train = np.array(x_train)\n",
    "x_train = sequence.pad_sequences(x_train, dtype='float32', maxlen = max_timestep)\n",
    "\n",
    "y_train = np.random.binomial(n=1,p=.5,size=(batch_size * num_batch,1))\n",
    "\n",
    "model = tf.keras.Sequential()\n",
    "model.add(layers.LSTM(units=12, input_length=max_timestep, input_dim=input_dim))\n",
    "model.add(layers.Dense(8, activation='relu'))\n",
    "model.add(layers.Dense(1, activation='softmax'))\n",
    "\n",
    "model.summary()\n",
    "model.compile(loss = 'binary_crossentropy', optimizer='adam',metrics = ['accuracy'])\n",
    "model.fit(x_train, y_train, batch_size=batch_size, epochs=epochs,verbose=1)\n"
   ]
  },
  {
   "cell_type": "code",
   "execution_count": 64,
   "metadata": {},
   "outputs": [
    {
     "data": {
      "text/plain": [
       "array([[1.],\n",
       "       [1.],\n",
       "       [1.],\n",
       "       [1.],\n",
       "       [1.],\n",
       "       [1.],\n",
       "       [1.],\n",
       "       [1.],\n",
       "       [1.],\n",
       "       [1.]], dtype=float32)"
      ]
     },
     "execution_count": 64,
     "metadata": {},
     "output_type": "execute_result"
    }
   ],
   "source": [
    "x_pred = np.random.random((10, timestep, input_dim))\n",
    "model.predict(x_pred) # Why does it always result in a prediction of 1?"
   ]
  }
 ],
 "metadata": {
  "kernelspec": {
   "display_name": "Python 3",
   "language": "python",
   "name": "python3"
  },
  "language_info": {
   "codemirror_mode": {
    "name": "ipython",
    "version": 3
   },
   "file_extension": ".py",
   "mimetype": "text/x-python",
   "name": "python",
   "nbconvert_exporter": "python",
   "pygments_lexer": "ipython3",
   "version": "3.7.6"
  },
  "toc": {
   "base_numbering": 1,
   "nav_menu": {},
   "number_sections": false,
   "sideBar": true,
   "skip_h1_title": false,
   "title_cell": "Table of Contents",
   "title_sidebar": "Contents",
   "toc_cell": false,
   "toc_position": {},
   "toc_section_display": true,
   "toc_window_display": true
  },
  "varInspector": {
   "cols": {
    "lenName": 16,
    "lenType": 16,
    "lenVar": 40
   },
   "kernels_config": {
    "python": {
     "delete_cmd_postfix": "",
     "delete_cmd_prefix": "del ",
     "library": "var_list.py",
     "varRefreshCmd": "print(var_dic_list())"
    },
    "r": {
     "delete_cmd_postfix": ") ",
     "delete_cmd_prefix": "rm(",
     "library": "var_list.r",
     "varRefreshCmd": "cat(var_dic_list()) "
    }
   },
   "types_to_exclude": [
    "module",
    "function",
    "builtin_function_or_method",
    "instance",
    "_Feature"
   ],
   "window_display": false
  }
 },
 "nbformat": 4,
 "nbformat_minor": 2
}
