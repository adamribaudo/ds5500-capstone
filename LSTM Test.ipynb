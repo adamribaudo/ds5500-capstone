{
 "cells": [
  {
   "cell_type": "code",
   "execution_count": 1,
   "metadata": {},
   "outputs": [
    {
     "name": "stderr",
     "output_type": "stream",
     "text": [
      "/Users/wangzhengye/anaconda3/lib/python3.6/site-packages/h5py/__init__.py:34: FutureWarning: Conversion of the second argument of issubdtype from `float` to `np.floating` is deprecated. In future, it will be treated as `np.float64 == np.dtype(float).type`.\n",
      "  from ._conv import register_converters as _register_converters\n",
      "Using TensorFlow backend.\n"
     ]
    }
   ],
   "source": [
    "from __future__ import absolute_import, division, print_function, unicode_literals\n",
    "\n",
    "import collections\n",
    "import matplotlib.pyplot as plt\n",
    "import numpy as np\n",
    "from keras.preprocessing import sequence\n",
    "\n",
    "import tensorflow as tf\n",
    "\n",
    "from tensorflow.keras import layers\n",
    "\n",
    "from keras.utils.vis_utils import plot_model\n",
    "\n",
    "from keras.models import Sequential, Model\n",
    "from keras.layers import Dense, LSTM, Input, Dropout, Embedding, concatenate\n",
    "from keras.utils.vis_utils import plot_model\n",
    "\n",
    "# Provides function for sliding window for training data of time series data https://www.tensorflow.org/tutorials/structured_data/time_series#the_weather_dataset\n",
    "# How do we use our LSTM model as an input to a dense model with member features?\n",
    "# Reference for classification with LSTM https://keras.io/examples/imdb_lstm/\n",
    "# TODO Multi-input https://www.pyimagesearch.com/2019/02/04/keras-multiple-inputs-and-mixed-data/"
   ]
  },
  {
   "cell_type": "markdown",
   "metadata": {},
   "source": [
    "# Functional API Example"
   ]
  },
  {
   "cell_type": "code",
   "execution_count": 16,
   "metadata": {},
   "outputs": [
    {
     "name": "stdout",
     "output_type": "stream",
     "text": [
      "WARNING:tensorflow:From /Users/wangzhengye/anaconda3/lib/python3.6/site-packages/keras/backend/tensorflow_backend.py:3445: calling dropout (from tensorflow.python.ops.nn_ops) with keep_prob is deprecated and will be removed in a future version.\n",
      "Instructions for updating:\n",
      "Please use `rate` instead of `keep_prob`. Rate should be set to `rate = 1 - keep_prob`.\n",
      "WARNING:tensorflow:From /Users/wangzhengye/anaconda3/lib/python3.6/site-packages/tensorflow/python/ops/math_ops.py:3066: to_int32 (from tensorflow.python.ops.math_ops) is deprecated and will be removed in a future version.\n",
      "Instructions for updating:\n",
      "Use tf.cast instead.\n",
      "Epoch 1/3\n",
      "25000/25000 [==============================] - 4s 162us/step - loss: 1.4083 - acc: 0.5432\n",
      "Epoch 2/3\n",
      "25000/25000 [==============================] - 3s 126us/step - loss: 0.3689 - acc: 0.9676\n",
      "Epoch 3/3\n",
      "25000/25000 [==============================] - 3s 122us/step - loss: 0.1373 - acc: 0.9951\n"
     ]
    },
    {
     "data": {
      "text/plain": [
       "<keras.callbacks.History at 0x127e0bf28>"
      ]
     },
     "execution_count": 16,
     "metadata": {},
     "output_type": "execute_result"
    }
   ],
   "source": [
    "# Next number prediction!\n",
    "# Creates a random incremental sequence of numbers from 0 to some integer\n",
    "# Each observation has variable length, but padding is applied so observations start with 0's\n",
    "\n",
    "batch_size = 100\n",
    "num_batch = 250\n",
    "num_integers = 10\n",
    "max_integer = num_integers - 1\n",
    "epochs = 3\n",
    "lstm_units = 16\n",
    "embedding_size = 16\n",
    "\n",
    "# Generate Sequential input data of variable timestep length\n",
    "# Example: [0, 1, 2, 3, 4]\n",
    "x_train = []\n",
    "y_train = []\n",
    "for i in range(num_batch*batch_size):\n",
    "    timestep_len = np.random.randint(max_integer)+1\n",
    "    x_train.append(np.arange(0, timestep_len+1))\n",
    "    y_obs = np.zeros(num_integers)\n",
    "    y_obs[timestep_len] = 1\n",
    "    y_train.append(y_obs)\n",
    "x_train = np.array(x_train)\n",
    "\n",
    "# Pad input so all observations are of same length\n",
    "# Example: [0, 0, 0, 0, 0, 0, 1, 2, 3, 4]\n",
    "x_train = sequence.pad_sequences(x_train, dtype='int32', maxlen = num_integers)\n",
    "y_train = np.array(y_train)\n",
    "\n",
    "data_in = Input(shape = (num_integers,))\n",
    "x = Embedding(num_integers, embedding_size)(data_in)\n",
    "#x = LSTM(lstm_units, return_sequences = True)(x) - stacked LSTM layers doesn't seem to help in this case\n",
    "x = LSTM(lstm_units)(x)\n",
    "x = Dropout(0.2)(x)\n",
    "output = Dense(num_integers, activation='softmax')(x)\n",
    "\n",
    "model = Model(data_in, output)\n",
    "model.compile(loss = 'categorical_crossentropy', optimizer='adam',metrics = ['accuracy'])\n",
    "\n",
    "#model.summary()\n",
    "model.fit(x_train, y_train, batch_size=batch_size, epochs=epochs,verbose=1)\n"
   ]
  },
  {
   "cell_type": "markdown",
   "metadata": {},
   "source": [
    "## Simple Prediction"
   ]
  },
  {
   "cell_type": "code",
   "execution_count": 17,
   "metadata": {
    "scrolled": true
   },
   "outputs": [
    {
     "name": "stdout",
     "output_type": "stream",
     "text": [
      "Attempting to predict 1: 2\n",
      "Attempting to predict 2: 2\n",
      "Attempting to predict 3: 3\n",
      "Attempting to predict 4: 4\n",
      "Attempting to predict 5: 5\n",
      "Attempting to predict 9: 9\n",
      "Attempting to predict 10: 10\n"
     ]
    }
   ],
   "source": [
    "def prediction(num_to_predict):\n",
    "    x_new = [np.arange(0, num_to_predict)]\n",
    "    x_new = sequence.pad_sequences(x_new, dtype='int32', maxlen = 10)\n",
    "    pred = model.predict(x_new) # Why does it always result in a prediction of 1?\n",
    "    print(f\"Attempting to predict {num_to_predict}: {np.argmax(pred)+1}\")\n",
    "    \n",
    "# Create a new range of numbers from [0 to X) (not inclusive). Model should predict X\n",
    "prediction(1) # Makes sense it can't predict 1 because it doesn't know when the sequence starts after the padding\n",
    "prediction(2)\n",
    "prediction(3)\n",
    "prediction(4)\n",
    "prediction(5)\n",
    "prediction(9)\n",
    "prediction(10)\n"
   ]
  },
  {
   "cell_type": "markdown",
   "metadata": {},
   "source": [
    "## Noisy Prediction"
   ]
  },
  {
   "cell_type": "code",
   "execution_count": 18,
   "metadata": {},
   "outputs": [
    {
     "name": "stdout",
     "output_type": "stream",
     "text": [
      "[[0 0 0 0 1 2 3 4 5 8]]\n",
      "Attempting to predict: 7\n"
     ]
    }
   ],
   "source": [
    "# Try a noisy example that isn't just a straight sequence of numbers\n",
    "x_new = np.arange(0, 7)\n",
    "x_new[6] = 8\n",
    "x_new = [x_new]\n",
    "x_new = sequence.pad_sequences(x_new, dtype='int32', maxlen = 10)\n",
    "print(x_new)\n",
    "pred = model.predict(x_new)\n",
    "# Notice how it knows that the sequence looks more likely to lead up to 7 even though the last digit is 8\n",
    "print(f\"Attempting to predict: {np.argmax(pred)+1}\")\n"
   ]
  },
  {
   "cell_type": "markdown",
   "metadata": {},
   "source": [
    "# Multi Input Example"
   ]
  },
  {
   "cell_type": "code",
   "execution_count": 7,
   "metadata": {},
   "outputs": [
    {
     "name": "stdout",
     "output_type": "stream",
     "text": [
      "__________________________________________________________________________________________________\n",
      "Layer (type)                    Output Shape         Param #     Connected to                     \n",
      "==================================================================================================\n",
      "input_3 (InputLayer)            (None, 10)           0                                            \n",
      "__________________________________________________________________________________________________\n",
      "embedding_2 (Embedding)         (None, 10, 16)       160         input_3[0][0]                    \n",
      "__________________________________________________________________________________________________\n",
      "input_4 (InputLayer)            (None, 1)            0                                            \n",
      "__________________________________________________________________________________________________\n",
      "lstm_2 (LSTM)                   (None, 16)           2112        embedding_2[0][0]                \n",
      "__________________________________________________________________________________________________\n",
      "dense_3 (Dense)                 (None, 5)            10          input_4[0][0]                    \n",
      "__________________________________________________________________________________________________\n",
      "concatenate_2 (Concatenate)     (None, 21)           0           lstm_2[0][0]                     \n",
      "                                                                 dense_3[0][0]                    \n",
      "__________________________________________________________________________________________________\n",
      "dropout_2 (Dropout)             (None, 21)           0           concatenate_2[0][0]              \n",
      "__________________________________________________________________________________________________\n",
      "dense_4 (Dense)                 (None, 10)           220         dropout_2[0][0]                  \n",
      "==================================================================================================\n",
      "Total params: 2,502\n",
      "Trainable params: 2,502\n",
      "Non-trainable params: 0\n",
      "__________________________________________________________________________________________________\n",
      "Epoch 1/3\n",
      "25000/25000 [==============================] - 14s 579us/step - loss: 9.4719 - acc: 0.2037\n",
      "Epoch 2/3\n",
      "25000/25000 [==============================] - 10s 419us/step - loss: 6.9981 - acc: 0.4692\n",
      "Epoch 3/3\n",
      "25000/25000 [==============================] - 10s 409us/step - loss: 4.6017 - acc: 0.6619\n"
     ]
    },
    {
     "data": {
      "text/plain": [
       "<keras.callbacks.History at 0x1e19ce4a388>"
      ]
     },
     "execution_count": 7,
     "metadata": {},
     "output_type": "execute_result"
    }
   ],
   "source": [
    "# Dumb example, but as shown below, there are 2 inputs that go through seperate models and areconcatenated together\n",
    "\n",
    "batch_size = 100\n",
    "num_batch = 250\n",
    "num_integers = 10\n",
    "max_integer = num_integers - 1\n",
    "epochs = 3\n",
    "lstm_units = 16\n",
    "embedding_size = 16\n",
    "\n",
    "# Generate Sequential input data of variable timestep length\n",
    "# Example: [0, 1, 2, 3, 4]\n",
    "x_train_a = []\n",
    "x_train_b = []\n",
    "y_train = []\n",
    "for i in range(num_batch*batch_size):\n",
    "    timestep_len = np.random.randint(max_integer)+1\n",
    "    x_train_a.append(np.arange(0, timestep_len+1))\n",
    "    \n",
    "    x_train_b.append(timestep_len*10)\n",
    "    \n",
    "    y_obs = np.zeros(num_integers)\n",
    "    y_obs[timestep_len] = 1\n",
    "    y_train.append(y_obs)\n",
    "x_train_a = np.array(x_train_a)\n",
    "x_train_b = np.array(x_train_b)\n",
    "\n",
    "x_train_a = sequence.pad_sequences(x_train_a, dtype='int32', maxlen = num_integers)\n",
    "y_train = np.array(y_train)\n",
    "\n",
    "data_in_a = Input(shape = (num_integers,))\n",
    "a = Embedding(num_integers, embedding_size)(data_in_a)\n",
    "a = LSTM(lstm_units)(a)\n",
    "a_mod = Model(data_in_a, outputs=a)\n",
    "\n",
    "data_in_b = Input(shape = (1,))\n",
    "b = Dense(5, activation='relu')(data_in_b)\n",
    "b_mod = Model(data_in_b, outputs=b)\n",
    "\n",
    "combined = concatenate([a_mod.output, b_mod.output])\n",
    "\n",
    "c = Dropout(0.2)(combined)\n",
    "c = Dense(num_integers, activation='softmax')(c)\n",
    "\n",
    "model = Model(inputs=[a_mod.input, b_mod.input], outputs=c)\n",
    "model.compile(loss = 'categorical_crossentropy', optimizer='adam',metrics = ['accuracy'])\n",
    "\n",
    "#model.summary()\n",
    "model.fit([x_train_a, x_train_b], y_train, batch_size=batch_size, epochs=epochs,verbose=1)\n"
   ]
  },
  {
   "cell_type": "code",
   "execution_count": 6,
   "metadata": {},
   "outputs": [
    {
     "data": {
      "image/svg+xml": [
       "<svg height=\"410pt\" viewBox=\"0.00 0.00 315.50 410.00\" width=\"316pt\" xmlns=\"http://www.w3.org/2000/svg\" xmlns:xlink=\"http://www.w3.org/1999/xlink\">\n",
       "<g class=\"graph\" id=\"graph0\" transform=\"scale(1 1) rotate(0) translate(4 406)\">\n",
       "<title>G</title>\n",
       "<polygon fill=\"white\" points=\"-4,4 -4,-406 311.5,-406 311.5,4 -4,4\" stroke=\"none\"/>\n",
       "<!-- 2068247853384 -->\n",
       "<g class=\"node\" id=\"node1\"><title>2068247853384</title>\n",
       "<polygon fill=\"none\" points=\"18.5,-365.5 18.5,-401.5 144.5,-401.5 144.5,-365.5 18.5,-365.5\" stroke=\"black\"/>\n",
       "<text font-family=\"Times New Roman,serif\" font-size=\"14.00\" text-anchor=\"middle\" x=\"81.5\" y=\"-379.8\">input_1: InputLayer</text>\n",
       "</g>\n",
       "<!-- 2068225464840 -->\n",
       "<g class=\"node\" id=\"node2\"><title>2068225464840</title>\n",
       "<polygon fill=\"none\" points=\"0,-292.5 0,-328.5 163,-328.5 163,-292.5 0,-292.5\" stroke=\"black\"/>\n",
       "<text font-family=\"Times New Roman,serif\" font-size=\"14.00\" text-anchor=\"middle\" x=\"81.5\" y=\"-306.8\">embedding_1: Embedding</text>\n",
       "</g>\n",
       "<!-- 2068247853384&#45;&gt;2068225464840 -->\n",
       "<g class=\"edge\" id=\"edge1\"><title>2068247853384-&gt;2068225464840</title>\n",
       "<path d=\"M81.5,-365.313C81.5,-357.289 81.5,-347.547 81.5,-338.569\" fill=\"none\" stroke=\"black\"/>\n",
       "<polygon fill=\"black\" points=\"85.0001,-338.529 81.5,-328.529 78.0001,-338.529 85.0001,-338.529\" stroke=\"black\"/>\n",
       "</g>\n",
       "<!-- 2068088134344 -->\n",
       "<g class=\"node\" id=\"node4\"><title>2068088134344</title>\n",
       "<polygon fill=\"none\" points=\"43.5,-219.5 43.5,-255.5 141.5,-255.5 141.5,-219.5 43.5,-219.5\" stroke=\"black\"/>\n",
       "<text font-family=\"Times New Roman,serif\" font-size=\"14.00\" text-anchor=\"middle\" x=\"92.5\" y=\"-233.8\">lstm_1: LSTM</text>\n",
       "</g>\n",
       "<!-- 2068225464840&#45;&gt;2068088134344 -->\n",
       "<g class=\"edge\" id=\"edge2\"><title>2068225464840-&gt;2068088134344</title>\n",
       "<path d=\"M84.1628,-292.313C85.4059,-284.289 86.9152,-274.547 88.3062,-265.569\" fill=\"none\" stroke=\"black\"/>\n",
       "<polygon fill=\"black\" points=\"91.7894,-265.947 89.8617,-255.529 84.8719,-264.875 91.7894,-265.947\" stroke=\"black\"/>\n",
       "</g>\n",
       "<!-- 2068247797000 -->\n",
       "<g class=\"node\" id=\"node3\"><title>2068247797000</title>\n",
       "<polygon fill=\"none\" points=\"181.5,-292.5 181.5,-328.5 307.5,-328.5 307.5,-292.5 181.5,-292.5\" stroke=\"black\"/>\n",
       "<text font-family=\"Times New Roman,serif\" font-size=\"14.00\" text-anchor=\"middle\" x=\"244.5\" y=\"-306.8\">input_2: InputLayer</text>\n",
       "</g>\n",
       "<!-- 2068250569544 -->\n",
       "<g class=\"node\" id=\"node5\"><title>2068250569544</title>\n",
       "<polygon fill=\"none\" points=\"181.5,-219.5 181.5,-255.5 285.5,-255.5 285.5,-219.5 181.5,-219.5\" stroke=\"black\"/>\n",
       "<text font-family=\"Times New Roman,serif\" font-size=\"14.00\" text-anchor=\"middle\" x=\"233.5\" y=\"-233.8\">dense_1: Dense</text>\n",
       "</g>\n",
       "<!-- 2068247797000&#45;&gt;2068250569544 -->\n",
       "<g class=\"edge\" id=\"edge3\"><title>2068247797000-&gt;2068250569544</title>\n",
       "<path d=\"M241.837,-292.313C240.594,-284.289 239.085,-274.547 237.694,-265.569\" fill=\"none\" stroke=\"black\"/>\n",
       "<polygon fill=\"black\" points=\"241.128,-264.875 236.138,-255.529 234.211,-265.947 241.128,-264.875\" stroke=\"black\"/>\n",
       "</g>\n",
       "<!-- 2068267891336 -->\n",
       "<g class=\"node\" id=\"node6\"><title>2068267891336</title>\n",
       "<polygon fill=\"none\" points=\"76,-146.5 76,-182.5 249,-182.5 249,-146.5 76,-146.5\" stroke=\"black\"/>\n",
       "<text font-family=\"Times New Roman,serif\" font-size=\"14.00\" text-anchor=\"middle\" x=\"162.5\" y=\"-160.8\">concatenate_1: Concatenate</text>\n",
       "</g>\n",
       "<!-- 2068088134344&#45;&gt;2068267891336 -->\n",
       "<g class=\"edge\" id=\"edge4\"><title>2068088134344-&gt;2068267891336</title>\n",
       "<path d=\"M109.445,-219.313C118.215,-210.417 129.068,-199.409 138.669,-189.672\" fill=\"none\" stroke=\"black\"/>\n",
       "<polygon fill=\"black\" points=\"141.183,-192.107 145.711,-182.529 136.198,-187.193 141.183,-192.107\" stroke=\"black\"/>\n",
       "</g>\n",
       "<!-- 2068250569544&#45;&gt;2068267891336 -->\n",
       "<g class=\"edge\" id=\"edge5\"><title>2068250569544-&gt;2068267891336</title>\n",
       "<path d=\"M216.313,-219.313C207.417,-210.417 196.409,-199.409 186.672,-189.672\" fill=\"none\" stroke=\"black\"/>\n",
       "<polygon fill=\"black\" points=\"189.075,-187.125 179.529,-182.529 184.125,-192.075 189.075,-187.125\" stroke=\"black\"/>\n",
       "</g>\n",
       "<!-- 2068267950536 -->\n",
       "<g class=\"node\" id=\"node7\"><title>2068267950536</title>\n",
       "<polygon fill=\"none\" points=\"97.5,-73.5 97.5,-109.5 227.5,-109.5 227.5,-73.5 97.5,-73.5\" stroke=\"black\"/>\n",
       "<text font-family=\"Times New Roman,serif\" font-size=\"14.00\" text-anchor=\"middle\" x=\"162.5\" y=\"-87.8\">dropout_1: Dropout</text>\n",
       "</g>\n",
       "<!-- 2068267891336&#45;&gt;2068267950536 -->\n",
       "<g class=\"edge\" id=\"edge6\"><title>2068267891336-&gt;2068267950536</title>\n",
       "<path d=\"M162.5,-146.313C162.5,-138.289 162.5,-128.547 162.5,-119.569\" fill=\"none\" stroke=\"black\"/>\n",
       "<polygon fill=\"black\" points=\"166,-119.529 162.5,-109.529 159,-119.529 166,-119.529\" stroke=\"black\"/>\n",
       "</g>\n",
       "<!-- 2068267951048 -->\n",
       "<g class=\"node\" id=\"node8\"><title>2068267951048</title>\n",
       "<polygon fill=\"none\" points=\"110.5,-0.5 110.5,-36.5 214.5,-36.5 214.5,-0.5 110.5,-0.5\" stroke=\"black\"/>\n",
       "<text font-family=\"Times New Roman,serif\" font-size=\"14.00\" text-anchor=\"middle\" x=\"162.5\" y=\"-14.8\">dense_2: Dense</text>\n",
       "</g>\n",
       "<!-- 2068267950536&#45;&gt;2068267951048 -->\n",
       "<g class=\"edge\" id=\"edge7\"><title>2068267950536-&gt;2068267951048</title>\n",
       "<path d=\"M162.5,-73.3129C162.5,-65.2895 162.5,-55.5475 162.5,-46.5691\" fill=\"none\" stroke=\"black\"/>\n",
       "<polygon fill=\"black\" points=\"166,-46.5288 162.5,-36.5288 159,-46.5289 166,-46.5288\" stroke=\"black\"/>\n",
       "</g>\n",
       "</g>\n",
       "</svg>"
      ],
      "text/plain": [
       "<IPython.core.display.SVG object>"
      ]
     },
     "execution_count": 6,
     "metadata": {},
     "output_type": "execute_result"
    }
   ],
   "source": [
    "from IPython.display import SVG\n",
    "from keras.utils.vis_utils import model_to_dot\n",
    "\n",
    "SVG(model_to_dot(model).create(prog='dot', format='svg'))"
   ]
  }
 ],
 "metadata": {
  "kernelspec": {
   "display_name": "Python 3",
   "language": "python",
   "name": "python3"
  },
  "language_info": {
   "codemirror_mode": {
    "name": "ipython",
    "version": 3
   },
   "file_extension": ".py",
   "mimetype": "text/x-python",
   "name": "python",
   "nbconvert_exporter": "python",
   "pygments_lexer": "ipython3",
   "version": "3.7.6"
  },
  "toc": {
   "base_numbering": 1,
   "nav_menu": {},
   "number_sections": false,
   "sideBar": true,
   "skip_h1_title": false,
   "title_cell": "Table of Contents",
   "title_sidebar": "Contents",
   "toc_cell": false,
   "toc_position": {
    "height": "calc(100% - 180px)",
    "left": "10px",
    "top": "150px",
    "width": "165px"
   },
   "toc_section_display": true,
   "toc_window_display": true
  },
  "varInspector": {
   "cols": {
    "lenName": 16,
    "lenType": 16,
    "lenVar": 40
   },
   "kernels_config": {
    "python": {
     "delete_cmd_postfix": "",
     "delete_cmd_prefix": "del ",
     "library": "var_list.py",
     "varRefreshCmd": "print(var_dic_list())"
    },
    "r": {
     "delete_cmd_postfix": ") ",
     "delete_cmd_prefix": "rm(",
     "library": "var_list.r",
     "varRefreshCmd": "cat(var_dic_list()) "
    }
   },
   "types_to_exclude": [
    "module",
    "function",
    "builtin_function_or_method",
    "instance",
    "_Feature"
   ],
   "window_display": false
  }
 },
 "nbformat": 4,
 "nbformat_minor": 2
}
