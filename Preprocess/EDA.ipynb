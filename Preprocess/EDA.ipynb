{
 "cells": [
  {
   "cell_type": "code",
   "execution_count": 2,
   "metadata": {
    "collapsed": true
   },
   "outputs": [],
   "source": [
    "import numpy as np \n",
    "import pandas as pd\n",
    "%matplotlib inline"
   ]
  },
  {
   "cell_type": "markdown",
   "metadata": {
    "collapsed": true
   },
   "source": [
    "### New defination of \"churn\""
   ]
  },
  {
   "cell_type": "code",
   "execution_count": 2,
   "metadata": {
    "collapsed": true
   },
   "outputs": [],
   "source": [
    "transactions_v1 = pd.read_csv('transactions.csv')\n",
    "transactions_v2 = pd.read_csv('transactions_v2.csv')\n",
    "transactions = transactions_v1.append(transactions_v2).reset_index(drop=True)\n",
    "transactions = transactions.sort_values(['msno','transaction_date','membership_expire_date'])current_msno = ''"
   ]
  },
  {
   "cell_type": "code",
   "execution_count": 3,
   "metadata": {
    "collapsed": true
   },
   "outputs": [],
   "source": [
    "import datetime\n",
    "from tqdm import tqdm"
   ]
  },
  {
   "cell_type": "code",
   "execution_count": 4,
   "metadata": {
    "collapsed": true
   },
   "outputs": [],
   "source": [
    "#transactions = tran1.append(tran2).reset_index(drop=True)\n",
    "transactions = transactions.sort_values(['msno','transaction_date','membership_expire_date'])\n",
    "current_msno = ''"
   ]
  },
  {
   "cell_type": "code",
   "execution_count": 5,
   "metadata": {
    "collapsed": true
   },
   "outputs": [],
   "source": [
    "targets = [201702]\n",
    "msnos = [[] for i in range(len(targets))]\n",
    "is_churns = [[] for i in range(len(targets))]\n",
    "\n",
    "is_cancels = []\n",
    "transaction_dates = []\n",
    "membership_expire_dates = []"
   ]
  },
  {
   "cell_type": "code",
   "execution_count": 6,
   "metadata": {
    "collapsed": true
   },
   "outputs": [],
   "source": [
    "total_rows = len(transactions['msno'])"
   ]
  },
  {
   "cell_type": "code",
   "execution_count": 7,
   "metadata": {},
   "outputs": [
    {
     "name": "stderr",
     "output_type": "stream",
     "text": [
      "100%|██████████| 22978755/22978755 [44:27<00:00, 8613.62it/s] \n"
     ]
    }
   ],
   "source": [
    "for i, row in tqdm(transactions.iterrows(), total=total_rows):\n",
    "    msno = row['msno']\n",
    "    transaction_date = row['transaction_date']\n",
    "    membership_expire_date = row['membership_expire_date']\n",
    "    is_cancel = int(row['is_cancel'])\n",
    "    if(current_msno != msno or i == total_rows - 1):\n",
    "        if(current_msno != ''):\n",
    "            for z, target in enumerate(targets):\n",
    "                for j in range(len(transaction_dates)-1,-1,-1):\n",
    "                    l = int(transaction_dates[j]/100)\n",
    "                    r = int(membership_expire_dates[j]/100)\n",
    "                    record_index = j\n",
    "                    if(r == target and is_cancels[j] == 0 and l < target):\n",
    "                        is_churn = 1\n",
    "                        expired_date = datetime.datetime.strptime(str(membership_expire_dates[j]), \"%Y%m%d\")\n",
    "                        \n",
    "                        for k in range(j+1,len(transaction_dates)):\n",
    "                            trans_date = datetime.datetime.strptime(str(transaction_dates[k]), \"%Y%m%d\")\n",
    "                            expired_date1 = datetime.datetime.strptime(str(membership_expire_dates[k]), \"%Y%m%d\")\n",
    "                            is_cancel = is_cancels[k]\n",
    "                            dif_d = (trans_date-expired_date).days\n",
    "                            if(dif_d < 30):\n",
    "                                if(is_cancel == 0 and expired_date < expired_date1):\n",
    "                                    is_churn = 0\n",
    "                            else:\n",
    "                                break\n",
    "                        msnos[z].append(current_msno) \n",
    "                        is_churns[z].append(is_churn)   \n",
    "                        break\n",
    "            \n",
    "        transaction_dates = []\n",
    "        membership_expire_dates = []\n",
    "        is_cancels = []\n",
    "    \n",
    "    transaction_dates.append(transaction_date)\n",
    "    membership_expire_dates.append(membership_expire_date)\n",
    "    is_cancels.append(is_cancel)\n",
    "    \n",
    "    current_msno = msno"
   ]
  },
  {
   "cell_type": "code",
   "execution_count": 8,
   "metadata": {
    "collapsed": true
   },
   "outputs": [],
   "source": [
    "for i, target in enumerate(targets):\n",
    "    out = pd.DataFrame()\n",
    "    out['msno'] = msnos[i]\n",
    "    out['is_churn'] = is_churns[i]\n",
    "    out.to_csv('Desktop/DS5500/kkbox-churn-prediction-challenge/train_v2_final_{}.csv'.format(target), index=False)"
   ]
  },
  {
   "cell_type": "code",
   "execution_count": 5,
   "metadata": {
    "collapsed": true
   },
   "outputs": [],
   "source": [
    "train = pd.read_csv('../kkbox-churn-prediction-challenge/train_v2_final_201702.csv')"
   ]
  },
  {
   "cell_type": "code",
   "execution_count": 6,
   "metadata": {},
   "outputs": [
    {
     "data": {
      "text/plain": [
       "(983439, 2)"
      ]
     },
     "execution_count": 6,
     "metadata": {},
     "output_type": "execute_result"
    }
   ],
   "source": [
    "train.shape"
   ]
  },
  {
   "cell_type": "markdown",
   "metadata": {},
   "source": [
    "### EDA with dermographic features (members)"
   ]
  },
  {
   "cell_type": "code",
   "execution_count": 4,
   "metadata": {
    "collapsed": true
   },
   "outputs": [],
   "source": [
    "members = pd.read_csv('../kkbox-churn-prediction-challenge/members_v3.csv')"
   ]
  },
  {
   "cell_type": "code",
   "execution_count": 5,
   "metadata": {
    "collapsed": true
   },
   "outputs": [],
   "source": [
    "train=pd.read_csv('../kkbox-churn-prediction-challenge/train_v2_final_201702.csv')"
   ]
  },
  {
   "cell_type": "code",
   "execution_count": 16,
   "metadata": {},
   "outputs": [
    {
     "data": {
      "text/plain": [
       "(6769473, 6)"
      ]
     },
     "execution_count": 16,
     "metadata": {},
     "output_type": "execute_result"
    }
   ],
   "source": [
    "members.shape"
   ]
  },
  {
   "cell_type": "code",
   "execution_count": 6,
   "metadata": {
    "collapsed": true
   },
   "outputs": [],
   "source": [
    "members_train = train.merge(members,\"left\",on=\"msno\")"
   ]
  },
  {
   "cell_type": "code",
   "execution_count": 19,
   "metadata": {},
   "outputs": [
    {
     "data": {
      "text/plain": [
       "(983439, 7)"
      ]
     },
     "execution_count": 19,
     "metadata": {},
     "output_type": "execute_result"
    }
   ],
   "source": [
    "members_train.shape"
   ]
  },
  {
   "cell_type": "code",
   "execution_count": 21,
   "metadata": {},
   "outputs": [
    {
     "data": {
      "text/html": [
       "<div>\n",
       "<style>\n",
       "    .dataframe thead tr:only-child th {\n",
       "        text-align: right;\n",
       "    }\n",
       "\n",
       "    .dataframe thead th {\n",
       "        text-align: left;\n",
       "    }\n",
       "\n",
       "    .dataframe tbody tr th {\n",
       "        vertical-align: top;\n",
       "    }\n",
       "</style>\n",
       "<table border=\"1\" class=\"dataframe\">\n",
       "  <thead>\n",
       "    <tr style=\"text-align: right;\">\n",
       "      <th></th>\n",
       "      <th>msno</th>\n",
       "      <th>is_churn</th>\n",
       "      <th>city</th>\n",
       "      <th>bd</th>\n",
       "      <th>gender</th>\n",
       "      <th>registered_via</th>\n",
       "      <th>registration_init_time</th>\n",
       "    </tr>\n",
       "  </thead>\n",
       "  <tbody>\n",
       "    <tr>\n",
       "      <th>0</th>\n",
       "      <td>+++hVY1rZox/33YtvDgmKA2Frg/2qhkz12B9ylCvh8o=</td>\n",
       "      <td>0</td>\n",
       "      <td>1.0</td>\n",
       "      <td>0.0</td>\n",
       "      <td>NaN</td>\n",
       "      <td>7.0</td>\n",
       "      <td>20140608.0</td>\n",
       "    </tr>\n",
       "    <tr>\n",
       "      <th>1</th>\n",
       "      <td>+++l/EXNMLTijfLBa8p2TUVVVp2aFGSuUI/h7mLmthw=</td>\n",
       "      <td>0</td>\n",
       "      <td>15.0</td>\n",
       "      <td>26.0</td>\n",
       "      <td>male</td>\n",
       "      <td>9.0</td>\n",
       "      <td>20101118.0</td>\n",
       "    </tr>\n",
       "    <tr>\n",
       "      <th>2</th>\n",
       "      <td>+++snpr7pmobhLKUgSHTv/mpkqgBT0tQJ0zQj6qKrqc=</td>\n",
       "      <td>0</td>\n",
       "      <td>1.0</td>\n",
       "      <td>0.0</td>\n",
       "      <td>NaN</td>\n",
       "      <td>7.0</td>\n",
       "      <td>20140927.0</td>\n",
       "    </tr>\n",
       "    <tr>\n",
       "      <th>3</th>\n",
       "      <td>++/9R3sX37CjxbY/AaGvbwr3QkwElKBCtSvVzhCBDOk=</td>\n",
       "      <td>0</td>\n",
       "      <td>18.0</td>\n",
       "      <td>21.0</td>\n",
       "      <td>male</td>\n",
       "      <td>7.0</td>\n",
       "      <td>20160315.0</td>\n",
       "    </tr>\n",
       "    <tr>\n",
       "      <th>4</th>\n",
       "      <td>++/UDNo9DLrxT8QVGiDi1OnWfczAdEwThaVyD0fXO50=</td>\n",
       "      <td>0</td>\n",
       "      <td>22.0</td>\n",
       "      <td>32.0</td>\n",
       "      <td>male</td>\n",
       "      <td>9.0</td>\n",
       "      <td>20120122.0</td>\n",
       "    </tr>\n",
       "  </tbody>\n",
       "</table>\n",
       "</div>"
      ],
      "text/plain": [
       "                                           msno  is_churn  city    bd gender  \\\n",
       "0  +++hVY1rZox/33YtvDgmKA2Frg/2qhkz12B9ylCvh8o=         0   1.0   0.0    NaN   \n",
       "1  +++l/EXNMLTijfLBa8p2TUVVVp2aFGSuUI/h7mLmthw=         0  15.0  26.0   male   \n",
       "2  +++snpr7pmobhLKUgSHTv/mpkqgBT0tQJ0zQj6qKrqc=         0   1.0   0.0    NaN   \n",
       "3  ++/9R3sX37CjxbY/AaGvbwr3QkwElKBCtSvVzhCBDOk=         0  18.0  21.0   male   \n",
       "4  ++/UDNo9DLrxT8QVGiDi1OnWfczAdEwThaVyD0fXO50=         0  22.0  32.0   male   \n",
       "\n",
       "   registered_via  registration_init_time  \n",
       "0             7.0              20140608.0  \n",
       "1             9.0              20101118.0  \n",
       "2             7.0              20140927.0  \n",
       "3             7.0              20160315.0  \n",
       "4             9.0              20120122.0  "
      ]
     },
     "execution_count": 21,
     "metadata": {},
     "output_type": "execute_result"
    }
   ],
   "source": [
    "members_train.head()"
   ]
  },
  {
   "cell_type": "code",
   "execution_count": 7,
   "metadata": {},
   "outputs": [
    {
     "data": {
      "text/plain": [
       "0    96.541964\n",
       "1     3.458036\n",
       "Name: is_churn, dtype: float64"
      ]
     },
     "execution_count": 7,
     "metadata": {},
     "output_type": "execute_result"
    }
   ],
   "source": [
    "(train['is_churn'].value_counts()/train['is_churn'].count())*100"
   ]
  },
  {
   "cell_type": "code",
   "execution_count": 30,
   "metadata": {},
   "outputs": [
    {
     "data": {
      "image/png": "[encoded data removed]",
      "text/plain": [
       "<matplotlib.figure.Figure at 0x114016a20>"
      ]
     },
     "metadata": {},
     "output_type": "display_data"
    }
   ],
   "source": [
    "import matplotlib.pyplot as plt\n",
    "import seaborn as sns\n",
    "import matplotlib.ticker as ticker\n",
    "\n",
    "# The count of churn and not churn\n",
    "ax=sns.countplot(x=\"is_churn\", data=train)\n",
    "plt.title('Distribution of Members')\n",
    "ncount = len(train)\n",
    "# Make twin axis\n",
    "ax2=ax.twinx()\n",
    "\n",
    "# Switch so count axis is on right, frequency on left\n",
    "ax2.yaxis.tick_left()\n",
    "ax.yaxis.tick_right()\n",
    "\n",
    "# Also switch the labels over\n",
    "ax.yaxis.set_label_position('right')\n",
    "ax2.yaxis.set_label_position('left')\n",
    "\n",
    "ax2.set_ylabel('Frequency [%]')\n",
    "\n",
    "for p in ax.patches:\n",
    "    x=p.get_bbox().get_points()[:,0]\n",
    "    y=p.get_bbox().get_points()[1,1]\n",
    "    ax.annotate('{:.1f}%'.format(100.*y/ncount), (x.mean(), y), \n",
    "            ha='center', va='bottom') # set the alignment of the text\n",
    "\n",
    "# Use a LinearLocator to ensure the correct number of ticks\n",
    "ax.yaxis.set_major_locator(ticker.LinearLocator(2))\n",
    "\n",
    "# Fix the frequency range to 0-100\n",
    "ax2.set_ylim(0,100)\n",
    "ax.set_ylim(0,ncount)\n",
    "ax2.yaxis.set_major_locator(ticker.MultipleLocator(20))\n",
    "sns.set(rc={'figure.figsize':(10,6)})\n",
    "\n",
    "plt.show()"
   ]
  },
  {
   "cell_type": "code",
   "execution_count": 10,
   "metadata": {},
   "outputs": [
    {
     "data": {
      "image/png": "[encoded data removed]",
      "text/plain": [
       "<matplotlib.figure.Figure at 0x11bdf2cc0>"
      ]
     },
     "metadata": {},
     "output_type": "display_data"
    }
   ],
   "source": [
    "members_train[\"gender\"] = members_train['gender'].fillna('NA')\n",
    "sns.set(style=\"darkgrid\")\n",
    "sns.countplot(x=\"gender\", hue=\"is_churn\",data=members_train,palette=\"husl\")\n",
    "plt.show()"
   ]
  },
  {
   "cell_type": "code",
   "execution_count": 13,
   "metadata": {},
   "outputs": [
    {
     "data": {
      "text/plain": [
       "NA        45.148826\n",
       "male      28.742607\n",
       "female    26.108567\n",
       "Name: gender, dtype: float64"
      ]
     },
     "execution_count": 13,
     "metadata": {},
     "output_type": "execute_result"
    }
   ],
   "source": [
    "(members_train['gender'].value_counts()/members_train['gender'].count())*100"
   ]
  },
  {
   "cell_type": "code",
   "execution_count": 11,
   "metadata": {},
   "outputs": [
    {
     "name": "stdout",
     "output_type": "stream",
     "text": [
      "Gender Count [('NA', 252977), ('male', 161050), ('female', 146291)]\n"
     ]
    }
   ],
   "source": [
    "from collections import Counter\n",
    "gender_count = Counter(members_train['gender']).most_common()\n",
    "print(\"Gender Count \" +str(gender_count))"
   ]
  },
  {
   "cell_type": "markdown",
   "metadata": {},
   "source": [
    "### Analysis of each column"
   ]
  },
  {
   "cell_type": "code",
   "execution_count": 86,
   "metadata": {},
   "outputs": [
    {
     "data": {
      "text/plain": [
       "msno                       object\n",
       "is_churn                    int64\n",
       "city                      float64\n",
       "bd                        float64\n",
       "gender                     object\n",
       "registered_via            float64\n",
       "registration_init_time    float64\n",
       "dtype: object"
      ]
     },
     "execution_count": 86,
     "metadata": {},
     "output_type": "execute_result"
    }
   ],
   "source": [
    "members_train.dtypes"
   ]
  },
  {
   "cell_type": "code",
   "execution_count": 106,
   "metadata": {},
   "outputs": [
    {
     "data": {
      "text/plain": [
       "msno                           0\n",
       "is_churn                       0\n",
       "city                      114781\n",
       "bd                        114781\n",
       "gender                         0\n",
       "registered_via            114781\n",
       "registration_init_time    114781\n",
       "dtype: int64"
      ]
     },
     "execution_count": 106,
     "metadata": {},
     "output_type": "execute_result"
    }
   ],
   "source": [
    "members_train.isnull().sum(axis = 0)"
   ]
  },
  {
   "cell_type": "markdown",
   "metadata": {},
   "source": [
    "#### bd (age)\n",
    "Half of the members does not have a valid age"
   ]
  },
  {
   "cell_type": "code",
   "execution_count": 14,
   "metadata": {},
   "outputs": [
    {
     "data": {
      "text/plain": [
       "2016.0"
      ]
     },
     "execution_count": 14,
     "metadata": {},
     "output_type": "execute_result"
    }
   ],
   "source": [
    "members_train['bd'].max()"
   ]
  },
  {
   "cell_type": "code",
   "execution_count": 15,
   "metadata": {},
   "outputs": [
    {
     "data": {
      "text/plain": [
       "-3152.0"
      ]
     },
     "execution_count": 15,
     "metadata": {},
     "output_type": "execute_result"
    }
   ],
   "source": [
    "members_train['bd'].min()"
   ]
  },
  {
   "cell_type": "code",
   "execution_count": 102,
   "metadata": {
    "collapsed": true
   },
   "outputs": [],
   "source": [
    "seriesObj = members_train.apply(lambda x: True if x['bd'] <=0 or x['bd']>100 else False , axis=1)\n",
    "numOfRows = len(seriesObj[seriesObj == True].index)"
   ]
  },
  {
   "cell_type": "code",
   "execution_count": 103,
   "metadata": {},
   "outputs": [
    {
     "data": {
      "text/plain": [
       "485682"
      ]
     },
     "execution_count": 103,
     "metadata": {},
     "output_type": "execute_result"
    }
   ],
   "source": [
    "numOfRows"
   ]
  },
  {
   "cell_type": "code",
   "execution_count": null,
   "metadata": {
    "collapsed": true
   },
   "outputs": [],
   "source": [
    "# change it, to what?\n",
    "members_train['bd'] = members_train['bd'].apply(lambda x: [y if y <= 9 else 11 for y in x])"
   ]
  },
  {
   "cell_type": "markdown",
   "metadata": {},
   "source": [
    "#### city & register_method"
   ]
  },
  {
   "cell_type": "code",
   "execution_count": 107,
   "metadata": {
    "collapsed": true
   },
   "outputs": [],
   "source": [
    "members_train[\"city\"] = members_train['city'].fillna('unknown')"
   ]
  },
  {
   "cell_type": "code",
   "execution_count": 17,
   "metadata": {},
   "outputs": [
    {
     "data": {
      "text/plain": [
       "7.0    48.231748\n",
       "9.0    35.673810\n",
       "3.0    14.554372\n",
       "4.0     1.540071\n",
       "Name: registered_via, dtype: float64"
      ]
     },
     "execution_count": 17,
     "metadata": {},
     "output_type": "execute_result"
    }
   ],
   "source": [
    "(members_train['registered_via'].value_counts()/members_train['registered_via'].count())*100"
   ]
  },
  {
   "cell_type": "code",
   "execution_count": 109,
   "metadata": {
    "collapsed": true
   },
   "outputs": [],
   "source": [
    "members_train[\"registered_via\"] = members_train['registered_via'].fillna('unknown')"
   ]
  },
  {
   "cell_type": "markdown",
   "metadata": {},
   "source": [
    "#### registration_time"
   ]
  },
  {
   "cell_type": "code",
   "execution_count": 112,
   "metadata": {},
   "outputs": [
    {
     "data": {
      "text/plain": [
       "20170330.0"
      ]
     },
     "execution_count": 112,
     "metadata": {},
     "output_type": "execute_result"
    }
   ],
   "source": [
    "members_train['registration_init_time'].max()"
   ]
  },
  {
   "cell_type": "code",
   "execution_count": 113,
   "metadata": {},
   "outputs": [
    {
     "data": {
      "text/plain": [
       "20040326.0"
      ]
     },
     "execution_count": 113,
     "metadata": {},
     "output_type": "execute_result"
    }
   ],
   "source": [
    "members_train['registration_init_time'].min()"
   ]
  },
  {
   "cell_type": "code",
   "execution_count": 111,
   "metadata": {},
   "outputs": [
    {
     "data": {
      "text/plain": [
       "msno                           0\n",
       "is_churn                       0\n",
       "city                           0\n",
       "bd                        114781\n",
       "gender                         0\n",
       "registered_via                 0\n",
       "registration_init_time    114781\n",
       "dtype: int64"
      ]
     },
     "execution_count": 111,
     "metadata": {},
     "output_type": "execute_result"
    }
   ],
   "source": [
    "members_train.isnull().sum(axis = 0)"
   ]
  },
  {
   "cell_type": "markdown",
   "metadata": {},
   "source": [
    "### Transactions data"
   ]
  },
  {
   "cell_type": "code",
   "execution_count": 117,
   "metadata": {
    "collapsed": true
   },
   "outputs": [],
   "source": [
    "transactions.to_csv('Desktop/DS5500/kkbox-churn-prediction-challenge/transactions_combined_{}.csv'.format(target), index=False)"
   ]
  },
  {
   "cell_type": "code",
   "execution_count": 5,
   "metadata": {
    "collapsed": true
   },
   "outputs": [],
   "source": [
    "transactions = pd.read_csv('transactions_combined_201702.csv')"
   ]
  },
  {
   "cell_type": "code",
   "execution_count": 6,
   "metadata": {},
   "outputs": [
    {
     "data": {
      "text/plain": [
       "(22978755, 9)"
      ]
     },
     "execution_count": 6,
     "metadata": {},
     "output_type": "execute_result"
    }
   ],
   "source": [
    "transactions.shape"
   ]
  },
  {
   "cell_type": "code",
   "execution_count": 7,
   "metadata": {
    "collapsed": true
   },
   "outputs": [],
   "source": [
    "tran_churn = transactions.merge(train,on='msno',how=\"inner\")"
   ]
  },
  {
   "cell_type": "code",
   "execution_count": 132,
   "metadata": {},
   "outputs": [
    {
     "data": {
      "text/plain": [
       "(16925887, 10)"
      ]
     },
     "execution_count": 132,
     "metadata": {},
     "output_type": "execute_result"
    }
   ],
   "source": [
    "tran_churn.shape"
   ]
  },
  {
   "cell_type": "code",
   "execution_count": 9,
   "metadata": {
    "collapsed": true
   },
   "outputs": [],
   "source": [
    "del train"
   ]
  },
  {
   "cell_type": "code",
   "execution_count": 11,
   "metadata": {
    "collapsed": true
   },
   "outputs": [],
   "source": [
    "del transactions"
   ]
  },
  {
   "cell_type": "code",
   "execution_count": 12,
   "metadata": {},
   "outputs": [
    {
     "data": {
      "text/plain": [
       "msno                      0\n",
       "payment_method_id         0\n",
       "payment_plan_days         0\n",
       "plan_list_price           0\n",
       "actual_amount_paid        0\n",
       "is_auto_renew             0\n",
       "transaction_date          0\n",
       "membership_expire_date    0\n",
       "is_cancel                 0\n",
       "is_churn                  0\n",
       "dtype: int64"
      ]
     },
     "execution_count": 12,
     "metadata": {},
     "output_type": "execute_result"
    }
   ],
   "source": [
    "tran_churn.isnull().sum(axis = 0) #everything has data, good!"
   ]
  },
  {
   "cell_type": "code",
   "execution_count": 13,
   "metadata": {
    "collapsed": true
   },
   "outputs": [],
   "source": [
    "stats = tran_churn.groupby(['msno','is_churn']).agg({'actual_amount_paid':['sum'],'payment_plan_days':['mean']})"
   ]
  },
  {
   "cell_type": "code",
   "execution_count": 15,
   "metadata": {
    "collapsed": true
   },
   "outputs": [],
   "source": [
    "stats.columns = stats.columns.droplevel(1)"
   ]
  },
  {
   "cell_type": "code",
   "execution_count": 18,
   "metadata": {},
   "outputs": [
    {
     "name": "stderr",
     "output_type": "stream",
     "text": [
      "/Users/wangzhengye/anaconda3/lib/python3.6/site-packages/numpy/core/fromnumeric.py:56: FutureWarning: reshape is deprecated and will raise in a subsequent release. Please use .values.reshape(...) instead\n",
      "  return getattr(obj, method)(*args, **kwds)\n"
     ]
    },
    {
     "data": {
      "text/plain": [
       "<matplotlib.axes._subplots.AxesSubplot at 0x112cc3908>"
      ]
     },
     "execution_count": 18,
     "metadata": {},
     "output_type": "execute_result"
    },
    {
     "data": {
      "image/png": "[encoded data removed]",
      "text/plain": [
       "<matplotlib.figure.Figure at 0x112cc3198>"
      ]
     },
     "metadata": {},
     "output_type": "display_data"
    }
   ],
   "source": [
    "stats.boxplot(column='actual_amount_paid',by='is_churn',figsize=(10,8))"
   ]
  },
  {
   "cell_type": "code",
   "execution_count": 20,
   "metadata": {},
   "outputs": [
    {
     "name": "stderr",
     "output_type": "stream",
     "text": [
      "/Users/wangzhengye/anaconda3/lib/python3.6/site-packages/numpy/core/fromnumeric.py:56: FutureWarning: reshape is deprecated and will raise in a subsequent release. Please use .values.reshape(...) instead\n",
      "  return getattr(obj, method)(*args, **kwds)\n"
     ]
    },
    {
     "data": {
      "text/plain": [
       "<matplotlib.axes._subplots.AxesSubplot at 0x10de4b940>"
      ]
     },
     "execution_count": 20,
     "metadata": {},
     "output_type": "execute_result"
    },
    {
     "data": {
      "image/png": "[encoded data removed]",
      "text/plain": [
       "<matplotlib.figure.Figure at 0x10d851b00>"
      ]
     },
     "metadata": {},
     "output_type": "display_data"
    }
   ],
   "source": [
    "stats[stats['payment_plan_days']<300].boxplot(column='payment_plan_days',by='is_churn',figsize=(10,8))"
   ]
  },
  {
   "cell_type": "code",
   "execution_count": 137,
   "metadata": {},
   "outputs": [
    {
     "data": {
      "text/plain": [
       "msno                      object\n",
       "payment_method_id          int64\n",
       "payment_plan_days          int64\n",
       "plan_list_price            int64\n",
       "actual_amount_paid         int64\n",
       "is_auto_renew              int64\n",
       "transaction_date           int64\n",
       "membership_expire_date     int64\n",
       "is_cancel                  int64\n",
       "is_churn                   int64\n",
       "dtype: object"
      ]
     },
     "execution_count": 137,
     "metadata": {},
     "output_type": "execute_result"
    }
   ],
   "source": [
    "tran_churn.dtypes"
   ]
  },
  {
   "cell_type": "code",
   "execution_count": 134,
   "metadata": {},
   "outputs": [
    {
     "data": {
      "text/plain": [
       "30     92.826657\n",
       "0       3.525464\n",
       "31      2.736294\n",
       "7       0.288481\n",
       "195     0.166845\n",
       "410     0.113276\n",
       "180     0.071677\n",
       "90      0.069497\n",
       "100     0.041457\n",
       "120     0.039041\n",
       "10      0.029499\n",
       "60      0.019585\n",
       "1       0.017009\n",
       "360     0.011923\n",
       "395     0.011409\n",
       "200     0.008797\n",
       "240     0.005985\n",
       "400     0.004591\n",
       "14      0.003498\n",
       "365     0.002032\n",
       "35      0.001607\n",
       "450     0.001377\n",
       "70      0.001128\n",
       "80      0.000614\n",
       "270     0.000502\n",
       "21      0.000502\n",
       "99      0.000396\n",
       "66      0.000331\n",
       "230     0.000183\n",
       "415     0.000130\n",
       "110     0.000112\n",
       "3       0.000041\n",
       "15      0.000024\n",
       "45      0.000018\n",
       "2       0.000018\n",
       "Name: payment_plan_days, dtype: float64"
      ]
     },
     "execution_count": 134,
     "metadata": {},
     "output_type": "execute_result"
    }
   ],
   "source": [
    "(tran_churn['payment_plan_days'].value_counts()/tran_churn['payment_plan_days'].count())*100\n",
    "# most people pay every 30 days"
   ]
  },
  {
   "cell_type": "code",
   "execution_count": 135,
   "metadata": {},
   "outputs": [
    {
     "data": {
      "text/plain": [
       "41    59.167912\n",
       "40     9.771996\n",
       "39     7.389143\n",
       "37     4.828645\n",
       "38     4.543053\n",
       "34     4.029999\n",
       "36     3.834576\n",
       "33     1.961315\n",
       "31     1.392660\n",
       "30     0.677820\n",
       "29     0.528752\n",
       "27     0.271117\n",
       "35     0.238818\n",
       "32     0.233642\n",
       "23     0.213738\n",
       "28     0.188681\n",
       "19     0.182141\n",
       "21     0.114995\n",
       "18     0.082826\n",
       "14     0.074767\n",
       "24     0.054538\n",
       "16     0.048057\n",
       "20     0.047418\n",
       "22     0.024265\n",
       "25     0.021405\n",
       "26     0.017210\n",
       "15     0.012762\n",
       "11     0.011344\n",
       "13     0.010948\n",
       "17     0.009867\n",
       "12     0.006865\n",
       "10     0.006475\n",
       "8      0.001075\n",
       "6      0.000402\n",
       "5      0.000378\n",
       "3      0.000325\n",
       "2      0.000059\n",
       "4      0.000012\n",
       "Name: payment_method_id, dtype: float64"
      ]
     },
     "execution_count": 135,
     "metadata": {},
     "output_type": "execute_result"
    }
   ],
   "source": [
    "(tran_churn['payment_method_id'].value_counts()/tran_churn['payment_method_id'].count())*100\n",
    "# most people pay by method 41"
   ]
  },
  {
   "cell_type": "code",
   "execution_count": null,
   "metadata": {
    "collapsed": true
   },
   "outputs": [],
   "source": []
  }
 ],
 "metadata": {
  "kernelspec": {
   "display_name": "Python 3",
   "language": "python",
   "name": "python3"
  },
  "language_info": {
   "codemirror_mode": {
    "name": "ipython",
    "version": 3
   },
   "file_extension": ".py",
   "mimetype": "text/x-python",
   "name": "python",
   "nbconvert_exporter": "python",
   "pygments_lexer": "ipython3",
   "version": "3.6.8"
  }
 },
 "nbformat": 4,
 "nbformat_minor": 2
}
