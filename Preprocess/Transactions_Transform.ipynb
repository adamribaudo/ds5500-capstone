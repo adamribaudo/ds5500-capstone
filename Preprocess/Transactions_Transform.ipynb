{
 "cells": [
  {
   "cell_type": "code",
   "execution_count": 3,
   "metadata": {},
   "outputs": [],
   "source": [
    "import pandas as pd\n",
    "import numpy as np\n",
    "from itertools import product\n",
    "from datetime import datetime,date, timedelta\n",
    "from google.cloud import storage\n",
    "from google.cloud.storage import Blob\n",
    "from sklearn import preprocessing\n",
    "import matplotlib.pyplot as plt\n",
    "import seaborn as sns\n",
    "client = storage.Client(project=\"ds5500\")\n",
    "\n",
    "INPUT_PATH = \"gs://kkbox-data/50_pct_undersample/\"\n",
    "bucket = client.get_bucket(\"kkbox-data\")\n",
    "split=\"val\" # Use \"train\", \"val\" or \"test\""
   ]
  },
  {
   "cell_type": "markdown",
   "metadata": {},
   "source": [
    "# Process Transactions"
   ]
  },
  {
   "cell_type": "code",
   "execution_count": 4,
   "metadata": {},
   "outputs": [],
   "source": [
    "transactions = pd.read_csv(INPUT_PATH + \"{}_transactions.csv\".format(split))\n",
    "members_df = pd.read_csv(INPUT_PATH + \"{}_members_transformed.csv\".format(split))\n",
    "y = members_df.loc[:,[\"msno\",\"is_churn\"]].copy()"
   ]
  },
  {
   "cell_type": "code",
   "execution_count": 5,
   "metadata": {},
   "outputs": [],
   "source": [
    "# Remove transactions that don't exist in members df\n",
    "msno_diff = list(set(transactions.msno) - set(members_df.msno)) #difference in 2 sets\n",
    "transactions = transactions[~transactions[\"msno\"].isin(msno_diff)]"
   ]
  },
  {
   "cell_type": "code",
   "execution_count": 6,
   "metadata": {},
   "outputs": [],
   "source": [
    "transactions.loc[:,\"transaction_date\"] = pd.to_datetime(transactions.transaction_date)\n",
    "transactions = transactions.drop([\"payment_method_id\",\"plan_list_price\",\"membership_expire_date\"],axis=1)"
   ]
  },
  {
   "cell_type": "code",
   "execution_count": 7,
   "metadata": {},
   "outputs": [
    {
     "data": {
      "text/plain": [
       "Index(['msno', 'payment_plan_days', 'actual_amount_paid', 'is_auto_renew',\n",
       "       'date', 'is_cancel'],\n",
       "      dtype='object')"
      ]
     },
     "execution_count": 7,
     "metadata": {},
     "output_type": "execute_result"
    }
   ],
   "source": [
    "transactions.columns = ['msno', 'payment_plan_days', 'actual_amount_paid', 'is_auto_renew',\n",
    "       'date', 'is_cancel']\n",
    "transactions.columns"
   ]
  },
  {
   "cell_type": "markdown",
   "metadata": {},
   "source": [
    "### Log Normalize"
   ]
  },
  {
   "cell_type": "code",
   "execution_count": 8,
   "metadata": {},
   "outputs": [],
   "source": [
    "std_scaler = preprocessing.StandardScaler()\n",
    "max_scaler = preprocessing.MinMaxScaler()\n",
    "\n",
    "for col in [\"payment_plan_days\",\"actual_amount_paid\"]:\n",
    "    col_log = np.log(transactions[col].values.reshape(-1,1) + .001)\n",
    "    col_std = std_scaler.fit_transform(col_log)\n",
    "    col_clip = np.clip(col_std, a_min=col_std.min(),a_max=2)\n",
    "    col_norm = max_scaler.fit_transform(col_clip)\n",
    "    transactions[col + \"_norm\"] = col_norm"
   ]
  },
  {
   "cell_type": "code",
   "execution_count": 9,
   "metadata": {},
   "outputs": [],
   "source": [
    "transactions = transactions.drop([\"payment_plan_days\", \"actual_amount_paid\"], axis=1)"
   ]
  },
  {
   "cell_type": "code",
   "execution_count": 10,
   "metadata": {},
   "outputs": [],
   "source": [
    "transactions.to_csv(INPUT_PATH + \"transactions_transformed.csv\".format(split))"
   ]
  },
  {
   "cell_type": "markdown",
   "metadata": {},
   "source": [
    "# Monthly Data\n",
    "Compress the transactions sequences down to monthly data points with the assumption being that daily data points were too sparse."
   ]
  },
  {
   "cell_type": "code",
   "execution_count": 11,
   "metadata": {},
   "outputs": [],
   "source": [
    "transactions[\"year_month\"] = transactions.date.dt.year.astype(\"str\").str.cat(transactions.date.dt.month.astype(\"str\")) \n",
    "transactions = transactions.drop([\"date\"],axis=1)"
   ]
  },
  {
   "cell_type": "code",
   "execution_count": 12,
   "metadata": {},
   "outputs": [],
   "source": [
    "transactions_monthly = transactions.groupby([\"msno\",\"year_month\"]).agg({'is_auto_renew':'any','is_cancel':'any','payment_plan_days_norm':'mean','actual_amount_paid_norm':'mean'}).reset_index()\n",
    "transactions_monthly.loc[:,\"is_auto_renew\"] = transactions_monthly.is_auto_renew.astype('int32')\n",
    "transactions_monthly.loc[:,\"is_cancel\"] = transactions_monthly.is_cancel.astype('int32')"
   ]
  },
  {
   "cell_type": "code",
   "execution_count": 13,
   "metadata": {},
   "outputs": [],
   "source": [
    "users = list(set(transactions_monthly.msno))\n",
    "num_users = len(users)\n",
    "dates = list(set(transactions_monthly.year_month))\n",
    "# Remove dates before 201601 and after 201701\n",
    "dates.sort()\n",
    "dates=dates[12:25]"
   ]
  },
  {
   "cell_type": "code",
   "execution_count": 14,
   "metadata": {},
   "outputs": [],
   "source": [
    "num_dates=len(dates)\n",
    "# Join the user_log data with the dates created in the previous step\n",
    "padded_transactions_monthly = pd.DataFrame(product(users, dates), columns=[\"msno\",\"year_month\"])\n",
    "padded_transactions_monthly = padded_transactions_monthly.merge(transactions_monthly, how='left', on=[\"msno\",\"year_month\"]).fillna(0)\n",
    "padded_transactions_monthly = padded_transactions_monthly.sort_values(by=[\"msno\",\"year_month\"])"
   ]
  },
  {
   "cell_type": "code",
   "execution_count": 15,
   "metadata": {},
   "outputs": [
    {
     "data": {
      "text/plain": [
       "(21517, 13, 4)"
      ]
     },
     "execution_count": 15,
     "metadata": {},
     "output_type": "execute_result"
    }
   ],
   "source": [
    "# Reshape df to numpy 3d matrix\n",
    "padded_data = padded_transactions_monthly.iloc[:,2:]\n",
    "num_cols = len(padded_data.columns)\n",
    "padded_array = padded_data.values.reshape(num_users,num_dates,num_cols)\n",
    "np.save(\"{}_transactions_monthly_padded\".format(split),padded_array)\n",
    "padded_array.shape"
   ]
  },
  {
   "cell_type": "code",
   "execution_count": 16,
   "metadata": {},
   "outputs": [],
   "source": [
    "# Move numpy file to GCS\n",
    "blob = Blob(\"50_pct_undersample/{}_transactions_monthly_padded.npy\".format(split), bucket)\n",
    "with open(\"{}_transactions_monthly_padded.npy\".format(split), \"rb\") as my_file:\n",
    "    blob.upload_from_file(my_file)"
   ]
  }
 ],
 "metadata": {
  "kernelspec": {
   "display_name": "Python 3",
   "language": "python",
   "name": "python3"
  },
  "language_info": {
   "codemirror_mode": {
    "name": "ipython",
    "version": 3
   },
   "file_extension": ".py",
   "mimetype": "text/x-python",
   "name": "python",
   "nbconvert_exporter": "python",
   "pygments_lexer": "ipython3",
   "version": "3.5.3"
  },
  "toc": {
   "base_numbering": 1,
   "nav_menu": {},
   "number_sections": false,
   "sideBar": true,
   "skip_h1_title": false,
   "title_cell": "Table of Contents",
   "title_sidebar": "Contents",
   "toc_cell": false,
   "toc_position": {
    "height": "calc(100% - 180px)",
    "left": "10px",
    "top": "150px",
    "width": "165px"
   },
   "toc_section_display": true,
   "toc_window_display": true
  },
  "varInspector": {
   "cols": {
    "lenName": 16,
    "lenType": 16,
    "lenVar": 40
   },
   "kernels_config": {
    "python": {
     "delete_cmd_postfix": "",
     "delete_cmd_prefix": "del ",
     "library": "var_list.py",
     "varRefreshCmd": "print(var_dic_list())"
    },
    "r": {
     "delete_cmd_postfix": ") ",
     "delete_cmd_prefix": "rm(",
     "library": "var_list.r",
     "varRefreshCmd": "cat(var_dic_list()) "
    }
   },
   "types_to_exclude": [
    "module",
    "function",
    "builtin_function_or_method",
    "instance",
    "_Feature"
   ],
   "window_display": false
  }
 },
 "nbformat": 4,
 "nbformat_minor": 4
}
