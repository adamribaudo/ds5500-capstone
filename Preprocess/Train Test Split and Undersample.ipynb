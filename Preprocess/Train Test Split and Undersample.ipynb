{
 "cells": [
  {
   "cell_type": "code",
   "execution_count": 31,
   "metadata": {},
   "outputs": [],
   "source": [
    "import pandas as pd\n",
    "from sklearn.model_selection import train_test_split\n",
    "import imblearn\n",
    "from imblearn.under_sampling import RandomUnderSampler\n",
    "\n",
    "#labels = pd.read_csv('D:\\\\Northeastern\\\\100 pct undersample\\\\labels_under_100_pct.csv')\n",
    "members = pd.read_csv('..\\\\..\\\\Data\\\\train_before_2016.csv')\n",
    "#user_logs = pd.read_csv(\"D:\\\\Northeastern\\\\100 pct undersample\\\\undersampled_user_logs_100_pct.csv\")\n",
    "#transactions = pd.read_csv(\"D:\\\\Northeastern\\\\100 pct undersample\\\\transactions_under_100_pct.csv\")"
   ]
  },
  {
   "cell_type": "code",
   "execution_count": 32,
   "metadata": {
    "scrolled": true
   },
   "outputs": [
    {
     "name": "stdout",
     "output_type": "stream",
     "text": [
      "total msnos: 560318\n"
     ]
    }
   ],
   "source": [
    "print(f\"total msnos: {len((members.msno))}\")"
   ]
  },
  {
   "cell_type": "code",
   "execution_count": 33,
   "metadata": {},
   "outputs": [],
   "source": [
    "# split\n",
    "split_pct = .04\n",
    "\n",
    "X = members.msno\n",
    "y = members.is_churn\n",
    "X_train, X_test, y_train, y_test = train_test_split(X, y, test_size=split_pct, random_state=1)\n",
    "\n",
    "X_train, X_val, y_train, y_val = train_test_split(X_train, y_train, test_size=split_pct, random_state=1)"
   ]
  },
  {
   "cell_type": "code",
   "execution_count": 34,
   "metadata": {},
   "outputs": [
    {
     "name": "stdout",
     "output_type": "stream",
     "text": [
      "0.03452636389691472\n",
      "0.035648953732208985\n",
      "0.034763210484733\n"
     ]
    }
   ],
   "source": [
    "# % of churners before undersampling\n",
    "print(y_train.sum() / len(y_train))\n",
    "print(y_test.sum() / len(y_test))\n",
    "print(y_val.sum() / len(y_val))"
   ]
  },
  {
   "cell_type": "code",
   "execution_count": 35,
   "metadata": {},
   "outputs": [],
   "source": [
    "# Undersample the training data with 1:.5 ratio\n",
    "rus = RandomUnderSampler(random_state=0, sampling_strategy=.5)\n",
    "X=X_train.values.reshape(-1,1)\n",
    "y=y_train.values\n",
    "X_train_sampled, y_train_sampled = rus.fit_resample(X, y)"
   ]
  },
  {
   "cell_type": "code",
   "execution_count": 36,
   "metadata": {},
   "outputs": [
    {
     "name": "stdout",
     "output_type": "stream",
     "text": [
      "0.3333333333333333\n"
     ]
    }
   ],
   "source": [
    "# New is_churn rate is 33%\n",
    "print(y_train_sampled.sum() / len(y_train_sampled))"
   ]
  },
  {
   "cell_type": "code",
   "execution_count": 39,
   "metadata": {},
   "outputs": [
    {
     "name": "stdout",
     "output_type": "stream",
     "text": [
      "Train MSNO's: 53487\n",
      "Val MSNO's: 21517\n",
      "Test MSNO's: 22413\n"
     ]
    }
   ],
   "source": [
    "train_undersampled = pd.concat([pd.Series(X_train_sampled.reshape(-1),name='msno'), pd.Series(y_train_sampled,name='is_churn')], axis=1)\n",
    "print(\"Train MSNO's: \" + str(len(set(train_sampled.msno))))\n",
    "val = pd.concat([pd.Series(X_val,name='msno'), pd.Series(y_val,name='is_churn')], axis=1)\n",
    "print(\"Val MSNO's: \" + str(len(set(val.msno))))\n",
    "test = pd.concat([pd.Series(X_test,name='msno'), pd.Series(y_test,name='is_churn')], axis=1)\n",
    "print(\"Test MSNO's: \" + str(len(set(test.msno))))"
   ]
  },
  {
   "cell_type": "code",
   "execution_count": 47,
   "metadata": {},
   "outputs": [],
   "source": [
    "#Output full member data\n",
    "INPUT_PATH = \"D:\\\\Northeastern\\\\\"\n",
    "members = pd.read_csv(INPUT_PATH + \"members_v3.csv\")\n",
    "train_undersampled_members = train_undersampled.merge(right=members,how='inner',on='msno' )\n",
    "val_members = val.merge(right=members,how='inner',on='msno')\n",
    "test_members = test.merge(right=members,how='inner',on='msno')"
   ]
  },
  {
   "cell_type": "code",
   "execution_count": 48,
   "metadata": {},
   "outputs": [],
   "source": [
    "OUTPUT_PATH = \"D:\\\\Northeastern\\\\50 pct undersample split\\\\\"\n",
    "train_undersampled_members.to_csv(OUTPUT_PATH + \"train_undersampled_members.csv\", index=False)\n",
    "val_members.to_csv(OUTPUT_PATH + \"val_members.csv\", index=False)\n",
    "test_members.to_csv(OUTPUT_PATH + \"test_members.csv\", index=False)"
   ]
  },
  {
   "cell_type": "code",
   "execution_count": 50,
   "metadata": {},
   "outputs": [
    {
     "name": "stdout",
     "output_type": "stream",
     "text": [
      "Train MSNO's: 53483\n",
      "Val MSNO's: 21517\n",
      "Test MSNO's: 22411\n"
     ]
    }
   ],
   "source": [
    "print(\"Train MSNO's: \" + str(len(set(train_undersampled_members.msno))))\n",
    "print(\"Val MSNO's: \" + str(len(set(val_members.msno))))\n",
    "print(\"Test MSNO's: \" + str(len(set(test_members.msno))))"
   ]
  }
 ],
 "metadata": {
  "kernelspec": {
   "display_name": "Python 3",
   "language": "python",
   "name": "python3"
  },
  "language_info": {
   "codemirror_mode": {
    "name": "ipython",
    "version": 3
   },
   "file_extension": ".py",
   "mimetype": "text/x-python",
   "name": "python",
   "nbconvert_exporter": "python",
   "pygments_lexer": "ipython3",
   "version": "3.7.6"
  },
  "toc": {
   "base_numbering": 1,
   "nav_menu": {},
   "number_sections": false,
   "sideBar": true,
   "skip_h1_title": false,
   "title_cell": "Table of Contents",
   "title_sidebar": "Contents",
   "toc_cell": false,
   "toc_position": {
    "height": "calc(100% - 180px)",
    "left": "10px",
    "top": "150px",
    "width": "307.2px"
   },
   "toc_section_display": true,
   "toc_window_display": true
  },
  "varInspector": {
   "cols": {
    "lenName": 16,
    "lenType": 16,
    "lenVar": 40
   },
   "kernels_config": {
    "python": {
     "delete_cmd_postfix": "",
     "delete_cmd_prefix": "del ",
     "library": "var_list.py",
     "varRefreshCmd": "print(var_dic_list())"
    },
    "r": {
     "delete_cmd_postfix": ") ",
     "delete_cmd_prefix": "rm(",
     "library": "var_list.r",
     "varRefreshCmd": "cat(var_dic_list()) "
    }
   },
   "types_to_exclude": [
    "module",
    "function",
    "builtin_function_or_method",
    "instance",
    "_Feature"
   ],
   "window_display": false
  }
 },
 "nbformat": 4,
 "nbformat_minor": 4
}
