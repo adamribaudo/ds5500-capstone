{
 "cells": [
  {
   "cell_type": "code",
   "execution_count": 2,
   "metadata": {},
   "outputs": [],
   "source": [
    "import pandas as pd\n",
    "import numpy as np\n",
    "from itertools import product\n",
    "from datetime import datetime,date, timedelta"
   ]
  },
  {
   "cell_type": "markdown",
   "metadata": {},
   "source": [
    "# Process User Logs"
   ]
  },
  {
   "cell_type": "code",
   "execution_count": 22,
   "metadata": {},
   "outputs": [],
   "source": [
    "user_logs = pd.read_csv(\"D:\\\\Northeastern\\\\50 pct undersample final data\\\\X_val_user_logs.csv\",usecols=[1,2,3,4,5,6,7,8,9],nrows=1000)\n",
    "user_logs.loc[:,[\"date\"]]=pd.to_datetime(user_logs.date).dt.date\n",
    "members_df = pd.read_csv(\"D:\\\\Northeastern\\\\50 pct undersample final data\\\\X_val_transformed.csv\")"
   ]
  },
  {
   "cell_type": "code",
   "execution_count": 23,
   "metadata": {
    "scrolled": true
   },
   "outputs": [],
   "source": [
    "users = list(set(user_logs.msno))\n",
    "num_users = len(users)\n",
    "start_date = date(2016,1,1)#min(user_logs.date)\n",
    "end_date = date(2017,1,31)#max(user_logs.date)\n",
    "\n",
    "# this creates a list containing all dates from start to end\n",
    "dates = [start_date + timedelta(days=x) for x in range((end_date-start_date).days + 1)]\n",
    "num_dates=len(dates)\n",
    "\n",
    "padded_df = pd.DataFrame(product(users, dates), columns=[\"msno\",\"date\"])\n",
    "padded_df = padded_df.merge(user_logs, how='left', on=[\"msno\",\"date\"]).fillna(0)\n",
    "padded_df = padded_df.sort_values(by=[\"msno\",\"date\"])"
   ]
  },
  {
   "cell_type": "markdown",
   "metadata": {},
   "source": [
    "## Reshape User Logs and Save"
   ]
  },
  {
   "cell_type": "code",
   "execution_count": 24,
   "metadata": {},
   "outputs": [
    {
     "data": {
      "text/plain": [
       "(920, 397, 7)"
      ]
     },
     "execution_count": 24,
     "metadata": {},
     "output_type": "execute_result"
    }
   ],
   "source": [
    "# Reshape df to numpy 3d matrix\n",
    "padded_df_data = padded_df.iloc[:,2:9]\n",
    "#padded_df_data.to_csv(\"padded_output.csv\")\n",
    "num_cols = len(padded_df_data.columns)\n",
    "padded_array = padded_df_data.values.reshape(num_users,num_dates,num_cols)\n",
    "np.save(\"..\\\\Model Building\\\\val_padded_user_logs\",padded_array)\n",
    "padded_array.shape"
   ]
  },
  {
   "cell_type": "markdown",
   "metadata": {},
   "source": [
    "# Save Members Array"
   ]
  },
  {
   "cell_type": "code",
   "execution_count": 21,
   "metadata": {},
   "outputs": [],
   "source": [
    "# Grab users from members CSV\n",
    "members_df_filtered=members_df[members_df[\"msno\"].isin(users)].sort_values(\"msno\")\n",
    "members_df_data = members_df_filtered.iloc[:,1:]\n",
    "np.save(\"..\\\\Model Building\\\\val_members\",members_df_data.values)"
   ]
  },
  {
   "cell_type": "markdown",
   "metadata": {},
   "source": [
    "# Save Labels Array"
   ]
  },
  {
   "cell_type": "code",
   "execution_count": 19,
   "metadata": {},
   "outputs": [
    {
     "data": {
      "text/plain": [
       "(920, 1)"
      ]
     },
     "execution_count": 19,
     "metadata": {},
     "output_type": "execute_result"
    }
   ],
   "source": [
    "labels = pd.read_csv(\"D:\\\\Northeastern\\\\50 pct undersample final data\\\\y_val_with_msno.csv\")\n",
    "labels_filtered = labels[labels[\"msno\"].isin(users)]\n",
    "labels_filtered = labels_filtered.sort_values(\"msno\")\n",
    "labels_filtered = labels_filtered.drop([\"msno\"], axis=1)\n",
    "np.save(\"..\\\\Model Building\\\\val_labels\", labels_filtered.values)\n",
    "labels_filtered.shape"
   ]
  }
 ],
 "metadata": {
  "kernelspec": {
   "display_name": "Python 3",
   "language": "python",
   "name": "python3"
  },
  "language_info": {
   "codemirror_mode": {
    "name": "ipython",
    "version": 3
   },
   "file_extension": ".py",
   "mimetype": "text/x-python",
   "name": "python",
   "nbconvert_exporter": "python",
   "pygments_lexer": "ipython3",
   "version": "3.7.6"
  },
  "toc": {
   "base_numbering": 1,
   "nav_menu": {},
   "number_sections": false,
   "sideBar": true,
   "skip_h1_title": false,
   "title_cell": "Table of Contents",
   "title_sidebar": "Contents",
   "toc_cell": false,
   "toc_position": {
    "height": "calc(100% - 180px)",
    "left": "10px",
    "top": "150px",
    "width": "165px"
   },
   "toc_section_display": true,
   "toc_window_display": true
  },
  "varInspector": {
   "cols": {
    "lenName": 16,
    "lenType": 16,
    "lenVar": 40
   },
   "kernels_config": {
    "python": {
     "delete_cmd_postfix": "",
     "delete_cmd_prefix": "del ",
     "library": "var_list.py",
     "varRefreshCmd": "print(var_dic_list())"
    },
    "r": {
     "delete_cmd_postfix": ") ",
     "delete_cmd_prefix": "rm(",
     "library": "var_list.r",
     "varRefreshCmd": "cat(var_dic_list()) "
    }
   },
   "types_to_exclude": [
    "module",
    "function",
    "builtin_function_or_method",
    "instance",
    "_Feature"
   ],
   "window_display": false
  }
 },
 "nbformat": 4,
 "nbformat_minor": 2
}
