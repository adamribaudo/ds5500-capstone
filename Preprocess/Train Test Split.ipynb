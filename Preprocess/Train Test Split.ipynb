{
 "cells": [
  {
   "cell_type": "code",
   "execution_count": 36,
   "metadata": {},
   "outputs": [],
   "source": [
    "import pandas as pd\n",
    "from sklearn.model_selection import train_test_split\n",
    "import imblearn\n",
    "from imblearn.under_sampling import RandomUnderSampler\n",
    "\n",
    "labels = pd.read_csv('D:\\\\Northeastern\\\\100 pct undersample\\\\labels_under_100_pct.csv')\n",
    "members = pd.read_csv('D:\\\\Northeastern\\\\100 pct undersample\\\\membes_under_100_pct.csv')\n",
    "user_logs = pd.read_csv(\"D:\\\\Northeastern\\\\100 pct undersample\\\\undersampled_user_logs_100_pct.csv\")\n",
    "transactions = pd.read_csv(\"D:\\\\Northeastern\\\\100 pct undersample\\\\transactions_under_100_pct.csv\")"
   ]
  },
  {
   "cell_type": "code",
   "execution_count": 37,
   "metadata": {
    "scrolled": true
   },
   "outputs": [
    {
     "name": "stdout",
     "output_type": "stream",
     "text": [
      "Rows in undersampled labels: 38752\n",
      "Rows in members: 38748\n",
      "Unique msnos in transactions: 38752\n",
      "Unique msnos in logs: 38752\n"
     ]
    }
   ],
   "source": [
    "print(f\"Rows in undersampled labels: {len(labels)}\")\n",
    "print(f\"Rows in members: {len(members)}\")\n",
    "print(f\"Unique msnos in transactions: {len(set(transactions.msno))}\")\n",
    "print(f\"Unique msnos in logs: {len(set(user_logs.msno))}\")"
   ]
  },
  {
   "cell_type": "code",
   "execution_count": 38,
   "metadata": {},
   "outputs": [],
   "source": [
    "# Perform inner join on all tables to remove any MSNO's that aren't in any other tables\n",
    "labels = labels.merge(members.loc[:,[\"msno\",\"city\"]], how=\"inner\", on=\"msno\").drop([\"city\"],axis=1)\n",
    "members = members.merge(labels, how=\"inner\", on=\"msno\").drop([\"is_churn\"],axis=1)\n",
    "user_logs = user_logs.merge(labels,how=\"inner\",on=\"msno\").drop([\"is_churn\"],axis=1)\n",
    "transactions = transactions.merge(labels,how=\"inner\",on=\"msno\").drop([\"is_churn\"],axis=1)"
   ]
  },
  {
   "cell_type": "code",
   "execution_count": 39,
   "metadata": {},
   "outputs": [
    {
     "name": "stdout",
     "output_type": "stream",
     "text": [
      "Rows in undersampled labels: 38748\n",
      "Rows in members: 38748\n",
      "Unique msnos in transactions: 38748\n",
      "Unique msnos in logs: 38748\n"
     ]
    }
   ],
   "source": [
    "print(f\"Rows in undersampled labels: {len(labels)}\")\n",
    "print(f\"Rows in members: {len(members)}\")\n",
    "print(f\"Unique msnos in transactions: {len(set(transactions.msno))}\")\n",
    "print(f\"Unique msnos in logs: {len(set(user_logs.msno))}\")"
   ]
  },
  {
   "cell_type": "code",
   "execution_count": 40,
   "metadata": {},
   "outputs": [],
   "source": [
    "# Use 20% of training data for testing\n",
    "X = members\n",
    "y = labels\n",
    "X_train, X_test, y_train, y_test = train_test_split(X, y, test_size=0.2, random_state=1)\n",
    "\n",
    "# Use 20% of remaining training data for validation\n",
    "X_train, X_val, y_train, y_val = train_test_split(X_train, y_train, test_size=0.2, random_state=1)"
   ]
  },
  {
   "cell_type": "code",
   "execution_count": 46,
   "metadata": {},
   "outputs": [
    {
     "data": {
      "text/plain": [
       "0.5012097749818534"
      ]
     },
     "execution_count": 46,
     "metadata": {},
     "output_type": "execute_result"
    }
   ],
   "source": [
    "# Validate % of churners\n",
    "y_train.is_churn.sum() / len(y_train)"
   ]
  },
  {
   "cell_type": "code",
   "execution_count": 42,
   "metadata": {},
   "outputs": [],
   "source": [
    "#Members data\n",
    "OUTPUT_PATH = \"D:\\\\Northeastern\\\\100 pct undersample split\\\\\"\n",
    "X_train.to_csv(OUTPUT_PATH + \"X_train.csv\", index=False)\n",
    "X_train_msno = X_train[\"msno\"]\n",
    "y_train.to_csv(OUTPUT_PATH + \"y_train.csv\", index=False, header=False)\n",
    "X_test.to_csv(OUTPUT_PATH + \"X_test.csv\", index=False)\n",
    "X_test_msno = X_test[\"msno\"]\n",
    "y_test.to_csv(OUTPUT_PATH + \"y_test.csv\", index=False, header=False)\n",
    "X_val.to_csv(OUTPUT_PATH + \"X_val.csv\", index=False)\n",
    "X_val_msno = X_val[\"msno\"]\n",
    "y_val.to_csv(OUTPUT_PATH + \"y_val.csv\", index=False, header=False)"
   ]
  },
  {
   "cell_type": "code",
   "execution_count": 43,
   "metadata": {},
   "outputs": [],
   "source": [
    "# USER LOGS\n",
    "X_train_user_logs = user_logs[user_logs[\"msno\"].isin(X_train_msno)]\n",
    "X_train_user_logs.to_csv(OUTPUT_PATH + \"X_train_user_logs.csv\")\n",
    "X_val_user_logs = user_logs[user_logs[\"msno\"].isin(X_val_msno)]\n",
    "X_val_user_logs.to_csv(OUTPUT_PATH + \"X_val_user_logs.csv\")\n",
    "X_test_user_logs = user_logs[user_logs[\"msno\"].isin(X_test_msno)]\n",
    "X_test_user_logs.to_csv(OUTPUT_PATH + \"X_test_user_logs.csv\")"
   ]
  },
  {
   "cell_type": "code",
   "execution_count": 47,
   "metadata": {},
   "outputs": [
    {
     "name": "stdout",
     "output_type": "stream",
     "text": [
      "24798\n",
      "24798\n",
      "6200\n",
      "6200\n",
      "7750\n",
      "7750\n"
     ]
    }
   ],
   "source": [
    "#Validate identical msno numbers\n",
    "print(len(set(X_train.msno)))\n",
    "print(len(set(X_train_user_logs.msno)))\n",
    "\n",
    "print(len(set(X_val.msno)))\n",
    "print(len(set(X_val_user_logs.msno)))\n",
    "\n",
    "print(len(set(X_test.msno)))\n",
    "print(len(set(X_test_user_logs.msno)))"
   ]
  },
  {
   "cell_type": "code",
   "execution_count": 48,
   "metadata": {},
   "outputs": [],
   "source": [
    "# TRANSACTIONS\n",
    "X_train_msno = X_train[\"msno\"]\n",
    "X_train_transactions = transactions[transactions[\"msno\"].isin(X_train_msno)]\n",
    "X_train_transactions.to_csv(OUTPUT_PATH + \"X_train_transactions.csv\")\n",
    "\n",
    "X_val_msno = X_val[\"msno\"]\n",
    "X_val_transactions = transactions[transactions[\"msno\"].isin(X_val_msno)]\n",
    "X_val_transactions.to_csv(OUTPUT_PATH + \"X_val_transactions.csv\")\n",
    "\n",
    "X_test_msno = X_test[\"msno\"]\n",
    "X_test_transactions = transactions[transactions[\"msno\"].isin(X_test_msno)]\n",
    "X_test_transactions.to_csv(OUTPUT_PATH + \"X_test_transactions.csv\")"
   ]
  },
  {
   "cell_type": "code",
   "execution_count": 49,
   "metadata": {},
   "outputs": [
    {
     "name": "stdout",
     "output_type": "stream",
     "text": [
      "24798\n",
      "24798\n"
     ]
    }
   ],
   "source": [
    "#Validate indentical unique number of msno's\n",
    "print(len(set(X_train.msno)))\n",
    "print(len(set(X_train_transactions.msno)))"
   ]
  }
 ],
 "metadata": {
  "kernelspec": {
   "display_name": "Python 3",
   "language": "python",
   "name": "python3"
  },
  "language_info": {
   "codemirror_mode": {
    "name": "ipython",
    "version": 3
   },
   "file_extension": ".py",
   "mimetype": "text/x-python",
   "name": "python",
   "nbconvert_exporter": "python",
   "pygments_lexer": "ipython3",
   "version": "3.7.6"
  },
  "toc": {
   "base_numbering": 1,
   "nav_menu": {},
   "number_sections": false,
   "sideBar": true,
   "skip_h1_title": false,
   "title_cell": "Table of Contents",
   "title_sidebar": "Contents",
   "toc_cell": false,
   "toc_position": {
    "height": "calc(100% - 180px)",
    "left": "10px",
    "top": "150px",
    "width": "307.2px"
   },
   "toc_section_display": true,
   "toc_window_display": true
  },
  "varInspector": {
   "cols": {
    "lenName": 16,
    "lenType": 16,
    "lenVar": 40
   },
   "kernels_config": {
    "python": {
     "delete_cmd_postfix": "",
     "delete_cmd_prefix": "del ",
     "library": "var_list.py",
     "varRefreshCmd": "print(var_dic_list())"
    },
    "r": {
     "delete_cmd_postfix": ") ",
     "delete_cmd_prefix": "rm(",
     "library": "var_list.r",
     "varRefreshCmd": "cat(var_dic_list()) "
    }
   },
   "types_to_exclude": [
    "module",
    "function",
    "builtin_function_or_method",
    "instance",
    "_Feature"
   ],
   "window_display": false
  }
 },
 "nbformat": 4,
 "nbformat_minor": 2
}
