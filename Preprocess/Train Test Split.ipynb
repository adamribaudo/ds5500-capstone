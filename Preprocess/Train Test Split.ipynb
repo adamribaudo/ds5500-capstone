{
 "cells": [
  {
   "cell_type": "code",
   "execution_count": 1,
   "metadata": {},
   "outputs": [],
   "source": [
    "import pandas as pd\n",
    "from sklearn.model_selection import train_test_split\n",
    "\n",
    "labels = pd.read_csv('../../data/train_before_2016.csv')\n",
    "members = pd.read_csv('D:\\\\Northeastern\\\\members_v3.csv')\n",
    "user_logs = pd.read_csv(\"D:\\\\Northeastern\\\\user_logs_bq_export\\\\undersampled_user_logs_50_pct.csv\")\n",
    "transactions = pd.read_csv(\"D:\\\\Northeastern\\\\undersampled_transactions_50_pct___2.csv\")"
   ]
  },
  {
   "cell_type": "code",
   "execution_count": 13,
   "metadata": {},
   "outputs": [],
   "source": [
    "X = labels.merge(how='inner', right=members, on='msno')\n",
    "y = X['is_churn']\n",
    "X = X.drop(['is_churn'], axis=1)"
   ]
  },
  {
   "cell_type": "code",
   "execution_count": 2,
   "metadata": {},
   "outputs": [],
   "source": [
    "# Use 20% of training data for testing\n",
    "X_train, X_test, y_train, y_test = train_test_split(X, y, test_size=0.2, random_state=1)\n",
    "\n",
    "# Use 20% of remaining training data for validation\n",
    "X_train, X_val, y_train, y_val = train_test_split(X_train, y_train, test_size=0.2, random_state=1)\n",
    "\n",
    "#X_train = pd.read_csv('D:\\\\Northeastern\\\\50 pct undersample final data\\\\X_train.csv')\n",
    "#X_val = pd.read_csv('D:\\\\Northeastern\\\\50 pct undersample final data\\\\X_val.csv')\n",
    "#X_test = pd.read_csv('D:\\\\Northeastern\\\\50 pct undersample final data\\\\X_test.csv')"
   ]
  },
  {
   "cell_type": "code",
   "execution_count": 36,
   "metadata": {},
   "outputs": [],
   "source": [
    "X_train.to_csv(\"D:\\\\Northeastern\\\\50 pct undersample final data\\\\X_train.csv\", index=False)\n",
    "X_train_msno = X_train[\"msno\"]\n",
    "y_train.to_csv(\"D:\\\\Northeastern\\\\50 pct undersample final data\\\\y_train.csv\", index=False, header=False)\n",
    "X_test.to_csv(\"D:\\\\Northeastern\\\\50 pct undersample final data\\\\X_test.csv\", index=False)\n",
    "X_test_msno = X_test[\"msno\"]\n",
    "y_test.to_csv(\"D:\\\\Northeastern\\\\50 pct undersample final data\\\\y_test.csv\", index=False, header=False)\n",
    "X_val.to_csv(\"D:\\\\Northeastern\\\\50 pct undersample final data\\\\X_val.csv\", index=False)\n",
    "X_val_msno = X_val[\"msno\"]\n",
    "y_val.to_csv(\"D:\\\\Northeastern\\\\50 pct undersample final data\\\\y_val.csv\", index=False, header=False)"
   ]
  },
  {
   "cell_type": "code",
   "execution_count": 37,
   "metadata": {},
   "outputs": [],
   "source": [
    "# USER LOGS\n",
    "X_train_user_logs = user_logs[user_logs[\"msno\"].isin(X_train_msno)]\n",
    "X_train_user_logs.to_csv(\"D:\\\\Northeastern\\\\50 pct undersample final data\\\\X_train_user_logs.csv\")\n",
    "X_val_user_logs = user_logs[user_logs[\"msno\"].isin(X_val_msno)]\n",
    "X_val_user_logs.to_csv(\"D:\\\\Northeastern\\\\50 pct undersample final data\\\\X_val_user_logs.csv\")\n",
    "X_test_user_logs = user_logs[user_logs[\"msno\"].isin(X_test_msno)]\n",
    "X_test_user_logs.to_csv(\"D:\\\\Northeastern\\\\50 pct undersample final data\\\\X_test_user_logs.csv\")"
   ]
  },
  {
   "cell_type": "code",
   "execution_count": 5,
   "metadata": {},
   "outputs": [],
   "source": [
    "# TRANSACTIONS\n",
    "X_train_msno = X_train[\"msno\"]\n",
    "X_train_transactions = transactions[transactions[\"msno\"].isin(X_train_msno)]\n",
    "X_train_transactions.to_csv(\"D:\\\\Northeastern\\\\50 pct undersample final data\\\\X_train_transactions.csv\")\n",
    "\n",
    "X_val_msno = X_val[\"msno\"]\n",
    "X_val_transactions = transactions[transactions[\"msno\"].isin(X_val_msno)]\n",
    "X_val_transactions.to_csv(\"D:\\\\Northeastern\\\\50 pct undersample final data\\\\X_val_transactions.csv\")\n",
    "\n",
    "X_test_msno = X_test[\"msno\"]\n",
    "X_test_transactions = transactions[transactions[\"msno\"].isin(X_test_msno)]\n",
    "X_test_transactions.to_csv(\"D:\\\\Northeastern\\\\50 pct undersample final data\\\\X_test_transactions.csv\")"
   ]
  }
 ],
 "metadata": {
  "kernelspec": {
   "display_name": "Python 3",
   "language": "python",
   "name": "python3"
  },
  "language_info": {
   "codemirror_mode": {
    "name": "ipython",
    "version": 3
   },
   "file_extension": ".py",
   "mimetype": "text/x-python",
   "name": "python",
   "nbconvert_exporter": "python",
   "pygments_lexer": "ipython3",
   "version": "3.7.6"
  },
  "toc": {
   "base_numbering": 1,
   "nav_menu": {},
   "number_sections": false,
   "sideBar": true,
   "skip_h1_title": false,
   "title_cell": "Table of Contents",
   "title_sidebar": "Contents",
   "toc_cell": false,
   "toc_position": {},
   "toc_section_display": true,
   "toc_window_display": true
  },
  "varInspector": {
   "cols": {
    "lenName": 16,
    "lenType": 16,
    "lenVar": 40
   },
   "kernels_config": {
    "python": {
     "delete_cmd_postfix": "",
     "delete_cmd_prefix": "del ",
     "library": "var_list.py",
     "varRefreshCmd": "print(var_dic_list())"
    },
    "r": {
     "delete_cmd_postfix": ") ",
     "delete_cmd_prefix": "rm(",
     "library": "var_list.r",
     "varRefreshCmd": "cat(var_dic_list()) "
    }
   },
   "types_to_exclude": [
    "module",
    "function",
    "builtin_function_or_method",
    "instance",
    "_Feature"
   ],
   "window_display": false
  }
 },
 "nbformat": 4,
 "nbformat_minor": 2
}
