{
 "cells": [
  {
   "cell_type": "code",
   "execution_count": 107,
   "metadata": {},
   "outputs": [],
   "source": [
    "from __future__ import absolute_import, division, print_function, unicode_literals\n",
    "import tensorflow as tf\n",
    "import datetime, os\n",
    "import collections\n",
    "import matplotlib.pyplot as plt\n",
    "import numpy as np\n",
    "from keras.preprocessing import sequence\n",
    "import simplejson as json\n",
    "import tensorflow as tf\n",
    "import pandas as pd\n",
    "import os\n",
    "from tensorflow.keras import layers\n",
    "from sklearn.metrics import accuracy_score\n",
    "from sklearn import metrics as skmetrics\n",
    "from sklearn.linear_model import LogisticRegression\n",
    "\n",
    "from sklearn.metrics import roc_curve\n",
    "from sklearn.metrics import auc\n",
    "from keras.utils.vis_utils import plot_model\n",
    "from keras import metrics\n",
    "from keras.models import Sequential, Model\n",
    "from keras.layers import Dense, LSTM, Input, Dropout, Embedding, concatenate, SimpleRNN, Conv1D, MaxPooling1D\n",
    "from keras.utils.vis_utils import plot_model\n",
    "from google.cloud import storage\n",
    "from google.cloud.storage import Blob\n",
    "import seaborn as sns\n",
    "\n",
    "client = storage.Client(project=\"ds5500\")\n",
    "\n",
    "bucket = client.get_bucket(\"kkbox-data\")\n",
    "\n",
    "#INPUT_PATH = \"D:\\\\Northeastern\\\\100 pct undersample split\\\\\"\n",
    "INPUT_PATH = \"gs://kkbox-data/50_pct_undersample/\""
   ]
  },
  {
   "cell_type": "code",
   "execution_count": 114,
   "metadata": {},
   "outputs": [],
   "source": [
    "# Create F1 score as an evaluation metric\n",
    "# https://stackoverflow.com/questions/43547402/how-to-calculate-f1-macro-in-keras\n",
    "from keras import backend as K\n",
    "\n",
    "def f1(y_true, y_pred):\n",
    "    def recall(y_true, y_pred):\n",
    "        \"\"\"Recall metric.\n",
    "\n",
    "        Only computes a batch-wise average of recall.\n",
    "\n",
    "        Computes the recall, a metric for multi-label classification of\n",
    "        how many relevant items are selected.\n",
    "        \"\"\"\n",
    "        true_positives = K.sum(K.round(K.clip(y_true * y_pred, 0, 1)))\n",
    "        possible_positives = K.sum(K.round(K.clip(y_true, 0, 1)))\n",
    "        recall = true_positives / (possible_positives + K.epsilon())\n",
    "        return recall\n",
    "\n",
    "    def precision(y_true, y_pred):\n",
    "        \"\"\"Precision metric.\n",
    "\n",
    "        Only computes a batch-wise average of precision.\n",
    "\n",
    "        Computes the precision, a metric for multi-label classification of\n",
    "        how many selected items are relevant.\n",
    "        \"\"\"\n",
    "        true_positives = K.sum(K.round(K.clip(y_true * y_pred, 0, 1)))\n",
    "        predicted_positives = K.sum(K.round(K.clip(y_pred, 0, 1)))\n",
    "        precision = true_positives / (predicted_positives + K.epsilon())\n",
    "        return precision\n",
    "    precision = precision(y_true, y_pred)\n",
    "    recall = recall(y_true, y_pred)\n",
    "    return 2*((precision*recall)/(precision+recall+K.epsilon()))\n",
    "\n",
    "import sklearn.metrics as skmetrics\n"
   ]
  },
  {
   "cell_type": "markdown",
   "metadata": {},
   "source": [
    "# Load Member/Transaction Data"
   ]
  },
  {
   "cell_type": "code",
   "execution_count": 81,
   "metadata": {},
   "outputs": [],
   "source": [
    "# Load TRAINING data\n",
    "temp_path = \"/tmp/train_transactions_monthly_padded.npy\"\n",
    "blob = Blob(\"50_pct_undersample/train_transactions_monthly_padded.npy\", bucket)\n",
    "with open(temp_path, \"wb\") as file_obj:\n",
    "    blob.download_to_file(file_obj)\n",
    "X_transactions = np.load(temp_path)\n",
    "X_members = pd.read_csv(INPUT_PATH + \"train_members_transformed.csv\").sort_values(\"msno\").drop([\"msno\",\"is_churn\"],axis=1).values\n",
    "y = pd.read_csv(INPUT_PATH + \"train_members_transformed.csv\").sort_values(\"msno\").is_churn.values\n",
    "\n",
    "# Load VALIDATION data\n",
    "temp_path = \"/tmp/val_transactions_monthly_padded.npy\"\n",
    "blob = Blob(\"50_pct_undersample/val_transactions_monthly_padded.npy\", bucket)\n",
    "with open(temp_path, \"wb\") as file_obj:\n",
    "    blob.download_to_file(file_obj)\n",
    "X_val_transactions = np.load(temp_path)\n",
    "X_val_members = pd.read_csv(INPUT_PATH + \"val_members_transformed.csv\").sort_values(\"msno\").drop([\"msno\",\"is_churn\"],axis=1).values\n",
    "y_val = pd.read_csv(INPUT_PATH + \"val_members_transformed.csv\").sort_values(\"msno\").is_churn\n",
    "\n",
    "# Load TEST data\n",
    "temp_path = \"/tmp/test_transactions_monthly_padded.npy\"\n",
    "blob = Blob(\"50_pct_undersample/test_transactions_monthly_padded.npy\", bucket)\n",
    "with open(temp_path, \"wb\") as file_obj:\n",
    "    blob.download_to_file(file_obj)\n",
    "X_test_transactions = np.load(temp_path)\n",
    "X_test_members = pd.read_csv(INPUT_PATH + \"test_members_transformed.csv\").sort_values(\"msno\").drop([\"msno\",\"is_churn\"],axis=1).values\n",
    "y_test = pd.read_csv(INPUT_PATH + \"test_members_transformed.csv\").sort_values(\"msno\").is_churn"
   ]
  },
  {
   "cell_type": "markdown",
   "metadata": {},
   "source": [
    "## Load Weekly User Logs"
   ]
  },
  {
   "cell_type": "code",
   "execution_count": 103,
   "metadata": {},
   "outputs": [],
   "source": [
    "# Load training weekly user logs from GCS\n",
    "temp_path = \"/tmp/train_user_logs_weekly_padded.npy\"\n",
    "blob = Blob(\"50_pct_undersample/train_user_logs_weekly_padded.npy\", bucket)\n",
    "\n",
    "with open(temp_path, \"wb\") as file_obj:\n",
    "    blob.download_to_file(file_obj)\n",
    "X_user_logs_weekly = np.load(temp_path)\n",
    "\n",
    "# Load val weekly user logs from GCS\n",
    "temp_path = \"/tmp/val_user_logs_weekly_padded.npy\"\n",
    "blob = Blob(\"50_pct_undersample/val_user_logs_weekly_padded.npy\", bucket)\n",
    "\n",
    "with open(temp_path, \"wb\") as file_obj:\n",
    "    blob.download_to_file(file_obj)\n",
    "X_val_user_logs_weekly = np.load(temp_path)\n",
    "\n",
    "# Load test weekly user logs from GCS\n",
    "temp_path = \"/tmp/test_user_logs_weekly_padded.npy\"\n",
    "blob = Blob(\"50_pct_undersample/test_user_logs_weekly_padded.npy\", bucket)\n",
    "\n",
    "with open(temp_path, \"wb\") as file_obj:\n",
    "    blob.download_to_file(file_obj)\n",
    "X_test_user_logs_weekly = np.load(temp_path)"
   ]
  },
  {
   "cell_type": "markdown",
   "metadata": {},
   "source": [
    "# Just Weekly User Logs"
   ]
  },
  {
   "cell_type": "code",
   "execution_count": 72,
   "metadata": {},
   "outputs": [
    {
     "name": "stdout",
     "output_type": "stream",
     "text": [
      "Train on 53483 samples, validate on 21517 samples\n",
      "Epoch 1/50\n",
      "53483/53483 [==============================] - 28s 527us/step - loss: 0.5952 - f1: 0.3127 - val_loss: 0.4569 - val_f1: 0.1654\n",
      "Epoch 2/50\n",
      "53483/53483 [==============================] - 25s 460us/step - loss: 0.5686 - f1: 0.4381 - val_loss: 0.4207 - val_f1: 0.1761\n",
      "Epoch 3/50\n",
      "53483/53483 [==============================] - 24s 456us/step - loss: 0.5613 - f1: 0.4604 - val_loss: 0.3726 - val_f1: 0.1862\n",
      "Epoch 4/50\n",
      "53483/53483 [==============================] - 25s 460us/step - loss: 0.5564 - f1: 0.4713 - val_loss: 0.3721 - val_f1: 0.1859\n",
      "Epoch 5/50\n",
      "53483/53483 [==============================] - 25s 464us/step - loss: 0.5541 - f1: 0.4838 - val_loss: 0.3641 - val_f1: 0.1846\n",
      "Epoch 6/50\n",
      "53483/53483 [==============================] - 26s 480us/step - loss: 0.5534 - f1: 0.4789 - val_loss: 0.3549 - val_f1: 0.1889\n",
      "Epoch 7/50\n",
      "53483/53483 [==============================] - 24s 440us/step - loss: 0.5526 - f1: 0.4839 - val_loss: 0.3832 - val_f1: 0.1829\n",
      "Epoch 8/50\n",
      "53483/53483 [==============================] - 24s 441us/step - loss: 0.5514 - f1: 0.4823 - val_loss: 0.3493 - val_f1: 0.1899\n",
      "Epoch 9/50\n",
      "53483/53483 [==============================] - 24s 442us/step - loss: 0.5504 - f1: 0.4853 - val_loss: 0.3612 - val_f1: 0.1854\n",
      "Epoch 10/50\n",
      "53483/53483 [==============================] - 24s 453us/step - loss: 0.5492 - f1: 0.4919 - val_loss: 0.3866 - val_f1: 0.1825\n",
      "Epoch 11/50\n",
      "53483/53483 [==============================] - 22s 411us/step - loss: 0.5485 - f1: 0.4896 - val_loss: 0.3733 - val_f1: 0.1865\n",
      "Epoch 12/50\n",
      "53483/53483 [==============================] - 22s 414us/step - loss: 0.5481 - f1: 0.4917 - val_loss: 0.3664 - val_f1: 0.1905\n",
      "Epoch 13/50\n",
      "53483/53483 [==============================] - 24s 446us/step - loss: 0.5479 - f1: 0.4909 - val_loss: 0.3539 - val_f1: 0.1888\n",
      "Epoch 14/50\n",
      "53483/53483 [==============================] - 23s 425us/step - loss: 0.5475 - f1: 0.4920 - val_loss: 0.3789 - val_f1: 0.1845\n",
      "Epoch 15/50\n",
      "53483/53483 [==============================] - 22s 415us/step - loss: 0.5471 - f1: 0.4945 - val_loss: 0.3446 - val_f1: 0.1886\n",
      "Epoch 16/50\n",
      "53483/53483 [==============================] - 22s 411us/step - loss: 0.5462 - f1: 0.4955 - val_loss: 0.3803 - val_f1: 0.1814\n",
      "Epoch 17/50\n",
      "53483/53483 [==============================] - 22s 403us/step - loss: 0.5466 - f1: 0.4921 - val_loss: 0.3894 - val_f1: 0.1805\n",
      "Epoch 18/50\n",
      "53483/53483 [==============================] - 22s 406us/step - loss: 0.5451 - f1: 0.4930 - val_loss: 0.3844 - val_f1: 0.1840\n",
      "Epoch 19/50\n",
      "53483/53483 [==============================] - 23s 431us/step - loss: 0.5452 - f1: 0.4934 - val_loss: 0.3674 - val_f1: 0.1911\n",
      "Epoch 20/50\n",
      "53483/53483 [==============================] - 22s 407us/step - loss: 0.5447 - f1: 0.4944 - val_loss: 0.3446 - val_f1: 0.1880\n",
      "Epoch 21/50\n",
      "53483/53483 [==============================] - 24s 446us/step - loss: 0.5448 - f1: 0.4955 - val_loss: 0.3489 - val_f1: 0.1856\n",
      "Epoch 22/50\n",
      "53483/53483 [==============================] - 22s 403us/step - loss: 0.5437 - f1: 0.4975 - val_loss: 0.3606 - val_f1: 0.1893\n",
      "Epoch 23/50\n",
      "53483/53483 [==============================] - 22s 405us/step - loss: 0.5436 - f1: 0.4976 - val_loss: 0.3593 - val_f1: 0.1897\n",
      "Epoch 24/50\n",
      "53483/53483 [==============================] - 21s 401us/step - loss: 0.5436 - f1: 0.4958 - val_loss: 0.3602 - val_f1: 0.1932\n",
      "Epoch 25/50\n",
      "53483/53483 [==============================] - 21s 400us/step - loss: 0.5426 - f1: 0.4990 - val_loss: 0.3798 - val_f1: 0.1898\n",
      "Epoch 26/50\n",
      "53483/53483 [==============================] - 21s 400us/step - loss: 0.5422 - f1: 0.4985 - val_loss: 0.3802 - val_f1: 0.1881\n",
      "Epoch 27/50\n",
      "53483/53483 [==============================] - 23s 431us/step - loss: 0.5415 - f1: 0.5000 - val_loss: 0.3851 - val_f1: 0.1891\n",
      "Epoch 28/50\n",
      "53483/53483 [==============================] - 23s 421us/step - loss: 0.5417 - f1: 0.4984 - val_loss: 0.3884 - val_f1: 0.1867\n",
      "Epoch 29/50\n",
      "53483/53483 [==============================] - 21s 400us/step - loss: 0.5411 - f1: 0.4997 - val_loss: 0.3808 - val_f1: 0.1952\n",
      "Epoch 30/50\n",
      "53483/53483 [==============================] - 22s 405us/step - loss: 0.5406 - f1: 0.5003 - val_loss: 0.3594 - val_f1: 0.1889\n",
      "Epoch 31/50\n",
      "53483/53483 [==============================] - 22s 403us/step - loss: 0.5402 - f1: 0.5026 - val_loss: 0.3769 - val_f1: 0.1864\n",
      "Epoch 32/50\n",
      "53483/53483 [==============================] - 22s 416us/step - loss: 0.5398 - f1: 0.4994 - val_loss: 0.3755 - val_f1: 0.1957\n",
      "Epoch 33/50\n",
      "53483/53483 [==============================] - 24s 447us/step - loss: 0.5397 - f1: 0.5000 - val_loss: 0.3682 - val_f1: 0.1964\n",
      "Epoch 34/50\n",
      "53483/53483 [==============================] - 22s 414us/step - loss: 0.5387 - f1: 0.5059 - val_loss: 0.3644 - val_f1: 0.1956\n",
      "Epoch 35/50\n",
      "53483/53483 [==============================] - 24s 447us/step - loss: 0.5378 - f1: 0.5042 - val_loss: 0.3719 - val_f1: 0.1907\n",
      "Epoch 36/50\n",
      "53483/53483 [==============================] - 21s 401us/step - loss: 0.5375 - f1: 0.5065 - val_loss: 0.3964 - val_f1: 0.1793\n",
      "Epoch 37/50\n",
      "53483/53483 [==============================] - 22s 411us/step - loss: 0.5376 - f1: 0.5045 - val_loss: 0.3460 - val_f1: 0.2018\n",
      "Epoch 38/50\n",
      "53483/53483 [==============================] - 22s 416us/step - loss: 0.5369 - f1: 0.5057 - val_loss: 0.3751 - val_f1: 0.1919\n",
      "Epoch 39/50\n",
      "53483/53483 [==============================] - 22s 412us/step - loss: 0.5370 - f1: 0.5074 - val_loss: 0.3519 - val_f1: 0.2011\n",
      "Epoch 40/50\n",
      "53483/53483 [==============================] - 22s 421us/step - loss: 0.5361 - f1: 0.5073 - val_loss: 0.3781 - val_f1: 0.1897\n",
      "Epoch 41/50\n",
      "53483/53483 [==============================] - 23s 439us/step - loss: 0.5356 - f1: 0.5115 - val_loss: 0.3747 - val_f1: 0.2016\n",
      "Epoch 42/50\n",
      "53483/53483 [==============================] - 23s 424us/step - loss: 0.5344 - f1: 0.5131 - val_loss: 0.3677 - val_f1: 0.1972\n",
      "Epoch 43/50\n",
      "53483/53483 [==============================] - 23s 439us/step - loss: 0.5332 - f1: 0.5111 - val_loss: 0.3663 - val_f1: 0.1955\n",
      "Epoch 44/50\n",
      "53483/53483 [==============================] - 22s 408us/step - loss: 0.5343 - f1: 0.5130 - val_loss: 0.3738 - val_f1: 0.1924\n",
      "Epoch 45/50\n",
      "53483/53483 [==============================] - 23s 430us/step - loss: 0.5329 - f1: 0.5142 - val_loss: 0.3675 - val_f1: 0.1921\n",
      "Epoch 46/50\n",
      "53483/53483 [==============================] - 22s 406us/step - loss: 0.5323 - f1: 0.5135 - val_loss: 0.3848 - val_f1: 0.1857\n",
      "Epoch 47/50\n",
      "53483/53483 [==============================] - 24s 441us/step - loss: 0.5322 - f1: 0.5136 - val_loss: 0.3522 - val_f1: 0.1918\n",
      "Epoch 48/50\n",
      "53483/53483 [==============================] - 22s 419us/step - loss: 0.5318 - f1: 0.5159 - val_loss: 0.3765 - val_f1: 0.1836\n",
      "Epoch 49/50\n",
      "53483/53483 [==============================] - 23s 431us/step - loss: 0.5316 - f1: 0.5142 - val_loss: 0.3638 - val_f1: 0.1918\n",
      "Epoch 50/50\n",
      "53483/53483 [==============================] - 23s 421us/step - loss: 0.5304 - f1: 0.5172 - val_loss: 0.3497 - val_f1: 0.1936\n"
     ]
    }
   ],
   "source": [
    "batch_size = 64\n",
    "epochs = 50\n",
    "lstm_units = 16\n",
    "\n",
    "num_dates = X_user_logs_weekly.shape[1]\n",
    "num_user_log_cols = X_user_logs_weekly.shape[2]\n",
    "\n",
    "data_in_a = Input(shape = (num_dates,num_user_log_cols))\n",
    "a = LSTM(lstm_units, return_sequences=True)(data_in_a)\n",
    "a = Conv1D(filters=16, kernel_size=5, strides=2)(a)\n",
    "a = MaxPooling1D()(a)\n",
    "a = LSTM(lstm_units)(a)\n",
    "a = Dense(8)(a)\n",
    "a = Dropout(.2)(a)\n",
    "a = Dense(8)(a)\n",
    "out = Dense(1, activation='sigmoid')(a)\n",
    "\n",
    "model_2a = Model(inputs=data_in_a, outputs=out)\n",
    "model_2a.compile(loss = 'binary_crossentropy', optimizer='adam',metrics = [f1])\n",
    "\n",
    "#model_2a.summary()\n",
    "history_1 = model_2a.fit(X_user_logs_weekly, y, \n",
    "                         batch_size=batch_size, \n",
    "                         validation_data=(X_val_user_logs,y_val), \n",
    "                         epochs=epochs,verbose=1,\n",
    "                         use_multiprocessing=True) # try class_weight={0: 1, 1: 3}"
   ]
  },
  {
   "cell_type": "code",
   "execution_count": 73,
   "metadata": {},
   "outputs": [
    {
     "data": {
      "image/png": "[encoded data removed]",
      "text/plain": [
       "<Figure size 432x288 with 1 Axes>"
      ]
     },
     "metadata": {
      "needs_background": "light"
     },
     "output_type": "display_data"
    }
   ],
   "source": [
    "# Plot training & validation accuracy values\n",
    "plt.plot(history_1.history['f1'])\n",
    "plt.plot(history_1.history['val_f1'])\n",
    "plt.title('Model F1 Score - Weekly User Logs')\n",
    "plt.ylabel('F1')\n",
    "plt.xlabel('Epoch')\n",
    "plt.legend(['Train', 'Test'], loc='lower right')\n",
    "plt.ylim([0,1])\n",
    "plt.show()"
   ]
  },
  {
   "cell_type": "code",
   "execution_count": 105,
   "metadata": {},
   "outputs": [
    {
     "name": "stdout",
     "output_type": "stream",
     "text": [
      "Model 2A Recall 0.37844611528822053\n",
      "Model 2A Precision 0.1641304347826087\n"
     ]
    }
   ],
   "source": [
    "from sklearn.metrics import recall_score, precision_score\n",
    "y_true = y_test.values\n",
    "y_pred = np.round(model_2a.predict(X_test_user_logs_weekly)).flatten()\n",
    "print(\"Model 2A Recall \" + str(recall_score(y_true,y_pred)))\n",
    "print(\"Model 2A Precision \" + str(precision_score(y_true,y_pred)))"
   ]
  },
  {
   "cell_type": "markdown",
   "metadata": {},
   "source": [
    "# Weekly User Logs, Member Data, Transaction Data"
   ]
  },
  {
   "cell_type": "code",
   "execution_count": 120,
   "metadata": {},
   "outputs": [
    {
     "name": "stdout",
     "output_type": "stream",
     "text": [
      "Train on 53483 samples, validate on 21517 samples\n",
      "Epoch 1/50\n",
      "53483/53483 [==============================] - 28s 527us/step - loss: 0.3980 - f1: 0.7463 - val_loss: 0.2425 - val_f1: 0.3304\n",
      "Epoch 2/50\n",
      "53483/53483 [==============================] - 26s 492us/step - loss: 0.3717 - f1: 0.7716 - val_loss: 0.2843 - val_f1: 0.3088\n",
      "Epoch 3/50\n",
      "53483/53483 [==============================] - 25s 466us/step - loss: 0.3668 - f1: 0.7742 - val_loss: 0.2670 - val_f1: 0.3027\n",
      "Epoch 4/50\n",
      "53483/53483 [==============================] - 27s 509us/step - loss: 0.3637 - f1: 0.7763 - val_loss: 0.2497 - val_f1: 0.3258\n",
      "Epoch 5/50\n",
      "53483/53483 [==============================] - 25s 461us/step - loss: 0.3612 - f1: 0.7754 - val_loss: 0.2579 - val_f1: 0.3191\n",
      "Epoch 6/50\n",
      "53483/53483 [==============================] - 25s 458us/step - loss: 0.3602 - f1: 0.7765 - val_loss: 0.2789 - val_f1: 0.3169\n",
      "Epoch 7/50\n",
      "53483/53483 [==============================] - 25s 465us/step - loss: 0.3589 - f1: 0.7771 - val_loss: 0.2550 - val_f1: 0.3279\n",
      "Epoch 8/50\n",
      "53483/53483 [==============================] - 24s 453us/step - loss: 0.3573 - f1: 0.7773 - val_loss: 0.2396 - val_f1: 0.3418\n",
      "Epoch 9/50\n",
      "53483/53483 [==============================] - 24s 455us/step - loss: 0.3560 - f1: 0.7755 - val_loss: 0.2474 - val_f1: 0.3171\n",
      "Epoch 10/50\n",
      "53483/53483 [==============================] - 26s 477us/step - loss: 0.3555 - f1: 0.7768 - val_loss: 0.2287 - val_f1: 0.3303\n",
      "Epoch 11/50\n",
      "53483/53483 [==============================] - 24s 453us/step - loss: 0.3544 - f1: 0.7770 - val_loss: 0.2228 - val_f1: 0.3251\n",
      "Epoch 12/50\n",
      "53483/53483 [==============================] - 25s 468us/step - loss: 0.3537 - f1: 0.7796 - val_loss: 0.2473 - val_f1: 0.3203\n",
      "Epoch 13/50\n",
      "53483/53483 [==============================] - 25s 464us/step - loss: 0.3519 - f1: 0.7785 - val_loss: 0.2424 - val_f1: 0.3165\n",
      "Epoch 14/50\n",
      "53483/53483 [==============================] - 26s 479us/step - loss: 0.3519 - f1: 0.7791 - val_loss: 0.2168 - val_f1: 0.3403\n",
      "Epoch 15/50\n",
      "53483/53483 [==============================] - 24s 450us/step - loss: 0.3517 - f1: 0.7804 - val_loss: 0.2712 - val_f1: 0.3152\n",
      "Epoch 16/50\n",
      "53483/53483 [==============================] - 24s 446us/step - loss: 0.3505 - f1: 0.7791 - val_loss: 0.3071 - val_f1: 0.3128\n",
      "Epoch 17/50\n",
      "53483/53483 [==============================] - 25s 474us/step - loss: 0.3501 - f1: 0.7792 - val_loss: 0.2277 - val_f1: 0.3349\n",
      "Epoch 18/50\n",
      "53483/53483 [==============================] - 23s 438us/step - loss: 0.3492 - f1: 0.7804 - val_loss: 0.2858 - val_f1: 0.3033\n",
      "Epoch 19/50\n",
      "53483/53483 [==============================] - 24s 442us/step - loss: 0.3486 - f1: 0.7811 - val_loss: 0.2397 - val_f1: 0.3296\n",
      "Epoch 20/50\n",
      "53483/53483 [==============================] - 24s 453us/step - loss: 0.3485 - f1: 0.7797 - val_loss: 0.2420 - val_f1: 0.3361\n",
      "Epoch 21/50\n",
      "53483/53483 [==============================] - 24s 442us/step - loss: 0.3473 - f1: 0.7806 - val_loss: 0.2425 - val_f1: 0.3324\n",
      "Epoch 22/50\n",
      "53483/53483 [==============================] - 24s 441us/step - loss: 0.3473 - f1: 0.7804 - val_loss: 0.2344 - val_f1: 0.3243\n",
      "Epoch 23/50\n",
      "53483/53483 [==============================] - 24s 448us/step - loss: 0.3459 - f1: 0.7819 - val_loss: 0.2279 - val_f1: 0.3326\n",
      "Epoch 24/50\n",
      "53483/53483 [==============================] - 24s 441us/step - loss: 0.3453 - f1: 0.7833 - val_loss: 0.2314 - val_f1: 0.3324\n",
      "Epoch 25/50\n",
      "53483/53483 [==============================] - 23s 437us/step - loss: 0.3446 - f1: 0.7830 - val_loss: 0.2586 - val_f1: 0.3202\n",
      "Epoch 26/50\n",
      "53483/53483 [==============================] - 24s 445us/step - loss: 0.3445 - f1: 0.7816 - val_loss: 0.2776 - val_f1: 0.3159\n",
      "Epoch 27/50\n",
      "53483/53483 [==============================] - 26s 492us/step - loss: 0.3434 - f1: 0.7828 - val_loss: 0.2346 - val_f1: 0.3296\n",
      "Epoch 28/50\n",
      "53483/53483 [==============================] - 24s 447us/step - loss: 0.3425 - f1: 0.7839 - val_loss: 0.2479 - val_f1: 0.3281\n",
      "Epoch 29/50\n",
      "53483/53483 [==============================] - 23s 436us/step - loss: 0.3418 - f1: 0.7832 - val_loss: 0.2565 - val_f1: 0.3186\n",
      "Epoch 30/50\n",
      "53483/53483 [==============================] - 25s 475us/step - loss: 0.3410 - f1: 0.7853 - val_loss: 0.2631 - val_f1: 0.3263\n",
      "Epoch 31/50\n",
      "53483/53483 [==============================] - 23s 429us/step - loss: 0.3401 - f1: 0.7848 - val_loss: 0.2762 - val_f1: 0.3153\n",
      "Epoch 32/50\n",
      "53483/53483 [==============================] - 23s 430us/step - loss: 0.3391 - f1: 0.7838 - val_loss: 0.2434 - val_f1: 0.3286\n",
      "Epoch 33/50\n",
      "53483/53483 [==============================] - 23s 425us/step - loss: 0.3380 - f1: 0.7872 - val_loss: 0.2672 - val_f1: 0.3239\n",
      "Epoch 34/50\n",
      "53483/53483 [==============================] - 23s 429us/step - loss: 0.3376 - f1: 0.7864 - val_loss: 0.2765 - val_f1: 0.3255\n",
      "Epoch 35/50\n",
      "53483/53483 [==============================] - 23s 438us/step - loss: 0.3368 - f1: 0.7867 - val_loss: 0.2506 - val_f1: 0.3244\n",
      "Epoch 36/50\n",
      "53483/53483 [==============================] - 23s 428us/step - loss: 0.3356 - f1: 0.7870 - val_loss: 0.2687 - val_f1: 0.3195\n",
      "Epoch 37/50\n",
      "53483/53483 [==============================] - 23s 433us/step - loss: 0.3353 - f1: 0.7877 - val_loss: 0.2699 - val_f1: 0.3220\n",
      "Epoch 38/50\n",
      "53483/53483 [==============================] - 23s 427us/step - loss: 0.3349 - f1: 0.7873 - val_loss: 0.2732 - val_f1: 0.3218\n",
      "Epoch 39/50\n",
      "53483/53483 [==============================] - 23s 436us/step - loss: 0.3330 - f1: 0.7872 - val_loss: 0.2712 - val_f1: 0.3199\n",
      "Epoch 40/50\n",
      "53483/53483 [==============================] - 25s 472us/step - loss: 0.3314 - f1: 0.7890 - val_loss: 0.2613 - val_f1: 0.3233\n",
      "Epoch 41/50\n",
      "53483/53483 [==============================] - 23s 436us/step - loss: 0.3304 - f1: 0.7887 - val_loss: 0.2716 - val_f1: 0.3233\n",
      "Epoch 42/50\n",
      "53483/53483 [==============================] - 24s 443us/step - loss: 0.3303 - f1: 0.7904 - val_loss: 0.2419 - val_f1: 0.3334\n",
      "Epoch 43/50\n",
      "53483/53483 [==============================] - 25s 474us/step - loss: 0.3296 - f1: 0.7881 - val_loss: 0.2519 - val_f1: 0.3290\n",
      "Epoch 44/50\n",
      "53483/53483 [==============================] - 23s 432us/step - loss: 0.3281 - f1: 0.7912 - val_loss: 0.2815 - val_f1: 0.3191\n",
      "Epoch 45/50\n",
      "53483/53483 [==============================] - 23s 436us/step - loss: 0.3276 - f1: 0.7916 - val_loss: 0.2702 - val_f1: 0.3170\n",
      "Epoch 46/50\n",
      "53483/53483 [==============================] - 24s 450us/step - loss: 0.3266 - f1: 0.7914 - val_loss: 0.2385 - val_f1: 0.3276\n",
      "Epoch 47/50\n",
      "53483/53483 [==============================] - 24s 457us/step - loss: 0.3255 - f1: 0.7928 - val_loss: 0.2532 - val_f1: 0.3283\n",
      "Epoch 48/50\n",
      "53483/53483 [==============================] - 25s 460us/step - loss: 0.3242 - f1: 0.7932 - val_loss: 0.2703 - val_f1: 0.3056\n",
      "Epoch 49/50\n",
      "53483/53483 [==============================] - 24s 446us/step - loss: 0.3230 - f1: 0.7950 - val_loss: 0.2748 - val_f1: 0.3138\n",
      "Epoch 50/50\n",
      "53483/53483 [==============================] - 24s 455us/step - loss: 0.3221 - f1: 0.7941 - val_loss: 0.2742 - val_f1: 0.3137\n"
     ]
    }
   ],
   "source": [
    "batch_size = 64\n",
    "epochs = 50\n",
    "lstm_units = 16\n",
    "rnn_units = 16\n",
    "\n",
    "num_members = X_user_logs_weekly.shape[0]\n",
    "num_dates = X_user_logs_weekly.shape[1]\n",
    "num_user_log_cols = X_user_logs_weekly.shape[2]\n",
    "num_member_cols = X_members.shape[1]\n",
    "num_transaction_cols = X_transactions.shape[2]\n",
    "num_transaction_months = X_transactions.shape[1]\n",
    "\n",
    "data_in_a = Input(shape = (num_dates,num_user_log_cols))\n",
    "a = LSTM(lstm_units, return_sequences=True)(data_in_a)\n",
    "a = Conv1D(filters=16, kernel_size=5, strides=2)(a)\n",
    "a = MaxPooling1D()(a)\n",
    "a = LSTM(lstm_units)(a)\n",
    "a = Dense(16, activation='relu')(a)\n",
    "a_mod = Model(data_in_a, outputs=a)\n",
    "\n",
    "data_in_b = Input(shape = (num_member_cols,))\n",
    "b = Dense(16, activation='relu')(data_in_b)\n",
    "b_mod = Model(data_in_b, outputs=b)\n",
    "\n",
    "data_in_c = Input(shape = (num_transaction_months,num_transaction_cols,))\n",
    "c = SimpleRNN(rnn_units)(data_in_c)\n",
    "c = Dense(16, activation='relu')(c)\n",
    "c_mod = Model(data_in_c, outputs=c)\n",
    "\n",
    "combined = concatenate([a_mod.output, b_mod.output, c_mod.output])\n",
    "out = Dense(32, activation='relu')(combined)\n",
    "out = Dropout(.02)(out)\n",
    "out = Dense(16, activation='relu')(out)\n",
    "out = Dense(1, activation='sigmoid')(out)\n",
    "\n",
    "model_1 = Model(inputs=[a_mod.input, b_mod.input, c_mod.input], outputs=out)\n",
    "model_1.compile(loss = 'binary_crossentropy', optimizer='adam',metrics = [f1])\n",
    "\n",
    "#model_1.summary()\n",
    "history_2 = model_1.fit([X_user_logs_weekly, X_members, X_transactions], y, validation_data=([X_val_user_logs_weekly, X_val_members, X_val_transactions],y_val), batch_size=batch_size, epochs=epochs,verbose=1,use_multiprocessing=True)\n"
   ]
  },
  {
   "cell_type": "code",
   "execution_count": 121,
   "metadata": {},
   "outputs": [
    {
     "data": {
      "image/png": "[encoded data removed]",
      "text/plain": [
       "<Figure size 432x288 with 1 Axes>"
      ]
     },
     "metadata": {
      "needs_background": "light"
     },
     "output_type": "display_data"
    }
   ],
   "source": [
    "# Plot training & validation accuracy values\n",
    "plt.plot(history_2.history['f1'])\n",
    "plt.plot(history_2.history['val_f1'])\n",
    "plt.title('Model F1 Score - Approach 1')\n",
    "plt.ylabel('F1')\n",
    "plt.xlabel('Epoch')\n",
    "plt.legend(['Train', 'Test'], loc='lower right')\n",
    "plt.ylim([0,1])\n",
    "plt.show()"
   ]
  },
  {
   "cell_type": "code",
   "execution_count": 122,
   "metadata": {},
   "outputs": [
    {
     "name": "stdout",
     "output_type": "stream",
     "text": [
      "Model 1 Recall 0.4323308270676692\n",
      "Model 1 Precision 0.23232323232323232\n"
     ]
    }
   ],
   "source": [
    "from sklearn.metrics import recall_score, precision_score\n",
    "y_true = y_test.values\n",
    "y_pred = np.round(model_1.predict([X_test_user_logs_weekly, X_test_members, X_test_transactions])).flatten()\n",
    "print(\"Model 1 Recall \" + str(recall_score(y_true,y_pred)))\n",
    "print(\"Model 1 Precision \" + str(precision_score(y_true,y_pred)))"
   ]
  },
  {
   "cell_type": "markdown",
   "metadata": {},
   "source": [
    "# Load Daily User Logs"
   ]
  },
  {
   "cell_type": "code",
   "execution_count": 123,
   "metadata": {},
   "outputs": [],
   "source": [
    "# Load user logs from GCS\n",
    "temp_path = \"/tmp/train_user_logs_padded.npy\"\n",
    "blob = Blob(\"50_pct_undersample/train_user_logs_padded.npy\", bucket)\n",
    "\n",
    "with open(temp_path, \"wb\") as file_obj:\n",
    "    blob.download_to_file(file_obj)\n",
    "X_user_logs = np.load(temp_path)\n",
    "\n",
    "# Load val user logs from GCS\n",
    "temp_path = \"/tmp/val_user_logs_padded.npy\"\n",
    "blob = Blob(\"50_pct_undersample/val_user_logs_padded.npy\", bucket)\n",
    "\n",
    "with open(temp_path, \"wb\") as file_obj:\n",
    "    blob.download_to_file(file_obj)\n",
    "X_val_user_logs = np.load(temp_path)\n",
    "\n",
    "# Load test user logs from GCS\n",
    "temp_path = \"/tmp/test_user_logs_padded.npy\"\n",
    "blob = Blob(\"50_pct_undersample/test_user_logs_padded.npy\", bucket)\n",
    "\n",
    "with open(temp_path, \"wb\") as file_obj:\n",
    "    blob.download_to_file(file_obj)\n",
    "X_test_user_logs = np.load(temp_path)"
   ]
  },
  {
   "cell_type": "markdown",
   "metadata": {},
   "source": [
    "# Just Daily User Logs"
   ]
  },
  {
   "cell_type": "code",
   "execution_count": 77,
   "metadata": {},
   "outputs": [
    {
     "name": "stdout",
     "output_type": "stream",
     "text": [
      "Train on 53483 samples, validate on 21517 samples\n",
      "Epoch 1/50\n",
      "53483/53483 [==============================] - 83s 2ms/step - loss: 0.6064 - f1: 0.1655 - val_loss: 0.4369 - val_f1: 0.1611\n",
      "Epoch 2/50\n",
      "53483/53483 [==============================] - 81s 2ms/step - loss: 0.5644 - f1: 0.4530 - val_loss: 0.3729 - val_f1: 0.1893\n",
      "Epoch 3/50\n",
      "53483/53483 [==============================] - 78s 1ms/step - loss: 0.5571 - f1: 0.4809 - val_loss: 0.3434 - val_f1: 0.1969\n",
      "Epoch 4/50\n",
      "53483/53483 [==============================] - 77s 1ms/step - loss: 0.5537 - f1: 0.4906 - val_loss: 0.4149 - val_f1: 0.1793\n",
      "Epoch 5/50\n",
      "53483/53483 [==============================] - 81s 2ms/step - loss: 0.5513 - f1: 0.4955 - val_loss: 0.3536 - val_f1: 0.2048\n",
      "Epoch 6/50\n",
      "53483/53483 [==============================] - 81s 2ms/step - loss: 0.5505 - f1: 0.4958 - val_loss: 0.3827 - val_f1: 0.1849\n",
      "Epoch 7/50\n",
      "53483/53483 [==============================] - 79s 1ms/step - loss: 0.5483 - f1: 0.5008 - val_loss: 0.3333 - val_f1: 0.2006\n",
      "Epoch 8/50\n",
      "53483/53483 [==============================] - 78s 1ms/step - loss: 0.5475 - f1: 0.4993 - val_loss: 0.3950 - val_f1: 0.1855\n",
      "Epoch 9/50\n",
      "53483/53483 [==============================] - 80s 1ms/step - loss: 0.5468 - f1: 0.5025 - val_loss: 0.3448 - val_f1: 0.2004\n",
      "Epoch 10/50\n",
      "53483/53483 [==============================] - 82s 2ms/step - loss: 0.5455 - f1: 0.5031 - val_loss: 0.3372 - val_f1: 0.2002\n",
      "Epoch 11/50\n",
      "53483/53483 [==============================] - 79s 1ms/step - loss: 0.5453 - f1: 0.5066 - val_loss: 0.3587 - val_f1: 0.1981\n",
      "Epoch 12/50\n",
      "53483/53483 [==============================] - 77s 1ms/step - loss: 0.5453 - f1: 0.5027 - val_loss: 0.3782 - val_f1: 0.1893\n",
      "Epoch 13/50\n",
      "53483/53483 [==============================] - 79s 1ms/step - loss: 0.5434 - f1: 0.5086 - val_loss: 0.4002 - val_f1: 0.1915\n",
      "Epoch 14/50\n",
      "53483/53483 [==============================] - 78s 1ms/step - loss: 0.5446 - f1: 0.5053 - val_loss: 0.3493 - val_f1: 0.2042\n",
      "Epoch 15/50\n",
      "53483/53483 [==============================] - 77s 1ms/step - loss: 0.5427 - f1: 0.5098 - val_loss: 0.3544 - val_f1: 0.1901\n",
      "Epoch 16/50\n",
      "53483/53483 [==============================] - 76s 1ms/step - loss: 0.5435 - f1: 0.5054 - val_loss: 0.3926 - val_f1: 0.1905\n",
      "Epoch 17/50\n",
      "53483/53483 [==============================] - 83s 2ms/step - loss: 0.5429 - f1: 0.5061 - val_loss: 0.3898 - val_f1: 0.2020\n",
      "Epoch 18/50\n",
      "53483/53483 [==============================] - 86s 2ms/step - loss: 0.5418 - f1: 0.5083 - val_loss: 0.3595 - val_f1: 0.1909\n",
      "Epoch 19/50\n",
      "53483/53483 [==============================] - 84s 2ms/step - loss: 0.5420 - f1: 0.5126 - val_loss: 0.3617 - val_f1: 0.1973\n",
      "Epoch 20/50\n",
      "53483/53483 [==============================] - 87s 2ms/step - loss: 0.5424 - f1: 0.5068 - val_loss: 0.3803 - val_f1: 0.1888\n",
      "Epoch 21/50\n",
      "53483/53483 [==============================] - 82s 2ms/step - loss: 0.5415 - f1: 0.5117 - val_loss: 0.3564 - val_f1: 0.2038\n",
      "Epoch 22/50\n",
      "53483/53483 [==============================] - 85s 2ms/step - loss: 0.5409 - f1: 0.5085 - val_loss: 0.3708 - val_f1: 0.1927\n",
      "Epoch 23/50\n",
      "53483/53483 [==============================] - 82s 2ms/step - loss: 0.5411 - f1: 0.5078 - val_loss: 0.3858 - val_f1: 0.1947\n",
      "Epoch 24/50\n",
      "53483/53483 [==============================] - 84s 2ms/step - loss: 0.5398 - f1: 0.5112 - val_loss: 0.3400 - val_f1: 0.2048\n",
      "Epoch 25/50\n",
      "53483/53483 [==============================] - 86s 2ms/step - loss: 0.5401 - f1: 0.5109 - val_loss: 0.3645 - val_f1: 0.1968\n",
      "Epoch 26/50\n",
      "53483/53483 [==============================] - 82s 2ms/step - loss: 0.5391 - f1: 0.5145 - val_loss: 0.3432 - val_f1: 0.2051\n",
      "Epoch 27/50\n",
      "53483/53483 [==============================] - 81s 2ms/step - loss: 0.5390 - f1: 0.5135 - val_loss: 0.3444 - val_f1: 0.2044\n",
      "Epoch 28/50\n",
      "53483/53483 [==============================] - 82s 2ms/step - loss: 0.5396 - f1: 0.5100 - val_loss: 0.3555 - val_f1: 0.2005\n",
      "Epoch 29/50\n",
      "53483/53483 [==============================] - 87s 2ms/step - loss: 0.5390 - f1: 0.5106 - val_loss: 0.3542 - val_f1: 0.2048\n",
      "Epoch 30/50\n",
      "53483/53483 [==============================] - 83s 2ms/step - loss: 0.5384 - f1: 0.5125 - val_loss: 0.3692 - val_f1: 0.1966\n",
      "Epoch 31/50\n",
      "53483/53483 [==============================] - 86s 2ms/step - loss: 0.5382 - f1: 0.5147 - val_loss: 0.3502 - val_f1: 0.2060\n",
      "Epoch 32/50\n",
      "53483/53483 [==============================] - 86s 2ms/step - loss: 0.5379 - f1: 0.5134 - val_loss: 0.3697 - val_f1: 0.2058\n",
      "Epoch 33/50\n",
      "53483/53483 [==============================] - 86s 2ms/step - loss: 0.5378 - f1: 0.5150 - val_loss: 0.3713 - val_f1: 0.2047\n",
      "Epoch 34/50\n",
      "53483/53483 [==============================] - 82s 2ms/step - loss: 0.5378 - f1: 0.5183 - val_loss: 0.3616 - val_f1: 0.2048\n",
      "Epoch 35/50\n",
      "53483/53483 [==============================] - 90s 2ms/step - loss: 0.5380 - f1: 0.5138 - val_loss: 0.3667 - val_f1: 0.1983\n",
      "Epoch 36/50\n",
      "53483/53483 [==============================] - 86s 2ms/step - loss: 0.5370 - f1: 0.5164 - val_loss: 0.3502 - val_f1: 0.2059\n",
      "Epoch 37/50\n",
      "53483/53483 [==============================] - 83s 2ms/step - loss: 0.5372 - f1: 0.5146 - val_loss: 0.3693 - val_f1: 0.1972\n",
      "Epoch 38/50\n",
      "53483/53483 [==============================] - 88s 2ms/step - loss: 0.5374 - f1: 0.5158 - val_loss: 0.3685 - val_f1: 0.1945\n",
      "Epoch 39/50\n",
      "53483/53483 [==============================] - 89s 2ms/step - loss: 0.5365 - f1: 0.5178 - val_loss: 0.3373 - val_f1: 0.2087\n",
      "Epoch 40/50\n",
      "53483/53483 [==============================] - 89s 2ms/step - loss: 0.5369 - f1: 0.5176 - val_loss: 0.3675 - val_f1: 0.1930\n",
      "Epoch 41/50\n",
      "53483/53483 [==============================] - 86s 2ms/step - loss: 0.5361 - f1: 0.5176 - val_loss: 0.3639 - val_f1: 0.1989\n",
      "Epoch 42/50\n",
      "53483/53483 [==============================] - 87s 2ms/step - loss: 0.5355 - f1: 0.5176 - val_loss: 0.3729 - val_f1: 0.1957\n",
      "Epoch 43/50\n",
      "53483/53483 [==============================] - 88s 2ms/step - loss: 0.5355 - f1: 0.5209 - val_loss: 0.3812 - val_f1: 0.1952\n",
      "Epoch 44/50\n",
      "53483/53483 [==============================] - 89s 2ms/step - loss: 0.5351 - f1: 0.5208 - val_loss: 0.3525 - val_f1: 0.1961\n",
      "Epoch 45/50\n",
      "53483/53483 [==============================] - 83s 2ms/step - loss: 0.5350 - f1: 0.5214 - val_loss: 0.3609 - val_f1: 0.2006\n",
      "Epoch 46/50\n",
      "53483/53483 [==============================] - 81s 2ms/step - loss: 0.5357 - f1: 0.5193 - val_loss: 0.3598 - val_f1: 0.2033\n",
      "Epoch 47/50\n",
      "53483/53483 [==============================] - 78s 1ms/step - loss: 0.5343 - f1: 0.5248 - val_loss: 0.3749 - val_f1: 0.1883\n",
      "Epoch 48/50\n",
      "53483/53483 [==============================] - 76s 1ms/step - loss: 0.5351 - f1: 0.5183 - val_loss: 0.3893 - val_f1: 0.1857\n",
      "Epoch 49/50\n",
      "53483/53483 [==============================] - 77s 1ms/step - loss: 0.5348 - f1: 0.5196 - val_loss: 0.3718 - val_f1: 0.1997\n",
      "Epoch 50/50\n",
      "53483/53483 [==============================] - 79s 1ms/step - loss: 0.5354 - f1: 0.5180 - val_loss: 0.3689 - val_f1: 0.2019\n"
     ]
    }
   ],
   "source": [
    "batch_size = 128\n",
    "epochs = 50\n",
    "lstm_units = 16\n",
    "\n",
    "num_dates = X_user_logs.shape[1]\n",
    "num_user_log_cols = X_user_logs.shape[2]\n",
    "\n",
    "data_in_a = Input(shape = (num_dates,num_user_log_cols))\n",
    "a = LSTM(lstm_units, return_sequences=True)(data_in_a)\n",
    "a = Conv1D(filters=16, kernel_size=5, strides=2)(a)\n",
    "a = MaxPooling1D()(a)\n",
    "a = LSTM(lstm_units)(a)\n",
    "a = Dense(8)(a)\n",
    "a = Dropout(.2)(a)\n",
    "a = Dense(8)(a)\n",
    "out = Dense(1, activation='sigmoid')(a)\n",
    "\n",
    "model_2b = Model(inputs=data_in_a, outputs=out)\n",
    "model_2b.compile(loss = 'binary_crossentropy', optimizer='adam',metrics = [f1])\n",
    "\n",
    "#model_2b.summary()\n",
    "history_3 = model_2b.fit(X_user_logs, y, batch_size=batch_size, validation_data=(X_val_user_logs,y_val), epochs=epochs,verbose=1,use_multiprocessing=True)"
   ]
  },
  {
   "cell_type": "code",
   "execution_count": 79,
   "metadata": {},
   "outputs": [
    {
     "data": {
      "image/png": "[encoded data removed]",
      "text/plain": [
       "<Figure size 432x288 with 1 Axes>"
      ]
     },
     "metadata": {
      "needs_background": "light"
     },
     "output_type": "display_data"
    }
   ],
   "source": [
    "# Plot training & validation accuracy values\n",
    "plt.plot(history_3.history['f1'])\n",
    "plt.plot(history_3.history['val_f1'])\n",
    "plt.title('Approach 2b')\n",
    "plt.ylabel('F1')\n",
    "plt.xlabel('Epoch')\n",
    "plt.legend(['Train', 'Test'], loc='lower right')\n",
    "plt.ylim([0,1])\n",
    "plt.show()"
   ]
  },
  {
   "cell_type": "code",
   "execution_count": 125,
   "metadata": {},
   "outputs": [
    {
     "name": "stdout",
     "output_type": "stream",
     "text": [
      "Model 2b Recall 0.2706766917293233\n",
      "Model 2b Precision 0.17546709991876522\n"
     ]
    }
   ],
   "source": [
    "from sklearn.metrics import recall_score, precision_score\n",
    "y_true = y_test.values\n",
    "y_pred = np.round(model_2b.predict(X_test_user_logs)).flatten()\n",
    "print(\"Model 2b Recall \" + str(recall_score(y_true,y_pred)))\n",
    "print(\"Model 2b Precision \" + str(precision_score(y_true,y_pred)))"
   ]
  },
  {
   "cell_type": "markdown",
   "metadata": {},
   "source": [
    "# User Logs, Transactions, Member Data"
   ]
  },
  {
   "cell_type": "code",
   "execution_count": 32,
   "metadata": {},
   "outputs": [
    {
     "name": "stdout",
     "output_type": "stream",
     "text": [
      "Epoch 1/20\n",
      "24798/24798 [==============================] - 82s 3ms/step - loss: 0.4716 - auc_7: 0.8200\n",
      "Epoch 2/20\n",
      "24798/24798 [==============================] - 72s 3ms/step - loss: 0.4145 - auc_7: 0.8664\n",
      "Epoch 3/20\n",
      "24798/24798 [==============================] - 78s 3ms/step - loss: 0.4077 - auc_7: 0.8756\n",
      "Epoch 4/20\n",
      "24798/24798 [==============================] - 78s 3ms/step - loss: 0.4037 - auc_7: 0.8802\n",
      "Epoch 5/20\n",
      "24798/24798 [==============================] - 81s 3ms/step - loss: 0.4006 - auc_7: 0.8833\n",
      "Epoch 6/20\n",
      "24798/24798 [==============================] - 78s 3ms/step - loss: 0.3983 - auc_7: 0.8856\n",
      "Epoch 7/20\n",
      "24798/24798 [==============================] - 80s 3ms/step - loss: 0.3966 - auc_7: 0.8873\n",
      "Epoch 8/20\n",
      "24798/24798 [==============================] - 78s 3ms/step - loss: 0.3961 - auc_7: 0.8887\n",
      "Epoch 9/20\n",
      "24798/24798 [==============================] - 80s 3ms/step - loss: 0.3954 - auc_7: 0.8897\n",
      "Epoch 10/20\n",
      "24798/24798 [==============================] - 78s 3ms/step - loss: 0.3932 - auc_7: 0.8907\n",
      "Epoch 11/20\n",
      "24798/24798 [==============================] - 81s 3ms/step - loss: 0.3910 - auc_7: 0.8915\n",
      "Epoch 12/20\n",
      "24798/24798 [==============================] - 80s 3ms/step - loss: 0.3890 - auc_7: 0.8923\n",
      "Epoch 13/20\n",
      "24798/24798 [==============================] - 81s 3ms/step - loss: 0.3877 - auc_7: 0.8932\n",
      "Epoch 14/20\n",
      "24798/24798 [==============================] - 80s 3ms/step - loss: 0.3869 - auc_7: 0.8939\n",
      "Epoch 15/20\n",
      "24798/24798 [==============================] - 80s 3ms/step - loss: 0.3862 - auc_7: 0.8945\n",
      "Epoch 16/20\n",
      "24798/24798 [==============================] - 79s 3ms/step - loss: 0.3847 - auc_7: 0.8950\n",
      "Epoch 17/20\n",
      "24798/24798 [==============================] - 82s 3ms/step - loss: 0.3844 - auc_7: 0.8955\n",
      "Epoch 18/20\n",
      "24798/24798 [==============================] - 81s 3ms/step - loss: 0.3846 - auc_7: 0.8961\n",
      "Epoch 19/20\n",
      "24798/24798 [==============================] - 78s 3ms/step - loss: 0.3831 - auc_7: 0.8965\n",
      "Epoch 20/20\n",
      "24798/24798 [==============================] - 80s 3ms/step - loss: 0.3826 - auc_7: 0.8969\n"
     ]
    },
    {
     "data": {
      "text/plain": [
       "<keras.callbacks.callbacks.History at 0x7f0ff76e6e10>"
      ]
     },
     "execution_count": 32,
     "metadata": {},
     "output_type": "execute_result"
    }
   ],
   "source": [
    "batch_size = 64\n",
    "epochs = 20\n",
    "lstm_units = 16\n",
    "rnn_units = 16\n",
    "\n",
    "num_members = X_user_logs.shape[0]\n",
    "num_dates = X_user_logs.shape[1]\n",
    "num_user_log_cols = X_user_logs.shape[2]\n",
    "num_member_cols = X_members.shape[1]\n",
    "num_transaction_cols = X_transactions.shape[2]\n",
    "num_transaction_months = X_transactions.shape[1]\n",
    "\n",
    "data_in_a = Input(shape = (num_dates,num_user_log_cols))\n",
    "a = LSTM(lstm_units)(data_in_a)\n",
    "#a = LSTM(lstm_units)(a)\n",
    "a = Dense(16, activation='relu')(a)\n",
    "a_mod = Model(data_in_a, outputs=a)\n",
    "\n",
    "data_in_b = Input(shape = (num_member_cols,))\n",
    "b = Dense(16, activation='relu')(data_in_b)\n",
    "b_mod = Model(data_in_b, outputs=b)\n",
    "\n",
    "data_in_c = Input(shape = (num_transaction_months,num_transaction_cols,))\n",
    "c = SimpleRNN(rnn_units)(data_in_c)\n",
    "c_mod = Model(data_in_c, outputs=c)\n",
    "\n",
    "combined = concatenate([a_mod.output, b_mod.output, c_mod.output])\n",
    "out = Dense(16, activation='relu')(combined)\n",
    "#TODO add dropout layer\n",
    "out = Dense(1, activation='sigmoid')(out)\n",
    "\n",
    "model = Model(inputs=[a_mod.input, b_mod.input, c_mod.input], outputs=out)\n",
    "model.compile(loss = 'binary_crossentropy', optimizer='adam',metrics = [tf.metrics.AUC()])\n",
    "\n",
    "#model.summary()\n",
    "model.fit([X_user_logs, X_members, X_transactions], y, batch_size=batch_size, epochs=epochs,verbose=1,use_multiprocessing=True)\n"
   ]
  },
  {
   "cell_type": "markdown",
   "metadata": {},
   "source": [
    "# Transactions and Member Data"
   ]
  },
  {
   "cell_type": "code",
   "execution_count": 33,
   "metadata": {},
   "outputs": [
    {
     "name": "stdout",
     "output_type": "stream",
     "text": [
      "Epoch 1/20\n",
      "24798/24798 [==============================] - 3s 104us/step - loss: 0.4765 - auc_8: 0.8282\n",
      "Epoch 2/20\n",
      "24798/24798 [==============================] - 2s 78us/step - loss: 0.4266 - auc_8: 0.8589\n",
      "Epoch 3/20\n",
      "24798/24798 [==============================] - 2s 81us/step - loss: 0.4209 - auc_8: 0.8659\n",
      "Epoch 4/20\n",
      "24798/24798 [==============================] - 2s 83us/step - loss: 0.4173 - auc_8: 0.8700\n",
      "Epoch 5/20\n",
      "24798/24798 [==============================] - 2s 81us/step - loss: 0.4152 - auc_8: 0.8729\n",
      "Epoch 6/20\n",
      "24798/24798 [==============================] - 2s 80us/step - loss: 0.4143 - auc_8: 0.8750\n",
      "Epoch 7/20\n",
      "24798/24798 [==============================] - 2s 80us/step - loss: 0.4128 - auc_8: 0.8766\n",
      "Epoch 8/20\n",
      "24798/24798 [==============================] - 2s 80us/step - loss: 0.4112 - auc_8: 0.8778\n",
      "Epoch 9/20\n",
      "24798/24798 [==============================] - 2s 79us/step - loss: 0.4094 - auc_8: 0.8788\n",
      "Epoch 10/20\n",
      "24798/24798 [==============================] - 2s 82us/step - loss: 0.4093 - auc_8: 0.8798\n",
      "Epoch 11/20\n",
      "24798/24798 [==============================] - 2s 81us/step - loss: 0.4085 - auc_8: 0.8807\n",
      "Epoch 12/20\n",
      "24798/24798 [==============================] - 2s 81us/step - loss: 0.4077 - auc_8: 0.8813\n",
      "Epoch 13/20\n",
      "24798/24798 [==============================] - 2s 82us/step - loss: 0.4069 - auc_8: 0.8820\n",
      "Epoch 14/20\n",
      "24798/24798 [==============================] - 2s 81us/step - loss: 0.4062 - auc_8: 0.8825\n",
      "Epoch 15/20\n",
      "24798/24798 [==============================] - 2s 79us/step - loss: 0.4057 - auc_8: 0.8831\n",
      "Epoch 16/20\n",
      "24798/24798 [==============================] - 2s 80us/step - loss: 0.4050 - auc_8: 0.8836\n",
      "Epoch 17/20\n",
      "24798/24798 [==============================] - 2s 79us/step - loss: 0.4044 - auc_8: 0.8841\n",
      "Epoch 18/20\n",
      "24798/24798 [==============================] - 2s 81us/step - loss: 0.4037 - auc_8: 0.8845\n",
      "Epoch 19/20\n",
      "24798/24798 [==============================] - 2s 80us/step - loss: 0.4035 - auc_8: 0.8849\n",
      "Epoch 20/20\n",
      "24798/24798 [==============================] - 2s 79us/step - loss: 0.4027 - auc_8: 0.8854\n"
     ]
    },
    {
     "data": {
      "text/plain": [
       "<keras.callbacks.callbacks.History at 0x7f0ff7529e80>"
      ]
     },
     "execution_count": 33,
     "metadata": {},
     "output_type": "execute_result"
    }
   ],
   "source": [
    "batch_size = 64\n",
    "epochs = 20\n",
    "lstm_units = 16\n",
    "rnn_units = 16\n",
    "\n",
    "num_members = X_user_logs.shape[0]\n",
    "num_dates = X_user_logs.shape[1]\n",
    "num_user_log_cols = X_user_logs.shape[2]\n",
    "num_member_cols = X_members.shape[1]\n",
    "num_transaction_cols = X_transactions.shape[2]\n",
    "num_transaction_months = X_transactions.shape[1]\n",
    "\n",
    "data_in_b = Input(shape = (num_member_cols,))\n",
    "b = Dense(16, activation='relu')(data_in_b)\n",
    "b_mod = Model(data_in_b, outputs=b)\n",
    "\n",
    "data_in_c = Input(shape = (num_transaction_months,num_transaction_cols,))\n",
    "c = SimpleRNN(rnn_units)(data_in_c)\n",
    "c_mod = Model(data_in_c, outputs=c)\n",
    "\n",
    "combined = concatenate([b_mod.output, c_mod.output])\n",
    "out = Dense(16, activation='relu')(combined)\n",
    "#TODO add dropout layer\n",
    "out = Dense(1, activation='sigmoid')(out)\n",
    "\n",
    "model = Model(inputs=[b_mod.input, c_mod.input], outputs=out)\n",
    "model.compile(loss = 'binary_crossentropy', optimizer='adam',metrics = [tf.metrics.AUC()])\n",
    "\n",
    "#model.summary()\n",
    "model.fit([X_members, X_transactions], y, batch_size=batch_size, epochs=epochs,verbose=1,use_multiprocessing=True)\n"
   ]
  },
  {
   "cell_type": "markdown",
   "metadata": {},
   "source": [
    "# User Logs and Member Data (LSTM)"
   ]
  },
  {
   "cell_type": "raw",
   "metadata": {},
   "source": [
    "batch_size = 128\n",
    "epochs = 10\n",
    "lstm_units = 16\n",
    "\n",
    "num_members = X_user_logs.shape[0]\n",
    "num_dates = X_user_logs.shape[1]\n",
    "num_user_log_cols = X_user_logs.shape[2]\n",
    "num_member_cols = X_members.shape[1]\n",
    "\n",
    "data_in_a = Input(shape = (num_dates,num_user_log_cols))\n",
    "a = LSTM(lstm_units)(data_in_a)\n",
    "#a = LSTM(lstm_units)(a)\n",
    "a = Dense(16, activation='relu')(a)\n",
    "a_mod = Model(data_in_a, outputs=a)\n",
    "\n",
    "data_in_b = Input(shape = (num_member_cols,))\n",
    "b = Dense(16, activation='relu')(data_in_b)\n",
    "b_mod = Model(data_in_b, outputs=b)\n",
    "\n",
    "combined = concatenate([a_mod.output, b_mod.output])\n",
    "c = Dense(8, activation='relu')(combined)\n",
    "#TODO add dropout layer\n",
    "c = Dense(1, activation='sigmoid')(c)\n",
    "\n",
    "model = Model(inputs=[a_mod.input, b_mod.input], outputs=c)\n",
    "model.compile(loss = 'binary_crossentropy', optimizer='adam',metrics = [tf.metrics.AUC()])\n",
    "\n",
    "#model.summary()\n",
    "model.fit([X_user_logs, X_members], y, batch_size=batch_size, epochs=epochs,verbose=1,use_multiprocessing=True)\n"
   ]
  },
  {
   "cell_type": "markdown",
   "metadata": {},
   "source": [
    "# Member data only"
   ]
  },
  {
   "cell_type": "raw",
   "metadata": {},
   "source": [
    "batch_size = 128\n",
    "\n",
    "epochs = 20\n",
    "features = X_members.shape[1]\n",
    "\n",
    "data_in = Input(shape = (features,))\n",
    "x = Dense(1, activation='sigmoid')(data_in)\n",
    "model = Model(inputs=data_in, outputs=x)\n",
    "model.compile(loss = 'binary_crossentropy', optimizer='adam',metrics = [metrics.binary_accuracy])\n",
    "\n",
    "model.fit(X_members, y_flat, batch_size=batch_size, epochs=epochs,verbose=1)\n",
    "\n",
    "#Calculate AUC\n",
    "y_pred = model.predict(X_members).ravel()\n",
    "fpr_keras, tpr_keras, thresholds_keras = roc_curve(y_flat, y_pred)\n",
    "auc(fpr_keras, tpr_keras)"
   ]
  },
  {
   "cell_type": "markdown",
   "metadata": {},
   "source": [
    "# Visualize Model"
   ]
  },
  {
   "cell_type": "code",
   "execution_count": 59,
   "metadata": {},
   "outputs": [
    {
     "data": {
      "image/png": "[encoded data removed]",
      "text/plain": [
       "<IPython.core.display.Image object>"
      ]
     },
     "execution_count": 59,
     "metadata": {},
     "output_type": "execute_result"
    }
   ],
   "source": [
    "from IPython.display import SVG\n",
    "from keras.utils.vis_utils import model_to_dot\n",
    "\n",
    "SVG(model_to_dot(model).create(prog='dot', format='svg'))\n",
    "\n",
    "from keras.utils import plot_model\n",
    "plot_model(model, to_file='model.png')"
   ]
  }
 ],
 "metadata": {
  "kernelspec": {
   "display_name": "Python 3",
   "language": "python",
   "name": "python3"
  },
  "language_info": {
   "codemirror_mode": {
    "name": "ipython",
    "version": 3
   },
   "file_extension": ".py",
   "mimetype": "text/x-python",
   "name": "python",
   "nbconvert_exporter": "python",
   "pygments_lexer": "ipython3",
   "version": "3.5.3"
  },
  "toc": {
   "base_numbering": 1,
   "nav_menu": {},
   "number_sections": false,
   "sideBar": true,
   "skip_h1_title": false,
   "title_cell": "Table of Contents",
   "title_sidebar": "Contents",
   "toc_cell": false,
   "toc_position": {
    "height": "calc(100% - 180px)",
    "left": "10px",
    "top": "150px",
    "width": "165px"
   },
   "toc_section_display": true,
   "toc_window_display": true
  },
  "varInspector": {
   "cols": {
    "lenName": 16,
    "lenType": 16,
    "lenVar": 40
   },
   "kernels_config": {
    "python": {
     "delete_cmd_postfix": "",
     "delete_cmd_prefix": "del ",
     "library": "var_list.py",
     "varRefreshCmd": "print(var_dic_list())"
    },
    "r": {
     "delete_cmd_postfix": ") ",
     "delete_cmd_prefix": "rm(",
     "library": "var_list.r",
     "varRefreshCmd": "cat(var_dic_list()) "
    }
   },
   "types_to_exclude": [
    "module",
    "function",
    "builtin_function_or_method",
    "instance",
    "_Feature"
   ],
   "window_display": false
  }
 },
 "nbformat": 4,
 "nbformat_minor": 4
}
