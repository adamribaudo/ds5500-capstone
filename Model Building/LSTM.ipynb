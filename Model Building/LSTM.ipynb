{
 "cells": [
  {
   "cell_type": "code",
   "execution_count": 1,
   "metadata": {},
   "outputs": [
    {
     "name": "stderr",
     "output_type": "stream",
     "text": [
      "Using TensorFlow backend.\n"
     ]
    }
   ],
   "source": [
    "from __future__ import absolute_import, division, print_function, unicode_literals\n",
    "\n",
    "import collections\n",
    "import matplotlib.pyplot as plt\n",
    "import numpy as np\n",
    "from keras.preprocessing import sequence\n",
    "import simplejson as json\n",
    "import tensorflow as tf\n",
    "import pandas as pd\n",
    "import os\n",
    "from tensorflow.keras import layers\n",
    "\n",
    "from keras.utils.vis_utils import plot_model\n",
    "\n",
    "from keras.models import Sequential, Model\n",
    "from keras.layers import Dense, LSTM, Input, Dropout, Embedding, concatenate\n",
    "from keras.utils.vis_utils import plot_model\n",
    "from google.cloud import storage\n",
    "from google.cloud.storage import Blob\n",
    "\n",
    "client = storage.Client(project=\"ds5500\")\n",
    "\n",
    "bucket = client.get_bucket(\"kkbox-data\")\n",
    "\n",
    "#INPUT_PATH = \"D:\\\\Northeastern\\\\100 pct undersample split\\\\\"\n",
    "INPUT_PATH = \"gs://kkbox-data/data_100_pct_undersample/\""
   ]
  },
  {
   "cell_type": "markdown",
   "metadata": {},
   "source": [
    "# Load Data"
   ]
  },
  {
   "cell_type": "code",
   "execution_count": 2,
   "metadata": {},
   "outputs": [],
   "source": [
    "# Load from GCS\n",
    "temp_path = \"/tmp/train_user_logs_padded.npy\"\n",
    "blob = Blob(\"data_100_pct_undersample/train_user_logs_padded.npy\", bucket)\n",
    "with open(temp_path, \"wb\") as file_obj:\n",
    "    blob.download_to_file(file_obj)"
   ]
  },
  {
   "cell_type": "code",
   "execution_count": 3,
   "metadata": {},
   "outputs": [
    {
     "name": "stdout",
     "output_type": "stream",
     "text": [
      "(24798, 762, 7)\n",
      "[2.43421435e-02 0.00000000e+00 0.00000000e+00 0.00000000e+00\n",
      " 0.00000000e+00 0.00000000e+00 1.15294003e-06]\n"
     ]
    }
   ],
   "source": [
    "X_user_logs = np.load(temp_path)\n",
    "print(X_user_logs.shape)\n",
    "print(X_user_logs[0][0][0:10])"
   ]
  },
  {
   "cell_type": "code",
   "execution_count": 4,
   "metadata": {},
   "outputs": [],
   "source": [
    "X_members = pd.read_csv(INPUT_PATH + \"X_train_transformed.csv\").sort_values(\"msno\").drop([\"msno\"],axis=1).values\n",
    "y = pd.read_csv(INPUT_PATH + \"y_train.csv\", header=None).sort_values(0).drop([0],axis=1).values"
   ]
  },
  {
   "cell_type": "code",
   "execution_count": 5,
   "metadata": {},
   "outputs": [
    {
     "data": {
      "text/plain": [
       "27"
      ]
     },
     "execution_count": 5,
     "metadata": {},
     "output_type": "execute_result"
    }
   ],
   "source": [
    "num_members_cols = X_members.shape[1]\n",
    "num_members_cols"
   ]
  },
  {
   "cell_type": "markdown",
   "metadata": {},
   "source": [
    "# Multi Input Example"
   ]
  },
  {
   "cell_type": "code",
   "execution_count": 6,
   "metadata": {},
   "outputs": [
    {
     "name": "stdout",
     "output_type": "stream",
     "text": [
      "Epoch 1/5\n",
      "24798/24798 [==============================] - 78s 3ms/step - loss: 7.6481 - accuracy: 0.5012\n",
      "Epoch 2/5\n",
      "24798/24798 [==============================] - 75s 3ms/step - loss: 7.6481 - accuracy: 0.5012\n",
      "Epoch 3/5\n",
      "24798/24798 [==============================] - 76s 3ms/step - loss: 7.6481 - accuracy: 0.5012\n",
      "Epoch 4/5\n",
      "24798/24798 [==============================] - 76s 3ms/step - loss: 7.6481 - accuracy: 0.5012\n",
      "Epoch 5/5\n",
      "24798/24798 [==============================] - 79s 3ms/step - loss: 7.6481 - accuracy: 0.5012\n"
     ]
    },
    {
     "data": {
      "text/plain": [
       "<keras.callbacks.callbacks.History at 0x7fe01bdd5a58>"
      ]
     },
     "execution_count": 6,
     "metadata": {},
     "output_type": "execute_result"
    }
   ],
   "source": [
    "batch_size = 128\n",
    "epochs = 5\n",
    "lstm_units = 16\n",
    "\n",
    "num_members = X_user_logs.shape[0]\n",
    "num_dates = X_user_logs.shape[1]\n",
    "num_user_log_cols = X_user_logs.shape[2]\n",
    "num_member_cols = X_members.shape[1]\n",
    "\n",
    "data_in_a = Input(shape = (num_dates,num_user_log_cols))\n",
    "a = LSTM(lstm_units)(data_in_a)\n",
    "a_mod = Model(data_in_a, outputs=a)\n",
    "\n",
    "data_in_b = Input(shape = (num_member_cols,))\n",
    "b = Dense(16, activation='relu')(data_in_b)\n",
    "b_mod = Model(data_in_b, outputs=b)\n",
    "\n",
    "combined = concatenate([a_mod.output, b_mod.output])\n",
    "\n",
    "c = Dropout(0.2)(combined)\n",
    "c = Dense(1, activation='softmax')(c)\n",
    "\n",
    "model = Model(inputs=[a_mod.input, b_mod.input], outputs=c)\n",
    "model.compile(loss = 'binary_crossentropy', optimizer='adam',metrics = ['accuracy'])\n",
    "\n",
    "#model.summary()\n",
    "model.fit([X_user_logs, X_members], y, batch_size=batch_size, epochs=epochs,verbose=1)\n"
   ]
  },
  {
   "cell_type": "code",
   "execution_count": 8,
   "metadata": {},
   "outputs": [
    {
     "name": "stdout",
     "output_type": "stream",
     "text": [
      "Epoch 1/5\n",
      "24798/24798 [==============================] - 0s 19us/step - loss: 7.6481 - accuracy: 0.5012\n",
      "Epoch 2/5\n",
      "24798/24798 [==============================] - 0s 11us/step - loss: 7.6481 - accuracy: 0.5012\n",
      "Epoch 3/5\n",
      "24798/24798 [==============================] - 0s 11us/step - loss: 7.6481 - accuracy: 0.5012\n",
      "Epoch 4/5\n",
      "24798/24798 [==============================] - 0s 11us/step - loss: 7.6481 - accuracy: 0.5012\n",
      "Epoch 5/5\n",
      "24798/24798 [==============================] - 0s 10us/step - loss: 7.6481 - accuracy: 0.5012\n"
     ]
    },
    {
     "data": {
      "text/plain": [
       "<keras.callbacks.callbacks.History at 0x7fdff4675b38>"
      ]
     },
     "execution_count": 8,
     "metadata": {},
     "output_type": "execute_result"
    }
   ],
   "source": [
    "# Try just the member features\n",
    "batch_size = 128\n",
    "epochs = 5\n",
    "\n",
    "num_members = X_user_logs.shape[0]\n",
    "num_member_cols = X_members.shape[1]\n",
    "\n",
    "data_in_b = Input(shape = (num_member_cols,))\n",
    "x = Dense(16, activation='relu')(data_in_b)\n",
    "x = Dense(1, activation='softmax')(x)\n",
    "\n",
    "model = Model(inputs=data_in_b, outputs=x)\n",
    "model.compile(loss = 'binary_crossentropy', optimizer='adam',metrics = ['accuracy'])\n",
    "\n",
    "#model.summary()\n",
    "model.fit(X_members, y, batch_size=batch_size, epochs=epochs,verbose=1)\n"
   ]
  },
  {
   "cell_type": "code",
   "execution_count": 10,
   "metadata": {},
   "outputs": [
    {
     "data": {
      "image/svg+xml": [
       "<svg height=\"449pt\" viewBox=\"0.00 0.00 276.00 337.00\" width=\"368pt\" xmlns=\"http://www.w3.org/2000/svg\" xmlns:xlink=\"http://www.w3.org/1999/xlink\">\n",
       "<g class=\"graph\" id=\"graph0\" transform=\"scale(1.33333 1.33333) rotate(0) translate(4 333)\">\n",
       "<title>G</title>\n",
       "<polygon fill=\"white\" points=\"-4,4 -4,-333 272,-333 272,4 -4,4\" stroke=\"none\"/>\n",
       "<!-- 140704443387800 -->\n",
       "<g class=\"node\" id=\"node1\"><title>140704443387800</title>\n",
       "<polygon fill=\"none\" points=\"0,-292.5 0,-328.5 125,-328.5 125,-292.5 0,-292.5\" stroke=\"black\"/>\n",
       "<text font-family=\"Times,serif\" font-size=\"14.00\" text-anchor=\"middle\" x=\"62.5\" y=\"-306.8\">input_1: InputLayer</text>\n",
       "</g>\n",
       "<!-- 140704443387856 -->\n",
       "<g class=\"node\" id=\"node3\"><title>140704443387856</title>\n",
       "<polygon fill=\"none\" points=\"19.5,-219.5 19.5,-255.5 117.5,-255.5 117.5,-219.5 19.5,-219.5\" stroke=\"black\"/>\n",
       "<text font-family=\"Times,serif\" font-size=\"14.00\" text-anchor=\"middle\" x=\"68.5\" y=\"-233.8\">lstm_1: LSTM</text>\n",
       "</g>\n",
       "<!-- 140704443387800&#45;&gt;140704443387856 -->\n",
       "<g class=\"edge\" id=\"edge1\"><title>140704443387800-&gt;140704443387856</title>\n",
       "<path d=\"M63.9524,-292.313C64.6305,-284.289 65.4537,-274.547 66.2125,-265.569\" fill=\"none\" stroke=\"black\"/>\n",
       "<polygon fill=\"black\" points=\"69.7064,-265.788 67.0609,-255.529 62.7312,-265.199 69.7064,-265.788\" stroke=\"black\"/>\n",
       "</g>\n",
       "<!-- 140704443360704 -->\n",
       "<g class=\"node\" id=\"node2\"><title>140704443360704</title>\n",
       "<polygon fill=\"none\" points=\"143,-292.5 143,-328.5 268,-328.5 268,-292.5 143,-292.5\" stroke=\"black\"/>\n",
       "<text font-family=\"Times,serif\" font-size=\"14.00\" text-anchor=\"middle\" x=\"205.5\" y=\"-306.8\">input_2: InputLayer</text>\n",
       "</g>\n",
       "<!-- 140704443360760 -->\n",
       "<g class=\"node\" id=\"node4\"><title>140704443360760</title>\n",
       "<polygon fill=\"none\" points=\"147.5,-219.5 147.5,-255.5 249.5,-255.5 249.5,-219.5 147.5,-219.5\" stroke=\"black\"/>\n",
       "<text font-family=\"Times,serif\" font-size=\"14.00\" text-anchor=\"middle\" x=\"198.5\" y=\"-233.8\">dense_1: Dense</text>\n",
       "</g>\n",
       "<!-- 140704443360704&#45;&gt;140704443360760 -->\n",
       "<g class=\"edge\" id=\"edge2\"><title>140704443360704-&gt;140704443360760</title>\n",
       "<path d=\"M203.805,-292.313C203.014,-284.289 202.054,-274.547 201.169,-265.569\" fill=\"none\" stroke=\"black\"/>\n",
       "<polygon fill=\"black\" points=\"204.643,-265.137 200.179,-255.529 197.677,-265.824 204.643,-265.137\" stroke=\"black\"/>\n",
       "</g>\n",
       "<!-- 140704441240656 -->\n",
       "<g class=\"node\" id=\"node5\"><title>140704441240656</title>\n",
       "<polygon fill=\"none\" points=\"49.5,-146.5 49.5,-182.5 217.5,-182.5 217.5,-146.5 49.5,-146.5\" stroke=\"black\"/>\n",
       "<text font-family=\"Times,serif\" font-size=\"14.00\" text-anchor=\"middle\" x=\"133.5\" y=\"-160.8\">concatenate_1: Concatenate</text>\n",
       "</g>\n",
       "<!-- 140704443387856&#45;&gt;140704441240656 -->\n",
       "<g class=\"edge\" id=\"edge3\"><title>140704443387856-&gt;140704441240656</title>\n",
       "<path d=\"M84.2347,-219.313C92.2986,-210.505 102.259,-199.625 111.108,-189.958\" fill=\"none\" stroke=\"black\"/>\n",
       "<polygon fill=\"black\" points=\"113.739,-192.268 117.91,-182.529 108.576,-187.541 113.739,-192.268\" stroke=\"black\"/>\n",
       "</g>\n",
       "<!-- 140704443360760&#45;&gt;140704441240656 -->\n",
       "<g class=\"edge\" id=\"edge4\"><title>140704443360760-&gt;140704441240656</title>\n",
       "<path d=\"M182.765,-219.313C174.701,-210.505 164.741,-199.625 155.892,-189.958\" fill=\"none\" stroke=\"black\"/>\n",
       "<polygon fill=\"black\" points=\"158.424,-187.541 149.09,-182.529 153.261,-192.268 158.424,-187.541\" stroke=\"black\"/>\n",
       "</g>\n",
       "<!-- 140704441238640 -->\n",
       "<g class=\"node\" id=\"node6\"><title>140704441238640</title>\n",
       "<polygon fill=\"none\" points=\"71,-73.5 71,-109.5 196,-109.5 196,-73.5 71,-73.5\" stroke=\"black\"/>\n",
       "<text font-family=\"Times,serif\" font-size=\"14.00\" text-anchor=\"middle\" x=\"133.5\" y=\"-87.8\">dropout_1: Dropout</text>\n",
       "</g>\n",
       "<!-- 140704441240656&#45;&gt;140704441238640 -->\n",
       "<g class=\"edge\" id=\"edge5\"><title>140704441240656-&gt;140704441238640</title>\n",
       "<path d=\"M133.5,-146.313C133.5,-138.289 133.5,-128.547 133.5,-119.569\" fill=\"none\" stroke=\"black\"/>\n",
       "<polygon fill=\"black\" points=\"137,-119.529 133.5,-109.529 130,-119.529 137,-119.529\" stroke=\"black\"/>\n",
       "</g>\n",
       "<!-- 140704441241328 -->\n",
       "<g class=\"node\" id=\"node7\"><title>140704441241328</title>\n",
       "<polygon fill=\"none\" points=\"82.5,-0.5 82.5,-36.5 184.5,-36.5 184.5,-0.5 82.5,-0.5\" stroke=\"black\"/>\n",
       "<text font-family=\"Times,serif\" font-size=\"14.00\" text-anchor=\"middle\" x=\"133.5\" y=\"-14.8\">dense_2: Dense</text>\n",
       "</g>\n",
       "<!-- 140704441238640&#45;&gt;140704441241328 -->\n",
       "<g class=\"edge\" id=\"edge6\"><title>140704441238640-&gt;140704441241328</title>\n",
       "<path d=\"M133.5,-73.3129C133.5,-65.2895 133.5,-55.5475 133.5,-46.5691\" fill=\"none\" stroke=\"black\"/>\n",
       "<polygon fill=\"black\" points=\"137,-46.5288 133.5,-36.5288 130,-46.5289 137,-46.5288\" stroke=\"black\"/>\n",
       "</g>\n",
       "</g>\n",
       "</svg>"
      ],
      "text/plain": [
       "<IPython.core.display.SVG object>"
      ]
     },
     "execution_count": 10,
     "metadata": {},
     "output_type": "execute_result"
    }
   ],
   "source": [
    "from IPython.display import SVG\n",
    "from keras.utils.vis_utils import model_to_dot\n",
    "\n",
    "SVG(model_to_dot(model).create(prog='dot', format='svg'))"
   ]
  }
 ],
 "metadata": {
  "kernelspec": {
   "display_name": "Python 3",
   "language": "python",
   "name": "python3"
  },
  "language_info": {
   "codemirror_mode": {
    "name": "ipython",
    "version": 3
   },
   "file_extension": ".py",
   "mimetype": "text/x-python",
   "name": "python",
   "nbconvert_exporter": "python",
   "pygments_lexer": "ipython3",
   "version": "3.5.3"
  },
  "toc": {
   "base_numbering": 1,
   "nav_menu": {},
   "number_sections": false,
   "sideBar": true,
   "skip_h1_title": false,
   "title_cell": "Table of Contents",
   "title_sidebar": "Contents",
   "toc_cell": false,
   "toc_position": {
    "height": "calc(100% - 180px)",
    "left": "10px",
    "top": "150px",
    "width": "165px"
   },
   "toc_section_display": true,
   "toc_window_display": true
  },
  "varInspector": {
   "cols": {
    "lenName": 16,
    "lenType": 16,
    "lenVar": 40
   },
   "kernels_config": {
    "python": {
     "delete_cmd_postfix": "",
     "delete_cmd_prefix": "del ",
     "library": "var_list.py",
     "varRefreshCmd": "print(var_dic_list())"
    },
    "r": {
     "delete_cmd_postfix": ") ",
     "delete_cmd_prefix": "rm(",
     "library": "var_list.r",
     "varRefreshCmd": "cat(var_dic_list()) "
    }
   },
   "types_to_exclude": [
    "module",
    "function",
    "builtin_function_or_method",
    "instance",
    "_Feature"
   ],
   "window_display": false
  }
 },
 "nbformat": 4,
 "nbformat_minor": 4
}
