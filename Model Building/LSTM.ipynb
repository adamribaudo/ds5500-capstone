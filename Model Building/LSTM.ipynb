{
 "cells": [
  {
   "cell_type": "code",
   "execution_count": 37,
   "metadata": {},
   "outputs": [],
   "source": [
    "from __future__ import absolute_import, division, print_function, unicode_literals\n",
    "\n",
    "import collections\n",
    "import matplotlib.pyplot as plt\n",
    "import numpy as np\n",
    "from keras.preprocessing import sequence\n",
    "import simplejson as json\n",
    "import tensorflow as tf\n",
    "import pandas as pd\n",
    "import os\n",
    "from tensorflow.keras import layers\n",
    "from sklearn.metrics import accuracy_score\n",
    "from sklearn import metrics as skmetrics\n",
    "from sklearn.linear_model import LogisticRegression\n",
    "\n",
    "from sklearn.metrics import roc_curve\n",
    "from sklearn.metrics import auc\n",
    "from keras.utils.vis_utils import plot_model\n",
    "from keras import metrics\n",
    "from keras.models import Sequential, Model\n",
    "from keras.layers import Dense, LSTM, Input, Dropout, Embedding, concatenate, SimpleRNN\n",
    "from keras.utils.vis_utils import plot_model\n",
    "from google.cloud import storage\n",
    "from google.cloud.storage import Blob\n",
    "\n",
    "client = storage.Client(project=\"ds5500\")\n",
    "\n",
    "bucket = client.get_bucket(\"kkbox-data\")\n",
    "\n",
    "#INPUT_PATH = \"D:\\\\Northeastern\\\\100 pct undersample split\\\\\"\n",
    "INPUT_PATH = \"gs://kkbox-data/data_100_pct_undersample/\""
   ]
  },
  {
   "cell_type": "markdown",
   "metadata": {},
   "source": [
    "# Load Member/Transaction Data"
   ]
  },
  {
   "cell_type": "code",
   "execution_count": 38,
   "metadata": {},
   "outputs": [],
   "source": [
    "# Load TRAINING data\n",
    "temp_path = \"/tmp/train_transactions_monthly_padded.npy\"\n",
    "blob = Blob(\"data_100_pct_undersample/train_transactions_monthly_padded.npy\", bucket)\n",
    "with open(temp_path, \"wb\") as file_obj:\n",
    "    blob.download_to_file(file_obj)\n",
    "X_transactions = np.load(temp_path)\n",
    "X_members = pd.read_csv(INPUT_PATH + \"X_train_transformed.csv\").sort_values(\"msno\").drop([\"msno\"],axis=1).values\n",
    "y = pd.read_csv(INPUT_PATH + \"y_train.csv\", header=None).sort_values(0).drop([0],axis=1).values"
   ]
  },
  {
   "cell_type": "code",
   "execution_count": 44,
   "metadata": {},
   "outputs": [],
   "source": [
    "# Load VALIDATION data\n",
    "temp_path = \"/tmp/val_transactions_monthly_padded.npy\"\n",
    "blob = Blob(\"data_100_pct_undersample/val_transactions_monthly_padded.npy\", bucket)\n",
    "with open(temp_path, \"wb\") as file_obj:\n",
    "    blob.download_to_file(file_obj)\n",
    "X_val_transactions = np.load(temp_path)\n",
    "X_val_members = pd.read_csv(INPUT_PATH + \"X_val_transformed.csv\").sort_values(\"msno\").drop([\"msno\"],axis=1).values\n",
    "y_val = pd.read_csv(INPUT_PATH + \"y_val.csv\", header=None).sort_values(0).drop([0],axis=1).values"
   ]
  },
  {
   "cell_type": "markdown",
   "metadata": {},
   "source": [
    "# Weekly User Logs, Monthly Transactions, Member Data"
   ]
  },
  {
   "cell_type": "code",
   "execution_count": 40,
   "metadata": {},
   "outputs": [],
   "source": [
    "# Load training weekly user logs from GCS\n",
    "temp_path = \"/tmp/train_user_logs_weekly_padded.npy\"\n",
    "blob = Blob(\"data_100_pct_undersample/train_user_logs_weekly_padded.npy\", bucket)\n",
    "\n",
    "with open(temp_path, \"wb\") as file_obj:\n",
    "    blob.download_to_file(file_obj)\n",
    "X_user_logs = np.load(temp_path)"
   ]
  },
  {
   "cell_type": "code",
   "execution_count": 45,
   "metadata": {},
   "outputs": [],
   "source": [
    "# Load testing weekly user logs from GCS\n",
    "temp_path = \"/tmp/val_user_logs_weekly_padded.npy\"\n",
    "blob = Blob(\"data_100_pct_undersample/val_user_logs_weekly_padded.npy\", bucket)\n",
    "\n",
    "with open(temp_path, \"wb\") as file_obj:\n",
    "    blob.download_to_file(file_obj)\n",
    "X_val_user_logs = np.load(temp_path)"
   ]
  },
  {
   "cell_type": "code",
   "execution_count": 52,
   "metadata": {},
   "outputs": [
    {
     "name": "stdout",
     "output_type": "stream",
     "text": [
      "Train on 24798 samples, validate on 6200 samples\n",
      "Epoch 1/15\n",
      "24798/24798 [==============================] - 17s 689us/step - loss: 0.4372 - auc_12: 0.8414 - val_loss: 0.4148 - val_auc_12: 0.8737\n",
      "Epoch 2/15\n",
      "24798/24798 [==============================] - 16s 635us/step - loss: 0.4079 - auc_12: 0.8782 - val_loss: 0.4082 - val_auc_12: 0.8822\n",
      "Epoch 3/15\n",
      "24798/24798 [==============================] - 16s 633us/step - loss: 0.3999 - auc_12: 0.8845 - val_loss: 0.4059 - val_auc_12: 0.8862\n",
      "Epoch 4/15\n",
      "24798/24798 [==============================] - 16s 637us/step - loss: 0.3962 - auc_12: 0.8874 - val_loss: 0.3996 - val_auc_12: 0.8888\n",
      "Epoch 5/15\n",
      "24798/24798 [==============================] - 16s 640us/step - loss: 0.3933 - auc_12: 0.8898 - val_loss: 0.4029 - val_auc_12: 0.8907\n",
      "Epoch 6/15\n",
      "24798/24798 [==============================] - 16s 640us/step - loss: 0.3916 - auc_12: 0.8914 - val_loss: 0.3998 - val_auc_12: 0.8920\n",
      "Epoch 7/15\n",
      "24798/24798 [==============================] - 16s 639us/step - loss: 0.3899 - auc_12: 0.8927 - val_loss: 0.3952 - val_auc_12: 0.8931\n",
      "Epoch 8/15\n",
      "24798/24798 [==============================] - 16s 635us/step - loss: 0.3873 - auc_12: 0.8938 - val_loss: 0.3945 - val_auc_12: 0.8942\n",
      "Epoch 9/15\n",
      "24798/24798 [==============================] - 16s 643us/step - loss: 0.3856 - auc_12: 0.8946 - val_loss: 0.3966 - val_auc_12: 0.8951\n",
      "Epoch 10/15\n",
      "24798/24798 [==============================] - 16s 642us/step - loss: 0.3835 - auc_12: 0.8955 - val_loss: 0.3973 - val_auc_12: 0.8959\n",
      "Epoch 11/15\n",
      "24798/24798 [==============================] - 16s 640us/step - loss: 0.3842 - auc_12: 0.8962 - val_loss: 0.3972 - val_auc_12: 0.8965\n",
      "Epoch 12/15\n",
      "24798/24798 [==============================] - 17s 695us/step - loss: 0.3809 - auc_12: 0.8968 - val_loss: 0.3964 - val_auc_12: 0.8971\n",
      "Epoch 13/15\n",
      "24798/24798 [==============================] - 16s 635us/step - loss: 0.3796 - auc_12: 0.8974 - val_loss: 0.3943 - val_auc_12: 0.8977\n",
      "Epoch 14/15\n",
      "24798/24798 [==============================] - 16s 636us/step - loss: 0.3785 - auc_12: 0.8981 - val_loss: 0.3953 - val_auc_12: 0.8983\n",
      "Epoch 15/15\n",
      "24798/24798 [==============================] - 16s 640us/step - loss: 0.3778 - auc_12: 0.8986 - val_loss: 0.4006 - val_auc_12: 0.8988\n"
     ]
    },
    {
     "data": {
      "text/plain": [
       "<keras.callbacks.callbacks.History at 0x7f1083c39f98>"
      ]
     },
     "execution_count": 52,
     "metadata": {},
     "output_type": "execute_result"
    }
   ],
   "source": [
    "batch_size = 32\n",
    "epochs = 15\n",
    "lstm_units = 16\n",
    "rnn_units = 16\n",
    "\n",
    "num_members = X_user_logs.shape[0]\n",
    "num_dates = X_user_logs.shape[1]\n",
    "num_user_log_cols = X_user_logs.shape[2]\n",
    "num_member_cols = X_members.shape[1]\n",
    "num_transaction_cols = X_transactions.shape[2]\n",
    "num_transaction_months = X_transactions.shape[1]\n",
    "\n",
    "data_in_a = Input(shape = (num_dates,num_user_log_cols))\n",
    "a = LSTM(lstm_units)(data_in_a)\n",
    "#a = LSTM(lstm_units)(a)\n",
    "a = Dense(16, activation='relu')(a)\n",
    "a_mod = Model(data_in_a, outputs=a)\n",
    "\n",
    "data_in_b = Input(shape = (num_member_cols,))\n",
    "b = Dense(16, activation='relu')(data_in_b)\n",
    "b_mod = Model(data_in_b, outputs=b)\n",
    "\n",
    "data_in_c = Input(shape = (num_transaction_months,num_transaction_cols,))\n",
    "c = SimpleRNN(rnn_units)(data_in_c)\n",
    "c_mod = Model(data_in_c, outputs=c)\n",
    "\n",
    "combined = concatenate([a_mod.output, b_mod.output, c_mod.output])\n",
    "out = Dense(32, activation='relu')(combined)\n",
    "out = Dense(16, activation='relu')(out)\n",
    "out = Dense(8, activation='relu')(out)\n",
    "out = Dense(1, activation='sigmoid')(out)\n",
    "\n",
    "model = Model(inputs=[a_mod.input, b_mod.input, c_mod.input], outputs=out)\n",
    "model.compile(loss = 'binary_crossentropy', optimizer='adam',metrics = [tf.metrics.AUC()])\n",
    "\n",
    "#model.summary()\n",
    "model.fit([X_user_logs, X_members, X_transactions], y, validation_data=([X_val_user_logs, X_val_members, X_val_transactions],y_val), batch_size=batch_size, epochs=epochs,verbose=1,use_multiprocessing=True)\n"
   ]
  },
  {
   "cell_type": "markdown",
   "metadata": {},
   "source": [
    "# Daily User Logs, Monthly Transactions, Member Data"
   ]
  },
  {
   "cell_type": "code",
   "execution_count": null,
   "metadata": {},
   "outputs": [],
   "source": [
    "# Load weekly user logs from GCS\n",
    "temp_path = \"/tmp/train_user_logs_padded.npy\"\n",
    "blob = Blob(\"data_100_pct_undersample/train_user_logs_padded.npy\", bucket)\n",
    "\n",
    "with open(temp_path, \"wb\") as file_obj:\n",
    "    blob.download_to_file(file_obj)\n",
    "X_user_logs = np.load(temp_path)"
   ]
  },
  {
   "cell_type": "code",
   "execution_count": 32,
   "metadata": {},
   "outputs": [
    {
     "name": "stdout",
     "output_type": "stream",
     "text": [
      "Epoch 1/20\n",
      "24798/24798 [==============================] - 82s 3ms/step - loss: 0.4716 - auc_7: 0.8200\n",
      "Epoch 2/20\n",
      "24798/24798 [==============================] - 72s 3ms/step - loss: 0.4145 - auc_7: 0.8664\n",
      "Epoch 3/20\n",
      "24798/24798 [==============================] - 78s 3ms/step - loss: 0.4077 - auc_7: 0.8756\n",
      "Epoch 4/20\n",
      "24798/24798 [==============================] - 78s 3ms/step - loss: 0.4037 - auc_7: 0.8802\n",
      "Epoch 5/20\n",
      "24798/24798 [==============================] - 81s 3ms/step - loss: 0.4006 - auc_7: 0.8833\n",
      "Epoch 6/20\n",
      "24798/24798 [==============================] - 78s 3ms/step - loss: 0.3983 - auc_7: 0.8856\n",
      "Epoch 7/20\n",
      "24798/24798 [==============================] - 80s 3ms/step - loss: 0.3966 - auc_7: 0.8873\n",
      "Epoch 8/20\n",
      "24798/24798 [==============================] - 78s 3ms/step - loss: 0.3961 - auc_7: 0.8887\n",
      "Epoch 9/20\n",
      "24798/24798 [==============================] - 80s 3ms/step - loss: 0.3954 - auc_7: 0.8897\n",
      "Epoch 10/20\n",
      "24798/24798 [==============================] - 78s 3ms/step - loss: 0.3932 - auc_7: 0.8907\n",
      "Epoch 11/20\n",
      "24798/24798 [==============================] - 81s 3ms/step - loss: 0.3910 - auc_7: 0.8915\n",
      "Epoch 12/20\n",
      "24798/24798 [==============================] - 80s 3ms/step - loss: 0.3890 - auc_7: 0.8923\n",
      "Epoch 13/20\n",
      "24798/24798 [==============================] - 81s 3ms/step - loss: 0.3877 - auc_7: 0.8932\n",
      "Epoch 14/20\n",
      "24798/24798 [==============================] - 80s 3ms/step - loss: 0.3869 - auc_7: 0.8939\n",
      "Epoch 15/20\n",
      "24798/24798 [==============================] - 80s 3ms/step - loss: 0.3862 - auc_7: 0.8945\n",
      "Epoch 16/20\n",
      "24798/24798 [==============================] - 79s 3ms/step - loss: 0.3847 - auc_7: 0.8950\n",
      "Epoch 17/20\n",
      "24798/24798 [==============================] - 82s 3ms/step - loss: 0.3844 - auc_7: 0.8955\n",
      "Epoch 18/20\n",
      "24798/24798 [==============================] - 81s 3ms/step - loss: 0.3846 - auc_7: 0.8961\n",
      "Epoch 19/20\n",
      "24798/24798 [==============================] - 78s 3ms/step - loss: 0.3831 - auc_7: 0.8965\n",
      "Epoch 20/20\n",
      "24798/24798 [==============================] - 80s 3ms/step - loss: 0.3826 - auc_7: 0.8969\n"
     ]
    },
    {
     "data": {
      "text/plain": [
       "<keras.callbacks.callbacks.History at 0x7f0ff76e6e10>"
      ]
     },
     "execution_count": 32,
     "metadata": {},
     "output_type": "execute_result"
    }
   ],
   "source": [
    "batch_size = 64\n",
    "epochs = 20\n",
    "lstm_units = 16\n",
    "rnn_units = 16\n",
    "\n",
    "num_members = X_user_logs.shape[0]\n",
    "num_dates = X_user_logs.shape[1]\n",
    "num_user_log_cols = X_user_logs.shape[2]\n",
    "num_member_cols = X_members.shape[1]\n",
    "num_transaction_cols = X_transactions.shape[2]\n",
    "num_transaction_months = X_transactions.shape[1]\n",
    "\n",
    "data_in_a = Input(shape = (num_dates,num_user_log_cols))\n",
    "a = LSTM(lstm_units)(data_in_a)\n",
    "#a = LSTM(lstm_units)(a)\n",
    "a = Dense(16, activation='relu')(a)\n",
    "a_mod = Model(data_in_a, outputs=a)\n",
    "\n",
    "data_in_b = Input(shape = (num_member_cols,))\n",
    "b = Dense(16, activation='relu')(data_in_b)\n",
    "b_mod = Model(data_in_b, outputs=b)\n",
    "\n",
    "data_in_c = Input(shape = (num_transaction_months,num_transaction_cols,))\n",
    "c = SimpleRNN(rnn_units)(data_in_c)\n",
    "c_mod = Model(data_in_c, outputs=c)\n",
    "\n",
    "combined = concatenate([a_mod.output, b_mod.output, c_mod.output])\n",
    "out = Dense(16, activation='relu')(combined)\n",
    "#TODO add dropout layer\n",
    "out = Dense(1, activation='sigmoid')(out)\n",
    "\n",
    "model = Model(inputs=[a_mod.input, b_mod.input, c_mod.input], outputs=out)\n",
    "model.compile(loss = 'binary_crossentropy', optimizer='adam',metrics = [tf.metrics.AUC()])\n",
    "\n",
    "#model.summary()\n",
    "model.fit([X_user_logs, X_members, X_transactions], y, batch_size=batch_size, epochs=epochs,verbose=1,use_multiprocessing=True)\n"
   ]
  },
  {
   "cell_type": "markdown",
   "metadata": {},
   "source": [
    "# Transactions and Member Data"
   ]
  },
  {
   "cell_type": "code",
   "execution_count": 33,
   "metadata": {},
   "outputs": [
    {
     "name": "stdout",
     "output_type": "stream",
     "text": [
      "Epoch 1/20\n",
      "24798/24798 [==============================] - 3s 104us/step - loss: 0.4765 - auc_8: 0.8282\n",
      "Epoch 2/20\n",
      "24798/24798 [==============================] - 2s 78us/step - loss: 0.4266 - auc_8: 0.8589\n",
      "Epoch 3/20\n",
      "24798/24798 [==============================] - 2s 81us/step - loss: 0.4209 - auc_8: 0.8659\n",
      "Epoch 4/20\n",
      "24798/24798 [==============================] - 2s 83us/step - loss: 0.4173 - auc_8: 0.8700\n",
      "Epoch 5/20\n",
      "24798/24798 [==============================] - 2s 81us/step - loss: 0.4152 - auc_8: 0.8729\n",
      "Epoch 6/20\n",
      "24798/24798 [==============================] - 2s 80us/step - loss: 0.4143 - auc_8: 0.8750\n",
      "Epoch 7/20\n",
      "24798/24798 [==============================] - 2s 80us/step - loss: 0.4128 - auc_8: 0.8766\n",
      "Epoch 8/20\n",
      "24798/24798 [==============================] - 2s 80us/step - loss: 0.4112 - auc_8: 0.8778\n",
      "Epoch 9/20\n",
      "24798/24798 [==============================] - 2s 79us/step - loss: 0.4094 - auc_8: 0.8788\n",
      "Epoch 10/20\n",
      "24798/24798 [==============================] - 2s 82us/step - loss: 0.4093 - auc_8: 0.8798\n",
      "Epoch 11/20\n",
      "24798/24798 [==============================] - 2s 81us/step - loss: 0.4085 - auc_8: 0.8807\n",
      "Epoch 12/20\n",
      "24798/24798 [==============================] - 2s 81us/step - loss: 0.4077 - auc_8: 0.8813\n",
      "Epoch 13/20\n",
      "24798/24798 [==============================] - 2s 82us/step - loss: 0.4069 - auc_8: 0.8820\n",
      "Epoch 14/20\n",
      "24798/24798 [==============================] - 2s 81us/step - loss: 0.4062 - auc_8: 0.8825\n",
      "Epoch 15/20\n",
      "24798/24798 [==============================] - 2s 79us/step - loss: 0.4057 - auc_8: 0.8831\n",
      "Epoch 16/20\n",
      "24798/24798 [==============================] - 2s 80us/step - loss: 0.4050 - auc_8: 0.8836\n",
      "Epoch 17/20\n",
      "24798/24798 [==============================] - 2s 79us/step - loss: 0.4044 - auc_8: 0.8841\n",
      "Epoch 18/20\n",
      "24798/24798 [==============================] - 2s 81us/step - loss: 0.4037 - auc_8: 0.8845\n",
      "Epoch 19/20\n",
      "24798/24798 [==============================] - 2s 80us/step - loss: 0.4035 - auc_8: 0.8849\n",
      "Epoch 20/20\n",
      "24798/24798 [==============================] - 2s 79us/step - loss: 0.4027 - auc_8: 0.8854\n"
     ]
    },
    {
     "data": {
      "text/plain": [
       "<keras.callbacks.callbacks.History at 0x7f0ff7529e80>"
      ]
     },
     "execution_count": 33,
     "metadata": {},
     "output_type": "execute_result"
    }
   ],
   "source": [
    "batch_size = 64\n",
    "epochs = 20\n",
    "lstm_units = 16\n",
    "rnn_units = 16\n",
    "\n",
    "num_members = X_user_logs.shape[0]\n",
    "num_dates = X_user_logs.shape[1]\n",
    "num_user_log_cols = X_user_logs.shape[2]\n",
    "num_member_cols = X_members.shape[1]\n",
    "num_transaction_cols = X_transactions.shape[2]\n",
    "num_transaction_months = X_transactions.shape[1]\n",
    "\n",
    "data_in_b = Input(shape = (num_member_cols,))\n",
    "b = Dense(16, activation='relu')(data_in_b)\n",
    "b_mod = Model(data_in_b, outputs=b)\n",
    "\n",
    "data_in_c = Input(shape = (num_transaction_months,num_transaction_cols,))\n",
    "c = SimpleRNN(rnn_units)(data_in_c)\n",
    "c_mod = Model(data_in_c, outputs=c)\n",
    "\n",
    "combined = concatenate([b_mod.output, c_mod.output])\n",
    "out = Dense(16, activation='relu')(combined)\n",
    "#TODO add dropout layer\n",
    "out = Dense(1, activation='sigmoid')(out)\n",
    "\n",
    "model = Model(inputs=[b_mod.input, c_mod.input], outputs=out)\n",
    "model.compile(loss = 'binary_crossentropy', optimizer='adam',metrics = [tf.metrics.AUC()])\n",
    "\n",
    "#model.summary()\n",
    "model.fit([X_members, X_transactions], y, batch_size=batch_size, epochs=epochs,verbose=1,use_multiprocessing=True)\n"
   ]
  },
  {
   "cell_type": "markdown",
   "metadata": {},
   "source": [
    "# User Logs and Member Data (LSTM)"
   ]
  },
  {
   "cell_type": "raw",
   "metadata": {},
   "source": [
    "batch_size = 128\n",
    "epochs = 10\n",
    "lstm_units = 16\n",
    "\n",
    "num_members = X_user_logs.shape[0]\n",
    "num_dates = X_user_logs.shape[1]\n",
    "num_user_log_cols = X_user_logs.shape[2]\n",
    "num_member_cols = X_members.shape[1]\n",
    "\n",
    "data_in_a = Input(shape = (num_dates,num_user_log_cols))\n",
    "a = LSTM(lstm_units)(data_in_a)\n",
    "#a = LSTM(lstm_units)(a)\n",
    "a = Dense(16, activation='relu')(a)\n",
    "a_mod = Model(data_in_a, outputs=a)\n",
    "\n",
    "data_in_b = Input(shape = (num_member_cols,))\n",
    "b = Dense(16, activation='relu')(data_in_b)\n",
    "b_mod = Model(data_in_b, outputs=b)\n",
    "\n",
    "combined = concatenate([a_mod.output, b_mod.output])\n",
    "c = Dense(8, activation='relu')(combined)\n",
    "#TODO add dropout layer\n",
    "c = Dense(1, activation='sigmoid')(c)\n",
    "\n",
    "model = Model(inputs=[a_mod.input, b_mod.input], outputs=c)\n",
    "model.compile(loss = 'binary_crossentropy', optimizer='adam',metrics = [tf.metrics.AUC()])\n",
    "\n",
    "#model.summary()\n",
    "model.fit([X_user_logs, X_members], y, batch_size=batch_size, epochs=epochs,verbose=1,use_multiprocessing=True)\n"
   ]
  },
  {
   "cell_type": "markdown",
   "metadata": {},
   "source": [
    "# Member data only"
   ]
  },
  {
   "cell_type": "raw",
   "metadata": {},
   "source": [
    "batch_size = 128\n",
    "\n",
    "epochs = 20\n",
    "features = X_members.shape[1]\n",
    "\n",
    "data_in = Input(shape = (features,))\n",
    "x = Dense(1, activation='sigmoid')(data_in)\n",
    "model = Model(inputs=data_in, outputs=x)\n",
    "model.compile(loss = 'binary_crossentropy', optimizer='adam',metrics = [metrics.binary_accuracy])\n",
    "\n",
    "model.fit(X_members, y_flat, batch_size=batch_size, epochs=epochs,verbose=1)\n",
    "\n",
    "#Calculate AUC\n",
    "y_pred = model.predict(X_members).ravel()\n",
    "fpr_keras, tpr_keras, thresholds_keras = roc_curve(y_flat, y_pred)\n",
    "auc(fpr_keras, tpr_keras)"
   ]
  },
  {
   "cell_type": "markdown",
   "metadata": {},
   "source": [
    "# Visualize Model"
   ]
  },
  {
   "cell_type": "code",
   "execution_count": 51,
   "metadata": {},
   "outputs": [
    {
     "data": {
      "image/svg+xml": [
       "<svg height=\"644pt\" viewBox=\"0.00 0.00 451.50 483.00\" width=\"602pt\" xmlns=\"http://www.w3.org/2000/svg\" xmlns:xlink=\"http://www.w3.org/1999/xlink\">\n",
       "<g class=\"graph\" id=\"graph0\" transform=\"scale(1.33333 1.33333) rotate(0) translate(4 479)\">\n",
       "<title>G</title>\n",
       "<polygon fill=\"white\" points=\"-4,4 -4,-479 447.5,-479 447.5,4 -4,4\" stroke=\"none\"/>\n",
       "<!-- 139706535599464 -->\n",
       "<g class=\"node\" id=\"node1\"><title>139706535599464</title>\n",
       "<polygon fill=\"none\" points=\"0,-438.5 0,-474.5 132,-474.5 132,-438.5 0,-438.5\" stroke=\"black\"/>\n",
       "<text font-family=\"Times,serif\" font-size=\"14.00\" text-anchor=\"middle\" x=\"66\" y=\"-452.8\">input_47: InputLayer</text>\n",
       "</g>\n",
       "<!-- 139706535599576 -->\n",
       "<g class=\"node\" id=\"node2\"><title>139706535599576</title>\n",
       "<polygon fill=\"none\" points=\"13.5,-365.5 13.5,-401.5 118.5,-401.5 118.5,-365.5 13.5,-365.5\" stroke=\"black\"/>\n",
       "<text font-family=\"Times,serif\" font-size=\"14.00\" text-anchor=\"middle\" x=\"66\" y=\"-379.8\">lstm_21: LSTM</text>\n",
       "</g>\n",
       "<!-- 139706535599464&#45;&gt;139706535599576 -->\n",
       "<g class=\"edge\" id=\"edge1\"><title>139706535599464-&gt;139706535599576</title>\n",
       "<path d=\"M66,-438.313C66,-430.289 66,-420.547 66,-411.569\" fill=\"none\" stroke=\"black\"/>\n",
       "<polygon fill=\"black\" points=\"69.5001,-411.529 66,-401.529 62.5001,-411.529 69.5001,-411.529\" stroke=\"black\"/>\n",
       "</g>\n",
       "<!-- 139706534902696 -->\n",
       "<g class=\"node\" id=\"node5\"><title>139706534902696</title>\n",
       "<polygon fill=\"none\" points=\"16.5,-292.5 16.5,-328.5 125.5,-328.5 125.5,-292.5 16.5,-292.5\" stroke=\"black\"/>\n",
       "<text font-family=\"Times,serif\" font-size=\"14.00\" text-anchor=\"middle\" x=\"71\" y=\"-306.8\">dense_56: Dense</text>\n",
       "</g>\n",
       "<!-- 139706535599576&#45;&gt;139706534902696 -->\n",
       "<g class=\"edge\" id=\"edge2\"><title>139706535599576-&gt;139706534902696</title>\n",
       "<path d=\"M67.2104,-365.313C67.7754,-357.289 68.4614,-347.547 69.0937,-338.569\" fill=\"none\" stroke=\"black\"/>\n",
       "<polygon fill=\"black\" points=\"72.5896,-338.75 69.8008,-328.529 65.6069,-338.258 72.5896,-338.75\" stroke=\"black\"/>\n",
       "</g>\n",
       "<!-- 139706537660600 -->\n",
       "<g class=\"node\" id=\"node3\"><title>139706537660600</title>\n",
       "<polygon fill=\"none\" points=\"137,-365.5 137,-401.5 269,-401.5 269,-365.5 137,-365.5\" stroke=\"black\"/>\n",
       "<text font-family=\"Times,serif\" font-size=\"14.00\" text-anchor=\"middle\" x=\"203\" y=\"-379.8\">input_48: InputLayer</text>\n",
       "</g>\n",
       "<!-- 139706535022376 -->\n",
       "<g class=\"node\" id=\"node6\"><title>139706535022376</title>\n",
       "<polygon fill=\"none\" points=\"143.5,-292.5 143.5,-328.5 252.5,-328.5 252.5,-292.5 143.5,-292.5\" stroke=\"black\"/>\n",
       "<text font-family=\"Times,serif\" font-size=\"14.00\" text-anchor=\"middle\" x=\"198\" y=\"-306.8\">dense_57: Dense</text>\n",
       "</g>\n",
       "<!-- 139706537660600&#45;&gt;139706535022376 -->\n",
       "<g class=\"edge\" id=\"edge3\"><title>139706537660600-&gt;139706535022376</title>\n",
       "<path d=\"M201.79,-365.313C201.225,-357.289 200.539,-347.547 199.906,-338.569\" fill=\"none\" stroke=\"black\"/>\n",
       "<polygon fill=\"black\" points=\"203.393,-338.258 199.199,-328.529 196.41,-338.75 203.393,-338.258\" stroke=\"black\"/>\n",
       "</g>\n",
       "<!-- 139706534635952 -->\n",
       "<g class=\"node\" id=\"node4\"><title>139706534635952</title>\n",
       "<polygon fill=\"none\" points=\"291,-365.5 291,-401.5 423,-401.5 423,-365.5 291,-365.5\" stroke=\"black\"/>\n",
       "<text font-family=\"Times,serif\" font-size=\"14.00\" text-anchor=\"middle\" x=\"357\" y=\"-379.8\">input_49: InputLayer</text>\n",
       "</g>\n",
       "<!-- 139706534651272 -->\n",
       "<g class=\"node\" id=\"node7\"><title>139706534651272</title>\n",
       "<polygon fill=\"none\" points=\"270.5,-292.5 270.5,-328.5 443.5,-328.5 443.5,-292.5 270.5,-292.5\" stroke=\"black\"/>\n",
       "<text font-family=\"Times,serif\" font-size=\"14.00\" text-anchor=\"middle\" x=\"357\" y=\"-306.8\">simple_rnn_12: SimpleRNN</text>\n",
       "</g>\n",
       "<!-- 139706534635952&#45;&gt;139706534651272 -->\n",
       "<g class=\"edge\" id=\"edge4\"><title>139706534635952-&gt;139706534651272</title>\n",
       "<path d=\"M357,-365.313C357,-357.289 357,-347.547 357,-338.569\" fill=\"none\" stroke=\"black\"/>\n",
       "<polygon fill=\"black\" points=\"360.5,-338.529 357,-328.529 353.5,-338.529 360.5,-338.529\" stroke=\"black\"/>\n",
       "</g>\n",
       "<!-- 139706534653400 -->\n",
       "<g class=\"node\" id=\"node8\"><title>139706534653400</title>\n",
       "<polygon fill=\"none\" points=\"110.5,-219.5 110.5,-255.5 285.5,-255.5 285.5,-219.5 110.5,-219.5\" stroke=\"black\"/>\n",
       "<text font-family=\"Times,serif\" font-size=\"14.00\" text-anchor=\"middle\" x=\"198\" y=\"-233.8\">concatenate_15: Concatenate</text>\n",
       "</g>\n",
       "<!-- 139706534902696&#45;&gt;139706534653400 -->\n",
       "<g class=\"edge\" id=\"edge5\"><title>139706534902696-&gt;139706534653400</title>\n",
       "<path d=\"M101.42,-292.494C118.573,-282.904 140.194,-270.817 158.628,-260.511\" fill=\"none\" stroke=\"black\"/>\n",
       "<polygon fill=\"black\" points=\"160.368,-263.548 167.388,-255.614 156.952,-257.438 160.368,-263.548\" stroke=\"black\"/>\n",
       "</g>\n",
       "<!-- 139706535022376&#45;&gt;139706534653400 -->\n",
       "<g class=\"edge\" id=\"edge6\"><title>139706535022376-&gt;139706534653400</title>\n",
       "<path d=\"M198,-292.313C198,-284.289 198,-274.547 198,-265.569\" fill=\"none\" stroke=\"black\"/>\n",
       "<polygon fill=\"black\" points=\"201.5,-265.529 198,-255.529 194.5,-265.529 201.5,-265.529\" stroke=\"black\"/>\n",
       "</g>\n",
       "<!-- 139706534651272&#45;&gt;139706534653400 -->\n",
       "<g class=\"edge\" id=\"edge7\"><title>139706534651272-&gt;139706534653400</title>\n",
       "<path d=\"M318.916,-292.494C296.952,-282.686 269.138,-270.266 245.725,-259.811\" fill=\"none\" stroke=\"black\"/>\n",
       "<polygon fill=\"black\" points=\"246.883,-256.495 236.325,-255.614 244.029,-262.887 246.883,-256.495\" stroke=\"black\"/>\n",
       "</g>\n",
       "<!-- 139706534651776 -->\n",
       "<g class=\"node\" id=\"node9\"><title>139706534651776</title>\n",
       "<polygon fill=\"none\" points=\"143.5,-146.5 143.5,-182.5 252.5,-182.5 252.5,-146.5 143.5,-146.5\" stroke=\"black\"/>\n",
       "<text font-family=\"Times,serif\" font-size=\"14.00\" text-anchor=\"middle\" x=\"198\" y=\"-160.8\">dense_58: Dense</text>\n",
       "</g>\n",
       "<!-- 139706534653400&#45;&gt;139706534651776 -->\n",
       "<g class=\"edge\" id=\"edge8\"><title>139706534653400-&gt;139706534651776</title>\n",
       "<path d=\"M198,-219.313C198,-211.289 198,-201.547 198,-192.569\" fill=\"none\" stroke=\"black\"/>\n",
       "<polygon fill=\"black\" points=\"201.5,-192.529 198,-182.529 194.5,-192.529 201.5,-192.529\" stroke=\"black\"/>\n",
       "</g>\n",
       "<!-- 139706534653568 -->\n",
       "<g class=\"node\" id=\"node10\"><title>139706534653568</title>\n",
       "<polygon fill=\"none\" points=\"143.5,-73.5 143.5,-109.5 252.5,-109.5 252.5,-73.5 143.5,-73.5\" stroke=\"black\"/>\n",
       "<text font-family=\"Times,serif\" font-size=\"14.00\" text-anchor=\"middle\" x=\"198\" y=\"-87.8\">dense_59: Dense</text>\n",
       "</g>\n",
       "<!-- 139706534651776&#45;&gt;139706534653568 -->\n",
       "<g class=\"edge\" id=\"edge9\"><title>139706534651776-&gt;139706534653568</title>\n",
       "<path d=\"M198,-146.313C198,-138.289 198,-128.547 198,-119.569\" fill=\"none\" stroke=\"black\"/>\n",
       "<polygon fill=\"black\" points=\"201.5,-119.529 198,-109.529 194.5,-119.529 201.5,-119.529\" stroke=\"black\"/>\n",
       "</g>\n",
       "<!-- 139706534679216 -->\n",
       "<g class=\"node\" id=\"node11\"><title>139706534679216</title>\n",
       "<polygon fill=\"none\" points=\"143.5,-0.5 143.5,-36.5 252.5,-36.5 252.5,-0.5 143.5,-0.5\" stroke=\"black\"/>\n",
       "<text font-family=\"Times,serif\" font-size=\"14.00\" text-anchor=\"middle\" x=\"198\" y=\"-14.8\">dense_60: Dense</text>\n",
       "</g>\n",
       "<!-- 139706534653568&#45;&gt;139706534679216 -->\n",
       "<g class=\"edge\" id=\"edge10\"><title>139706534653568-&gt;139706534679216</title>\n",
       "<path d=\"M198,-73.3129C198,-65.2895 198,-55.5475 198,-46.5691\" fill=\"none\" stroke=\"black\"/>\n",
       "<polygon fill=\"black\" points=\"201.5,-46.5288 198,-36.5288 194.5,-46.5289 201.5,-46.5288\" stroke=\"black\"/>\n",
       "</g>\n",
       "</g>\n",
       "</svg>"
      ],
      "text/plain": [
       "<IPython.core.display.SVG object>"
      ]
     },
     "execution_count": 51,
     "metadata": {},
     "output_type": "execute_result"
    }
   ],
   "source": [
    "from IPython.display import SVG\n",
    "from keras.utils.vis_utils import model_to_dot\n",
    "\n",
    "SVG(model_to_dot(model).create(prog='dot', format='svg'))"
   ]
  }
 ],
 "metadata": {
  "kernelspec": {
   "display_name": "Python 3",
   "language": "python",
   "name": "python3"
  },
  "language_info": {
   "codemirror_mode": {
    "name": "ipython",
    "version": 3
   },
   "file_extension": ".py",
   "mimetype": "text/x-python",
   "name": "python",
   "nbconvert_exporter": "python",
   "pygments_lexer": "ipython3",
   "version": "3.5.3"
  },
  "toc": {
   "base_numbering": 1,
   "nav_menu": {},
   "number_sections": false,
   "sideBar": true,
   "skip_h1_title": false,
   "title_cell": "Table of Contents",
   "title_sidebar": "Contents",
   "toc_cell": false,
   "toc_position": {
    "height": "calc(100% - 180px)",
    "left": "10px",
    "top": "150px",
    "width": "165px"
   },
   "toc_section_display": true,
   "toc_window_display": true
  },
  "varInspector": {
   "cols": {
    "lenName": 16,
    "lenType": 16,
    "lenVar": 40
   },
   "kernels_config": {
    "python": {
     "delete_cmd_postfix": "",
     "delete_cmd_prefix": "del ",
     "library": "var_list.py",
     "varRefreshCmd": "print(var_dic_list())"
    },
    "r": {
     "delete_cmd_postfix": ") ",
     "delete_cmd_prefix": "rm(",
     "library": "var_list.r",
     "varRefreshCmd": "cat(var_dic_list()) "
    }
   },
   "types_to_exclude": [
    "module",
    "function",
    "builtin_function_or_method",
    "instance",
    "_Feature"
   ],
   "window_display": false
  }
 },
 "nbformat": 4,
 "nbformat_minor": 4
}
