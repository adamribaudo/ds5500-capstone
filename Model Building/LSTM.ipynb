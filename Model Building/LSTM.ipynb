{
 "cells": [
  {
   "cell_type": "code",
   "execution_count": 37,
   "metadata": {},
   "outputs": [],
   "source": [
    "from __future__ import absolute_import, division, print_function, unicode_literals\n",
    "\n",
    "import collections\n",
    "import matplotlib.pyplot as plt\n",
    "import numpy as np\n",
    "from keras.preprocessing import sequence\n",
    "import simplejson as json\n",
    "import tensorflow as tf\n",
    "import pandas as pd\n",
    "import os\n",
    "from tensorflow.keras import layers\n",
    "from sklearn.metrics import accuracy_score\n",
    "from sklearn import metrics as skmetrics\n",
    "from sklearn.linear_model import LogisticRegression\n",
    "\n",
    "from sklearn.metrics import roc_curve\n",
    "from sklearn.metrics import auc\n",
    "from keras.utils.vis_utils import plot_model\n",
    "from keras import metrics\n",
    "from keras.models import Sequential, Model\n",
    "from keras.layers import Dense, LSTM, Input, Dropout, Embedding, concatenate, SimpleRNN\n",
    "from keras.utils.vis_utils import plot_model\n",
    "from google.cloud import storage\n",
    "from google.cloud.storage import Blob\n",
    "\n",
    "client = storage.Client(project=\"ds5500\")\n",
    "\n",
    "bucket = client.get_bucket(\"kkbox-data\")\n",
    "\n",
    "#INPUT_PATH = \"D:\\\\Northeastern\\\\100 pct undersample split\\\\\"\n",
    "INPUT_PATH = \"gs://kkbox-data/data_100_pct_undersample/\""
   ]
  },
  {
   "cell_type": "markdown",
   "metadata": {},
   "source": [
    "# Load Member/Transaction Data"
   ]
  },
  {
   "cell_type": "code",
   "execution_count": 38,
   "metadata": {},
   "outputs": [],
   "source": [
    "# Load TRAINING data\n",
    "temp_path = \"/tmp/train_transactions_monthly_padded.npy\"\n",
    "blob = Blob(\"data_100_pct_undersample/train_transactions_monthly_padded.npy\", bucket)\n",
    "with open(temp_path, \"wb\") as file_obj:\n",
    "    blob.download_to_file(file_obj)\n",
    "X_transactions = np.load(temp_path)\n",
    "X_members = pd.read_csv(INPUT_PATH + \"X_train_transformed.csv\").sort_values(\"msno\").drop([\"msno\"],axis=1).values\n",
    "y = pd.read_csv(INPUT_PATH + \"y_train.csv\", header=None).sort_values(0).drop([0],axis=1).values"
   ]
  },
  {
   "cell_type": "code",
   "execution_count": 44,
   "metadata": {},
   "outputs": [],
   "source": [
    "# Load VALIDATION data\n",
    "temp_path = \"/tmp/val_transactions_monthly_padded.npy\"\n",
    "blob = Blob(\"data_100_pct_undersample/val_transactions_monthly_padded.npy\", bucket)\n",
    "with open(temp_path, \"wb\") as file_obj:\n",
    "    blob.download_to_file(file_obj)\n",
    "X_val_transactions = np.load(temp_path)\n",
    "X_val_members = pd.read_csv(INPUT_PATH + \"X_val_transformed.csv\").sort_values(\"msno\").drop([\"msno\"],axis=1).values\n",
    "y_val = pd.read_csv(INPUT_PATH + \"y_val.csv\", header=None).sort_values(0).drop([0],axis=1).values"
   ]
  },
  {
   "cell_type": "markdown",
   "metadata": {},
   "source": [
    "# Weekly User Logs, Monthly Transactions, Member Data"
   ]
  },
  {
   "cell_type": "code",
   "execution_count": 40,
   "metadata": {},
   "outputs": [],
   "source": [
    "# Load training weekly user logs from GCS\n",
    "temp_path = \"/tmp/train_user_logs_weekly_padded.npy\"\n",
    "blob = Blob(\"data_100_pct_undersample/train_user_logs_weekly_padded.npy\", bucket)\n",
    "\n",
    "with open(temp_path, \"wb\") as file_obj:\n",
    "    blob.download_to_file(file_obj)\n",
    "X_user_logs = np.load(temp_path)"
   ]
  },
  {
   "cell_type": "code",
   "execution_count": 45,
   "metadata": {},
   "outputs": [],
   "source": [
    "# Load testing weekly user logs from GCS\n",
    "temp_path = \"/tmp/val_user_logs_weekly_padded.npy\"\n",
    "blob = Blob(\"data_100_pct_undersample/val_user_logs_weekly_padded.npy\", bucket)\n",
    "\n",
    "with open(temp_path, \"wb\") as file_obj:\n",
    "    blob.download_to_file(file_obj)\n",
    "X_val_user_logs = np.load(temp_path)"
   ]
  },
  {
   "cell_type": "code",
   "execution_count": 53,
   "metadata": {},
   "outputs": [
    {
     "name": "stdout",
     "output_type": "stream",
     "text": [
      "Train on 24798 samples, validate on 6200 samples\n",
      "Epoch 1/15\n",
      "24798/24798 [==============================] - 17s 704us/step - loss: 0.4473 - auc_13: 0.8278 - val_loss: 0.4259 - val_auc_13: 0.8679\n",
      "Epoch 2/15\n",
      "24798/24798 [==============================] - 16s 647us/step - loss: 0.4128 - auc_13: 0.8738 - val_loss: 0.4100 - val_auc_13: 0.8773\n",
      "Epoch 3/15\n",
      "24798/24798 [==============================] - 16s 643us/step - loss: 0.4052 - auc_13: 0.8803 - val_loss: 0.4070 - val_auc_13: 0.8824\n",
      "Epoch 4/15\n",
      "24798/24798 [==============================] - 16s 649us/step - loss: 0.4016 - auc_13: 0.8838 - val_loss: 0.4034 - val_auc_13: 0.8852\n",
      "Epoch 5/15\n",
      "24798/24798 [==============================] - 16s 654us/step - loss: 0.3973 - auc_13: 0.8864 - val_loss: 0.4015 - val_auc_13: 0.8875\n",
      "Epoch 6/15\n",
      "24798/24798 [==============================] - 16s 643us/step - loss: 0.3953 - auc_13: 0.8883 - val_loss: 0.3996 - val_auc_13: 0.8891\n",
      "Epoch 7/15\n",
      "24798/24798 [==============================] - 16s 645us/step - loss: 0.3930 - auc_13: 0.8898 - val_loss: 0.4005 - val_auc_13: 0.8904\n",
      "Epoch 8/15\n",
      "24798/24798 [==============================] - 16s 645us/step - loss: 0.3914 - auc_13: 0.8911 - val_loss: 0.3989 - val_auc_13: 0.8916\n",
      "Epoch 9/15\n",
      "24798/24798 [==============================] - 16s 646us/step - loss: 0.3890 - auc_13: 0.8921 - val_loss: 0.4067 - val_auc_13: 0.8925\n",
      "Epoch 10/15\n",
      "24798/24798 [==============================] - 18s 714us/step - loss: 0.3881 - auc_13: 0.8929 - val_loss: 0.4042 - val_auc_13: 0.8933\n",
      "Epoch 11/15\n",
      "24798/24798 [==============================] - 16s 639us/step - loss: 0.3867 - auc_13: 0.8937 - val_loss: 0.3951 - val_auc_13: 0.8940\n",
      "Epoch 12/15\n",
      "24798/24798 [==============================] - 16s 643us/step - loss: 0.3844 - auc_13: 0.8943 - val_loss: 0.4013 - val_auc_13: 0.8947\n",
      "Epoch 13/15\n",
      "24798/24798 [==============================] - 16s 637us/step - loss: 0.3831 - auc_13: 0.8951 - val_loss: 0.3944 - val_auc_13: 0.8954\n",
      "Epoch 14/15\n",
      "24798/24798 [==============================] - 16s 637us/step - loss: 0.3825 - auc_13: 0.8957 - val_loss: 0.4005 - val_auc_13: 0.8960\n",
      "Epoch 15/15\n",
      "24798/24798 [==============================] - 16s 643us/step - loss: 0.3810 - auc_13: 0.8962 - val_loss: 0.4106 - val_auc_13: 0.8965\n"
     ]
    },
    {
     "data": {
      "text/plain": [
       "<keras.callbacks.callbacks.History at 0x7f1083ed7b00>"
      ]
     },
     "execution_count": 53,
     "metadata": {},
     "output_type": "execute_result"
    }
   ],
   "source": [
    "batch_size = 32\n",
    "epochs = 15\n",
    "lstm_units = 16\n",
    "rnn_units = 16\n",
    "\n",
    "num_members = X_user_logs.shape[0]\n",
    "num_dates = X_user_logs.shape[1]\n",
    "num_user_log_cols = X_user_logs.shape[2]\n",
    "num_member_cols = X_members.shape[1]\n",
    "num_transaction_cols = X_transactions.shape[2]\n",
    "num_transaction_months = X_transactions.shape[1]\n",
    "\n",
    "data_in_a = Input(shape = (num_dates,num_user_log_cols))\n",
    "a = LSTM(lstm_units)(data_in_a)\n",
    "#a = LSTM(lstm_units)(a)\n",
    "a = Dense(16, activation='relu')(a)\n",
    "a_mod = Model(data_in_a, outputs=a)\n",
    "\n",
    "data_in_b = Input(shape = (num_member_cols,))\n",
    "b = Dense(16, activation='relu')(data_in_b)\n",
    "b_mod = Model(data_in_b, outputs=b)\n",
    "\n",
    "data_in_c = Input(shape = (num_transaction_months,num_transaction_cols,))\n",
    "c = SimpleRNN(rnn_units)(data_in_c)\n",
    "c = Dense(16, activation='relu')(c)\n",
    "c_mod = Model(data_in_c, outputs=c)\n",
    "\n",
    "combined = concatenate([a_mod.output, b_mod.output, c_mod.output])\n",
    "out = Dense(32, activation='relu')(combined)\n",
    "out = Dense(16, activation='relu')(out)\n",
    "out = Dense(1, activation='sigmoid')(out)\n",
    "\n",
    "model = Model(inputs=[a_mod.input, b_mod.input, c_mod.input], outputs=out)\n",
    "model.compile(loss = 'binary_crossentropy', optimizer='adam',metrics = [tf.metrics.AUC()])\n",
    "\n",
    "#model.summary()\n",
    "model.fit([X_user_logs, X_members, X_transactions], y, validation_data=([X_val_user_logs, X_val_members, X_val_transactions],y_val), batch_size=batch_size, epochs=epochs,verbose=1,use_multiprocessing=True)\n"
   ]
  },
  {
   "cell_type": "markdown",
   "metadata": {},
   "source": [
    "# Daily User Logs, Monthly Transactions, Member Data"
   ]
  },
  {
   "cell_type": "code",
   "execution_count": null,
   "metadata": {},
   "outputs": [],
   "source": [
    "# Load weekly user logs from GCS\n",
    "temp_path = \"/tmp/train_user_logs_padded.npy\"\n",
    "blob = Blob(\"data_100_pct_undersample/train_user_logs_padded.npy\", bucket)\n",
    "\n",
    "with open(temp_path, \"wb\") as file_obj:\n",
    "    blob.download_to_file(file_obj)\n",
    "X_user_logs = np.load(temp_path)"
   ]
  },
  {
   "cell_type": "code",
   "execution_count": 32,
   "metadata": {},
   "outputs": [
    {
     "name": "stdout",
     "output_type": "stream",
     "text": [
      "Epoch 1/20\n",
      "24798/24798 [==============================] - 82s 3ms/step - loss: 0.4716 - auc_7: 0.8200\n",
      "Epoch 2/20\n",
      "24798/24798 [==============================] - 72s 3ms/step - loss: 0.4145 - auc_7: 0.8664\n",
      "Epoch 3/20\n",
      "24798/24798 [==============================] - 78s 3ms/step - loss: 0.4077 - auc_7: 0.8756\n",
      "Epoch 4/20\n",
      "24798/24798 [==============================] - 78s 3ms/step - loss: 0.4037 - auc_7: 0.8802\n",
      "Epoch 5/20\n",
      "24798/24798 [==============================] - 81s 3ms/step - loss: 0.4006 - auc_7: 0.8833\n",
      "Epoch 6/20\n",
      "24798/24798 [==============================] - 78s 3ms/step - loss: 0.3983 - auc_7: 0.8856\n",
      "Epoch 7/20\n",
      "24798/24798 [==============================] - 80s 3ms/step - loss: 0.3966 - auc_7: 0.8873\n",
      "Epoch 8/20\n",
      "24798/24798 [==============================] - 78s 3ms/step - loss: 0.3961 - auc_7: 0.8887\n",
      "Epoch 9/20\n",
      "24798/24798 [==============================] - 80s 3ms/step - loss: 0.3954 - auc_7: 0.8897\n",
      "Epoch 10/20\n",
      "24798/24798 [==============================] - 78s 3ms/step - loss: 0.3932 - auc_7: 0.8907\n",
      "Epoch 11/20\n",
      "24798/24798 [==============================] - 81s 3ms/step - loss: 0.3910 - auc_7: 0.8915\n",
      "Epoch 12/20\n",
      "24798/24798 [==============================] - 80s 3ms/step - loss: 0.3890 - auc_7: 0.8923\n",
      "Epoch 13/20\n",
      "24798/24798 [==============================] - 81s 3ms/step - loss: 0.3877 - auc_7: 0.8932\n",
      "Epoch 14/20\n",
      "24798/24798 [==============================] - 80s 3ms/step - loss: 0.3869 - auc_7: 0.8939\n",
      "Epoch 15/20\n",
      "24798/24798 [==============================] - 80s 3ms/step - loss: 0.3862 - auc_7: 0.8945\n",
      "Epoch 16/20\n",
      "24798/24798 [==============================] - 79s 3ms/step - loss: 0.3847 - auc_7: 0.8950\n",
      "Epoch 17/20\n",
      "24798/24798 [==============================] - 82s 3ms/step - loss: 0.3844 - auc_7: 0.8955\n",
      "Epoch 18/20\n",
      "24798/24798 [==============================] - 81s 3ms/step - loss: 0.3846 - auc_7: 0.8961\n",
      "Epoch 19/20\n",
      "24798/24798 [==============================] - 78s 3ms/step - loss: 0.3831 - auc_7: 0.8965\n",
      "Epoch 20/20\n",
      "24798/24798 [==============================] - 80s 3ms/step - loss: 0.3826 - auc_7: 0.8969\n"
     ]
    },
    {
     "data": {
      "text/plain": [
       "<keras.callbacks.callbacks.History at 0x7f0ff76e6e10>"
      ]
     },
     "execution_count": 32,
     "metadata": {},
     "output_type": "execute_result"
    }
   ],
   "source": [
    "batch_size = 64\n",
    "epochs = 20\n",
    "lstm_units = 16\n",
    "rnn_units = 16\n",
    "\n",
    "num_members = X_user_logs.shape[0]\n",
    "num_dates = X_user_logs.shape[1]\n",
    "num_user_log_cols = X_user_logs.shape[2]\n",
    "num_member_cols = X_members.shape[1]\n",
    "num_transaction_cols = X_transactions.shape[2]\n",
    "num_transaction_months = X_transactions.shape[1]\n",
    "\n",
    "data_in_a = Input(shape = (num_dates,num_user_log_cols))\n",
    "a = LSTM(lstm_units)(data_in_a)\n",
    "#a = LSTM(lstm_units)(a)\n",
    "a = Dense(16, activation='relu')(a)\n",
    "a_mod = Model(data_in_a, outputs=a)\n",
    "\n",
    "data_in_b = Input(shape = (num_member_cols,))\n",
    "b = Dense(16, activation='relu')(data_in_b)\n",
    "b_mod = Model(data_in_b, outputs=b)\n",
    "\n",
    "data_in_c = Input(shape = (num_transaction_months,num_transaction_cols,))\n",
    "c = SimpleRNN(rnn_units)(data_in_c)\n",
    "c_mod = Model(data_in_c, outputs=c)\n",
    "\n",
    "combined = concatenate([a_mod.output, b_mod.output, c_mod.output])\n",
    "out = Dense(16, activation='relu')(combined)\n",
    "#TODO add dropout layer\n",
    "out = Dense(1, activation='sigmoid')(out)\n",
    "\n",
    "model = Model(inputs=[a_mod.input, b_mod.input, c_mod.input], outputs=out)\n",
    "model.compile(loss = 'binary_crossentropy', optimizer='adam',metrics = [tf.metrics.AUC()])\n",
    "\n",
    "#model.summary()\n",
    "model.fit([X_user_logs, X_members, X_transactions], y, batch_size=batch_size, epochs=epochs,verbose=1,use_multiprocessing=True)\n"
   ]
  },
  {
   "cell_type": "markdown",
   "metadata": {},
   "source": [
    "# Transactions and Member Data"
   ]
  },
  {
   "cell_type": "code",
   "execution_count": 33,
   "metadata": {},
   "outputs": [
    {
     "name": "stdout",
     "output_type": "stream",
     "text": [
      "Epoch 1/20\n",
      "24798/24798 [==============================] - 3s 104us/step - loss: 0.4765 - auc_8: 0.8282\n",
      "Epoch 2/20\n",
      "24798/24798 [==============================] - 2s 78us/step - loss: 0.4266 - auc_8: 0.8589\n",
      "Epoch 3/20\n",
      "24798/24798 [==============================] - 2s 81us/step - loss: 0.4209 - auc_8: 0.8659\n",
      "Epoch 4/20\n",
      "24798/24798 [==============================] - 2s 83us/step - loss: 0.4173 - auc_8: 0.8700\n",
      "Epoch 5/20\n",
      "24798/24798 [==============================] - 2s 81us/step - loss: 0.4152 - auc_8: 0.8729\n",
      "Epoch 6/20\n",
      "24798/24798 [==============================] - 2s 80us/step - loss: 0.4143 - auc_8: 0.8750\n",
      "Epoch 7/20\n",
      "24798/24798 [==============================] - 2s 80us/step - loss: 0.4128 - auc_8: 0.8766\n",
      "Epoch 8/20\n",
      "24798/24798 [==============================] - 2s 80us/step - loss: 0.4112 - auc_8: 0.8778\n",
      "Epoch 9/20\n",
      "24798/24798 [==============================] - 2s 79us/step - loss: 0.4094 - auc_8: 0.8788\n",
      "Epoch 10/20\n",
      "24798/24798 [==============================] - 2s 82us/step - loss: 0.4093 - auc_8: 0.8798\n",
      "Epoch 11/20\n",
      "24798/24798 [==============================] - 2s 81us/step - loss: 0.4085 - auc_8: 0.8807\n",
      "Epoch 12/20\n",
      "24798/24798 [==============================] - 2s 81us/step - loss: 0.4077 - auc_8: 0.8813\n",
      "Epoch 13/20\n",
      "24798/24798 [==============================] - 2s 82us/step - loss: 0.4069 - auc_8: 0.8820\n",
      "Epoch 14/20\n",
      "24798/24798 [==============================] - 2s 81us/step - loss: 0.4062 - auc_8: 0.8825\n",
      "Epoch 15/20\n",
      "24798/24798 [==============================] - 2s 79us/step - loss: 0.4057 - auc_8: 0.8831\n",
      "Epoch 16/20\n",
      "24798/24798 [==============================] - 2s 80us/step - loss: 0.4050 - auc_8: 0.8836\n",
      "Epoch 17/20\n",
      "24798/24798 [==============================] - 2s 79us/step - loss: 0.4044 - auc_8: 0.8841\n",
      "Epoch 18/20\n",
      "24798/24798 [==============================] - 2s 81us/step - loss: 0.4037 - auc_8: 0.8845\n",
      "Epoch 19/20\n",
      "24798/24798 [==============================] - 2s 80us/step - loss: 0.4035 - auc_8: 0.8849\n",
      "Epoch 20/20\n",
      "24798/24798 [==============================] - 2s 79us/step - loss: 0.4027 - auc_8: 0.8854\n"
     ]
    },
    {
     "data": {
      "text/plain": [
       "<keras.callbacks.callbacks.History at 0x7f0ff7529e80>"
      ]
     },
     "execution_count": 33,
     "metadata": {},
     "output_type": "execute_result"
    }
   ],
   "source": [
    "batch_size = 64\n",
    "epochs = 20\n",
    "lstm_units = 16\n",
    "rnn_units = 16\n",
    "\n",
    "num_members = X_user_logs.shape[0]\n",
    "num_dates = X_user_logs.shape[1]\n",
    "num_user_log_cols = X_user_logs.shape[2]\n",
    "num_member_cols = X_members.shape[1]\n",
    "num_transaction_cols = X_transactions.shape[2]\n",
    "num_transaction_months = X_transactions.shape[1]\n",
    "\n",
    "data_in_b = Input(shape = (num_member_cols,))\n",
    "b = Dense(16, activation='relu')(data_in_b)\n",
    "b_mod = Model(data_in_b, outputs=b)\n",
    "\n",
    "data_in_c = Input(shape = (num_transaction_months,num_transaction_cols,))\n",
    "c = SimpleRNN(rnn_units)(data_in_c)\n",
    "c_mod = Model(data_in_c, outputs=c)\n",
    "\n",
    "combined = concatenate([b_mod.output, c_mod.output])\n",
    "out = Dense(16, activation='relu')(combined)\n",
    "#TODO add dropout layer\n",
    "out = Dense(1, activation='sigmoid')(out)\n",
    "\n",
    "model = Model(inputs=[b_mod.input, c_mod.input], outputs=out)\n",
    "model.compile(loss = 'binary_crossentropy', optimizer='adam',metrics = [tf.metrics.AUC()])\n",
    "\n",
    "#model.summary()\n",
    "model.fit([X_members, X_transactions], y, batch_size=batch_size, epochs=epochs,verbose=1,use_multiprocessing=True)\n"
   ]
  },
  {
   "cell_type": "markdown",
   "metadata": {},
   "source": [
    "# User Logs and Member Data (LSTM)"
   ]
  },
  {
   "cell_type": "raw",
   "metadata": {},
   "source": [
    "batch_size = 128\n",
    "epochs = 10\n",
    "lstm_units = 16\n",
    "\n",
    "num_members = X_user_logs.shape[0]\n",
    "num_dates = X_user_logs.shape[1]\n",
    "num_user_log_cols = X_user_logs.shape[2]\n",
    "num_member_cols = X_members.shape[1]\n",
    "\n",
    "data_in_a = Input(shape = (num_dates,num_user_log_cols))\n",
    "a = LSTM(lstm_units)(data_in_a)\n",
    "#a = LSTM(lstm_units)(a)\n",
    "a = Dense(16, activation='relu')(a)\n",
    "a_mod = Model(data_in_a, outputs=a)\n",
    "\n",
    "data_in_b = Input(shape = (num_member_cols,))\n",
    "b = Dense(16, activation='relu')(data_in_b)\n",
    "b_mod = Model(data_in_b, outputs=b)\n",
    "\n",
    "combined = concatenate([a_mod.output, b_mod.output])\n",
    "c = Dense(8, activation='relu')(combined)\n",
    "#TODO add dropout layer\n",
    "c = Dense(1, activation='sigmoid')(c)\n",
    "\n",
    "model = Model(inputs=[a_mod.input, b_mod.input], outputs=c)\n",
    "model.compile(loss = 'binary_crossentropy', optimizer='adam',metrics = [tf.metrics.AUC()])\n",
    "\n",
    "#model.summary()\n",
    "model.fit([X_user_logs, X_members], y, batch_size=batch_size, epochs=epochs,verbose=1,use_multiprocessing=True)\n"
   ]
  },
  {
   "cell_type": "markdown",
   "metadata": {},
   "source": [
    "# Member data only"
   ]
  },
  {
   "cell_type": "raw",
   "metadata": {},
   "source": [
    "batch_size = 128\n",
    "\n",
    "epochs = 20\n",
    "features = X_members.shape[1]\n",
    "\n",
    "data_in = Input(shape = (features,))\n",
    "x = Dense(1, activation='sigmoid')(data_in)\n",
    "model = Model(inputs=data_in, outputs=x)\n",
    "model.compile(loss = 'binary_crossentropy', optimizer='adam',metrics = [metrics.binary_accuracy])\n",
    "\n",
    "model.fit(X_members, y_flat, batch_size=batch_size, epochs=epochs,verbose=1)\n",
    "\n",
    "#Calculate AUC\n",
    "y_pred = model.predict(X_members).ravel()\n",
    "fpr_keras, tpr_keras, thresholds_keras = roc_curve(y_flat, y_pred)\n",
    "auc(fpr_keras, tpr_keras)"
   ]
  },
  {
   "cell_type": "markdown",
   "metadata": {},
   "source": [
    "# Visualize Model"
   ]
  },
  {
   "cell_type": "code",
   "execution_count": 57,
   "metadata": {},
   "outputs": [
    {
     "ename": "TypeError",
     "evalue": "create() got an unexpected keyword argument 'width'",
     "output_type": "error",
     "traceback": [
      "\u001b[0;31m---------------------------------------------------------------------------\u001b[0m",
      "\u001b[0;31mTypeError\u001b[0m                                 Traceback (most recent call last)",
      "\u001b[0;32m<ipython-input-57-8d85188ae713>\u001b[0m in \u001b[0;36m<module>\u001b[0;34m\u001b[0m\n\u001b[1;32m      2\u001b[0m \u001b[0;32mfrom\u001b[0m \u001b[0mkeras\u001b[0m\u001b[0;34m.\u001b[0m\u001b[0mutils\u001b[0m\u001b[0;34m.\u001b[0m\u001b[0mvis_utils\u001b[0m \u001b[0;32mimport\u001b[0m \u001b[0mmodel_to_dot\u001b[0m\u001b[0;34m\u001b[0m\u001b[0m\n\u001b[1;32m      3\u001b[0m \u001b[0;34m\u001b[0m\u001b[0m\n\u001b[0;32m----> 4\u001b[0;31m \u001b[0mSVG\u001b[0m\u001b[0;34m(\u001b[0m\u001b[0mmodel_to_dot\u001b[0m\u001b[0;34m(\u001b[0m\u001b[0mmodel\u001b[0m\u001b[0;34m)\u001b[0m\u001b[0;34m.\u001b[0m\u001b[0mcreate\u001b[0m\u001b[0;34m(\u001b[0m\u001b[0mprog\u001b[0m\u001b[0;34m=\u001b[0m\u001b[0;34m'dot'\u001b[0m\u001b[0;34m,\u001b[0m \u001b[0mformat\u001b[0m\u001b[0;34m=\u001b[0m\u001b[0;34m'svg'\u001b[0m\u001b[0;34m,\u001b[0m\u001b[0mwidth\u001b[0m\u001b[0;34m=\u001b[0m\u001b[0;36m100\u001b[0m\u001b[0;34m)\u001b[0m\u001b[0;34m)\u001b[0m\u001b[0;34m\u001b[0m\u001b[0m\n\u001b[0m",
      "\u001b[0;31mTypeError\u001b[0m: create() got an unexpected keyword argument 'width'"
     ]
    }
   ],
   "source": [
    "from IPython.display import SVG\n",
    "from keras.utils.vis_utils import model_to_dot\n",
    "\n",
    "SVG(model_to_dot(model).create(prog='dot', format='svg'))"
   ]
  }
 ],
 "metadata": {
  "kernelspec": {
   "display_name": "Python 3",
   "language": "python",
   "name": "python3"
  },
  "language_info": {
   "codemirror_mode": {
    "name": "ipython",
    "version": 3
   },
   "file_extension": ".py",
   "mimetype": "text/x-python",
   "name": "python",
   "nbconvert_exporter": "python",
   "pygments_lexer": "ipython3",
   "version": "3.5.3"
  },
  "toc": {
   "base_numbering": 1,
   "nav_menu": {},
   "number_sections": false,
   "sideBar": true,
   "skip_h1_title": false,
   "title_cell": "Table of Contents",
   "title_sidebar": "Contents",
   "toc_cell": false,
   "toc_position": {
    "height": "calc(100% - 180px)",
    "left": "10px",
    "top": "150px",
    "width": "165px"
   },
   "toc_section_display": true,
   "toc_window_display": true
  },
  "varInspector": {
   "cols": {
    "lenName": 16,
    "lenType": 16,
    "lenVar": 40
   },
   "kernels_config": {
    "python": {
     "delete_cmd_postfix": "",
     "delete_cmd_prefix": "del ",
     "library": "var_list.py",
     "varRefreshCmd": "print(var_dic_list())"
    },
    "r": {
     "delete_cmd_postfix": ") ",
     "delete_cmd_prefix": "rm(",
     "library": "var_list.r",
     "varRefreshCmd": "cat(var_dic_list()) "
    }
   },
   "types_to_exclude": [
    "module",
    "function",
    "builtin_function_or_method",
    "instance",
    "_Feature"
   ],
   "window_display": false
  }
 },
 "nbformat": 4,
 "nbformat_minor": 4
}
