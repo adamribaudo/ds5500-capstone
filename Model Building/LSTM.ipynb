{
 "cells": [
  {
   "cell_type": "code",
   "execution_count": 1,
   "metadata": {},
   "outputs": [
    {
     "name": "stderr",
     "output_type": "stream",
     "text": [
      "Using TensorFlow backend.\n"
     ]
    }
   ],
   "source": [
    "from __future__ import absolute_import, division, print_function, unicode_literals\n",
    "\n",
    "import collections\n",
    "import matplotlib.pyplot as plt\n",
    "import numpy as np\n",
    "from keras.preprocessing import sequence\n",
    "\n",
    "import tensorflow as tf\n",
    "\n",
    "from tensorflow.keras import layers\n",
    "\n",
    "from keras.utils.vis_utils import plot_model\n",
    "\n",
    "from keras.models import Sequential, Model\n",
    "from keras.layers import Dense, LSTM, Input, Dropout, Embedding, concatenate\n",
    "from keras.utils.vis_utils import plot_model\n",
    "\n",
    "# Provides function for sliding window for training data of time series data https://www.tensorflow.org/tutorials/structured_data/time_series#the_weather_dataset\n",
    "# How do we use our LSTM model as an input to a dense model with member features?\n",
    "# Reference for classification with LSTM https://keras.io/examples/imdb_lstm/\n",
    "# TODO Multi-input https://www.pyimagesearch.com/2019/02/04/keras-multiple-inputs-and-mixed-data/"
   ]
  },
  {
   "cell_type": "markdown",
   "metadata": {},
   "source": [
    "# Load Data"
   ]
  },
  {
   "cell_type": "code",
   "execution_count": 4,
   "metadata": {},
   "outputs": [],
   "source": [
    "X_members = np.load(\"val_members.npy\")\n",
    "X_user_logs = np.load(\"val_padded_user_logs.npy\")\n",
    "y = np.load(\"val_labels.npy\")"
   ]
  },
  {
   "cell_type": "code",
   "execution_count": 22,
   "metadata": {},
   "outputs": [
    {
     "data": {
      "text/plain": [
       "27"
      ]
     },
     "execution_count": 22,
     "metadata": {},
     "output_type": "execute_result"
    }
   ],
   "source": [
    "num_members_cols = X_members.shape[1]\n",
    "num_members_cols"
   ]
  },
  {
   "cell_type": "markdown",
   "metadata": {},
   "source": [
    "# Multi Input Example"
   ]
  },
  {
   "cell_type": "code",
   "execution_count": 35,
   "metadata": {},
   "outputs": [
    {
     "name": "stdout",
     "output_type": "stream",
     "text": [
      "WARNING:tensorflow:From C:\\Users\\Owner\\.conda\\envs\\ds5500\\lib\\site-packages\\keras\\backend\\tensorflow_backend.py:986: The name tf.assign_add is deprecated. Please use tf.compat.v1.assign_add instead.\n",
      "\n",
      "WARNING:tensorflow:From C:\\Users\\Owner\\.conda\\envs\\ds5500\\lib\\site-packages\\keras\\backend\\tensorflow_backend.py:973: The name tf.assign is deprecated. Please use tf.compat.v1.assign instead.\n",
      "\n",
      "WARNING:tensorflow:From C:\\Users\\Owner\\.conda\\envs\\ds5500\\lib\\site-packages\\keras\\backend\\tensorflow_backend.py:2741: The name tf.Session is deprecated. Please use tf.compat.v1.Session instead.\n",
      "\n",
      "Epoch 1/3\n",
      "WARNING:tensorflow:From C:\\Users\\Owner\\.conda\\envs\\ds5500\\lib\\site-packages\\keras\\backend\\tensorflow_backend.py:174: The name tf.get_default_session is deprecated. Please use tf.compat.v1.get_default_session instead.\n",
      "\n",
      "WARNING:tensorflow:From C:\\Users\\Owner\\.conda\\envs\\ds5500\\lib\\site-packages\\keras\\backend\\tensorflow_backend.py:181: The name tf.ConfigProto is deprecated. Please use tf.compat.v1.ConfigProto instead.\n",
      "\n",
      "WARNING:tensorflow:From C:\\Users\\Owner\\.conda\\envs\\ds5500\\lib\\site-packages\\keras\\backend\\tensorflow_backend.py:190: The name tf.global_variables is deprecated. Please use tf.compat.v1.global_variables instead.\n",
      "\n",
      "WARNING:tensorflow:From C:\\Users\\Owner\\.conda\\envs\\ds5500\\lib\\site-packages\\keras\\backend\\tensorflow_backend.py:199: The name tf.is_variable_initialized is deprecated. Please use tf.compat.v1.is_variable_initialized instead.\n",
      "\n",
      "WARNING:tensorflow:From C:\\Users\\Owner\\.conda\\envs\\ds5500\\lib\\site-packages\\keras\\backend\\tensorflow_backend.py:206: The name tf.variables_initializer is deprecated. Please use tf.compat.v1.variables_initializer instead.\n",
      "\n",
      "920/920 [==============================] - 6s 7ms/step - loss: 15.2492 - acc: 0.0435\n",
      "Epoch 2/3\n",
      "920/920 [==============================] - 4s 4ms/step - loss: 15.2492 - acc: 0.0435\n",
      "Epoch 3/3\n",
      "920/920 [==============================] - 4s 4ms/step - loss: 15.2492 - acc: 0.0435\n"
     ]
    },
    {
     "data": {
      "text/plain": [
       "<keras.callbacks.History at 0x19111743708>"
      ]
     },
     "execution_count": 35,
     "metadata": {},
     "output_type": "execute_result"
    }
   ],
   "source": [
    "# Dumb example, but as shown below, there are 2 inputs that go through seperate models and areconcatenated together\n",
    "\n",
    "batch_size = 100\n",
    "num_batch = 250\n",
    "num_integers = 10\n",
    "max_integer = num_integers - 1\n",
    "epochs = 3\n",
    "lstm_units = 16\n",
    "embedding_size = 16\n",
    "\n",
    "num_members = X_user_logs.shape[0]\n",
    "num_dates = X_user_logs.shape[1]\n",
    "num_user_log_cols = X_user_logs.shape[2]\n",
    "num_member_cols = X_members.shape[1]\n",
    "\n",
    "data_in_a = Input(shape = (num_dates,num_user_log_cols))\n",
    "#a = Embedding(num_integers, embedding_size)(data_in_a)\n",
    "a = LSTM(lstm_units)(data_in_a)\n",
    "a_mod = Model(data_in_a, outputs=a)\n",
    "\n",
    "data_in_b = Input(shape = (num_member_cols,))\n",
    "b = Dense(5, activation='relu')(data_in_b)\n",
    "b_mod = Model(data_in_b, outputs=b)\n",
    "\n",
    "combined = concatenate([a_mod.output, b_mod.output])\n",
    "\n",
    "c = Dropout(0.2)(combined)\n",
    "c = Dense(1, activation='softmax')(c)\n",
    "\n",
    "model = Model(inputs=[a_mod.input, b_mod.input], outputs=c)\n",
    "model.compile(loss = 'binary_crossentropy', optimizer='adam',metrics = ['accuracy'])\n",
    "\n",
    "#model.summary()\n",
    "model.fit([X_user_logs, X_members], y, batch_size=batch_size, epochs=epochs,verbose=1)\n"
   ]
  },
  {
   "cell_type": "code",
   "execution_count": 33,
   "metadata": {},
   "outputs": [
    {
     "data": {
      "image/svg+xml": [
       "<svg height=\"337pt\" viewBox=\"0.00 0.00 292.00 337.00\" width=\"292pt\" xmlns=\"http://www.w3.org/2000/svg\" xmlns:xlink=\"http://www.w3.org/1999/xlink\">\n",
       "<g class=\"graph\" id=\"graph0\" transform=\"scale(1 1) rotate(0) translate(4 333)\">\n",
       "<title>G</title>\n",
       "<polygon fill=\"white\" points=\"-4,4 -4,-333 288,-333 288,4 -4,4\" stroke=\"none\"/>\n",
       "<!-- 1722569164296 -->\n",
       "<g class=\"node\" id=\"node1\"><title>1722569164296</title>\n",
       "<polygon fill=\"none\" points=\"0,-292.5 0,-328.5 133,-328.5 133,-292.5 0,-292.5\" stroke=\"black\"/>\n",
       "<text font-family=\"Times New Roman,serif\" font-size=\"14.00\" text-anchor=\"middle\" x=\"66.5\" y=\"-306.8\">input_16: InputLayer</text>\n",
       "</g>\n",
       "<!-- 1722569163336 -->\n",
       "<g class=\"node\" id=\"node3\"><title>1722569163336</title>\n",
       "<polygon fill=\"none\" points=\"21,-219.5 21,-255.5 126,-255.5 126,-219.5 21,-219.5\" stroke=\"black\"/>\n",
       "<text font-family=\"Times New Roman,serif\" font-size=\"14.00\" text-anchor=\"middle\" x=\"73.5\" y=\"-233.8\">lstm_12: LSTM</text>\n",
       "</g>\n",
       "<!-- 1722569164296&#45;&gt;1722569163336 -->\n",
       "<g class=\"edge\" id=\"edge1\"><title>1722569164296-&gt;1722569163336</title>\n",
       "<path d=\"M68.1945,-292.313C68.9855,-284.289 69.946,-274.547 70.8312,-265.569\" fill=\"none\" stroke=\"black\"/>\n",
       "<polygon fill=\"black\" points=\"74.323,-265.824 71.8211,-255.529 67.3567,-265.137 74.323,-265.824\" stroke=\"black\"/>\n",
       "</g>\n",
       "<!-- 1722549845640 -->\n",
       "<g class=\"node\" id=\"node2\"><title>1722549845640</title>\n",
       "<polygon fill=\"none\" points=\"151,-292.5 151,-328.5 284,-328.5 284,-292.5 151,-292.5\" stroke=\"black\"/>\n",
       "<text font-family=\"Times New Roman,serif\" font-size=\"14.00\" text-anchor=\"middle\" x=\"217.5\" y=\"-306.8\">input_17: InputLayer</text>\n",
       "</g>\n",
       "<!-- 1722569499208 -->\n",
       "<g class=\"node\" id=\"node4\"><title>1722569499208</title>\n",
       "<polygon fill=\"none\" points=\"158.5,-219.5 158.5,-255.5 262.5,-255.5 262.5,-219.5 158.5,-219.5\" stroke=\"black\"/>\n",
       "<text font-family=\"Times New Roman,serif\" font-size=\"14.00\" text-anchor=\"middle\" x=\"210.5\" y=\"-233.8\">dense_8: Dense</text>\n",
       "</g>\n",
       "<!-- 1722549845640&#45;&gt;1722569499208 -->\n",
       "<g class=\"edge\" id=\"edge2\"><title>1722549845640-&gt;1722569499208</title>\n",
       "<path d=\"M215.805,-292.313C215.014,-284.289 214.054,-274.547 213.169,-265.569\" fill=\"none\" stroke=\"black\"/>\n",
       "<polygon fill=\"black\" points=\"216.643,-265.137 212.179,-255.529 209.677,-265.824 216.643,-265.137\" stroke=\"black\"/>\n",
       "</g>\n",
       "<!-- 1722551620488 -->\n",
       "<g class=\"node\" id=\"node5\"><title>1722551620488</title>\n",
       "<polygon fill=\"none\" points=\"55,-146.5 55,-182.5 228,-182.5 228,-146.5 55,-146.5\" stroke=\"black\"/>\n",
       "<text font-family=\"Times New Roman,serif\" font-size=\"14.00\" text-anchor=\"middle\" x=\"141.5\" y=\"-160.8\">concatenate_4: Concatenate</text>\n",
       "</g>\n",
       "<!-- 1722569163336&#45;&gt;1722551620488 -->\n",
       "<g class=\"edge\" id=\"edge3\"><title>1722569163336-&gt;1722551620488</title>\n",
       "<path d=\"M89.9609,-219.313C98.397,-210.505 108.817,-199.625 118.075,-189.958\" fill=\"none\" stroke=\"black\"/>\n",
       "<polygon fill=\"black\" points=\"120.802,-192.172 125.191,-182.529 115.746,-187.33 120.802,-192.172\" stroke=\"black\"/>\n",
       "</g>\n",
       "<!-- 1722569499208&#45;&gt;1722551620488 -->\n",
       "<g class=\"edge\" id=\"edge4\"><title>1722569499208-&gt;1722551620488</title>\n",
       "<path d=\"M193.797,-219.313C185.237,-210.505 174.664,-199.625 165.269,-189.958\" fill=\"none\" stroke=\"black\"/>\n",
       "<polygon fill=\"black\" points=\"167.529,-187.261 158.049,-182.529 162.509,-192.14 167.529,-187.261\" stroke=\"black\"/>\n",
       "</g>\n",
       "<!-- 1722551427272 -->\n",
       "<g class=\"node\" id=\"node6\"><title>1722551427272</title>\n",
       "<polygon fill=\"none\" points=\"76.5,-73.5 76.5,-109.5 206.5,-109.5 206.5,-73.5 76.5,-73.5\" stroke=\"black\"/>\n",
       "<text font-family=\"Times New Roman,serif\" font-size=\"14.00\" text-anchor=\"middle\" x=\"141.5\" y=\"-87.8\">dropout_5: Dropout</text>\n",
       "</g>\n",
       "<!-- 1722551620488&#45;&gt;1722551427272 -->\n",
       "<g class=\"edge\" id=\"edge5\"><title>1722551620488-&gt;1722551427272</title>\n",
       "<path d=\"M141.5,-146.313C141.5,-138.289 141.5,-128.547 141.5,-119.569\" fill=\"none\" stroke=\"black\"/>\n",
       "<polygon fill=\"black\" points=\"145,-119.529 141.5,-109.529 138,-119.529 145,-119.529\" stroke=\"black\"/>\n",
       "</g>\n",
       "<!-- 1722479243464 -->\n",
       "<g class=\"node\" id=\"node7\"><title>1722479243464</title>\n",
       "<polygon fill=\"none\" points=\"89.5,-0.5 89.5,-36.5 193.5,-36.5 193.5,-0.5 89.5,-0.5\" stroke=\"black\"/>\n",
       "<text font-family=\"Times New Roman,serif\" font-size=\"14.00\" text-anchor=\"middle\" x=\"141.5\" y=\"-14.8\">dense_9: Dense</text>\n",
       "</g>\n",
       "<!-- 1722551427272&#45;&gt;1722479243464 -->\n",
       "<g class=\"edge\" id=\"edge6\"><title>1722551427272-&gt;1722479243464</title>\n",
       "<path d=\"M141.5,-73.3129C141.5,-65.2895 141.5,-55.5475 141.5,-46.5691\" fill=\"none\" stroke=\"black\"/>\n",
       "<polygon fill=\"black\" points=\"145,-46.5288 141.5,-36.5288 138,-46.5289 145,-46.5288\" stroke=\"black\"/>\n",
       "</g>\n",
       "</g>\n",
       "</svg>"
      ],
      "text/plain": [
       "<IPython.core.display.SVG object>"
      ]
     },
     "execution_count": 33,
     "metadata": {},
     "output_type": "execute_result"
    }
   ],
   "source": [
    "from IPython.display import SVG\n",
    "from keras.utils.vis_utils import model_to_dot\n",
    "\n",
    "SVG(model_to_dot(model).create(prog='dot', format='svg'))"
   ]
  }
 ],
 "metadata": {
  "kernelspec": {
   "display_name": "Python 3",
   "language": "python",
   "name": "python3"
  },
  "language_info": {
   "codemirror_mode": {
    "name": "ipython",
    "version": 3
   },
   "file_extension": ".py",
   "mimetype": "text/x-python",
   "name": "python",
   "nbconvert_exporter": "python",
   "pygments_lexer": "ipython3",
   "version": "3.7.6"
  },
  "toc": {
   "base_numbering": 1,
   "nav_menu": {},
   "number_sections": false,
   "sideBar": true,
   "skip_h1_title": false,
   "title_cell": "Table of Contents",
   "title_sidebar": "Contents",
   "toc_cell": false,
   "toc_position": {
    "height": "calc(100% - 180px)",
    "left": "10px",
    "top": "150px",
    "width": "165px"
   },
   "toc_section_display": true,
   "toc_window_display": true
  },
  "varInspector": {
   "cols": {
    "lenName": 16,
    "lenType": 16,
    "lenVar": 40
   },
   "kernels_config": {
    "python": {
     "delete_cmd_postfix": "",
     "delete_cmd_prefix": "del ",
     "library": "var_list.py",
     "varRefreshCmd": "print(var_dic_list())"
    },
    "r": {
     "delete_cmd_postfix": ") ",
     "delete_cmd_prefix": "rm(",
     "library": "var_list.r",
     "varRefreshCmd": "cat(var_dic_list()) "
    }
   },
   "types_to_exclude": [
    "module",
    "function",
    "builtin_function_or_method",
    "instance",
    "_Feature"
   ],
   "window_display": false
  }
 },
 "nbformat": 4,
 "nbformat_minor": 2
}
