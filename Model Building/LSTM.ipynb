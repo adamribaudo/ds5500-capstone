{
 "cells": [
  {
   "cell_type": "code",
   "execution_count": 6,
   "metadata": {},
   "outputs": [
    {
     "name": "stderr",
     "output_type": "stream",
     "text": [
      "Using TensorFlow backend.\n"
     ]
    }
   ],
   "source": [
    "from __future__ import absolute_import, division, print_function, unicode_literals\n",
    "import tensorflow as tf\n",
    "import datetime, os\n",
    "import collections\n",
    "import matplotlib.pyplot as plt\n",
    "import numpy as np\n",
    "from keras.preprocessing import sequence\n",
    "import simplejson as json\n",
    "import tensorflow as tf\n",
    "import pandas as pd\n",
    "import os\n",
    "from tensorflow.keras import layers\n",
    "from sklearn.metrics import accuracy_score\n",
    "from sklearn import metrics as skmetrics\n",
    "from sklearn.linear_model import LogisticRegression\n",
    "\n",
    "from sklearn.metrics import roc_curve\n",
    "from sklearn.metrics import auc\n",
    "from keras.utils.vis_utils import plot_model\n",
    "from keras import metrics\n",
    "from keras.models import Sequential, Model\n",
    "from keras.layers import Dense, LSTM, Input, Dropout, Embedding, concatenate, SimpleRNN\n",
    "from keras.utils.vis_utils import plot_model\n",
    "from google.cloud import storage\n",
    "from google.cloud.storage import Blob\n",
    "\n",
    "client = storage.Client(project=\"ds5500\")\n",
    "\n",
    "bucket = client.get_bucket(\"kkbox-data\")\n",
    "\n",
    "#INPUT_PATH = \"D:\\\\Northeastern\\\\100 pct undersample split\\\\\"\n",
    "INPUT_PATH = \"gs://kkbox-data/50_pct_undersample/\""
   ]
  },
  {
   "cell_type": "code",
   "execution_count": 20,
   "metadata": {},
   "outputs": [],
   "source": [
    "# Create F1 score as an evaluation metric\n",
    "# https://stackoverflow.com/questions/43547402/how-to-calculate-f1-macro-in-keras\n",
    "from keras import backend as K\n",
    "\n",
    "def f1(y_true, y_pred):\n",
    "    def recall(y_true, y_pred):\n",
    "        \"\"\"Recall metric.\n",
    "\n",
    "        Only computes a batch-wise average of recall.\n",
    "\n",
    "        Computes the recall, a metric for multi-label classification of\n",
    "        how many relevant items are selected.\n",
    "        \"\"\"\n",
    "        true_positives = K.sum(K.round(K.clip(y_true * y_pred, 0, 1)))\n",
    "        possible_positives = K.sum(K.round(K.clip(y_true, 0, 1)))\n",
    "        recall = true_positives / (possible_positives + K.epsilon())\n",
    "        return recall\n",
    "\n",
    "    def precision(y_true, y_pred):\n",
    "        \"\"\"Precision metric.\n",
    "\n",
    "        Only computes a batch-wise average of precision.\n",
    "\n",
    "        Computes the precision, a metric for multi-label classification of\n",
    "        how many selected items are relevant.\n",
    "        \"\"\"\n",
    "        true_positives = K.sum(K.round(K.clip(y_true * y_pred, 0, 1)))\n",
    "        predicted_positives = K.sum(K.round(K.clip(y_pred, 0, 1)))\n",
    "        precision = true_positives / (predicted_positives + K.epsilon())\n",
    "        return precision\n",
    "    precision = precision(y_true, y_pred)\n",
    "    recall = recall(y_true, y_pred)\n",
    "    return 2*((precision*recall)/(precision+recall+K.epsilon()))\n",
    "\n",
    "import sklearn.metrics as skmetrics\n"
   ]
  },
  {
   "cell_type": "markdown",
   "metadata": {},
   "source": [
    "# Load Member/Transaction Data"
   ]
  },
  {
   "cell_type": "code",
   "execution_count": 7,
   "metadata": {},
   "outputs": [],
   "source": [
    "# Load TRAINING data\n",
    "temp_path = \"/tmp/train_transactions_monthly_padded.npy\"\n",
    "blob = Blob(\"50_pct_undersample/train_transactions_monthly_padded.npy\", bucket)\n",
    "with open(temp_path, \"wb\") as file_obj:\n",
    "    blob.download_to_file(file_obj)\n",
    "X_transactions = np.load(temp_path)\n",
    "X_members = pd.read_csv(INPUT_PATH + \"train_members_transformed.csv\").sort_values(\"msno\").drop([\"msno\",\"is_churn\"],axis=1).values\n",
    "y = pd.read_csv(INPUT_PATH + \"train_members_transformed.csv\").sort_values(\"msno\").is_churn.values"
   ]
  },
  {
   "cell_type": "code",
   "execution_count": 8,
   "metadata": {},
   "outputs": [],
   "source": [
    "# Load VALIDATION data\n",
    "temp_path = \"/tmp/val_transactions_monthly_padded.npy\"\n",
    "blob = Blob(\"50_pct_undersample/val_transactions_monthly_padded.npy\", bucket)\n",
    "with open(temp_path, \"wb\") as file_obj:\n",
    "    blob.download_to_file(file_obj)\n",
    "X_val_transactions = np.load(temp_path)\n",
    "X_val_members = pd.read_csv(INPUT_PATH + \"val_members_transformed.csv\").sort_values(\"msno\").drop([\"msno\",\"is_churn\"],axis=1).values\n",
    "y_val = pd.read_csv(INPUT_PATH + \"val_members_transformed.csv\").sort_values(\"msno\").is_churn"
   ]
  },
  {
   "cell_type": "markdown",
   "metadata": {},
   "source": [
    "## Load Weekly User Logs"
   ]
  },
  {
   "cell_type": "code",
   "execution_count": 9,
   "metadata": {},
   "outputs": [],
   "source": [
    "# Load training weekly user logs from GCS\n",
    "temp_path = \"/tmp/train_user_logs_weekly_padded.npy\"\n",
    "blob = Blob(\"50_pct_undersample/train_user_logs_weekly_padded.npy\", bucket)\n",
    "\n",
    "with open(temp_path, \"wb\") as file_obj:\n",
    "    blob.download_to_file(file_obj)\n",
    "X_user_logs = np.load(temp_path)"
   ]
  },
  {
   "cell_type": "code",
   "execution_count": 10,
   "metadata": {},
   "outputs": [],
   "source": [
    "# Load testing weekly user logs from GCS\n",
    "temp_path = \"/tmp/val_user_logs_weekly_padded.npy\"\n",
    "blob = Blob(\"50_pct_undersample/val_user_logs_weekly_padded.npy\", bucket)\n",
    "\n",
    "with open(temp_path, \"wb\") as file_obj:\n",
    "    blob.download_to_file(file_obj)\n",
    "X_val_user_logs = np.load(temp_path)"
   ]
  },
  {
   "cell_type": "markdown",
   "metadata": {},
   "source": [
    "# Just Weekly User Logs"
   ]
  },
  {
   "cell_type": "code",
   "execution_count": 21,
   "metadata": {},
   "outputs": [
    {
     "name": "stdout",
     "output_type": "stream",
     "text": [
      "Train on 53483 samples, validate on 21517 samples\n",
      "Epoch 1/1\n",
      "53483/53483 [==============================] - 36s 676us/step - loss: 0.5921 - f1: 0.3129 - val_loss: 0.3908 - val_f1: 0.1715\n"
     ]
    }
   ],
   "source": [
    "batch_size = 64\n",
    "epochs = 1\n",
    "lstm_units = 16\n",
    "\n",
    "num_dates = X_user_logs.shape[1]\n",
    "num_user_log_cols = X_user_logs.shape[2]\n",
    "\n",
    "data_in_a = Input(shape = (num_dates,num_user_log_cols))\n",
    "a = LSTM(lstm_units, return_sequences=True)(data_in_a)\n",
    "a = LSTM(lstm_units)(a)\n",
    "a = Dense(16, activation='relu')(a)\n",
    "out = Dense(1, activation='sigmoid')(a)\n",
    "\n",
    "model = Model(inputs=data_in_a, outputs=out)\n",
    "model.compile(loss = 'binary_crossentropy', optimizer='adam',metrics = [f1])\n",
    "\n",
    "#model.summary()\n",
    "history_1 = model.fit(X_user_logs, y, batch_size=batch_size, validation_data=(X_val_user_logs,y_val), epochs=epochs,verbose=1,use_multiprocessing=True)"
   ]
  },
  {
   "cell_type": "code",
   "execution_count": 68,
   "metadata": {},
   "outputs": [
    {
     "data": {
      "image/png": "[encoded data removed]",
      "text/plain": [
       "<Figure size 432x288 with 1 Axes>"
      ]
     },
     "metadata": {
      "needs_background": "light"
     },
     "output_type": "display_data"
    }
   ],
   "source": [
    "# Plot training & validation accuracy values\n",
    "plt.plot(history_1.history['f1'])\n",
    "plt.plot(history_1.history['val_f1'])\n",
    "plt.title('Model F1 Score - Weekly User Logs')\n",
    "plt.ylabel('F1')\n",
    "plt.xlabel('Epoch')\n",
    "plt.legend(['Train', 'Test'], loc='lower right')\n",
    "plt.ylim([0,1])\n",
    "plt.show()"
   ]
  },
  {
   "cell_type": "markdown",
   "metadata": {},
   "source": [
    "# Weekly User Logs, Member Data, Transaction Data"
   ]
  },
  {
   "cell_type": "code",
   "execution_count": 56,
   "metadata": {},
   "outputs": [
    {
     "name": "stdout",
     "output_type": "stream",
     "text": [
      "Train on 53483 samples, validate on 21517 samples\n",
      "Epoch 1/100\n",
      "53483/53483 [==============================] - 20s 371us/step - loss: 0.3932 - auc_16: 0.8564 - recall: 0.5827 - val_loss: 0.2579 - val_auc_16: 0.8815 - val_recall: 0.7073\n",
      "Epoch 2/100\n",
      "53483/53483 [==============================] - 19s 356us/step - loss: 0.3680 - auc_16: 0.8856 - recall: 0.7223 - val_loss: 0.2554 - val_auc_16: 0.8873 - val_recall: 0.7300\n",
      "Epoch 3/100\n",
      "53483/53483 [==============================] - 17s 321us/step - loss: 0.3645 - auc_16: 0.8884 - recall: 0.7339 - val_loss: 0.2427 - val_auc_16: 0.8898 - val_recall: 0.7366\n",
      "Epoch 4/100\n",
      "53483/53483 [==============================] - 17s 319us/step - loss: 0.3617 - auc_16: 0.8909 - recall: 0.7382 - val_loss: 0.2386 - val_auc_16: 0.8924 - val_recall: 0.7398\n",
      "Epoch 5/100\n",
      "53483/53483 [==============================] - 17s 317us/step - loss: 0.3594 - auc_16: 0.8937 - recall: 0.7414 - val_loss: 0.2432 - val_auc_16: 0.8941 - val_recall: 0.7416\n",
      "Epoch 6/100\n",
      "53483/53483 [==============================] - 17s 318us/step - loss: 0.3592 - auc_16: 0.8945 - recall: 0.7421 - val_loss: 0.2518 - val_auc_16: 0.8945 - val_recall: 0.7425\n",
      "Epoch 7/100\n",
      "53483/53483 [==============================] - 17s 318us/step - loss: 0.3571 - auc_16: 0.8947 - recall: 0.7428 - val_loss: 0.2386 - val_auc_16: 0.8953 - val_recall: 0.7431\n",
      "Epoch 8/100\n",
      "53483/53483 [==============================] - 17s 316us/step - loss: 0.3555 - auc_16: 0.8959 - recall: 0.7435 - val_loss: 0.2185 - val_auc_16: 0.8966 - val_recall: 0.7435\n",
      "Epoch 9/100\n",
      "53483/53483 [==============================] - 17s 322us/step - loss: 0.3548 - auc_16: 0.8973 - recall: 0.7437 - val_loss: 0.2396 - val_auc_16: 0.8974 - val_recall: 0.7438\n",
      "Epoch 10/100\n",
      "53483/53483 [==============================] - 17s 320us/step - loss: 0.3538 - auc_16: 0.8976 - recall: 0.7441 - val_loss: 0.2318 - val_auc_16: 0.8978 - val_recall: 0.7440\n",
      "Epoch 11/100\n",
      "53483/53483 [==============================] - 17s 320us/step - loss: 0.3532 - auc_16: 0.8979 - recall: 0.7439 - val_loss: 0.2297 - val_auc_16: 0.8984 - val_recall: 0.7441\n",
      "Epoch 12/100\n",
      "53483/53483 [==============================] - 17s 321us/step - loss: 0.3526 - auc_16: 0.8987 - recall: 0.7443 - val_loss: 0.2386 - val_auc_16: 0.8989 - val_recall: 0.7443\n",
      "Epoch 13/100\n",
      "53483/53483 [==============================] - 17s 323us/step - loss: 0.3519 - auc_16: 0.8991 - recall: 0.7443 - val_loss: 0.2427 - val_auc_16: 0.8993 - val_recall: 0.7444\n",
      "Epoch 14/100\n",
      "53483/53483 [==============================] - 17s 316us/step - loss: 0.3511 - auc_16: 0.8994 - recall: 0.7444 - val_loss: 0.2045 - val_auc_16: 0.8999 - val_recall: 0.7446\n",
      "Epoch 15/100\n",
      "53483/53483 [==============================] - 17s 313us/step - loss: 0.3507 - auc_16: 0.9002 - recall: 0.7445 - val_loss: 0.2724 - val_auc_16: 0.9002 - val_recall: 0.7446\n",
      "Epoch 16/100\n",
      "53483/53483 [==============================] - 17s 323us/step - loss: 0.3493 - auc_16: 0.9003 - recall: 0.7446 - val_loss: 0.2445 - val_auc_16: 0.9003 - val_recall: 0.7446\n",
      "Epoch 17/100\n",
      "53483/53483 [==============================] - 17s 315us/step - loss: 0.3494 - auc_16: 0.9004 - recall: 0.7446 - val_loss: 0.2431 - val_auc_16: 0.9005 - val_recall: 0.7446\n",
      "Epoch 18/100\n",
      "53483/53483 [==============================] - 17s 315us/step - loss: 0.3488 - auc_16: 0.9006 - recall: 0.7448 - val_loss: 0.2325 - val_auc_16: 0.9007 - val_recall: 0.7447\n",
      "Epoch 19/100\n",
      "53483/53483 [==============================] - 18s 334us/step - loss: 0.3480 - auc_16: 0.9009 - recall: 0.7448 - val_loss: 0.2538 - val_auc_16: 0.9010 - val_recall: 0.7448\n",
      "Epoch 20/100\n",
      "53483/53483 [==============================] - 19s 361us/step - loss: 0.3475 - auc_16: 0.9010 - recall: 0.7449 - val_loss: 0.2573 - val_auc_16: 0.9010 - val_recall: 0.7448\n",
      "Epoch 21/100\n",
      "53483/53483 [==============================] - 17s 314us/step - loss: 0.3471 - auc_16: 0.9010 - recall: 0.7447 - val_loss: 0.2533 - val_auc_16: 0.9010 - val_recall: 0.7448\n",
      "Epoch 22/100\n",
      "53483/53483 [==============================] - 17s 312us/step - loss: 0.3463 - auc_16: 0.9011 - recall: 0.7449 - val_loss: 0.2421 - val_auc_16: 0.9012 - val_recall: 0.7449\n",
      "Epoch 23/100\n",
      "53483/53483 [==============================] - 17s 317us/step - loss: 0.3462 - auc_16: 0.9013 - recall: 0.7449 - val_loss: 0.2617 - val_auc_16: 0.9013 - val_recall: 0.7449\n",
      "Epoch 24/100\n",
      "53483/53483 [==============================] - 17s 317us/step - loss: 0.3454 - auc_16: 0.9013 - recall: 0.7449 - val_loss: 0.2714 - val_auc_16: 0.9013 - val_recall: 0.7449\n",
      "Epoch 25/100\n",
      "53483/53483 [==============================] - 17s 315us/step - loss: 0.3448 - auc_16: 0.9013 - recall: 0.7449 - val_loss: 0.2562 - val_auc_16: 0.9013 - val_recall: 0.7449\n",
      "Epoch 26/100\n",
      "53483/53483 [==============================] - 17s 319us/step - loss: 0.3443 - auc_16: 0.9014 - recall: 0.7450 - val_loss: 0.2742 - val_auc_16: 0.9015 - val_recall: 0.7450\n",
      "Epoch 27/100\n",
      "53483/53483 [==============================] - 17s 319us/step - loss: 0.3437 - auc_16: 0.9015 - recall: 0.7450 - val_loss: 0.2740 - val_auc_16: 0.9015 - val_recall: 0.7451\n",
      "Epoch 28/100\n",
      "53483/53483 [==============================] - 17s 316us/step - loss: 0.3430 - auc_16: 0.9015 - recall: 0.7452 - val_loss: 0.2856 - val_auc_16: 0.9015 - val_recall: 0.7451\n",
      "Epoch 29/100\n",
      "53483/53483 [==============================] - 17s 315us/step - loss: 0.3429 - auc_16: 0.9015 - recall: 0.7451 - val_loss: 0.2722 - val_auc_16: 0.9014 - val_recall: 0.7451\n",
      "Epoch 30/100\n",
      "53483/53483 [==============================] - 17s 320us/step - loss: 0.3425 - auc_16: 0.9014 - recall: 0.7451 - val_loss: 0.2323 - val_auc_16: 0.9016 - val_recall: 0.7451\n",
      "Epoch 31/100\n",
      "53483/53483 [==============================] - 17s 320us/step - loss: 0.3413 - auc_16: 0.9018 - recall: 0.7451 - val_loss: 0.2411 - val_auc_16: 0.9019 - val_recall: 0.7451\n",
      "Epoch 32/100\n",
      "53483/53483 [==============================] - 17s 318us/step - loss: 0.3413 - auc_16: 0.9020 - recall: 0.7451 - val_loss: 0.2309 - val_auc_16: 0.9022 - val_recall: 0.7451\n",
      "Epoch 33/100\n",
      "53483/53483 [==============================] - 17s 323us/step - loss: 0.3407 - auc_16: 0.9023 - recall: 0.7451 - val_loss: 0.2589 - val_auc_16: 0.9023 - val_recall: 0.7451\n",
      "Epoch 34/100\n",
      "53483/53483 [==============================] - 17s 324us/step - loss: 0.3400 - auc_16: 0.9024 - recall: 0.7451 - val_loss: 0.2287 - val_auc_16: 0.9025 - val_recall: 0.7451\n",
      "Epoch 35/100\n",
      "53483/53483 [==============================] - 17s 321us/step - loss: 0.3399 - auc_16: 0.9027 - recall: 0.7451 - val_loss: 0.2444 - val_auc_16: 0.9027 - val_recall: 0.7451\n",
      "Epoch 36/100\n",
      "53483/53483 [==============================] - 17s 320us/step - loss: 0.3391 - auc_16: 0.9028 - recall: 0.7451 - val_loss: 0.2515 - val_auc_16: 0.9029 - val_recall: 0.7451\n",
      "Epoch 37/100\n",
      "53483/53483 [==============================] - 18s 330us/step - loss: 0.3389 - auc_16: 0.9030 - recall: 0.7452 - val_loss: 0.2559 - val_auc_16: 0.9029 - val_recall: 0.7451\n",
      "Epoch 38/100\n",
      "53483/53483 [==============================] - 20s 368us/step - loss: 0.3383 - auc_16: 0.9030 - recall: 0.7451 - val_loss: 0.2553 - val_auc_16: 0.9030 - val_recall: 0.7451\n",
      "Epoch 39/100\n",
      "53483/53483 [==============================] - 17s 313us/step - loss: 0.3380 - auc_16: 0.9030 - recall: 0.7451 - val_loss: 0.2670 - val_auc_16: 0.9031 - val_recall: 0.7451\n",
      "Epoch 40/100\n",
      "53483/53483 [==============================] - 17s 320us/step - loss: 0.3378 - auc_16: 0.9031 - recall: 0.7451 - val_loss: 0.2620 - val_auc_16: 0.9032 - val_recall: 0.7452\n",
      "Epoch 41/100\n",
      "53483/53483 [==============================] - 17s 325us/step - loss: 0.3362 - auc_16: 0.9032 - recall: 0.7452 - val_loss: 0.2748 - val_auc_16: 0.9032 - val_recall: 0.7452\n",
      "Epoch 42/100\n",
      "53483/53483 [==============================] - 17s 315us/step - loss: 0.3361 - auc_16: 0.9033 - recall: 0.7452 - val_loss: 0.2580 - val_auc_16: 0.9034 - val_recall: 0.7453\n",
      "Epoch 43/100\n",
      "53483/53483 [==============================] - 17s 316us/step - loss: 0.3358 - auc_16: 0.9034 - recall: 0.7452 - val_loss: 0.2369 - val_auc_16: 0.9035 - val_recall: 0.7453\n",
      "Epoch 44/100\n",
      "53483/53483 [==============================] - 17s 322us/step - loss: 0.3357 - auc_16: 0.9036 - recall: 0.7453 - val_loss: 0.2259 - val_auc_16: 0.9038 - val_recall: 0.7453\n",
      "Epoch 45/100\n",
      "53483/53483 [==============================] - 17s 321us/step - loss: 0.3351 - auc_16: 0.9039 - recall: 0.7453 - val_loss: 0.2634 - val_auc_16: 0.9039 - val_recall: 0.7453\n",
      "Epoch 46/100\n",
      "53483/53483 [==============================] - 17s 318us/step - loss: 0.3344 - auc_16: 0.9040 - recall: 0.7453 - val_loss: 0.2465 - val_auc_16: 0.9041 - val_recall: 0.7454\n",
      "Epoch 47/100\n",
      "53483/53483 [==============================] - 17s 324us/step - loss: 0.3339 - auc_16: 0.9042 - recall: 0.7454 - val_loss: 0.2523 - val_auc_16: 0.9042 - val_recall: 0.7454\n",
      "Epoch 48/100\n",
      "53483/53483 [==============================] - 18s 329us/step - loss: 0.3334 - auc_16: 0.9043 - recall: 0.7454 - val_loss: 0.2504 - val_auc_16: 0.9044 - val_recall: 0.7454\n",
      "Epoch 49/100\n",
      "53483/53483 [==============================] - 17s 317us/step - loss: 0.3330 - auc_16: 0.9044 - recall: 0.7455 - val_loss: 0.2620 - val_auc_16: 0.9045 - val_recall: 0.7455\n",
      "Epoch 50/100\n",
      "53483/53483 [==============================] - 17s 318us/step - loss: 0.3328 - auc_16: 0.9045 - recall: 0.7455 - val_loss: 0.2400 - val_auc_16: 0.9046 - val_recall: 0.7456\n",
      "Epoch 51/100\n",
      "53483/53483 [==============================] - 17s 323us/step - loss: 0.3322 - auc_16: 0.9047 - recall: 0.7456 - val_loss: 0.2517 - val_auc_16: 0.9047 - val_recall: 0.7456\n",
      "Epoch 52/100\n",
      "53483/53483 [==============================] - 17s 320us/step - loss: 0.3318 - auc_16: 0.9048 - recall: 0.7456 - val_loss: 0.2761 - val_auc_16: 0.9048 - val_recall: 0.7456\n",
      "Epoch 53/100\n",
      "53483/53483 [==============================] - 17s 318us/step - loss: 0.3306 - auc_16: 0.9048 - recall: 0.7456 - val_loss: 0.2527 - val_auc_16: 0.9049 - val_recall: 0.7457\n",
      "Epoch 54/100\n",
      "53483/53483 [==============================] - 17s 324us/step - loss: 0.3315 - auc_16: 0.9049 - recall: 0.7457 - val_loss: 0.2629 - val_auc_16: 0.9050 - val_recall: 0.7457\n",
      "Epoch 55/100\n",
      "53483/53483 [==============================] - 18s 334us/step - loss: 0.3301 - auc_16: 0.9050 - recall: 0.7458 - val_loss: 0.2447 - val_auc_16: 0.9051 - val_recall: 0.7458\n",
      "Epoch 56/100\n",
      "53483/53483 [==============================] - 19s 363us/step - loss: 0.3294 - auc_16: 0.9052 - recall: 0.7458 - val_loss: 0.2242 - val_auc_16: 0.9053 - val_recall: 0.7458\n",
      "Epoch 57/100\n",
      "53483/53483 [==============================] - 17s 315us/step - loss: 0.3290 - auc_16: 0.9054 - recall: 0.7458 - val_loss: 0.2713 - val_auc_16: 0.9054 - val_recall: 0.7459\n",
      "Epoch 58/100\n",
      "53483/53483 [==============================] - 17s 318us/step - loss: 0.3294 - auc_16: 0.9054 - recall: 0.7459 - val_loss: 0.2672 - val_auc_16: 0.9054 - val_recall: 0.7459\n",
      "Epoch 59/100\n",
      "53483/53483 [==============================] - 17s 320us/step - loss: 0.3286 - auc_16: 0.9055 - recall: 0.7459 - val_loss: 0.2762 - val_auc_16: 0.9055 - val_recall: 0.7460\n",
      "Epoch 60/100\n",
      "53483/53483 [==============================] - 17s 318us/step - loss: 0.3283 - auc_16: 0.9055 - recall: 0.7460 - val_loss: 0.2550 - val_auc_16: 0.9056 - val_recall: 0.7460\n",
      "Epoch 61/100\n",
      "53483/53483 [==============================] - 17s 322us/step - loss: 0.3276 - auc_16: 0.9057 - recall: 0.7460 - val_loss: 0.2575 - val_auc_16: 0.9057 - val_recall: 0.7461\n",
      "Epoch 62/100\n",
      "53483/53483 [==============================] - 17s 324us/step - loss: 0.3276 - auc_16: 0.9058 - recall: 0.7461 - val_loss: 0.2684 - val_auc_16: 0.9058 - val_recall: 0.7461\n",
      "Epoch 63/100\n",
      "53483/53483 [==============================] - 17s 318us/step - loss: 0.3258 - auc_16: 0.9059 - recall: 0.7461 - val_loss: 0.2512 - val_auc_16: 0.9060 - val_recall: 0.7462\n",
      "Epoch 64/100\n",
      "53483/53483 [==============================] - 17s 323us/step - loss: 0.3265 - auc_16: 0.9060 - recall: 0.7462 - val_loss: 0.2965 - val_auc_16: 0.9060 - val_recall: 0.7463\n",
      "Epoch 65/100\n",
      "53483/53483 [==============================] - 17s 320us/step - loss: 0.3259 - auc_16: 0.9060 - recall: 0.7463 - val_loss: 0.2791 - val_auc_16: 0.9060 - val_recall: 0.7463\n",
      "Epoch 66/100\n",
      "53483/53483 [==============================] - 17s 318us/step - loss: 0.3249 - auc_16: 0.9060 - recall: 0.7463 - val_loss: 0.2758 - val_auc_16: 0.9061 - val_recall: 0.7464\n",
      "Epoch 67/100\n",
      "53483/53483 [==============================] - 17s 316us/step - loss: 0.3249 - auc_16: 0.9061 - recall: 0.7464 - val_loss: 0.2836 - val_auc_16: 0.9061 - val_recall: 0.7464\n",
      "Epoch 68/100\n",
      "53483/53483 [==============================] - 17s 321us/step - loss: 0.3243 - auc_16: 0.9061 - recall: 0.7465 - val_loss: 0.2775 - val_auc_16: 0.9062 - val_recall: 0.7465\n",
      "Epoch 69/100\n",
      "53483/53483 [==============================] - 17s 321us/step - loss: 0.3238 - auc_16: 0.9062 - recall: 0.7465 - val_loss: 0.2667 - val_auc_16: 0.9062 - val_recall: 0.7466\n",
      "Epoch 70/100\n",
      "53483/53483 [==============================] - 17s 315us/step - loss: 0.3230 - auc_16: 0.9063 - recall: 0.7466 - val_loss: 0.2629 - val_auc_16: 0.9064 - val_recall: 0.7467\n",
      "Epoch 71/100\n",
      "53483/53483 [==============================] - 17s 321us/step - loss: 0.3225 - auc_16: 0.9064 - recall: 0.7467 - val_loss: 0.2714 - val_auc_16: 0.9065 - val_recall: 0.7468\n",
      "Epoch 72/100\n",
      "53483/53483 [==============================] - 17s 319us/step - loss: 0.3225 - auc_16: 0.9065 - recall: 0.7468 - val_loss: 0.2646 - val_auc_16: 0.9066 - val_recall: 0.7468\n",
      "Epoch 73/100\n",
      "53483/53483 [==============================] - 18s 331us/step - loss: 0.3213 - auc_16: 0.9066 - recall: 0.7469 - val_loss: 0.2521 - val_auc_16: 0.9067 - val_recall: 0.7469\n",
      "Epoch 74/100\n",
      "53483/53483 [==============================] - 19s 356us/step - loss: 0.3214 - auc_16: 0.9068 - recall: 0.7470 - val_loss: 0.2702 - val_auc_16: 0.9068 - val_recall: 0.7470\n",
      "Epoch 75/100\n",
      "53483/53483 [==============================] - 17s 321us/step - loss: 0.3204 - auc_16: 0.9068 - recall: 0.7471 - val_loss: 0.2581 - val_auc_16: 0.9069 - val_recall: 0.7471\n",
      "Epoch 76/100\n",
      "53483/53483 [==============================] - 17s 320us/step - loss: 0.3202 - auc_16: 0.9070 - recall: 0.7472 - val_loss: 0.2547 - val_auc_16: 0.9070 - val_recall: 0.7472\n",
      "Epoch 77/100\n",
      "53483/53483 [==============================] - 17s 314us/step - loss: 0.3190 - auc_16: 0.9071 - recall: 0.7472 - val_loss: 0.2430 - val_auc_16: 0.9072 - val_recall: 0.7473\n",
      "Epoch 78/100\n",
      "53483/53483 [==============================] - 17s 318us/step - loss: 0.3195 - auc_16: 0.9072 - recall: 0.7473 - val_loss: 0.2409 - val_auc_16: 0.9073 - val_recall: 0.7474\n",
      "Epoch 79/100\n",
      "53483/53483 [==============================] - 17s 320us/step - loss: 0.3190 - auc_16: 0.9074 - recall: 0.7474 - val_loss: 0.2707 - val_auc_16: 0.9074 - val_recall: 0.7475\n",
      "Epoch 80/100\n",
      "53483/53483 [==============================] - 17s 320us/step - loss: 0.3184 - auc_16: 0.9075 - recall: 0.7476 - val_loss: 0.2701 - val_auc_16: 0.9075 - val_recall: 0.7476\n",
      "Epoch 81/100\n",
      "53483/53483 [==============================] - 17s 318us/step - loss: 0.3178 - auc_16: 0.9076 - recall: 0.7477 - val_loss: 0.2509 - val_auc_16: 0.9077 - val_recall: 0.7477\n",
      "Epoch 82/100\n",
      "53483/53483 [==============================] - 17s 323us/step - loss: 0.3173 - auc_16: 0.9077 - recall: 0.7478 - val_loss: 0.2888 - val_auc_16: 0.9078 - val_recall: 0.7478\n",
      "Epoch 83/100\n",
      "53483/53483 [==============================] - 17s 320us/step - loss: 0.3177 - auc_16: 0.9078 - recall: 0.7479 - val_loss: 0.2879 - val_auc_16: 0.9078 - val_recall: 0.7479\n",
      "Epoch 84/100\n",
      "53483/53483 [==============================] - 17s 318us/step - loss: 0.3167 - auc_16: 0.9079 - recall: 0.7480 - val_loss: 0.2868 - val_auc_16: 0.9079 - val_recall: 0.7480\n",
      "Epoch 85/100\n",
      "53483/53483 [==============================] - 17s 318us/step - loss: 0.3164 - auc_16: 0.9079 - recall: 0.7480 - val_loss: 0.2935 - val_auc_16: 0.9079 - val_recall: 0.7481\n",
      "Epoch 86/100\n",
      "53483/53483 [==============================] - 17s 318us/step - loss: 0.3163 - auc_16: 0.9080 - recall: 0.7481 - val_loss: 0.2663 - val_auc_16: 0.9080 - val_recall: 0.7482\n",
      "Epoch 87/100\n",
      "53483/53483 [==============================] - 17s 320us/step - loss: 0.3153 - auc_16: 0.9081 - recall: 0.7482 - val_loss: 0.2783 - val_auc_16: 0.9081 - val_recall: 0.7483\n",
      "Epoch 88/100\n",
      "53483/53483 [==============================] - 17s 316us/step - loss: 0.3147 - auc_16: 0.9082 - recall: 0.7483 - val_loss: 0.2605 - val_auc_16: 0.9082 - val_recall: 0.7484\n",
      "Epoch 89/100\n",
      "53483/53483 [==============================] - 17s 322us/step - loss: 0.3142 - auc_16: 0.9083 - recall: 0.7484 - val_loss: 0.2844 - val_auc_16: 0.9083 - val_recall: 0.7484\n",
      "Epoch 90/100\n",
      "53483/53483 [==============================] - 17s 320us/step - loss: 0.3143 - auc_16: 0.9084 - recall: 0.7485 - val_loss: 0.2694 - val_auc_16: 0.9084 - val_recall: 0.7485\n",
      "Epoch 91/100\n",
      "53483/53483 [==============================] - 18s 332us/step - loss: 0.3134 - auc_16: 0.9085 - recall: 0.7486 - val_loss: 0.2814 - val_auc_16: 0.9085 - val_recall: 0.7486\n",
      "Epoch 92/100\n",
      "53483/53483 [==============================] - 19s 357us/step - loss: 0.3133 - auc_16: 0.9086 - recall: 0.7487 - val_loss: 0.2616 - val_auc_16: 0.9086 - val_recall: 0.7487\n",
      "Epoch 93/100\n",
      "53483/53483 [==============================] - 17s 316us/step - loss: 0.3125 - auc_16: 0.9087 - recall: 0.7488 - val_loss: 0.3041 - val_auc_16: 0.9087 - val_recall: 0.7489\n",
      "Epoch 94/100\n",
      "53483/53483 [==============================] - 17s 318us/step - loss: 0.3123 - auc_16: 0.9087 - recall: 0.7489 - val_loss: 0.2720 - val_auc_16: 0.9088 - val_recall: 0.7490\n",
      "Epoch 95/100\n",
      "53483/53483 [==============================] - 17s 314us/step - loss: 0.3123 - auc_16: 0.9088 - recall: 0.7490 - val_loss: 0.2786 - val_auc_16: 0.9088 - val_recall: 0.7491\n",
      "Epoch 96/100\n",
      "53483/53483 [==============================] - 17s 320us/step - loss: 0.3114 - auc_16: 0.9089 - recall: 0.7491 - val_loss: 0.2713 - val_auc_16: 0.9089 - val_recall: 0.7492\n",
      "Epoch 97/100\n",
      "53483/53483 [==============================] - 17s 319us/step - loss: 0.3114 - auc_16: 0.9090 - recall: 0.7492 - val_loss: 0.2791 - val_auc_16: 0.9090 - val_recall: 0.7493\n",
      "Epoch 98/100\n",
      "53483/53483 [==============================] - 17s 317us/step - loss: 0.3111 - auc_16: 0.9091 - recall: 0.7494 - val_loss: 0.2774 - val_auc_16: 0.9091 - val_recall: 0.7494\n",
      "Epoch 99/100\n",
      "53483/53483 [==============================] - 17s 320us/step - loss: 0.3104 - auc_16: 0.9092 - recall: 0.7495 - val_loss: 0.2537 - val_auc_16: 0.9092 - val_recall: 0.7495\n",
      "Epoch 100/100\n",
      "53483/53483 [==============================] - 17s 321us/step - loss: 0.3102 - auc_16: 0.9093 - recall: 0.7496 - val_loss: 0.2847 - val_auc_16: 0.9093 - val_recall: 0.7496\n"
     ]
    }
   ],
   "source": [
    "batch_size = 64\n",
    "epochs = 100\n",
    "lstm_units = 16\n",
    "rnn_units = 16\n",
    "\n",
    "num_members = X_user_logs.shape[0]\n",
    "num_dates = X_user_logs.shape[1]\n",
    "num_user_log_cols = X_user_logs.shape[2]\n",
    "num_member_cols = X_members.shape[1]\n",
    "num_transaction_cols = X_transactions.shape[2]\n",
    "num_transaction_months = X_transactions.shape[1]\n",
    "\n",
    "data_in_a = Input(shape = (num_dates,num_user_log_cols))\n",
    "a = LSTM(lstm_units)(data_in_a)\n",
    "#a = LSTM(lstm_units)(a)\n",
    "a = Dense(16, activation='relu')(a)\n",
    "a_mod = Model(data_in_a, outputs=a)\n",
    "\n",
    "data_in_b = Input(shape = (num_member_cols,))\n",
    "b = Dense(16, activation='relu')(data_in_b)\n",
    "b_mod = Model(data_in_b, outputs=b)\n",
    "\n",
    "data_in_c = Input(shape = (num_transaction_months,num_transaction_cols,))\n",
    "c = SimpleRNN(rnn_units)(data_in_c)\n",
    "c = Dense(16, activation='relu')(c)\n",
    "c_mod = Model(data_in_c, outputs=c)\n",
    "\n",
    "combined = concatenate([a_mod.output, b_mod.output, c_mod.output])\n",
    "out = Dense(32, activation='relu')(combined)\n",
    "out = Dense(16, activation='relu')(out)\n",
    "out = Dense(1, activation='sigmoid')(out)\n",
    "\n",
    "model = Model(inputs=[a_mod.input, b_mod.input, c_mod.input], outputs=out)\n",
    "model.compile(loss = 'binary_crossentropy', optimizer='adam',metrics = [tf.metrics.AUC(), tf.metrics.Recall()])\n",
    "\n",
    "#model.summary()\n",
    "history_2 = model.fit([X_user_logs, X_members, X_transactions], y, validation_data=([X_val_user_logs, X_val_members, X_val_transactions],y_val), batch_size=batch_size, epochs=epochs,verbose=1,use_multiprocessing=True)\n",
    "#"
   ]
  },
  {
   "cell_type": "markdown",
   "metadata": {},
   "source": [
    "# Load Daily User Logs"
   ]
  },
  {
   "cell_type": "code",
   "execution_count": 20,
   "metadata": {},
   "outputs": [],
   "source": [
    "# Load user logs from GCS\n",
    "temp_path = \"/tmp/train_user_logs_padded.npy\"\n",
    "blob = Blob(\"50_pct_undersample/train_user_logs_padded.npy\", bucket)\n",
    "\n",
    "with open(temp_path, \"wb\") as file_obj:\n",
    "    blob.download_to_file(file_obj)\n",
    "X_user_logs = np.load(temp_path)"
   ]
  },
  {
   "cell_type": "code",
   "execution_count": 19,
   "metadata": {},
   "outputs": [],
   "source": [
    "# Load user logs from GCS\n",
    "temp_path = \"/tmp/val_user_logs_padded.npy\"\n",
    "blob = Blob(\"50_pct_undersample/val_user_logs_padded.npy\", bucket)\n",
    "\n",
    "with open(temp_path, \"wb\") as file_obj:\n",
    "    blob.download_to_file(file_obj)\n",
    "X_val_user_logs = np.load(temp_path)"
   ]
  },
  {
   "cell_type": "markdown",
   "metadata": {},
   "source": [
    "# Just Daily User Logs"
   ]
  },
  {
   "cell_type": "code",
   "execution_count": null,
   "metadata": {},
   "outputs": [
    {
     "name": "stdout",
     "output_type": "stream",
     "text": [
      "Train on 53483 samples, validate on 21517 samples\n",
      "Epoch 1/20\n",
      "53483/53483 [==============================] - 192s 4ms/step - loss: 0.6258 - auc_4: 0.5804 - val_loss: 0.4357 - val_auc_4: 0.5949\n",
      "Epoch 2/20\n",
      "53483/53483 [==============================] - 179s 3ms/step - loss: 0.6194 - auc_4: 0.5922 - val_loss: 0.3880 - val_auc_4: 0.6092\n",
      "Epoch 3/20\n",
      "53483/53483 [==============================] - 176s 3ms/step - loss: 0.5848 - auc_4: 0.6263 - val_loss: 0.4414 - val_auc_4: 0.6350\n",
      "Epoch 4/20\n",
      "53483/53483 [==============================] - 176s 3ms/step - loss: 0.5846 - auc_4: 0.6406 - val_loss: 0.3875 - val_auc_4: 0.6468\n",
      "Epoch 5/20\n",
      "53483/53483 [==============================] - 173s 3ms/step - loss: 0.5830 - auc_4: 0.6520 - val_loss: 0.3786 - val_auc_4: 0.6581\n",
      "Epoch 6/20\n",
      "53483/53483 [==============================] - 182s 3ms/step - loss: 0.5816 - auc_4: 0.6624 - val_loss: 0.4102 - val_auc_4: 0.6638\n",
      "Epoch 7/20\n",
      "53483/53483 [==============================] - 184s 3ms/step - loss: 0.5680 - auc_4: 0.6664 - val_loss: 0.3303 - val_auc_4: 0.6718\n",
      "Epoch 8/20\n",
      "53483/53483 [==============================] - 183s 3ms/step - loss: 0.5614 - auc_4: 0.6766 - val_loss: 0.3942 - val_auc_4: 0.6792\n",
      "Epoch 9/20\n",
      "53483/53483 [==============================] - 183s 3ms/step - loss: 0.5560 - auc_4: 0.6815 - val_loss: 0.3946 - val_auc_4: 0.6832\n",
      "Epoch 10/20\n",
      "53483/53483 [==============================] - 180s 3ms/step - loss: 0.5591 - auc_4: 0.6847 - val_loss: 0.3587 - val_auc_4: 0.6872\n",
      "Epoch 11/20\n",
      "53483/53483 [==============================] - 184s 3ms/step - loss: 0.5546 - auc_4: 0.6894 - val_loss: 0.3662 - val_auc_4: 0.6912\n",
      "Epoch 12/20\n",
      "53483/53483 [==============================] - 182s 3ms/step - loss: 0.5516 - auc_4: 0.6931 - val_loss: 0.3507 - val_auc_4: 0.6950\n",
      "Epoch 13/20\n",
      "53483/53483 [==============================] - 182s 3ms/step - loss: 0.5502 - auc_4: 0.6968 - val_loss: 0.3877 - val_auc_4: 0.6980\n",
      "Epoch 14/20\n",
      "53483/53483 [==============================] - 183s 3ms/step - loss: 0.5504 - auc_4: 0.6991 - val_loss: 0.3492 - val_auc_4: 0.7005\n",
      "Epoch 15/20\n",
      "18304/53483 [=========>....................] - ETA: 1:49 - loss: 0.5518 - auc_4: 0.7014"
     ]
    }
   ],
   "source": [
    "batch_size = 64\n",
    "epochs = 20\n",
    "lstm_units = 16\n",
    "\n",
    "num_dates = X_user_logs.shape[1]\n",
    "num_user_log_cols = X_user_logs.shape[2]\n",
    "\n",
    "data_in_a = Input(shape = (num_dates,num_user_log_cols))\n",
    "a = LSTM(lstm_units, return_sequences=True)(data_in_a)\n",
    "a = LSTM(lstm_units)(a)\n",
    "a = Dense(16, activation='relu')(a)\n",
    "out = Dense(1, activation='sigmoid')(a)\n",
    "\n",
    "model = Model(inputs=data_in_a, outputs=out)\n",
    "model.compile(loss = 'binary_crossentropy', optimizer='adam',metrics = [tf.metrics.AUC()])\n",
    "\n",
    "#model.summary()\n",
    "model.fit(X_user_logs, y, batch_size=batch_size, validation_data=(X_val_user_logs,y_val), epochs=epochs,verbose=1,use_multiprocessing=True)\n"
   ]
  },
  {
   "cell_type": "markdown",
   "metadata": {},
   "source": [
    "# User Logs, Transactions, Member Data"
   ]
  },
  {
   "cell_type": "code",
   "execution_count": 32,
   "metadata": {},
   "outputs": [
    {
     "name": "stdout",
     "output_type": "stream",
     "text": [
      "Epoch 1/20\n",
      "24798/24798 [==============================] - 82s 3ms/step - loss: 0.4716 - auc_7: 0.8200\n",
      "Epoch 2/20\n",
      "24798/24798 [==============================] - 72s 3ms/step - loss: 0.4145 - auc_7: 0.8664\n",
      "Epoch 3/20\n",
      "24798/24798 [==============================] - 78s 3ms/step - loss: 0.4077 - auc_7: 0.8756\n",
      "Epoch 4/20\n",
      "24798/24798 [==============================] - 78s 3ms/step - loss: 0.4037 - auc_7: 0.8802\n",
      "Epoch 5/20\n",
      "24798/24798 [==============================] - 81s 3ms/step - loss: 0.4006 - auc_7: 0.8833\n",
      "Epoch 6/20\n",
      "24798/24798 [==============================] - 78s 3ms/step - loss: 0.3983 - auc_7: 0.8856\n",
      "Epoch 7/20\n",
      "24798/24798 [==============================] - 80s 3ms/step - loss: 0.3966 - auc_7: 0.8873\n",
      "Epoch 8/20\n",
      "24798/24798 [==============================] - 78s 3ms/step - loss: 0.3961 - auc_7: 0.8887\n",
      "Epoch 9/20\n",
      "24798/24798 [==============================] - 80s 3ms/step - loss: 0.3954 - auc_7: 0.8897\n",
      "Epoch 10/20\n",
      "24798/24798 [==============================] - 78s 3ms/step - loss: 0.3932 - auc_7: 0.8907\n",
      "Epoch 11/20\n",
      "24798/24798 [==============================] - 81s 3ms/step - loss: 0.3910 - auc_7: 0.8915\n",
      "Epoch 12/20\n",
      "24798/24798 [==============================] - 80s 3ms/step - loss: 0.3890 - auc_7: 0.8923\n",
      "Epoch 13/20\n",
      "24798/24798 [==============================] - 81s 3ms/step - loss: 0.3877 - auc_7: 0.8932\n",
      "Epoch 14/20\n",
      "24798/24798 [==============================] - 80s 3ms/step - loss: 0.3869 - auc_7: 0.8939\n",
      "Epoch 15/20\n",
      "24798/24798 [==============================] - 80s 3ms/step - loss: 0.3862 - auc_7: 0.8945\n",
      "Epoch 16/20\n",
      "24798/24798 [==============================] - 79s 3ms/step - loss: 0.3847 - auc_7: 0.8950\n",
      "Epoch 17/20\n",
      "24798/24798 [==============================] - 82s 3ms/step - loss: 0.3844 - auc_7: 0.8955\n",
      "Epoch 18/20\n",
      "24798/24798 [==============================] - 81s 3ms/step - loss: 0.3846 - auc_7: 0.8961\n",
      "Epoch 19/20\n",
      "24798/24798 [==============================] - 78s 3ms/step - loss: 0.3831 - auc_7: 0.8965\n",
      "Epoch 20/20\n",
      "24798/24798 [==============================] - 80s 3ms/step - loss: 0.3826 - auc_7: 0.8969\n"
     ]
    },
    {
     "data": {
      "text/plain": [
       "<keras.callbacks.callbacks.History at 0x7f0ff76e6e10>"
      ]
     },
     "execution_count": 32,
     "metadata": {},
     "output_type": "execute_result"
    }
   ],
   "source": [
    "batch_size = 64\n",
    "epochs = 20\n",
    "lstm_units = 16\n",
    "rnn_units = 16\n",
    "\n",
    "num_members = X_user_logs.shape[0]\n",
    "num_dates = X_user_logs.shape[1]\n",
    "num_user_log_cols = X_user_logs.shape[2]\n",
    "num_member_cols = X_members.shape[1]\n",
    "num_transaction_cols = X_transactions.shape[2]\n",
    "num_transaction_months = X_transactions.shape[1]\n",
    "\n",
    "data_in_a = Input(shape = (num_dates,num_user_log_cols))\n",
    "a = LSTM(lstm_units)(data_in_a)\n",
    "#a = LSTM(lstm_units)(a)\n",
    "a = Dense(16, activation='relu')(a)\n",
    "a_mod = Model(data_in_a, outputs=a)\n",
    "\n",
    "data_in_b = Input(shape = (num_member_cols,))\n",
    "b = Dense(16, activation='relu')(data_in_b)\n",
    "b_mod = Model(data_in_b, outputs=b)\n",
    "\n",
    "data_in_c = Input(shape = (num_transaction_months,num_transaction_cols,))\n",
    "c = SimpleRNN(rnn_units)(data_in_c)\n",
    "c_mod = Model(data_in_c, outputs=c)\n",
    "\n",
    "combined = concatenate([a_mod.output, b_mod.output, c_mod.output])\n",
    "out = Dense(16, activation='relu')(combined)\n",
    "#TODO add dropout layer\n",
    "out = Dense(1, activation='sigmoid')(out)\n",
    "\n",
    "model = Model(inputs=[a_mod.input, b_mod.input, c_mod.input], outputs=out)\n",
    "model.compile(loss = 'binary_crossentropy', optimizer='adam',metrics = [tf.metrics.AUC()])\n",
    "\n",
    "#model.summary()\n",
    "model.fit([X_user_logs, X_members, X_transactions], y, batch_size=batch_size, epochs=epochs,verbose=1,use_multiprocessing=True)\n"
   ]
  },
  {
   "cell_type": "markdown",
   "metadata": {},
   "source": [
    "# Transactions and Member Data"
   ]
  },
  {
   "cell_type": "code",
   "execution_count": 33,
   "metadata": {},
   "outputs": [
    {
     "name": "stdout",
     "output_type": "stream",
     "text": [
      "Epoch 1/20\n",
      "24798/24798 [==============================] - 3s 104us/step - loss: 0.4765 - auc_8: 0.8282\n",
      "Epoch 2/20\n",
      "24798/24798 [==============================] - 2s 78us/step - loss: 0.4266 - auc_8: 0.8589\n",
      "Epoch 3/20\n",
      "24798/24798 [==============================] - 2s 81us/step - loss: 0.4209 - auc_8: 0.8659\n",
      "Epoch 4/20\n",
      "24798/24798 [==============================] - 2s 83us/step - loss: 0.4173 - auc_8: 0.8700\n",
      "Epoch 5/20\n",
      "24798/24798 [==============================] - 2s 81us/step - loss: 0.4152 - auc_8: 0.8729\n",
      "Epoch 6/20\n",
      "24798/24798 [==============================] - 2s 80us/step - loss: 0.4143 - auc_8: 0.8750\n",
      "Epoch 7/20\n",
      "24798/24798 [==============================] - 2s 80us/step - loss: 0.4128 - auc_8: 0.8766\n",
      "Epoch 8/20\n",
      "24798/24798 [==============================] - 2s 80us/step - loss: 0.4112 - auc_8: 0.8778\n",
      "Epoch 9/20\n",
      "24798/24798 [==============================] - 2s 79us/step - loss: 0.4094 - auc_8: 0.8788\n",
      "Epoch 10/20\n",
      "24798/24798 [==============================] - 2s 82us/step - loss: 0.4093 - auc_8: 0.8798\n",
      "Epoch 11/20\n",
      "24798/24798 [==============================] - 2s 81us/step - loss: 0.4085 - auc_8: 0.8807\n",
      "Epoch 12/20\n",
      "24798/24798 [==============================] - 2s 81us/step - loss: 0.4077 - auc_8: 0.8813\n",
      "Epoch 13/20\n",
      "24798/24798 [==============================] - 2s 82us/step - loss: 0.4069 - auc_8: 0.8820\n",
      "Epoch 14/20\n",
      "24798/24798 [==============================] - 2s 81us/step - loss: 0.4062 - auc_8: 0.8825\n",
      "Epoch 15/20\n",
      "24798/24798 [==============================] - 2s 79us/step - loss: 0.4057 - auc_8: 0.8831\n",
      "Epoch 16/20\n",
      "24798/24798 [==============================] - 2s 80us/step - loss: 0.4050 - auc_8: 0.8836\n",
      "Epoch 17/20\n",
      "24798/24798 [==============================] - 2s 79us/step - loss: 0.4044 - auc_8: 0.8841\n",
      "Epoch 18/20\n",
      "24798/24798 [==============================] - 2s 81us/step - loss: 0.4037 - auc_8: 0.8845\n",
      "Epoch 19/20\n",
      "24798/24798 [==============================] - 2s 80us/step - loss: 0.4035 - auc_8: 0.8849\n",
      "Epoch 20/20\n",
      "24798/24798 [==============================] - 2s 79us/step - loss: 0.4027 - auc_8: 0.8854\n"
     ]
    },
    {
     "data": {
      "text/plain": [
       "<keras.callbacks.callbacks.History at 0x7f0ff7529e80>"
      ]
     },
     "execution_count": 33,
     "metadata": {},
     "output_type": "execute_result"
    }
   ],
   "source": [
    "batch_size = 64\n",
    "epochs = 20\n",
    "lstm_units = 16\n",
    "rnn_units = 16\n",
    "\n",
    "num_members = X_user_logs.shape[0]\n",
    "num_dates = X_user_logs.shape[1]\n",
    "num_user_log_cols = X_user_logs.shape[2]\n",
    "num_member_cols = X_members.shape[1]\n",
    "num_transaction_cols = X_transactions.shape[2]\n",
    "num_transaction_months = X_transactions.shape[1]\n",
    "\n",
    "data_in_b = Input(shape = (num_member_cols,))\n",
    "b = Dense(16, activation='relu')(data_in_b)\n",
    "b_mod = Model(data_in_b, outputs=b)\n",
    "\n",
    "data_in_c = Input(shape = (num_transaction_months,num_transaction_cols,))\n",
    "c = SimpleRNN(rnn_units)(data_in_c)\n",
    "c_mod = Model(data_in_c, outputs=c)\n",
    "\n",
    "combined = concatenate([b_mod.output, c_mod.output])\n",
    "out = Dense(16, activation='relu')(combined)\n",
    "#TODO add dropout layer\n",
    "out = Dense(1, activation='sigmoid')(out)\n",
    "\n",
    "model = Model(inputs=[b_mod.input, c_mod.input], outputs=out)\n",
    "model.compile(loss = 'binary_crossentropy', optimizer='adam',metrics = [tf.metrics.AUC()])\n",
    "\n",
    "#model.summary()\n",
    "model.fit([X_members, X_transactions], y, batch_size=batch_size, epochs=epochs,verbose=1,use_multiprocessing=True)\n"
   ]
  },
  {
   "cell_type": "markdown",
   "metadata": {},
   "source": [
    "# User Logs and Member Data (LSTM)"
   ]
  },
  {
   "cell_type": "raw",
   "metadata": {},
   "source": [
    "batch_size = 128\n",
    "epochs = 10\n",
    "lstm_units = 16\n",
    "\n",
    "num_members = X_user_logs.shape[0]\n",
    "num_dates = X_user_logs.shape[1]\n",
    "num_user_log_cols = X_user_logs.shape[2]\n",
    "num_member_cols = X_members.shape[1]\n",
    "\n",
    "data_in_a = Input(shape = (num_dates,num_user_log_cols))\n",
    "a = LSTM(lstm_units)(data_in_a)\n",
    "#a = LSTM(lstm_units)(a)\n",
    "a = Dense(16, activation='relu')(a)\n",
    "a_mod = Model(data_in_a, outputs=a)\n",
    "\n",
    "data_in_b = Input(shape = (num_member_cols,))\n",
    "b = Dense(16, activation='relu')(data_in_b)\n",
    "b_mod = Model(data_in_b, outputs=b)\n",
    "\n",
    "combined = concatenate([a_mod.output, b_mod.output])\n",
    "c = Dense(8, activation='relu')(combined)\n",
    "#TODO add dropout layer\n",
    "c = Dense(1, activation='sigmoid')(c)\n",
    "\n",
    "model = Model(inputs=[a_mod.input, b_mod.input], outputs=c)\n",
    "model.compile(loss = 'binary_crossentropy', optimizer='adam',metrics = [tf.metrics.AUC()])\n",
    "\n",
    "#model.summary()\n",
    "model.fit([X_user_logs, X_members], y, batch_size=batch_size, epochs=epochs,verbose=1,use_multiprocessing=True)\n"
   ]
  },
  {
   "cell_type": "markdown",
   "metadata": {},
   "source": [
    "# Member data only"
   ]
  },
  {
   "cell_type": "raw",
   "metadata": {},
   "source": [
    "batch_size = 128\n",
    "\n",
    "epochs = 20\n",
    "features = X_members.shape[1]\n",
    "\n",
    "data_in = Input(shape = (features,))\n",
    "x = Dense(1, activation='sigmoid')(data_in)\n",
    "model = Model(inputs=data_in, outputs=x)\n",
    "model.compile(loss = 'binary_crossentropy', optimizer='adam',metrics = [metrics.binary_accuracy])\n",
    "\n",
    "model.fit(X_members, y_flat, batch_size=batch_size, epochs=epochs,verbose=1)\n",
    "\n",
    "#Calculate AUC\n",
    "y_pred = model.predict(X_members).ravel()\n",
    "fpr_keras, tpr_keras, thresholds_keras = roc_curve(y_flat, y_pred)\n",
    "auc(fpr_keras, tpr_keras)"
   ]
  },
  {
   "cell_type": "markdown",
   "metadata": {},
   "source": [
    "# Visualize Model"
   ]
  },
  {
   "cell_type": "code",
   "execution_count": 59,
   "metadata": {},
   "outputs": [
    {
     "data": {
      "image/png": "[encoded data removed]",
      "text/plain": [
       "<IPython.core.display.Image object>"
      ]
     },
     "execution_count": 59,
     "metadata": {},
     "output_type": "execute_result"
    }
   ],
   "source": [
    "from IPython.display import SVG\n",
    "from keras.utils.vis_utils import model_to_dot\n",
    "\n",
    "SVG(model_to_dot(model).create(prog='dot', format='svg'))\n",
    "\n",
    "from keras.utils import plot_model\n",
    "plot_model(model, to_file='model.png')"
   ]
  }
 ],
 "metadata": {
  "kernelspec": {
   "display_name": "Python 3",
   "language": "python",
   "name": "python3"
  },
  "language_info": {
   "codemirror_mode": {
    "name": "ipython",
    "version": 3
   },
   "file_extension": ".py",
   "mimetype": "text/x-python",
   "name": "python",
   "nbconvert_exporter": "python",
   "pygments_lexer": "ipython3",
   "version": "3.5.3"
  },
  "toc": {
   "base_numbering": 1,
   "nav_menu": {},
   "number_sections": false,
   "sideBar": true,
   "skip_h1_title": false,
   "title_cell": "Table of Contents",
   "title_sidebar": "Contents",
   "toc_cell": false,
   "toc_position": {
    "height": "calc(100% - 180px)",
    "left": "10px",
    "top": "150px",
    "width": "165px"
   },
   "toc_section_display": true,
   "toc_window_display": true
  },
  "varInspector": {
   "cols": {
    "lenName": 16,
    "lenType": 16,
    "lenVar": 40
   },
   "kernels_config": {
    "python": {
     "delete_cmd_postfix": "",
     "delete_cmd_prefix": "del ",
     "library": "var_list.py",
     "varRefreshCmd": "print(var_dic_list())"
    },
    "r": {
     "delete_cmd_postfix": ") ",
     "delete_cmd_prefix": "rm(",
     "library": "var_list.r",
     "varRefreshCmd": "cat(var_dic_list()) "
    }
   },
   "types_to_exclude": [
    "module",
    "function",
    "builtin_function_or_method",
    "instance",
    "_Feature"
   ],
   "window_display": false
  }
 },
 "nbformat": 4,
 "nbformat_minor": 4
}
