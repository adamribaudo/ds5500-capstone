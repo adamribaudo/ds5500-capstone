{
 "cells": [
  {
   "cell_type": "code",
   "execution_count": 37,
   "metadata": {},
   "outputs": [],
   "source": [
    "from __future__ import absolute_import, division, print_function, unicode_literals\n",
    "\n",
    "import collections\n",
    "import matplotlib.pyplot as plt\n",
    "import numpy as np\n",
    "from keras.preprocessing import sequence\n",
    "import simplejson as json\n",
    "import tensorflow as tf\n",
    "import pandas as pd\n",
    "import os\n",
    "from tensorflow.keras import layers\n",
    "from sklearn.metrics import accuracy_score\n",
    "from sklearn import metrics as skmetrics\n",
    "from sklearn.linear_model import LogisticRegression\n",
    "\n",
    "from sklearn.metrics import roc_curve\n",
    "from sklearn.metrics import auc\n",
    "from keras.utils.vis_utils import plot_model\n",
    "from keras import metrics\n",
    "from keras.models import Sequential, Model\n",
    "from keras.layers import Dense, LSTM, Input, Dropout, Embedding, concatenate\n",
    "from keras.utils.vis_utils import plot_model\n",
    "from google.cloud import storage\n",
    "from google.cloud.storage import Blob\n",
    "\n",
    "client = storage.Client(project=\"ds5500\")\n",
    "\n",
    "bucket = client.get_bucket(\"kkbox-data\")\n",
    "\n",
    "#INPUT_PATH = \"D:\\\\Northeastern\\\\100 pct undersample split\\\\\"\n",
    "INPUT_PATH = \"gs://kkbox-data/data_100_pct_undersample/\""
   ]
  },
  {
   "cell_type": "markdown",
   "metadata": {},
   "source": [
    "# Load Data"
   ]
  },
  {
   "cell_type": "code",
   "execution_count": 39,
   "metadata": {},
   "outputs": [],
   "source": [
    "# Load from GCS\n",
    "temp_path = \"/tmp/train_user_logs_padded.npy\"\n",
    "blob = Blob(\"data_100_pct_undersample/train_user_logs_padded.npy\", bucket)\n",
    "with open(temp_path, \"wb\") as file_obj:\n",
    "    blob.download_to_file(file_obj)"
   ]
  },
  {
   "cell_type": "code",
   "execution_count": 40,
   "metadata": {},
   "outputs": [],
   "source": [
    "X_user_logs = np.load(temp_path)"
   ]
  },
  {
   "cell_type": "code",
   "execution_count": 45,
   "metadata": {},
   "outputs": [],
   "source": [
    "X_members = pd.read_csv(INPUT_PATH + \"X_train_transformed.csv\").sort_values(\"msno\").drop([\"msno\"],axis=1).values\n",
    "y = pd.read_csv(INPUT_PATH + \"y_train.csv\", header=None).sort_values(0).drop([0],axis=1).values"
   ]
  },
  {
   "cell_type": "markdown",
   "metadata": {},
   "source": [
    "# Member Data & SKLearn Logistic Regression"
   ]
  },
  {
   "cell_type": "code",
   "execution_count": 34,
   "metadata": {
    "collapsed": true,
    "jupyter": {
     "outputs_hidden": true,
     "source_hidden": true
    }
   },
   "outputs": [
    {
     "data": {
      "text/plain": [
       "<sklearn.metrics._plot.roc_curve.RocCurveDisplay at 0x7f2a175d9898>"
      ]
     },
     "execution_count": 34,
     "metadata": {},
     "output_type": "execute_result"
    },
    {
     "data": {
      "image/png": "[encoded data removed]",
      "text/plain": [
       "<Figure size 432x288 with 1 Axes>"
      ]
     },
     "metadata": {
      "needs_background": "light"
     },
     "output_type": "display_data"
    }
   ],
   "source": [
    "fit = LogisticRegression(random_state=0).fit(X_members, y_flat)\n",
    "y_pred = fit.predict(X_members)\n",
    "accuracy_score(y_flat, y_pred)\n",
    "\n",
    "skmetrics.plot_roc_curve(fit, X_members,y_flat)"
   ]
  },
  {
   "cell_type": "markdown",
   "metadata": {},
   "source": [
    "# User Logs and Member Data (LSTM)"
   ]
  },
  {
   "cell_type": "code",
   "execution_count": 49,
   "metadata": {},
   "outputs": [
    {
     "name": "stdout",
     "output_type": "stream",
     "text": [
      "Model: \"model_20\"\n",
      "__________________________________________________________________________________________________\n",
      "Layer (type)                    Output Shape         Param #     Connected to                     \n",
      "==================================================================================================\n",
      "input_14 (InputLayer)           (None, 762, 7)       0                                            \n",
      "__________________________________________________________________________________________________\n",
      "lstm_5 (LSTM)                   (None, 24)           3072        input_14[0][0]                   \n",
      "__________________________________________________________________________________________________\n",
      "input_15 (InputLayer)           (None, 27)           0                                            \n",
      "__________________________________________________________________________________________________\n",
      "dense_14 (Dense)                (None, 16)           400         lstm_5[0][0]                     \n",
      "__________________________________________________________________________________________________\n",
      "dense_15 (Dense)                (None, 16)           448         input_15[0][0]                   \n",
      "__________________________________________________________________________________________________\n",
      "concatenate_5 (Concatenate)     (None, 32)           0           dense_14[0][0]                   \n",
      "                                                                 dense_15[0][0]                   \n",
      "__________________________________________________________________________________________________\n",
      "dense_16 (Dense)                (None, 1)            33          concatenate_5[0][0]              \n",
      "==================================================================================================\n",
      "Total params: 3,953\n",
      "Trainable params: 3,953\n",
      "Non-trainable params: 0\n",
      "__________________________________________________________________________________________________\n",
      "Epoch 1/10\n",
      "24798/24798 [==============================] - 106s 4ms/step - loss: 0.6413 - auc_1: 0.6712\n",
      "Epoch 2/10\n",
      "24798/24798 [==============================] - 129s 5ms/step - loss: 0.6029 - auc_1: 0.7051\n",
      "Epoch 3/10\n",
      "24798/24798 [==============================] - 129s 5ms/step - loss: 0.5943 - auc_1: 0.7210\n",
      "Epoch 4/10\n",
      "24798/24798 [==============================] - 115s 5ms/step - loss: 0.6047 - auc_1: 0.7271\n",
      "Epoch 5/10\n",
      "24798/24798 [==============================] - 112s 5ms/step - loss: 0.6027 - auc_1: 0.7297\n",
      "Epoch 6/10\n",
      "24798/24798 [==============================] - 111s 4ms/step - loss: 0.6071 - auc_1: 0.7311\n",
      "Epoch 7/10\n",
      "24798/24798 [==============================] - 112s 5ms/step - loss: 0.6161 - auc_1: 0.7302\n",
      "Epoch 8/10\n",
      "24798/24798 [==============================] - 116s 5ms/step - loss: 0.6072 - auc_1: 0.7296\n",
      "Epoch 9/10\n",
      "24798/24798 [==============================] - 114s 5ms/step - loss: 0.6027 - auc_1: 0.7306\n",
      "Epoch 10/10\n",
      "24798/24798 [==============================] - 114s 5ms/step - loss: 0.6012 - auc_1: 0.7313\n"
     ]
    },
    {
     "data": {
      "text/plain": [
       "<keras.callbacks.callbacks.History at 0x7f29e9a60eb8>"
      ]
     },
     "execution_count": 49,
     "metadata": {},
     "output_type": "execute_result"
    }
   ],
   "source": [
    "batch_size = 128\n",
    "epochs = 10\n",
    "lstm_units = 24\n",
    "\n",
    "num_members = X_user_logs.shape[0]\n",
    "num_dates = X_user_logs.shape[1]\n",
    "num_user_log_cols = X_user_logs.shape[2]\n",
    "num_member_cols = X_members.shape[1]\n",
    "\n",
    "data_in_a = Input(shape = (num_dates,num_user_log_cols))\n",
    "a = LSTM(lstm_units)(data_in_a)\n",
    "a = Dense(16, activation='relu')(a)\n",
    "a_mod = Model(data_in_a, outputs=a)\n",
    "\n",
    "data_in_b = Input(shape = (num_member_cols,))\n",
    "b = Dense(16, activation='relu')(data_in_b)\n",
    "b_mod = Model(data_in_b, outputs=b)\n",
    "\n",
    "combined = concatenate([a_mod.output, b_mod.output])\n",
    "c = Dense(1, activation='sigmoid')(combined)\n",
    "\n",
    "model = Model(inputs=[a_mod.input, b_mod.input], outputs=c)\n",
    "model.compile(loss = 'binary_crossentropy', optimizer='adam',metrics = [tf.metrics.AUC()])\n",
    "\n",
    "model.summary()\n",
    "model.fit([X_user_logs, X_members], y, batch_size=batch_size, epochs=epochs,verbose=1,use_multiprocessing=True)\n"
   ]
  },
  {
   "cell_type": "markdown",
   "metadata": {},
   "source": [
    "# Member data only"
   ]
  },
  {
   "cell_type": "code",
   "execution_count": 43,
   "metadata": {},
   "outputs": [
    {
     "name": "stdout",
     "output_type": "stream",
     "text": [
      "Epoch 1/20\n",
      "24798/24798 [==============================] - 0s 15us/step - loss: 0.6673 - binary_accuracy: 0.6111\n",
      "Epoch 2/20\n",
      "24798/24798 [==============================] - 0s 11us/step - loss: 0.6538 - binary_accuracy: 0.6378\n",
      "Epoch 3/20\n",
      "24798/24798 [==============================] - 0s 11us/step - loss: 0.6477 - binary_accuracy: 0.6420\n",
      "Epoch 4/20\n",
      "24798/24798 [==============================] - 0s 11us/step - loss: 0.6438 - binary_accuracy: 0.6467\n",
      "Epoch 5/20\n",
      "24798/24798 [==============================] - 0s 11us/step - loss: 0.6410 - binary_accuracy: 0.6500\n",
      "Epoch 6/20\n",
      "24798/24798 [==============================] - 0s 10us/step - loss: 0.6389 - binary_accuracy: 0.6538\n",
      "Epoch 7/20\n",
      "24798/24798 [==============================] - 0s 10us/step - loss: 0.6374 - binary_accuracy: 0.6558\n",
      "Epoch 8/20\n",
      "24798/24798 [==============================] - 0s 11us/step - loss: 0.6363 - binary_accuracy: 0.6581\n",
      "Epoch 9/20\n",
      "24798/24798 [==============================] - 0s 10us/step - loss: 0.6353 - binary_accuracy: 0.6589\n",
      "Epoch 10/20\n",
      "24798/24798 [==============================] - 0s 11us/step - loss: 0.6345 - binary_accuracy: 0.6589\n",
      "Epoch 11/20\n",
      "24798/24798 [==============================] - 0s 11us/step - loss: 0.6339 - binary_accuracy: 0.6586\n",
      "Epoch 12/20\n",
      "24798/24798 [==============================] - 0s 11us/step - loss: 0.6334 - binary_accuracy: 0.6586\n",
      "Epoch 13/20\n",
      "24798/24798 [==============================] - 0s 11us/step - loss: 0.6330 - binary_accuracy: 0.6588\n",
      "Epoch 14/20\n",
      "24798/24798 [==============================] - 0s 11us/step - loss: 0.6326 - binary_accuracy: 0.6583\n",
      "Epoch 15/20\n",
      "24798/24798 [==============================] - 0s 10us/step - loss: 0.6323 - binary_accuracy: 0.6587\n",
      "Epoch 16/20\n",
      "24798/24798 [==============================] - 0s 10us/step - loss: 0.6321 - binary_accuracy: 0.6590\n",
      "Epoch 17/20\n",
      "24798/24798 [==============================] - 0s 10us/step - loss: 0.6318 - binary_accuracy: 0.6589\n",
      "Epoch 18/20\n",
      "24798/24798 [==============================] - 0s 10us/step - loss: 0.6316 - binary_accuracy: 0.6587\n",
      "Epoch 19/20\n",
      "24798/24798 [==============================] - 0s 10us/step - loss: 0.6315 - binary_accuracy: 0.6595\n",
      "Epoch 20/20\n",
      "24798/24798 [==============================] - 0s 10us/step - loss: 0.6314 - binary_accuracy: 0.6590\n"
     ]
    },
    {
     "data": {
      "text/plain": [
       "0.6977788906068529"
      ]
     },
     "execution_count": 43,
     "metadata": {},
     "output_type": "execute_result"
    }
   ],
   "source": [
    "batch_size = 128\n",
    "\n",
    "epochs = 20\n",
    "features = X_members.shape[1]\n",
    "\n",
    "data_in = Input(shape = (features,))\n",
    "x = Dense(1, activation='sigmoid')(data_in)\n",
    "model = Model(inputs=data_in, outputs=x)\n",
    "model.compile(loss = 'binary_crossentropy', optimizer='adam',metrics = [metrics.binary_accuracy])\n",
    "#model.summary()\n",
    "model.fit(X_members, y_flat, batch_size=batch_size, epochs=epochs,verbose=1)\n",
    "\n",
    "#Calculate AUC\n",
    "y_pred = model.predict(X_members).ravel()\n",
    "fpr_keras, tpr_keras, thresholds_keras = roc_curve(y_flat, y_pred)\n",
    "auc(fpr_keras, tpr_keras)"
   ]
  },
  {
   "cell_type": "code",
   "execution_count": 10,
   "metadata": {},
   "outputs": [
    {
     "data": {
      "image/svg+xml": [
       "<svg height=\"449pt\" viewBox=\"0.00 0.00 276.00 337.00\" width=\"368pt\" xmlns=\"http://www.w3.org/2000/svg\" xmlns:xlink=\"http://www.w3.org/1999/xlink\">\n",
       "<g class=\"graph\" id=\"graph0\" transform=\"scale(1.33333 1.33333) rotate(0) translate(4 333)\">\n",
       "<title>G</title>\n",
       "<polygon fill=\"white\" points=\"-4,4 -4,-333 272,-333 272,4 -4,4\" stroke=\"none\"/>\n",
       "<!-- 140704443387800 -->\n",
       "<g class=\"node\" id=\"node1\"><title>140704443387800</title>\n",
       "<polygon fill=\"none\" points=\"0,-292.5 0,-328.5 125,-328.5 125,-292.5 0,-292.5\" stroke=\"black\"/>\n",
       "<text font-family=\"Times,serif\" font-size=\"14.00\" text-anchor=\"middle\" x=\"62.5\" y=\"-306.8\">input_1: InputLayer</text>\n",
       "</g>\n",
       "<!-- 140704443387856 -->\n",
       "<g class=\"node\" id=\"node3\"><title>140704443387856</title>\n",
       "<polygon fill=\"none\" points=\"19.5,-219.5 19.5,-255.5 117.5,-255.5 117.5,-219.5 19.5,-219.5\" stroke=\"black\"/>\n",
       "<text font-family=\"Times,serif\" font-size=\"14.00\" text-anchor=\"middle\" x=\"68.5\" y=\"-233.8\">lstm_1: LSTM</text>\n",
       "</g>\n",
       "<!-- 140704443387800&#45;&gt;140704443387856 -->\n",
       "<g class=\"edge\" id=\"edge1\"><title>140704443387800-&gt;140704443387856</title>\n",
       "<path d=\"M63.9524,-292.313C64.6305,-284.289 65.4537,-274.547 66.2125,-265.569\" fill=\"none\" stroke=\"black\"/>\n",
       "<polygon fill=\"black\" points=\"69.7064,-265.788 67.0609,-255.529 62.7312,-265.199 69.7064,-265.788\" stroke=\"black\"/>\n",
       "</g>\n",
       "<!-- 140704443360704 -->\n",
       "<g class=\"node\" id=\"node2\"><title>140704443360704</title>\n",
       "<polygon fill=\"none\" points=\"143,-292.5 143,-328.5 268,-328.5 268,-292.5 143,-292.5\" stroke=\"black\"/>\n",
       "<text font-family=\"Times,serif\" font-size=\"14.00\" text-anchor=\"middle\" x=\"205.5\" y=\"-306.8\">input_2: InputLayer</text>\n",
       "</g>\n",
       "<!-- 140704443360760 -->\n",
       "<g class=\"node\" id=\"node4\"><title>140704443360760</title>\n",
       "<polygon fill=\"none\" points=\"147.5,-219.5 147.5,-255.5 249.5,-255.5 249.5,-219.5 147.5,-219.5\" stroke=\"black\"/>\n",
       "<text font-family=\"Times,serif\" font-size=\"14.00\" text-anchor=\"middle\" x=\"198.5\" y=\"-233.8\">dense_1: Dense</text>\n",
       "</g>\n",
       "<!-- 140704443360704&#45;&gt;140704443360760 -->\n",
       "<g class=\"edge\" id=\"edge2\"><title>140704443360704-&gt;140704443360760</title>\n",
       "<path d=\"M203.805,-292.313C203.014,-284.289 202.054,-274.547 201.169,-265.569\" fill=\"none\" stroke=\"black\"/>\n",
       "<polygon fill=\"black\" points=\"204.643,-265.137 200.179,-255.529 197.677,-265.824 204.643,-265.137\" stroke=\"black\"/>\n",
       "</g>\n",
       "<!-- 140704441240656 -->\n",
       "<g class=\"node\" id=\"node5\"><title>140704441240656</title>\n",
       "<polygon fill=\"none\" points=\"49.5,-146.5 49.5,-182.5 217.5,-182.5 217.5,-146.5 49.5,-146.5\" stroke=\"black\"/>\n",
       "<text font-family=\"Times,serif\" font-size=\"14.00\" text-anchor=\"middle\" x=\"133.5\" y=\"-160.8\">concatenate_1: Concatenate</text>\n",
       "</g>\n",
       "<!-- 140704443387856&#45;&gt;140704441240656 -->\n",
       "<g class=\"edge\" id=\"edge3\"><title>140704443387856-&gt;140704441240656</title>\n",
       "<path d=\"M84.2347,-219.313C92.2986,-210.505 102.259,-199.625 111.108,-189.958\" fill=\"none\" stroke=\"black\"/>\n",
       "<polygon fill=\"black\" points=\"113.739,-192.268 117.91,-182.529 108.576,-187.541 113.739,-192.268\" stroke=\"black\"/>\n",
       "</g>\n",
       "<!-- 140704443360760&#45;&gt;140704441240656 -->\n",
       "<g class=\"edge\" id=\"edge4\"><title>140704443360760-&gt;140704441240656</title>\n",
       "<path d=\"M182.765,-219.313C174.701,-210.505 164.741,-199.625 155.892,-189.958\" fill=\"none\" stroke=\"black\"/>\n",
       "<polygon fill=\"black\" points=\"158.424,-187.541 149.09,-182.529 153.261,-192.268 158.424,-187.541\" stroke=\"black\"/>\n",
       "</g>\n",
       "<!-- 140704441238640 -->\n",
       "<g class=\"node\" id=\"node6\"><title>140704441238640</title>\n",
       "<polygon fill=\"none\" points=\"71,-73.5 71,-109.5 196,-109.5 196,-73.5 71,-73.5\" stroke=\"black\"/>\n",
       "<text font-family=\"Times,serif\" font-size=\"14.00\" text-anchor=\"middle\" x=\"133.5\" y=\"-87.8\">dropout_1: Dropout</text>\n",
       "</g>\n",
       "<!-- 140704441240656&#45;&gt;140704441238640 -->\n",
       "<g class=\"edge\" id=\"edge5\"><title>140704441240656-&gt;140704441238640</title>\n",
       "<path d=\"M133.5,-146.313C133.5,-138.289 133.5,-128.547 133.5,-119.569\" fill=\"none\" stroke=\"black\"/>\n",
       "<polygon fill=\"black\" points=\"137,-119.529 133.5,-109.529 130,-119.529 137,-119.529\" stroke=\"black\"/>\n",
       "</g>\n",
       "<!-- 140704441241328 -->\n",
       "<g class=\"node\" id=\"node7\"><title>140704441241328</title>\n",
       "<polygon fill=\"none\" points=\"82.5,-0.5 82.5,-36.5 184.5,-36.5 184.5,-0.5 82.5,-0.5\" stroke=\"black\"/>\n",
       "<text font-family=\"Times,serif\" font-size=\"14.00\" text-anchor=\"middle\" x=\"133.5\" y=\"-14.8\">dense_2: Dense</text>\n",
       "</g>\n",
       "<!-- 140704441238640&#45;&gt;140704441241328 -->\n",
       "<g class=\"edge\" id=\"edge6\"><title>140704441238640-&gt;140704441241328</title>\n",
       "<path d=\"M133.5,-73.3129C133.5,-65.2895 133.5,-55.5475 133.5,-46.5691\" fill=\"none\" stroke=\"black\"/>\n",
       "<polygon fill=\"black\" points=\"137,-46.5288 133.5,-36.5288 130,-46.5289 137,-46.5288\" stroke=\"black\"/>\n",
       "</g>\n",
       "</g>\n",
       "</svg>"
      ],
      "text/plain": [
       "<IPython.core.display.SVG object>"
      ]
     },
     "execution_count": 10,
     "metadata": {},
     "output_type": "execute_result"
    }
   ],
   "source": [
    "from IPython.display import SVG\n",
    "from keras.utils.vis_utils import model_to_dot\n",
    "\n",
    "SVG(model_to_dot(model).create(prog='dot', format='svg'))"
   ]
  }
 ],
 "metadata": {
  "kernelspec": {
   "display_name": "Python 3",
   "language": "python",
   "name": "python3"
  },
  "language_info": {
   "codemirror_mode": {
    "name": "ipython",
    "version": 3
   },
   "file_extension": ".py",
   "mimetype": "text/x-python",
   "name": "python",
   "nbconvert_exporter": "python",
   "pygments_lexer": "ipython3",
   "version": "3.5.3"
  },
  "toc": {
   "base_numbering": 1,
   "nav_menu": {},
   "number_sections": false,
   "sideBar": true,
   "skip_h1_title": false,
   "title_cell": "Table of Contents",
   "title_sidebar": "Contents",
   "toc_cell": false,
   "toc_position": {
    "height": "calc(100% - 180px)",
    "left": "10px",
    "top": "150px",
    "width": "165px"
   },
   "toc_section_display": true,
   "toc_window_display": true
  },
  "varInspector": {
   "cols": {
    "lenName": 16,
    "lenType": 16,
    "lenVar": 40
   },
   "kernels_config": {
    "python": {
     "delete_cmd_postfix": "",
     "delete_cmd_prefix": "del ",
     "library": "var_list.py",
     "varRefreshCmd": "print(var_dic_list())"
    },
    "r": {
     "delete_cmd_postfix": ") ",
     "delete_cmd_prefix": "rm(",
     "library": "var_list.r",
     "varRefreshCmd": "cat(var_dic_list()) "
    }
   },
   "types_to_exclude": [
    "module",
    "function",
    "builtin_function_or_method",
    "instance",
    "_Feature"
   ],
   "window_display": false
  }
 },
 "nbformat": 4,
 "nbformat_minor": 4
}
