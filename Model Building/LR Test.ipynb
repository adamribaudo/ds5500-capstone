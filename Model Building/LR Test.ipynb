{
 "cells": [
  {
   "cell_type": "code",
   "execution_count": 1,
   "metadata": {},
   "outputs": [
    {
     "name": "stderr",
     "output_type": "stream",
     "text": [
      "Using TensorFlow backend.\n"
     ]
    }
   ],
   "source": [
    "from __future__ import absolute_import, division, print_function, unicode_literals\n",
    "\n",
    "import collections\n",
    "import matplotlib.pyplot as plt\n",
    "import numpy as np\n",
    "from keras.preprocessing import sequence\n",
    "import simplejson as json\n",
    "import tensorflow as tf\n",
    "import pandas as pd\n",
    "import os\n",
    "from tensorflow.keras import layers\n",
    "from sklearn.metrics import accuracy_score\n",
    "from sklearn import metrics as skmetrics\n",
    "from sklearn.linear_model import LogisticRegression\n",
    "\n",
    "from sklearn.metrics import roc_curve\n",
    "from sklearn.metrics import auc\n",
    "from keras.utils.vis_utils import plot_model\n",
    "from keras import metrics\n",
    "from keras.models import Sequential, Model\n",
    "from keras.layers import Dense, LSTM, Input, Dropout, Embedding, concatenate\n",
    "from keras.utils.vis_utils import plot_model\n",
    "from google.cloud import storage\n",
    "from google.cloud.storage import Blob\n",
    "\n",
    "client = storage.Client(project=\"ds5500\")\n",
    "\n",
    "bucket = client.get_bucket(\"kkbox-data\")\n",
    "\n",
    "#INPUT_PATH = \"D:\\\\Northeastern\\\\100 pct undersample split\\\\\"\n",
    "INPUT_PATH = \"gs://kkbox-data/data_100_pct_undersample/\""
   ]
  },
  {
   "cell_type": "markdown",
   "metadata": {},
   "source": [
    "# Load Data"
   ]
  },
  {
   "cell_type": "code",
   "execution_count": 3,
   "metadata": {},
   "outputs": [],
   "source": [
    "X_members = pd.read_csv(INPUT_PATH + \"X_train_transformed.csv\").drop([\"msno\"],axis=1).values\n",
    "y_flat = pd.read_csv(INPUT_PATH + \"y_train.csv\", header=None).drop([0],axis=1).values.ravel()"
   ]
  },
  {
   "cell_type": "markdown",
   "metadata": {},
   "source": [
    "# SKLearn Logistic Regression"
   ]
  },
  {
   "cell_type": "code",
   "execution_count": 4,
   "metadata": {},
   "outputs": [
    {
     "data": {
      "text/plain": [
       "<sklearn.metrics._plot.roc_curve.RocCurveDisplay at 0x7fca97747208>"
      ]
     },
     "execution_count": 4,
     "metadata": {},
     "output_type": "execute_result"
    },
    {
     "data": {
      "image/png": "[encoded data removed]",
      "text/plain": [
       "<Figure size 432x288 with 1 Axes>"
      ]
     },
     "metadata": {
      "needs_background": "light"
     },
     "output_type": "display_data"
    }
   ],
   "source": [
    "fit = LogisticRegression(random_state=0).fit(X_members, y_flat)\n",
    "y_pred = fit.predict(X_members)\n",
    "accuracy_score(y_flat, y_pred)\n",
    "skmetrics.plot_roc_curve(fit, X_members,y_flat)"
   ]
  },
  {
   "cell_type": "markdown",
   "metadata": {},
   "source": [
    "# Keras LR"
   ]
  },
  {
   "cell_type": "code",
   "execution_count": 5,
   "metadata": {},
   "outputs": [
    {
     "name": "stdout",
     "output_type": "stream",
     "text": [
      "Model: \"model_1\"\n",
      "_________________________________________________________________\n",
      "Layer (type)                 Output Shape              Param #   \n",
      "=================================================================\n",
      "input_1 (InputLayer)         (None, 27)                0         \n",
      "_________________________________________________________________\n",
      "dense_1 (Dense)              (None, 1)                 28        \n",
      "=================================================================\n",
      "Total params: 28\n",
      "Trainable params: 28\n",
      "Non-trainable params: 0\n",
      "_________________________________________________________________\n",
      "Epoch 1/10\n",
      "24798/24798 [==============================] - 0s 14us/step - loss: 7.6481 - binary_accuracy: 0.5012\n",
      "Epoch 2/10\n",
      "24798/24798 [==============================] - 0s 11us/step - loss: 7.6481 - binary_accuracy: 0.5012\n",
      "Epoch 3/10\n",
      "24798/24798 [==============================] - 0s 11us/step - loss: 7.6481 - binary_accuracy: 0.5012\n",
      "Epoch 4/10\n",
      "24798/24798 [==============================] - 0s 11us/step - loss: 7.6481 - binary_accuracy: 0.5012\n",
      "Epoch 5/10\n",
      "24798/24798 [==============================] - 0s 10us/step - loss: 7.6481 - binary_accuracy: 0.5012\n",
      "Epoch 6/10\n",
      "24798/24798 [==============================] - 0s 12us/step - loss: 7.6481 - binary_accuracy: 0.5012\n",
      "Epoch 7/10\n",
      "24798/24798 [==============================] - 0s 11us/step - loss: 7.6481 - binary_accuracy: 0.5012\n",
      "Epoch 8/10\n",
      "24798/24798 [==============================] - 0s 11us/step - loss: 7.6481 - binary_accuracy: 0.5012\n",
      "Epoch 9/10\n",
      "24798/24798 [==============================] - 0s 11us/step - loss: 7.6481 - binary_accuracy: 0.5012\n",
      "Epoch 10/10\n",
      "24798/24798 [==============================] - 0s 11us/step - loss: 7.6481 - binary_accuracy: 0.5012\n"
     ]
    },
    {
     "data": {
      "text/plain": [
       "0.5"
      ]
     },
     "execution_count": 5,
     "metadata": {},
     "output_type": "execute_result"
    }
   ],
   "source": [
    "batch_size = 128\n",
    "epochs = 10\n",
    "features = X_members.shape[1]\n",
    "\n",
    "data_in = Input(shape = (features,))\n",
    "x = Dense(1, activation='softmax')(data_in)\n",
    "model = Model(inputs=data_in, outputs=x)\n",
    "model.compile(loss = 'binary_crossentropy', optimizer='adam',metrics = [metrics.binary_accuracy])\n",
    "model.summary()\n",
    "model.fit(X_members, y_flat, batch_size=batch_size, epochs=epochs,verbose=1)\n",
    "\n",
    "#Calculate AUC\n",
    "y_pred = model.predict(X_members).ravel()\n",
    "fpr_keras, tpr_keras, thresholds_keras = roc_curve(y_flat, y_pred)\n",
    "auc(fpr_keras, tpr_keras)"
   ]
  }
 ],
 "metadata": {
  "kernelspec": {
   "display_name": "Python 3",
   "language": "python",
   "name": "python3"
  },
  "language_info": {
   "codemirror_mode": {
    "name": "ipython",
    "version": 3
   },
   "file_extension": ".py",
   "mimetype": "text/x-python",
   "name": "python",
   "nbconvert_exporter": "python",
   "pygments_lexer": "ipython3",
   "version": "3.5.3"
  },
  "toc": {
   "base_numbering": 1,
   "nav_menu": {},
   "number_sections": false,
   "sideBar": true,
   "skip_h1_title": false,
   "title_cell": "Table of Contents",
   "title_sidebar": "Contents",
   "toc_cell": false,
   "toc_position": {
    "height": "calc(100% - 180px)",
    "left": "10px",
    "top": "150px",
    "width": "165px"
   },
   "toc_section_display": true,
   "toc_window_display": true
  },
  "varInspector": {
   "cols": {
    "lenName": 16,
    "lenType": 16,
    "lenVar": 40
   },
   "kernels_config": {
    "python": {
     "delete_cmd_postfix": "",
     "delete_cmd_prefix": "del ",
     "library": "var_list.py",
     "varRefreshCmd": "print(var_dic_list())"
    },
    "r": {
     "delete_cmd_postfix": ") ",
     "delete_cmd_prefix": "rm(",
     "library": "var_list.r",
     "varRefreshCmd": "cat(var_dic_list()) "
    }
   },
   "types_to_exclude": [
    "module",
    "function",
    "builtin_function_or_method",
    "instance",
    "_Feature"
   ],
   "window_display": false
  }
 },
 "nbformat": 4,
 "nbformat_minor": 4
}
